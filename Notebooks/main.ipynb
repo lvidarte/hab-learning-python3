{
 "cells": [
  {
   "cell_type": "markdown",
   "id": "de84d29c-26a8-4151-aad8-e2e8aad44b2e",
   "metadata": {},
   "source": [
    "# HAB - Introducción a Python 3"
   ]
  },
  {
   "cell_type": "code",
   "execution_count": 1,
   "id": "8605eccf-b041-4b6c-9503-19a581c32d98",
   "metadata": {},
   "outputs": [
    {
     "name": "stdout",
     "output_type": "stream",
     "text": [
      "hola mundo\n"
     ]
    }
   ],
   "source": [
    "print(\"hola mundo\")"
   ]
  }
 ],
 "metadata": {
  "kernelspec": {
   "display_name": "Python 3 (ipykernel)",
   "language": "python",
   "name": "python3"
  },
  "language_info": {
   "codemirror_mode": {
    "name": "ipython",
    "version": 3
   },
   "file_extension": ".py",
   "mimetype": "text/x-python",
   "name": "python",
   "nbconvert_exporter": "python",
   "pygments_lexer": "ipython3",
   "version": "3.12.5"
  }
 },
 "nbformat": 4,
 "nbformat_minor": 5
}
