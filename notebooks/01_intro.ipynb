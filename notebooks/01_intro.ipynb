{
 "cells": [
  {
   "cell_type": "markdown",
   "id": "de84d29c-26a8-4151-aad8-e2e8aad44b2e",
   "metadata": {},
   "source": [
    "# Clase 1: Introducción a Python 3\n",
    "\n",
    "![Python Logo](assets/python-logo-generic.svg)\n",
    "\n",
    "Este curso de Introducción a Python 3 cubre los conceptos básicos de programación, desde los fundamentos de Python hasta la creación de clases y conceptos básicos de Programación Orientada a Objetos (OOP). No se requieren conocimientos previos de programación. A lo largo del curso, aprenderás a escribir código eficiente, entender estructuras de datos como listas, tuplas y diccionarios, y a implementar funciones reutilizables. También se abordarán las bases de la OOP, lo que te permitirá diseñar programas más organizados y escalables.\n",
    "\n",
    "- **Objetivos del curso:** Al finalizar el curso, serás capaz de:\n",
    "  - Comprender los conceptos fundamentales de la programación en Python.\n",
    "  - Escribir programas simples y estructurados utilizando variables, operadores, y estructuras de control (condicionales y bucles).\n",
    "  - Manipular tipos de datos (números, cadenas, listas, tuplas, diccionarios) y realizar operaciones básicas sobre ellos.\n",
    "  - Crear funciones reutilizables y entender la importancia del paso de parámetros y el retorno de valores.\n",
    "  - Trabajar con módulos y librerías estándar de Python.\n",
    "  - Comprender los principios de la Programación Orientada a Objetos (OOP): crear y manipular clases, objetos, atributos y métodos.\n",
    "  - Aplicar conceptos de encapsulamiento y herencia para organizar y estructurar código de manera eficiente.\n",
    "\n",
    "- **Nivel del curso:** Iniciación.\n",
    "\n",
    "- **Conocimientos previos necesarios:** No se requiere experiencia previa en Python."
   ]
  },
  {
   "cell_type": "markdown",
   "id": "4d2ed61d",
   "metadata": {},
   "source": [
    "## 01. Conceptos generales de Python\n",
    "\n",
    "**Python** es un lenguaje de programación interpretado, de código abierto, multiparadigma y de alto nivel, lo que lo convierte en una herramienta versátil, accesible y poderosa para el desarrollo de software en diversas áreas. A continuación, se explican los principales aspectos que definen a Python:\n",
    "\n",
    "- **Interpretado**: Python ejecuta el código línea por línea, lo que significa que no necesita ser compilado previamente como otros lenguajes de programación. Esto facilita la **prueba rápida de código** y el **desarrollo ágil**, ya que los errores pueden identificarse y corregirse en tiempo real.\n",
    "\n",
    "- **Código abierto**: Python es un lenguaje de **código abierto** o **open source**, lo que permite que su código fuente esté disponible públicamente. Esto significa que cualquier persona puede utilizar, modificar y distribuir Python sin restricciones, lo que fomenta una **comunidad activa y colaborativa** que contribuye continuamente a su mejora y expansión.\n",
    "\n",
    "- **Multiparadigma**: Python es **multiparadigma**, lo que significa que soporta varios enfoques o estilos de programación, como:\n",
    "  - **Programación orientada a objetos (OOP)**: Basada en la creación de objetos que contienen datos y métodos para operar sobre esos datos.\n",
    "  - **Programación estructurada o imperativa**: Se enfoca en el uso de estructuras de control como bucles y condicionales para gestionar el flujo del programa.\n",
    "  - **Programación funcional**: Permite tratar funciones como objetos de primera clase y aprovechar técnicas como funciones anónimas, inmutabilidad y recursion.\n",
    "  \n",
    "  Aunque se destaca por su enfoque en la **orientación a objetos**, su flexibilidad permite que los desarrolladores elijan el estilo que mejor se adapte a sus necesidades.\n",
    "\n",
    "- **Lenguaje de alto nivel**: Python es un lenguaje de **alto nivel**, lo que significa que está más cercano al lenguaje humano que al lenguaje máquina. Esto hace que sea **más fácil de aprender** y **más intuitivo**, ya que sus sentencias se parecen al inglés. Al estar abstraído de los detalles del hardware, los programadores pueden concentrarse más en resolver problemas lógicos que en gestionar la complejidad técnica del sistema.\n",
    "\n",
    "Este conjunto de características hace que Python sea una excelente opción tanto para principiantes como para desarrolladores experimentados, ya que combina **simplicidad** y **potencia** en un solo lenguaje."
   ]
  },
  {
   "cell_type": "markdown",
   "id": "c6263a10",
   "metadata": {},
   "source": [
    "## 02. El intérprete interactivo y variables\n",
    "\n",
    "### Intérprete interactivo\n",
    "\n",
    "Python ofrece un **intérprete interactivo** conocido como **REPL** (Read-Eval-Print Loop), que permite ejecutar instrucciones de Python en tiempo real. Esto es especialmente útil para probar pequeñas piezas de código, explorar cómo funcionan las funciones, o realizar cálculos rápidos.\n",
    "\n",
    "Para acceder al intérprete interactivo, puedes simplemente abrir una terminal y escribir `python` o `python3` dependiendo de tu instalación. Una vez dentro, puedes comenzar a escribir comandos y ver sus resultados inmediatamente.\n",
    "\n",
    "### ¿Qué es una variable?\n",
    "\n",
    "Una **variable** en Python es un espacio de memoria donde puedes almacenar valores. Las variables te permiten guardar datos y utilizarlos más adelante en tu programa.\n",
    "\n",
    "En Python, las variables no necesitan ser declaradas con un tipo específico, ya que el lenguaje es **dinámico**. El tipo de la variable es determinado automáticamente según el valor que le asignes.\n"
   ]
  },
  {
   "cell_type": "code",
   "execution_count": null,
   "id": "98df96e2",
   "metadata": {},
   "outputs": [],
   "source": [
    "# Ejemplo de asignación de variables\n",
    "x = 5\n",
    "y = \"Hola\"\n",
    "z = 3.14"
   ]
  },
  {
   "cell_type": "markdown",
   "id": "40c40f25",
   "metadata": {},
   "source": [
    "En el ejemplo anterior:\n",
    "- `x` almacena un número entero (5).\n",
    "- `y` almacena una cadena de texto (\"Hola\").\n",
    "- `z` almacena un número decimal (3.14).\n",
    "\n",
    "### Buenas prácticas en la elección de nombres de variables\n",
    "\n",
    "Los nombres de las variables en Python deben seguir algunas reglas y recomendaciones:\n",
    "\n",
    "1. **Los nombres deben ser descriptivos**: Es una buena práctica elegir nombres que describan el contenido o propósito de la variable.\n",
    "   \n",
    "   ```python\n",
    "   # No recomendado\n",
    "   x = 50\n",
    "   \n",
    "   # Recomendado\n",
    "   edad = 50\n",
    "   ```\n",
    "\n",
    "2. **No deben empezar con un número**: Las variables no pueden comenzar con números, pero pueden contener números en otras posiciones.\n",
    "\n",
    "   ```python\n",
    "   # Incorrecto\n",
    "   2nombre = \"Ana\"\n",
    "   \n",
    "   # Correcto\n",
    "   nombre2 = \"Ana\"\n",
    "   ```\n",
    "\n",
    "3. **Uso de guiones bajos para separar palabras**: Si el nombre de la variable tiene varias palabras, es recomendable utilizar guiones bajos (`_`) para mejorar la legibilidad.\n",
    "\n",
    "   ```python\n",
    "   # No recomendado\n",
    "   nombreCompleto = \"Ana López\"\n",
    "   \n",
    "   # Recomendado\n",
    "   nombre_completo = \"Ana López\"\n",
    "   ```\n",
    "\n",
    "4. **Sensible a mayúsculas y minúsculas**: Python diferencia entre mayúsculas y minúsculas, por lo que `Nombre` y `nombre` serían variables distintas.\n",
    "\n",
    "   ```python\n",
    "   nombre = \"Ana\"\n",
    "   Nombre = \"Pedro\"\n",
    "   \n",
    "   # nombre y Nombre son diferentes\n",
    "   print(nombre)  # Ana\n",
    "   print(Nombre)  # Pedro\n",
    "   ```\n",
    "\n",
    "### Operaciones básicas con variables\n",
    "\n",
    "Las variables pueden almacenar diferentes tipos de datos y participar en diversas operaciones.\n",
    "\n",
    "#### Operaciones aritméticas"
   ]
  },
  {
   "cell_type": "code",
   "execution_count": null,
   "id": "4de9c3ce",
   "metadata": {},
   "outputs": [],
   "source": [
    "a = 10\n",
    "b = 20\n",
    "\n",
    "# Suma\n",
    "suma = a + b\n",
    "print(suma)  # Resultado: 30\n",
    "\n",
    "# Resta\n",
    "resta = b - a\n",
    "print(resta)  # Resultado: 10\n",
    "\n",
    "# Multiplicación\n",
    "multiplicacion = a * b\n",
    "print(multiplicacion)  # Resultado: 200\n",
    "\n",
    "# División\n",
    "division = b / a\n",
    "print(division)  # Resultado: 2.0"
   ]
  },
  {
   "cell_type": "markdown",
   "id": "a670d0ff",
   "metadata": {},
   "source": [
    "#### Operaciones con cadenas de texto"
   ]
  },
  {
   "cell_type": "code",
   "execution_count": null,
   "id": "b800b605",
   "metadata": {},
   "outputs": [],
   "source": [
    "nombre = \"Ana\"\n",
    "apellido = \"López\"\n",
    "\n",
    "# Concatenación de cadenas\n",
    "nombre_completo = nombre + \" \" + apellido\n",
    "print(nombre_completo)  # Resultado: Ana López\n",
    "\n",
    "# Repetición de cadenas\n",
    "repetir = nombre * 3\n",
    "print(repetir)  # Resultado: AnaAnaAna"
   ]
  },
  {
   "cell_type": "markdown",
   "id": "5224fcbc",
   "metadata": {},
   "source": [
    "### Conclusión\n",
    "\n",
    "El intérprete interactivo de Python es una herramienta poderosa para probar código rápidamente y entender cómo funcionan las variables y operaciones básicas. Recuerda seguir buenas prácticas a la hora de nombrar variables para que tu código sea claro y fácil de leer."
   ]
  }
 ],
 "metadata": {
  "kernelspec": {
   "display_name": "Python 3 (ipykernel)",
   "language": "python",
   "name": "python3"
  },
  "language_info": {
   "codemirror_mode": {
    "name": "ipython",
    "version": 3
   },
   "file_extension": ".py",
   "mimetype": "text/x-python",
   "name": "python",
   "nbconvert_exporter": "python",
   "pygments_lexer": "ipython3",
   "version": "3.12.5"
  }
 },
 "nbformat": 4,
 "nbformat_minor": 5
}
