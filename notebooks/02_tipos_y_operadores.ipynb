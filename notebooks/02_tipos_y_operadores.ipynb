{
 "cells": [
  {
   "cell_type": "markdown",
   "metadata": {},
   "source": [
    "# Clase 2: Tipos de datos primitivos y operadores\n",
    "\n",
    "## Tipos de datos primitivos\n",
    "\n",
    "En Python, los **tipos de datos primitivos** son los bloques básicos con los que trabajamos. Estos tipos incluyen:\n",
    "\n",
    "- **Enteros (`int`)**: Representan números enteros (positivos o negativos) sin decimales.\n",
    "- **Números de punto flotante (`float`)**: Representan números reales con parte decimal.\n",
    "- **Cadenas de texto (`str`)**: Son secuencias de caracteres, usadas para representar texto.\n",
    "- **Booleanos (`bool`)**: Representan valores de verdad, que pueden ser `True` o `False`.\n",
    "\n",
    "### Ejemplo de tipos de datos:"
   ]
  },
  {
   "cell_type": "code",
   "execution_count": 1,
   "metadata": {},
   "outputs": [
    {
     "name": "stdout",
     "output_type": "stream",
     "text": [
      "<class 'int'>\n",
      "<class 'float'>\n",
      "<class 'str'>\n",
      "<class 'bool'>\n"
     ]
    }
   ],
   "source": [
    "# Enteros (int)\n",
    "edad = 30\n",
    "print(type(edad))  # <class 'int'>\n",
    "\n",
    "# Números de punto flotante (float)\n",
    "altura = 1.75\n",
    "print(type(altura))  # <class 'float'>\n",
    "\n",
    "# Cadenas de texto (str)\n",
    "nombre = \"Ana\"\n",
    "print(type(nombre))  # <class 'str'>\n",
    "\n",
    "# Booleanos (bool)\n",
    "es_adulto = True\n",
    "print(type(es_adulto))  # <class 'bool'>"
   ]
  },
  {
   "cell_type": "markdown",
   "metadata": {},
   "source": [
    "### Diferencias entre `int` y `float`\n",
    "\n",
    "La diferencia principal entre un número entero (`int`) y un número de punto flotante (`float`) es que los enteros no tienen parte decimal, mientras que los números de punto flotante sí.\n"
   ]
  },
  {
   "cell_type": "code",
   "execution_count": 2,
   "metadata": {},
   "outputs": [
    {
     "name": "stdout",
     "output_type": "stream",
     "text": [
      "<class 'int'>\n",
      "<class 'float'>\n"
     ]
    }
   ],
   "source": [
    "# Ejemplo de número entero\n",
    "numero_entero = 10\n",
    "\n",
    "# Ejemplo de número de punto flotante\n",
    "numero_flotante = 10.5\n",
    "\n",
    "print(type(numero_entero))  # <class 'int'>\n",
    "print(type(numero_flotante))  # <class 'float'>"
   ]
  },
  {
   "cell_type": "markdown",
   "metadata": {},
   "source": [
    "\n",
    "\n",
    "### Conversión de tipos\n",
    "\n",
    "Es posible convertir entre diferentes tipos de datos utilizando las funciones de conversión.\n"
   ]
  },
  {
   "cell_type": "code",
   "execution_count": 3,
   "metadata": {},
   "outputs": [
    {
     "name": "stdout",
     "output_type": "stream",
     "text": [
      "30\n",
      "<class 'str'>\n",
      "30\n",
      "<class 'int'>\n"
     ]
    }
   ],
   "source": [
    "# Convertir de entero a cadena\n",
    "edad = 30\n",
    "edad_str = str(edad)\n",
    "print(edad_str)       # '30'\n",
    "print(type(edad_str))  # <class 'str'>\n",
    "\n",
    "# Convertir de cadena a entero\n",
    "edad_str = \"30\"\n",
    "edad = int(edad_str)"
   ]
  },
  {
   "cell_type": "markdown",
   "metadata": {},
   "source": [
    "## Operadores aritméticos\n",
    "\n",
    "Los **operadores aritméticos** en Python te permiten realizar operaciones matemáticas básicas como suma, resta, multiplicación y división.\n",
    "\n",
    "### Operadores más comunes:\n",
    "\n",
    "- `+` : Suma\n",
    "- `-` : Resta\n",
    "- `*` : Multiplicación\n",
    "- `/` : División (retorna un valor `float`)\n",
    "- `//` : División entera (descarta la parte decimal)\n",
    "- `%` : Módulo (retorna el resto de la división)\n",
    "- `**` : Potencia\n",
    "\n",
    "### Ejemplos de operaciones aritméticas:"
   ]
  },
  {
   "cell_type": "code",
   "execution_count": 7,
   "metadata": {},
   "outputs": [
    {
     "name": "stdout",
     "output_type": "stream",
     "text": [
      "15\n",
      "5\n",
      "50\n",
      "3.3333333333333335\n",
      "3\n",
      "1\n",
      "8\n"
     ]
    }
   ],
   "source": [
    "# Suma\n",
    "resultado_suma = 10 + 5\n",
    "print(resultado_suma)  # 15\n",
    "\n",
    "# Resta\n",
    "resultado_resta = 10 - 5\n",
    "print(resultado_resta)  # 5\n",
    "\n",
    "# Multiplicación\n",
    "resultado_multiplicacion = 10 * 5\n",
    "print(resultado_multiplicacion)  # 50\n",
    "\n",
    "# División\n",
    "resultado_division = 10 / 3\n",
    "print(resultado_division)  # 3.3333333333333335\n",
    "\n",
    "# División entera\n",
    "resultado_division_entera = 10 // 3\n",
    "print(resultado_division_entera)  # 3\n",
    "\n",
    "# Módulo (resto de la división)\n",
    "resultado_modulo = 10 % 3\n",
    "print(resultado_modulo)  # 1\n",
    "\n",
    "# Potencia\n",
    "resultado_potencia = 2 ** 3\n",
    "print(resultado_potencia)  # 8"
   ]
  },
  {
   "cell_type": "markdown",
   "metadata": {},
   "source": [
    "### Orden de las operaciones\n",
    "\n",
    "Python sigue la regla **PEMDAS** para resolver las expresiones aritméticas:\n",
    "- **P**aréntesis\n",
    "- **E**xponentes\n",
    "- **M**ultiplicación y **D**ivisión (de izquierda a derecha)\n",
    "- **A**dición y **S**ustracción (de izquierda a derecha)"
   ]
  },
  {
   "cell_type": "code",
   "execution_count": 6,
   "metadata": {},
   "outputs": [
    {
     "name": "stdout",
     "output_type": "stream",
     "text": [
      "14\n",
      "20\n"
     ]
    }
   ],
   "source": [
    "# Ejemplo: 2 + 3 * 4\n",
    "resultado = 2 + 3 * 4\n",
    "print(resultado)  # 14 (Primero se resuelve la multiplicación)\n",
    "\n",
    "# Ejemplo con paréntesis: (2 + 3) * 4\n",
    "resultado_con_parentesis = (2 + 3) * 4\n",
    "print(resultado_con_parentesis)  # 20 (Primero se resuelve lo que está dentro del paréntesis)"
   ]
  },
  {
   "cell_type": "markdown",
   "metadata": {},
   "source": [
    "## Operadores lógicos\n",
    "\n",
    "Los **operadores lógicos** en Python se usan para combinar expresiones que resulten en valores booleanos (`True` o `False`). Los principales operadores lógicos son:\n",
    "\n",
    "- **`and`**: Retorna `True` si ambas expresiones son verdaderas.\n",
    "- **`or`**: Retorna `True` si al menos una de las expresiones es verdadera.\n",
    "- **`not`**: Invierte el valor lógico de una expresión. Si es `True`, se convierte en `False` y viceversa.\n",
    "\n",
    "### Ejemplos de operadores lógicos:"
   ]
  },
  {
   "cell_type": "code",
   "execution_count": 5,
   "metadata": {},
   "outputs": [
    {
     "name": "stdout",
     "output_type": "stream",
     "text": [
      "False\n",
      "True\n",
      "False\n"
     ]
    }
   ],
   "source": [
    "# Operador and\n",
    "es_adulto = True\n",
    "tiene_dni = False\n",
    "\n",
    "# Para que sea True, ambas condiciones deben ser True\n",
    "puede_votar = es_adulto and tiene_dni\n",
    "print(puede_votar)  # False\n",
    "\n",
    "# Operador or\n",
    "tiene_carnet = True\n",
    "puede_conducir = es_adulto or tiene_carnet\n",
    "print(puede_conducir)  # True (porque al menos una condición es True)\n",
    "\n",
    "# Operador not\n",
    "es_menor_de_edad = not es_adulto\n",
    "print(es_menor_de_edad)  # False (porque es_adulto es True)"
   ]
  },
  {
   "cell_type": "markdown",
   "metadata": {},
   "source": [
    "## Combinando operadores aritméticos y lógicos\n",
    "\n",
    "Podemos combinar operadores aritméticos y lógicos para evaluar expresiones más complejas."
   ]
  },
  {
   "cell_type": "code",
   "execution_count": 4,
   "metadata": {},
   "outputs": [
    {
     "name": "stdout",
     "output_type": "stream",
     "text": [
      "False\n"
     ]
    }
   ],
   "source": [
    "edad = 20\n",
    "es_adulto = edad >= 18  # Verificamos si es mayor de edad\n",
    "\n",
    "# Combinar operadores aritméticos y lógicos\n",
    "puede_beber = es_adulto and (edad >= 21)\n",
    "print(puede_beber)  # False (porque la edad es 20, y no cumple con la condición >= 21)\n"
   ]
  },
  {
   "cell_type": "markdown",
   "metadata": {},
   "source": [
    "## Conclusión\n",
    "\n",
    "En esta clase hemos cubierto los **tipos de datos primitivos** más importantes en Python, como los enteros, números de punto flotante, cadenas de texto y booleanos. También hemos aprendido a utilizar los **operadores aritméticos** para realizar cálculos y los **operadores lógicos** para trabajar con expresiones booleanas. Estos conceptos son fundamentales para desarrollar programas más complejos."
   ]
  }
 ],
 "metadata": {
  "kernelspec": {
   "display_name": ".env",
   "language": "python",
   "name": "python3"
  },
  "language_info": {
   "codemirror_mode": {
    "name": "ipython",
    "version": 3
   },
   "file_extension": ".py",
   "mimetype": "text/x-python",
   "name": "python",
   "nbconvert_exporter": "python",
   "pygments_lexer": "ipython3",
   "version": "3.12.5"
  }
 },
 "nbformat": 4,
 "nbformat_minor": 2
}
