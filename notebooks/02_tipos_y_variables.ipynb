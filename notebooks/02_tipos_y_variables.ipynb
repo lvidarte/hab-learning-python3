{
 "cells": [
  {
   "cell_type": "markdown",
   "metadata": {},
   "source": [
    "# Clase 2: Tipos y Variables en Python\n",
    "\n",
    "## Módulo 1: Tipos de datos en Python\n",
    "\n",
    "### 1. Tipos de datos básicos\n",
    "\n",
    "Python tiene varios tipos de datos básicos. A continuación, se describen los más comunes:\n",
    "\n",
    "- **Números**:\n",
    "  - **Enteros (int)**: Números enteros, positivos o negativos, sin decimales. Ejemplo: `42`, `-3`.\n",
    "  - **Flotantes (float)**: Números reales, que pueden incluir decimales. Ejemplo: `3.14`, `-0.001`.\n",
    "  - **Cadenas (str)**: Secuencias de caracteres que se utilizan para representar texto. Las cadenas se pueden definir con comillas simples o dobles. Ejemplo: `'Hola, mundo!'`, `\"Python es genial!\"`.\n",
    "  - **Booleanos (bool)**: Representan valores de verdad. Solo pueden ser `True` o `False`.\n"
   ]
  },
  {
   "cell_type": "code",
   "execution_count": 4,
   "metadata": {},
   "outputs": [
    {
     "data": {
      "text/plain": [
       "int"
      ]
     },
     "execution_count": 4,
     "metadata": {},
     "output_type": "execute_result"
    }
   ],
   "source": [
    "type(10)"
   ]
  },
  {
   "cell_type": "code",
   "execution_count": 5,
   "metadata": {},
   "outputs": [
    {
     "data": {
      "text/plain": [
       "float"
      ]
     },
     "execution_count": 5,
     "metadata": {},
     "output_type": "execute_result"
    }
   ],
   "source": [
    "type(3.14)"
   ]
  },
  {
   "cell_type": "code",
   "execution_count": 14,
   "metadata": {},
   "outputs": [
    {
     "name": "stdout",
     "output_type": "stream",
     "text": [
      "hola <class 'str'>\n"
     ]
    }
   ],
   "source": [
    "print(\"hola\", type(\"hola\"))"
   ]
  },
  {
   "cell_type": "code",
   "execution_count": 15,
   "metadata": {},
   "outputs": [
    {
     "name": "stdout",
     "output_type": "stream",
     "text": [
      "True <class 'bool'> False <class 'bool'>\n"
     ]
    }
   ],
   "source": [
    "print(True, type(True), False, type(False))"
   ]
  },
  {
   "cell_type": "markdown",
   "metadata": {},
   "source": [
    "### 2. Conversión de tipos\n",
    "\n",
    "Es posible convertir entre diferentes tipos de datos utilizando funciones integradas, como:\n",
    "\n",
    "- `int()`: Convierte un valor a entero.\n",
    "- `float()`: Convierte un valor a flotante.\n",
    "- `str()`: Convierte un valor a cadena.\n",
    "\n",
    "#### Ejemplo de conversión de tipos:"
   ]
  },
  {
   "cell_type": "code",
   "execution_count": 9,
   "metadata": {},
   "outputs": [
    {
     "data": {
      "text/plain": [
       "int"
      ]
     },
     "execution_count": 9,
     "metadata": {},
     "output_type": "execute_result"
    }
   ],
   "source": [
    "type(int(\"100\"))"
   ]
  },
  {
   "cell_type": "code",
   "execution_count": 10,
   "metadata": {},
   "outputs": [
    {
     "data": {
      "text/plain": [
       "float"
      ]
     },
     "execution_count": 10,
     "metadata": {},
     "output_type": "execute_result"
    }
   ],
   "source": [
    "type(float(\"100\"))"
   ]
  },
  {
   "cell_type": "code",
   "execution_count": 11,
   "metadata": {},
   "outputs": [
    {
     "data": {
      "text/plain": [
       "str"
      ]
     },
     "execution_count": 11,
     "metadata": {},
     "output_type": "execute_result"
    }
   ],
   "source": [
    "type(str(100))"
   ]
  },
  {
   "cell_type": "markdown",
   "metadata": {},
   "source": [
    "### 3. Ejercicio práctico\n",
    "\n",
    "1. Defina un número entero, un número flotante, y una cadena.\n",
    "2. Imprima cada uno de ellos y su tipo utilizando `type()`.\n",
    "3. Realiza conversiones entre tipos y muestra los resultados."
   ]
  },
  {
   "cell_type": "code",
   "execution_count": null,
   "metadata": {},
   "outputs": [],
   "source": []
  },
  {
   "cell_type": "markdown",
   "metadata": {},
   "source": [
    "---\n",
    "\n",
    "## Módulo 2: Variables y asignación\n",
    "\n",
    "### 1. ¿Qué es una variable?\n",
    "\n",
    "Una variable es un espacio en la memoria que se utiliza para almacenar datos. En Python, no es necesario declarar el tipo de variable antes de usarla, ya que Python utiliza tipado dinámico.\n",
    "\n",
    "### 2. Asignación de variables\n",
    "\n",
    "Para asignar un valor a una variable, se utiliza el operador `=`. La sintaxis es la siguiente:\n",
    "\n",
    "```python\n",
    "nombre_variable = valor\n",
    "```\n",
    "\n",
    "#### Ejemplo de asignación de variables:\n"
   ]
  },
  {
   "cell_type": "code",
   "execution_count": 22,
   "metadata": {},
   "outputs": [
    {
     "name": "stdout",
     "output_type": "stream",
     "text": [
      "10\n"
     ]
    }
   ],
   "source": [
    "# Variable de tipo int\n",
    "num = 10\n",
    "\n",
    "# Al inicializar una variable el valor no se muestra en pantalla.\n",
    "# Para ver el valor de la variable podemos usar print\n",
    "print(num)"
   ]
  },
  {
   "cell_type": "code",
   "execution_count": 23,
   "metadata": {},
   "outputs": [
    {
     "name": "stdout",
     "output_type": "stream",
     "text": [
      "Lucas\n"
     ]
    }
   ],
   "source": [
    "# Variable de tipo str\n",
    "nombre = \"Lucas\"\n",
    "print(nombre)"
   ]
  },
  {
   "cell_type": "code",
   "execution_count": 24,
   "metadata": {},
   "outputs": [
    {
     "name": "stdout",
     "output_type": "stream",
     "text": [
      "True <class 'bool'>\n"
     ]
    }
   ],
   "source": [
    "# Variable de tipo bool\n",
    "en_ejecucion = True\n",
    "print(en_ejecucion, type(en_ejecucion))"
   ]
  },
  {
   "cell_type": "markdown",
   "metadata": {},
   "source": [
    "### 3. Nombres de variables\n",
    "\n",
    "Los nombres de las variables deben seguir ciertas reglas:\n",
    "\n",
    "- Pueden contener letras, números y guiones bajos (_).\n",
    "- No pueden comenzar con un número.\n",
    "- No pueden contener espacios ni caracteres especiales.\n",
    "- No pueden ser palabras reservadas de Python (como `if`, `for`, `while`, etc.).\n",
    "\n",
    "### 4. Ejercicio práctico\n",
    "\n",
    "1. Define al menos tres variables de diferentes tipos (int, float, str).\n",
    "2. Imprime el valor y el tipo de cada variable.\n",
    "3. Realiza cambios en los valores de las variables y vuelve a imprimirlos."
   ]
  },
  {
   "cell_type": "code",
   "execution_count": null,
   "metadata": {},
   "outputs": [],
   "source": []
  }
 ],
 "metadata": {
  "kernelspec": {
   "display_name": ".env",
   "language": "python",
   "name": "python3"
  },
  "language_info": {
   "codemirror_mode": {
    "name": "ipython",
    "version": 3
   },
   "file_extension": ".py",
   "mimetype": "text/x-python",
   "name": "python",
   "nbconvert_exporter": "python",
   "pygments_lexer": "ipython3",
   "version": "3.12.5"
  }
 },
 "nbformat": 4,
 "nbformat_minor": 2
}
