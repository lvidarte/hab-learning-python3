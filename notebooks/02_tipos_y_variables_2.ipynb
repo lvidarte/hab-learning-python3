{
 "cells": [
  {
   "cell_type": "markdown",
   "metadata": {},
   "source": [
    "# Tipos y Variables en Python - Material complementario\n",
    "\n",
    "### 1. ¿Qué es un programa?\n",
    "\n",
    "La naturaleza de un programa de computadora es esencialmente la de un sistema diseñado para procesar datos y producir resultados útiles o significativos. Un programa sin datos carece de propósito, ya que su función principal es recibir, manipular, almacenar, y devolver información de alguna manera. Dicho de otro modo, **sin datos, un programa no tiene razón de ser** porque su existencia depende de la interacción con la información.\n",
    "\n",
    "#### a. Flujo de un programa: Datos → Proceso → Resultado\n",
    "\n",
    "1. **Entrada de Datos**  \n",
    "   El programa necesita datos para comenzar su ejecución. Estos datos pueden provenir de diferentes fuentes: \n",
    "   - Un usuario (mediante un formulario, teclado, voz, etc.)\n",
    "   - Un archivo (como una base de datos, un archivo de texto)\n",
    "   - Sensores (en el caso de dispositivos IoT o robots)\n",
    "   - Otros programas o sistemas (mediante APIs, servicios web, etc.)\n",
    "\n",
    "   **Ejemplo**:  \n",
    "   Un programa que calcula el promedio de una serie de números necesita recibir esa serie como entrada. Sin estos números, no tendría sentido que el programa existiera.\n",
    "\n",
    "   ```python\n",
    "   numeros = [5, 8, 3, 10]  # Datos de entrada\n",
    "   ```\n",
    "\n",
    "2. **Proceso**  \n",
    "   El programa toma los datos ingresados y los procesa, aplicando reglas lógicas, cálculos matemáticos o transformaciones. Durante este paso, los algoritmos y la lógica del programa trabajan sobre los datos para transformarlos en algo útil. Este procesamiento puede incluir:\n",
    "   - Operaciones matemáticas\n",
    "   - Filtrado o clasificación de información\n",
    "   - Comparación de datos\n",
    "   - Transformación de formatos\n",
    "\n",
    "   **Ejemplo**:  \n",
    "   El programa que calcula el promedio sumará todos los números y los dividirá por la cantidad de elementos.\n",
    "\n",
    "   ```python\n",
    "   suma = sum(numeros)    # Proceso: suma de los números\n",
    "   promedio = suma / len(numeros)  # Proceso: cálculo del promedio\n",
    "   ```\n",
    "\n",
    "3. **Resultado o Salida**  \n",
    "   Después de procesar los datos, el programa produce un resultado. Este resultado es la razón por la cual el programa fue creado: resolver un problema, proporcionar información, o ejecutar una acción específica. La salida puede ser:\n",
    "   - Un valor o resultado impreso en la pantalla\n",
    "   - Datos almacenados en un archivo o base de datos\n",
    "   - Un mensaje o notificación para el usuario\n",
    "   - Una acción tomada por un dispositivo (como encender una luz)\n",
    "\n",
    "   **Ejemplo**:  \n",
    "   El programa finalmente muestra el promedio calculado.\n",
    "\n",
    "   ```python\n",
    "   print(f\"El promedio es {promedio}\")  # Resultado\n",
    "   ```\n",
    "\n",
    "#### b. Sin datos, el programa es inútil\n",
    "Un programa sin datos es como una calculadora sin números. No tiene nada que procesar, analizar o resolver. El propósito de un programa radica en recibir y trabajar con datos para producir algo significativo. Si no hay datos de entrada, no puede haber procesamiento ni resultados, lo que hace que el programa pierda su razón de existir.\n",
    "\n",
    "\n",
    "#### c. Un algoritmo que resuelve un problema\n",
    "Un programa puede definirse, complementariamente, como la implementación de un [algoritmo](https://es.wikipedia.org/wiki/Algoritmo). Un algoritmo es una secuencia de pasos lógicos para resolver un problema específico. La clave está en cómo el programa transforma una situación inicial en una solución final a través de operaciones definidas. Esta definición es más abstracta y resalta la lógica y estructura interna del programa, más allá de la interacción con datos.\n",
    "\n",
    "**Ejemplo:** Un algoritmo de ordenación que organiza una lista de números es un conjunto de instrucciones que resuelven el problema de organizar elementos de forma ordenada.\n",
    "\n",
    "Ambas definiciones son válidas y se refuerzan entre sí:\n",
    "- Un programa, como sistema de procesamiento de datos, necesita algoritmos para definir las reglas y pasos con los que manipula los datos.\n",
    "- A su vez, un programa basado en un algoritmo necesita datos para resolver un problema específico y generar una salida significativa."
   ]
  },
  {
   "cell_type": "markdown",
   "metadata": {},
   "source": [
    "---\n",
    "\n",
    "### 2. Introducción a las funciones incorporadas (built-in) en Python\n",
    "\n",
    "*Ref.*: https://docs.python.org/es/3/library/functions.html\n",
    "\n",
    "En Python, una **función** es un bloque de código reutilizable que realiza una tarea específica. Una función puede recibir **parámetros** (datos de entrada), realizar un procesamiento, y opcionalmente devolver un **resultado**. Las funciones son fundamentales porque permiten estructurar y organizar el código de manera modular, facilitando su reutilización y legibilidad.\n",
    "\n",
    "Por ejemplo, la función `print()` toma un valor y lo muestra en la consola.\n",
    "\n",
    "#### a. Sintaxis Básica de una Función\n",
    "```python\n",
    "def nombre_funcion(parametros):\n",
    "    # Bloque de código que realiza un proceso\n",
    "    return resultado\n",
    "```\n",
    "\n",
    "Podemos decir que una función es, en sí misma, un programa en miniatura, ya que cumple con los mismos principios básicos de procesamiento de datos y producción de resultados.\n",
    "\n",
    "#### b. Funciones built-in\n",
    "\n",
    "**Funciones built-in** (predefinidas o incorporadas) son aquellas que Python proporciona de manera predeterminada, sin necesidad de que el usuario las defina. Estas funciones están listas para usar y cubren una gran variedad de tareas comunes, desde operaciones matemáticas hasta manipulación de cadenas y manejo de estructuras de datos.\n",
    "\n",
    "Algunas funciones built-in importantes son:\n",
    "\n",
    "1. **`print()`**: Muestra valores en la consola."
   ]
  },
  {
   "cell_type": "code",
   "execution_count": 13,
   "metadata": {},
   "outputs": [
    {
     "name": "stdout",
     "output_type": "stream",
     "text": [
      "Hola, mundo!\n"
     ]
    }
   ],
   "source": [
    "print(\"Hola, mundo!\")"
   ]
  },
  {
   "cell_type": "markdown",
   "metadata": {},
   "source": [
    "2. **`len()`**: Devuelve la cantidad de elementos de una lista, cadena u objeto iterable."
   ]
  },
  {
   "cell_type": "code",
   "execution_count": 14,
   "metadata": {},
   "outputs": [
    {
     "name": "stdout",
     "output_type": "stream",
     "text": [
      "6\n"
     ]
    }
   ],
   "source": [
    "print(len(\"Python\"))"
   ]
  },
  {
   "cell_type": "markdown",
   "metadata": {},
   "source": [
    "3. **`type()`**: Devuelve el tipo de dato de un objeto."
   ]
  },
  {
   "cell_type": "code",
   "execution_count": 15,
   "metadata": {},
   "outputs": [
    {
     "name": "stdout",
     "output_type": "stream",
     "text": [
      "<class 'int'>\n"
     ]
    }
   ],
   "source": [
    "print(type(42))"
   ]
  },
  {
   "cell_type": "markdown",
   "metadata": {},
   "source": [
    "4. **`int()`, `float()`, `str()`**: Convierte datos de un tipo a otro."
   ]
  },
  {
   "cell_type": "code",
   "execution_count": 16,
   "metadata": {},
   "outputs": [
    {
     "name": "stdout",
     "output_type": "stream",
     "text": [
      "10\n"
     ]
    }
   ],
   "source": [
    "print(int(\"10\"))  # Convierte una cadena a entero."
   ]
  },
  {
   "cell_type": "code",
   "execution_count": 17,
   "metadata": {},
   "outputs": [
    {
     "name": "stdout",
     "output_type": "stream",
     "text": [
      "3.14\n"
     ]
    }
   ],
   "source": [
    "print(float(\"3.14\"))  # Convierte una cadena a flotante."
   ]
  },
  {
   "cell_type": "code",
   "execution_count": 6,
   "metadata": {},
   "outputs": [
    {
     "name": "stdout",
     "output_type": "stream",
     "text": [
      "42\n"
     ]
    }
   ],
   "source": [
    "print(str(42))  # Convierte un entero a cadena."
   ]
  },
  {
   "cell_type": "markdown",
   "metadata": {},
   "source": [
    "5. **`sum()`**: Suma todos los elementos de un iterable (como una lista)."
   ]
  },
  {
   "cell_type": "code",
   "execution_count": 18,
   "metadata": {},
   "outputs": [
    {
     "name": "stdout",
     "output_type": "stream",
     "text": [
      "6\n"
     ]
    }
   ],
   "source": [
    "print(sum([1, 2, 3]))"
   ]
  },
  {
   "cell_type": "markdown",
   "metadata": {},
   "source": [
    "6. **`max()` y `min()`**: Devuelven el valor máximo y mínimo de un iterable."
   ]
  },
  {
   "cell_type": "code",
   "execution_count": 19,
   "metadata": {},
   "outputs": [
    {
     "name": "stdout",
     "output_type": "stream",
     "text": [
      "5\n"
     ]
    }
   ],
   "source": [
    "print(max([1, 5, 3]))"
   ]
  },
  {
   "cell_type": "code",
   "execution_count": 20,
   "metadata": {},
   "outputs": [
    {
     "name": "stdout",
     "output_type": "stream",
     "text": [
      "1\n"
     ]
    }
   ],
   "source": [
    "print(min([1, 5, 3]))"
   ]
  },
  {
   "cell_type": "markdown",
   "metadata": {},
   "source": [
    "7. **`input()`**: Permite al usuario ingresar datos desde el teclado."
   ]
  },
  {
   "cell_type": "code",
   "execution_count": 10,
   "metadata": {},
   "outputs": [
    {
     "name": "stdout",
     "output_type": "stream",
     "text": [
      "Hola, Leo\n"
     ]
    }
   ],
   "source": [
    "nombre = input(\"¿Cuál es tu nombre? \")  # Pide al usuario que ingrese su nombre\n",
    "print(\"Hola, \" + nombre)"
   ]
  },
  {
   "cell_type": "markdown",
   "metadata": {},
   "source": [
    "8. **`range()`**: Genera una secuencia de números."
   ]
  },
  {
   "cell_type": "code",
   "execution_count": 11,
   "metadata": {},
   "outputs": [
    {
     "name": "stdout",
     "output_type": "stream",
     "text": [
      "0\n",
      "1\n",
      "2\n",
      "3\n",
      "4\n"
     ]
    }
   ],
   "source": [
    "for i in range(5):\n",
    "    print(i)"
   ]
  },
  {
   "cell_type": "markdown",
   "metadata": {},
   "source": [
    "9. **`abs()`**: Devuelve el valor absoluto de un número."
   ]
  },
  {
   "cell_type": "code",
   "execution_count": 21,
   "metadata": {},
   "outputs": [
    {
     "name": "stdout",
     "output_type": "stream",
     "text": [
      "10\n"
     ]
    }
   ],
   "source": [
    "print(abs(-10))"
   ]
  },
  {
   "cell_type": "markdown",
   "metadata": {},
   "source": [
    "#### c. Importancia de las Funciones Built-in\n",
    "Las funciones built-in son extremadamente útiles porque:\n",
    "- **Ahorro de tiempo**: No necesitas reinventar la rueda, ya que Python te proporciona muchas funciones predefinidas.\n",
    "- **Simplicidad**: Permiten realizar tareas comunes de forma directa y con menos código.\n",
    "- **Eficiencia**: Están optimizadas para ser rápidas y eficientes, lo que mejora el rendimiento del programa."
   ]
  },
  {
   "cell_type": "markdown",
   "metadata": {},
   "source": [
    "---\n",
    "\n",
    "### 3. La abstracción\n",
    "\n",
    "La abstracción es un concepto fundamental en la programación y se refiere a la capacidad de simplificar la complejidad al ocultar los detalles innecesarios y resaltar lo esencial.\n",
    "\n",
    "La abstracción en el contexto de las funciones permite a los programadores trabajar de manera más eficiente y efectiva, enfocándose en la solución de problemas y el desarrollo de aplicaciones sin la carga de tener que entender cada detalle de la implementación subyacente. Esto es crucial para la creación de software complejo, donde la gestión de la complejidad es fundamental para el éxito del proyecto.\n",
    "\n",
    "En el contexto de las funciones en Python, la abstracción permite a los usuarios interactuar con funciones incorporadas sin tener que entender cómo están implementadas internamente. Los usuarios interactúan con estas funciones a través de la interfaz de Python, sin necesidad de conocer su implementación subyacente, sin preocuparse por los detalles de su implementación en C. Esto se logra mediante:\n",
    "\n",
    "1. **Simplicidad de Uso**: Las funciones built-in tienen nombres descriptivos y parámetros intuitivos, lo que permite a los programadores utilizarlas sin tener que aprender su lógica interna. Por ejemplo, una función como `len()` es fácil de entender y usar para contar elementos en una lista o cadena.\n",
    "\n",
    "2. **Encapsulamiento**: La implementación de la función está encapsulada, es decir, se encuentra oculta detrás de una interfaz que permite llamar a la función y obtener resultados sin conocer cómo se logra eso internamente. Esto permite a los desarrolladores centrarse en el problema que están resolviendo en lugar de en cómo se realizan los cálculos específicos.\n",
    "\n",
    "3. **Reutilización**: La abstracción permite reutilizar funciones sin tener que recrearlas cada vez. Los programadores pueden confiar en que las funciones built-in funcionan correctamente y se comportan como se espera, lo que ahorra tiempo y esfuerzo.\n",
    "\n",
    "4. **Facilitación del Aprendizaje**: Para los nuevos programadores, la abstracción hace que el lenguaje sea más accesible. Al interactuar con funciones sin necesidad de comprender los detalles de su implementación, pueden concentrarse en aprender conceptos de programación y lógica.\n",
    "\n",
    "5. **Reducción de Errores**: Al utilizar funciones ya probadas y optimizadas, los programadores pueden minimizar la introducción de errores en su código. En lugar de tener que escribir sus propias implementaciones para tareas comunes, pueden aprovechar las funciones built-in, que han sido cuidadosamente desarrolladas y testeadas."
   ]
  },
  {
   "cell_type": "markdown",
   "metadata": {},
   "source": [
    "---\n",
    "\n",
    "### 4. Manejo de variables en Python\n",
    "\n",
    "En Python, una variable es un nombre que actúa como una etiqueta para referirse a un objeto almacenado en la memoria. Las variables no contienen directamente los valores, sino que apuntan a objetos que representan esos valores. Esto significa que cuando asignas un valor a una variable, lo que realmente haces es crear un objeto que contiene ese valor y luego vinculas el nombre de la variable a ese objeto.\n",
    "\n",
    "Por ejemplo, si asignas `x = 10`, Python crea un objeto que representa el número entero `10` y la variable `x` apunta a ese objeto.\n",
    "\n",
    "#### a. Funcionamiento de las variables como etiquetas\n",
    "\n",
    "En Python, las variables son como etiquetas que pueden asociarse a cualquier objeto, sin estar limitadas por un tipo de dato específico. Esto permite una gran flexibilidad. Si reasignas una variable, simplemente cambias la etiqueta para que apunte a otro objeto."
   ]
  },
  {
   "cell_type": "code",
   "execution_count": null,
   "metadata": {},
   "outputs": [],
   "source": [
    "x = 10  # 'x' apunta al objeto 10\n",
    "x = \"Hola\" # ahora 'x' apunta a un objeto str con valor \"Hola\""
   ]
  },
  {
   "cell_type": "markdown",
   "metadata": {},
   "source": [
    "Como resultado, las variables en Python no están \"atadas\" a un tipo de dato fijo, ya que **en Python el tipo está asociado al objeto y no a la variable**.\n",
    "\n",
    "#### b. ¿Qué es un Objeto?\n",
    "\n",
    "Un objeto en programación, y específicamente en Python, es una entidad que contiene datos (también conocidos como atributos o propiedades) y comportamientos (métodos o funciones asociadas). Los objetos son instancias de clases, que son como planos o moldes que definen qué propiedades y comportamientos deben tener los objetos.\n",
    "\n",
    "#### c. En Python todo es un objeto\n",
    "\n",
    "Un concepto clave en Python es que **todo es un objeto**. Los números, cadenas de texto, listas, funciones e incluso las propias clases son objetos. Cada objeto tiene un tipo asociado que define el comportamiento y las propiedades que tiene. Esto significa que incluso los tipos de datos primitivos (como enteros y cadenas) son objetos de la clase correspondiente (int, str, etc.).\n",
    "\n",
    "#### d. Gestión automática de memoria \n",
    "\n",
    "Python se encarga de manejar la memoria automáticamente. Cuando un objeto ya no tiene referencias, Python lo elimina (recolección de basura).\n",
    "\n",
    "La **gestión automática de memoria** en Python es manejada por un sistema conocido como **recolección de basura (garbage collection)**, a través del módulo [gc](https://docs.python.org/es/3/library/gc.html). Python utiliza un contador de referencias para rastrear cuántas variables o etiquetas hacen referencia a un objeto en la memoria. Cada vez que se crea una nueva referencia a un objeto, este contador se incrementa, y cuando una referencia deja de existir (por ejemplo, cuando una variable se reasigna a otro objeto), el contador disminuye. Cuando el contador de referencias de un objeto llega a cero, significa que no hay ninguna variable o etiqueta que lo esté utilizando, por lo que el intérprete de Python libera la memoria ocupada por ese objeto, eliminándolo de la memoria automáticamente."
   ]
  },
  {
   "cell_type": "code",
   "execution_count": null,
   "metadata": {},
   "outputs": [],
   "source": [
    "x = \"hola\"  # Se crear en memoria el objeto \"hola\". 'x' referencia a ese objeto.\n",
    "x = 1  # Ahora 'x' referencia a 1. El objeto \"Hola\" ya no tiene referencias. Se elimina."
   ]
  },
  {
   "cell_type": "markdown",
   "metadata": {},
   "source": [
    "---\n",
    "\n",
    "### 5. Tipado dinámico\n",
    "\n",
    "El **tipado dinámico** es una característica clave en Python, donde el tipo de una variable se determina en tiempo de ejecución y no en tiempo de compilación. En lugar de declarar el tipo de una variable de antemano, el intérprete de Python asigna el tipo automáticamente según el valor que se le asigne. Por ejemplo, si asignas un número entero a una variable, Python entiende que es un entero, y si luego le asignas una cadena de texto, Python cambia el tipo de esa variable automáticamente.\n",
    "\n",
    "#### a. Ventajas del tipado dinámico\n",
    "1. **Flexibilidad**: El no tener que declarar los tipos de variables, hace que el código sea más simple y rápido de escribir.\n",
    "2. **Facilidad de uso**: Facilita la escritura rápida de código y la experimentación con diferentes tipos de datos.\n",
    "\n",
    "#### b. Desventajas del tipado dinámico\n",
    "1. **Errores en tiempo de ejecución**: Los errores relacionados con tipos de datos incorrectos pueden ocurrir en tiempo de ejecución, lo que puede ser menos deseable en aplicaciones críticas.\n",
    "2. **Rendimiento**: Los lenguajes con tipado dinámico suelen ser más lentos que aquellos con tipado estático, ya que los tipos se determinan en tiempo de ejecución.\n",
    "\n",
    "\n",
    "#### c. Comparación entre tipado dinámico y tipado estático:\n",
    "\n",
    "| Lenguaje      | Tipo de Tipado   | Declaración de Tipos                              |\n",
    "|---------------|------------------|--------------------------------------------------|\n",
    "| **Python**    | Dinámico          | No es necesario declarar el tipo de las variables.|\n",
    "| **JavaScript**| Dinámico          | No requiere la declaración de tipos.             |\n",
    "| **C**         | Estático          | Los tipos deben declararse explícitamente.        |\n",
    "| **C++**       | Estático          | Los tipos deben declararse explícitamente.        |\n",
    "| **Java**      | Estático          | Requiere la declaración explícita de tipos.       |\n",
    "| **Go**        | Estático          | Los tipos deben declararse o inferirse en tiempo de compilación. |\n",
    "| **PHP**       | Dinámico          | No es necesario declarar tipos de variables.      |\n",
    "| **C#**        | Estático          | Tipado fuerte con verificación de tipos en tiempo de compilación. |"
   ]
  },
  {
   "cell_type": "markdown",
   "metadata": {},
   "source": [
    "---\n",
    "\n",
    "### 6. Tipado estático opcional\n",
    "\n",
    "Python 3 introdujo la característica de **tipado estático opcional** mediante el módulo **[typing](https://docs.python.org/es/3/library/typing.html)**, que permite la **definición de tipos** en variables, parámetros de funciones, y valores de retorno. Esta funcionalidad es una herramienta de ayuda para los desarrolladores y editores de código, pero Python sigue siendo un lenguaje **dinámicamente tipado**, lo que significa que no fuerza el cumplimiento de estos tipos en tiempo de ejecución.\n",
    "\n",
    "#### a. Cómo funciona la definición de tipos\n",
    "\n",
    "Con esta característica, puedes especificar qué tipos de datos se esperan en las variables o funciones, lo que hace que el código sea más fácil de entender, mantener, y menos propenso a errores. Sin embargo, estas anotaciones de tipos no son verificadas por Python durante la ejecución, sino que sirven para análisis estáticos (por ejemplo, con herramientas como **[mypy](https://www.mypy-lang.org/)**).\n",
    "\n",
    "#### b. Ejemplo básico de anotaciones de tipos"
   ]
  },
  {
   "cell_type": "code",
   "execution_count": null,
   "metadata": {},
   "outputs": [],
   "source": [
    "def suma(a: int, b: int) -> int:\n",
    "    return a + b\n",
    "\n",
    "x: str = \"Hola\"\n",
    "y: int = 10"
   ]
  },
  {
   "cell_type": "markdown",
   "metadata": {},
   "source": [
    "En este ejemplo:\n",
    "- En la función `suma`, se indica que los parámetros `a` y `b` deben ser enteros (`int`) y que la función devolverá también un entero.\n",
    "- La variable `x` está anotada como una cadena (`str`), y `y` como un entero (`int`).\n",
    "\n",
    "#### c. Ventajas\n",
    "\n",
    "1. **Mejor legibilidad y documentación**: Anotar los tipos ayuda a los programadores a comprender rápidamente el propósito y los requisitos de las funciones y variables sin necesidad de leer todo el código.\n",
    "2. **Detección temprana de errores**: Herramientas de análisis estático pueden detectar errores antes de que el código se ejecute, lo que facilita la depuración.\n",
    "3. **Ayuda en editores y autocompletado**: Los editores de texto modernos, como **[VSCode](https://code.visualstudio.com/)** o **[PyCharm](https://www.jetbrains.com/pycharm/)**, pueden usar estas anotaciones de tipos para ofrecer autocompletado y verificación de errores."
   ]
  },
  {
   "cell_type": "markdown",
   "metadata": {},
   "source": [
    "---\n",
    "\n",
    "### 7. Diferencia entre función y método\n",
    "\n",
    "En Python, la **diferencia principal** entre una **función* y *un **método** radica en su contexto y uso:\n",
    "\n",
    "- **Función**: Es un bloque de código independiente diseñado para realizar una tarea específica, y puede ser invocada desde cualquier parte del programa. Un ejemplo de esto son las funciones `built-in` mencionadas anteriormente. A diferencia de los métodos, las funciones no están vinculadas a ningún objeto o clase en particular.\n",
    "\n",
    "- **Método**: Es similar a una función, pero está asociado a un objeto o clase. Los métodos son funciones que pertenecen a un objeto y se invocan sobre instancias de ese objeto, lo que significa que tienen acceso a los atributos y otros métodos del objeto.\n",
    "\n",
    "#### b. Métodos de los objetos `str`\n",
    "\n",
    "El objeto `str` en Python representa cadenas de texto y es uno de los tipos de datos más utilizados en la programación. Las cadenas en Python son **objetos inmutables**, lo que significa que una vez creadas, no pueden ser modificadas. Sin embargo, Python proporciona una amplia variedad de **métodos** que permiten realizar operaciones sobre las cadenas de texto.\n",
    "\n",
    "A continuación, se describen algunos de los métodos más comunes del objeto `str`, junto con ejemplos de su uso:\n",
    "\n",
    "1. **`str.upper()`**: Convierte todos los caracteres de la cadena a mayúsculas."
   ]
  },
  {
   "cell_type": "code",
   "execution_count": 23,
   "metadata": {},
   "outputs": [
    {
     "name": "stdout",
     "output_type": "stream",
     "text": [
      "HOLA MUNDO\n"
     ]
    }
   ],
   "source": [
    "texto = \"hola mundo\"\n",
    "resultado = texto.upper()\n",
    "print(resultado)"
   ]
  },
  {
   "cell_type": "markdown",
   "metadata": {},
   "source": [
    "2. **`str.lower()`**: Convierte todos los caracteres de la cadena a minúsculas."
   ]
  },
  {
   "cell_type": "code",
   "execution_count": 24,
   "metadata": {},
   "outputs": [
    {
     "name": "stdout",
     "output_type": "stream",
     "text": [
      "hola mundo\n"
     ]
    }
   ],
   "source": [
    "texto = \"HOLA MUNDO\"\n",
    "print(texto.lower()) "
   ]
  },
  {
   "cell_type": "markdown",
   "metadata": {},
   "source": [
    "3. **`str.replace(old, new)`**: Reemplaza todas las ocurrencias de una subcadena (`old`) con otra subcadena (`new`)."
   ]
  },
  {
   "cell_type": "code",
   "execution_count": 25,
   "metadata": {},
   "outputs": [
    {
     "name": "stdout",
     "output_type": "stream",
     "text": [
      "hola Python\n"
     ]
    }
   ],
   "source": [
    "texto = \"hola mundo\"\n",
    "resultado = texto.replace(\"mundo\", \"Python\")\n",
    "print(resultado)"
   ]
  },
  {
   "cell_type": "markdown",
   "metadata": {},
   "source": [
    "4. **`str.startswith(prefix)`**: Verifica si la cadena comienza con el prefijo especificado y devuelve `True` o `False`."
   ]
  },
  {
   "cell_type": "code",
   "execution_count": 26,
   "metadata": {},
   "outputs": [
    {
     "name": "stdout",
     "output_type": "stream",
     "text": [
      "True\n"
     ]
    }
   ],
   "source": [
    "texto = \"hola mundo\"\n",
    "print(texto.startswith(\"hola\"))"
   ]
  }
 ],
 "metadata": {
  "kernelspec": {
   "display_name": ".env",
   "language": "python",
   "name": "python3"
  },
  "language_info": {
   "codemirror_mode": {
    "name": "ipython",
    "version": 3
   },
   "file_extension": ".py",
   "mimetype": "text/x-python",
   "name": "python",
   "nbconvert_exporter": "python",
   "pygments_lexer": "ipython3",
   "version": "3.12.7"
  }
 },
 "nbformat": 4,
 "nbformat_minor": 2
}
