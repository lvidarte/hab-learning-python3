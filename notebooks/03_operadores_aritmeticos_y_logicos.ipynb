{
 "cells": [
  {
   "cell_type": "markdown",
   "metadata": {},
   "source": [
    "# Clase 3: Operadores en Python\n",
    "\n",
    "## Módulo 1: Operadores aritméticos y lógicos\n",
    "\n",
    "### 1. Operadores aritméticos\n",
    "\n",
    "Los operadores aritméticos se utilizan para realizar operaciones matemáticas comunes como suma, resta, multiplicación, etc.\n",
    "\n",
    "#### Ejemplos de operadores aritméticos:\n",
    "\n",
    "| Operador | Operación | Ejemplo |\n",
    "| -------- | --------- | ------- |\n",
    "| `+` | Suma | `x + y` |\n",
    "| `-` | Resta | `x - y` |\n",
    "| `*` | Multiplicación | `x * y` |\n",
    "| `/` | División (devuelve un valor `float`) | `x / y` |\n",
    "| `//` | División entera (descarta la parte decimal) | `x // y` |\n",
    "| `%` | Módulo (devuelve el resto de la división) | `x % y` |\n",
    "| `**` | Potencia | `x ** y` |\n",
    "\n",
    "\n",
    "##### Ejemplo:"
   ]
  },
  {
   "cell_type": "code",
   "execution_count": 1,
   "metadata": {},
   "outputs": [
    {
     "name": "stdout",
     "output_type": "stream",
     "text": [
      "Suma: 13\n",
      "Resta: 7\n",
      "Multiplicación: 30\n",
      "División: 3.3333333333333335\n",
      "División entera: 3\n",
      "Módulo: 1\n",
      "Potencia: 1000\n"
     ]
    }
   ],
   "source": [
    "a = 10\n",
    "b = 3\n",
    "\n",
    "print(\"Suma:\", a + b)  # Suma\n",
    "print(\"Resta:\", a - b)  # Resta\n",
    "print(\"Multiplicación:\", a * b)  # Multiplicación\n",
    "print(\"División:\", a / b)  # División\n",
    "print(\"División entera:\", a // b)  # División entera\n",
    "print(\"Módulo:\", a % b)  # Módulo\n",
    "print(\"Potencia:\", a ** b)  # Potencia"
   ]
  },
  {
   "cell_type": "markdown",
   "metadata": {},
   "source": [
    "#### Ejercicio práctico:\n",
    "\n",
    "Define dos variables de tipo `float` y aplica todos los operadores aritméticos mencionados."
   ]
  },
  {
   "cell_type": "code",
   "execution_count": null,
   "metadata": {},
   "outputs": [],
   "source": []
  },
  {
   "cell_type": "markdown",
   "metadata": {},
   "source": [
    "## 2. Operadores lógicos\n",
    "\n",
    "### Operadores lógicos\n",
    "\n",
    "Los operadores lógicos permiten realizar operaciones que resultan en valores booleanos (`True` o `False`).\n",
    "\n",
    "#### Ejemplos de operadores lógicos:\n",
    "\n",
    "- **and**: Devuelve `True` si ambas condiciones son verdaderas.\n",
    "- **or**: Devuelve `True` si al menos una de las condiciones es verdadera.\n",
    "- **not**: Devuelve `True` si la condición es falsa y viceversa.\n",
    "\n",
    "##### Ejemplo:"
   ]
  },
  {
   "cell_type": "code",
   "execution_count": 7,
   "metadata": {},
   "outputs": [
    {
     "name": "stdout",
     "output_type": "stream",
     "text": [
      "x and y: False\n",
      "x or y: True\n",
      "not x: False\n"
     ]
    }
   ],
   "source": [
    "x = True\n",
    "y = False\n",
    "\n",
    "print(\"x and y:\", x and y)  # Devuelve False\n",
    "print(\"x or y:\", x or y)  # Devuelve True\n",
    "print(\"not x:\", not x)  # Devuelve False"
   ]
  },
  {
   "cell_type": "markdown",
   "metadata": {},
   "source": [
    "#### Ejercicio práctico:\n",
    "\n",
    "Crea un programa que defina tres variables booleanas y aplique los operadores lógicos `and`, `or` y `not`, mostrando los resultados."
   ]
  },
  {
   "cell_type": "code",
   "execution_count": null,
   "metadata": {},
   "outputs": [],
   "source": []
  },
  {
   "cell_type": "markdown",
   "metadata": {},
   "source": [
    "---\n",
    "\n",
    "## Módulo 2: Operadores de comparación\n",
    "\n",
    "### 1. Operadores de comparación\n",
    "\n",
    "Los operadores de comparación comparan dos valores y devuelven `True` o `False` según la condición.\n",
    "\n",
    "#### Ejemplos de operadores de comparación:\n",
    "\n",
    "- **Igual a (==)**: Verifica si dos valores son iguales.\n",
    "- **Distinto de (!=)**: Verifica si dos valores son diferentes.\n",
    "- **Mayor que (>)**: Verifica si el valor de la izquierda es mayor que el de la derecha.\n",
    "- **Menor que (<)**: Verifica si el valor de la izquierda es menor que el de la derecha.\n",
    "- **Mayor o igual que (>=)**: Verifica si el valor de la izquierda es mayor o igual que el de la derecha.\n",
    "- **Menor o igual que (<=)**: Verifica si el valor de la izquierda es menor o igual que el de la derecha.\n",
    "\n",
    "##### Ejemplo:"
   ]
  },
  {
   "cell_type": "code",
   "execution_count": 1,
   "metadata": {},
   "outputs": [
    {
     "name": "stdout",
     "output_type": "stream",
     "text": [
      "a == b: False\n",
      "a != b: True\n",
      "a > b: False\n",
      "a < b: True\n",
      "a >= b: False\n",
      "a <= b: True\n"
     ]
    }
   ],
   "source": [
    "a = 5\n",
    "b = 10\n",
    "\n",
    "print(\"a == b:\", a == b)  # Devuelve False\n",
    "print(\"a != b:\", a != b)  # Devuelve True\n",
    "print(\"a > b:\", a > b)  # Devuelve False\n",
    "print(\"a < b:\", a < b)  # Devuelve True\n",
    "print(\"a >= b:\", a >= b)  # Devuelve False\n",
    "print(\"a <= b:\", a <= b)  # Devuelve True"
   ]
  },
  {
   "cell_type": "markdown",
   "metadata": {},
   "source": [
    "#### Ejercicio práctico:\n",
    "\n",
    "Escribe un programa que solicite al usuario dos números y luego aplique todos los operadores de comparación, mostrando los resultados."
   ]
  },
  {
   "cell_type": "code",
   "execution_count": null,
   "metadata": {},
   "outputs": [],
   "source": []
  },
  {
   "cell_type": "markdown",
   "metadata": {},
   "source": [
    "## 2. Uso combinado de operadores\n",
    "\n",
    "### Uso combinado de operadores aritméticos, lógicos y de comparación\n",
    "\n",
    "En Python, puedes combinar operadores para crear expresiones más complejas. Las expresiones lógicas pueden contener operadores de comparación y aritméticos.\n",
    "\n",
    "##### Ejemplo:"
   ]
  },
  {
   "cell_type": "code",
   "execution_count": 2,
   "metadata": {},
   "outputs": [
    {
     "name": "stdout",
     "output_type": "stream",
     "text": [
      "Resultado: True\n",
      "Resultado 2: True\n"
     ]
    }
   ],
   "source": [
    "x = 20\n",
    "y = 15\n",
    "z = 10\n",
    "\n",
    "resultado = (x > y) and (y > z)  # Devuelve True\n",
    "print(\"Resultado:\", resultado)\n",
    "\n",
    "resultado_2 = (x + z > y) or (z - y > x)  # Devuelve True\n",
    "print(\"Resultado 2:\", resultado_2)"
   ]
  },
  {
   "cell_type": "markdown",
   "metadata": {},
   "source": [
    "### Ejercicio práctico:\n",
    "\n",
    "Escribe un programa que combine operadores aritméticos y de comparación, usando también operadores lógicos `and`, `or` o `not`. El programa debe evaluar si una serie de operaciones matemáticas cumplen con una condición específica."
   ]
  },
  {
   "cell_type": "code",
   "execution_count": null,
   "metadata": {},
   "outputs": [],
   "source": []
  }
 ],
 "metadata": {
  "kernelspec": {
   "display_name": ".env",
   "language": "python",
   "name": "python3"
  },
  "language_info": {
   "codemirror_mode": {
    "name": "ipython",
    "version": 3
   },
   "file_extension": ".py",
   "mimetype": "text/x-python",
   "name": "python",
   "nbconvert_exporter": "python",
   "pygments_lexer": "ipython3",
   "version": "3.12.5"
  }
 },
 "nbformat": 4,
 "nbformat_minor": 2
}
