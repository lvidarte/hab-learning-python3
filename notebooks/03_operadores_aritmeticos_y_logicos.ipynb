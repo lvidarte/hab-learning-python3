{
 "cells": [
  {
   "cell_type": "markdown",
   "metadata": {},
   "source": [
    "# Clase 3: Operadores en Python\n",
    "\n",
    "## Módulo 1: Operadores aritméticos y lógicos\n",
    "\n",
    "### 1. Operadores aritméticos\n",
    "\n",
    "Los operadores aritméticos se utilizan para realizar operaciones matemáticas comunes como suma, resta, multiplicación, etc.\n",
    "\n",
    "| Operador | Operación | Ejemplo |\n",
    "| -------- | --------- | ------- |\n",
    "| `+` | Suma | `x + y` |\n",
    "| `-` | Resta | `x - y` |\n",
    "| `*` | Multiplicación | `x * y` |\n",
    "| `/` | División (devuelve un valor `float`) | `x / y` |\n",
    "| `//` | División entera (descarta la parte decimal) | `x // y` |\n",
    "| `%` | Módulo (devuelve el resto de la división) | `x % y` |\n",
    "| `**` | Potencia | `x ** y` |\n",
    "\n",
    "\n",
    "#### a. Python como una calculadora"
   ]
  },
  {
   "cell_type": "code",
   "execution_count": 16,
   "metadata": {},
   "outputs": [
    {
     "data": {
      "text/plain": [
       "15"
      ]
     },
     "execution_count": 16,
     "metadata": {},
     "output_type": "execute_result"
    }
   ],
   "source": [
    "# Suma\n",
    "10 + 5"
   ]
  },
  {
   "cell_type": "code",
   "execution_count": 21,
   "metadata": {},
   "outputs": [
    {
     "data": {
      "text/plain": [
       "0.9"
      ]
     },
     "execution_count": 21,
     "metadata": {},
     "output_type": "execute_result"
    }
   ],
   "source": [
    "# Resta\n",
    "1 - 0.1"
   ]
  },
  {
   "cell_type": "code",
   "execution_count": 22,
   "metadata": {},
   "outputs": [
    {
     "data": {
      "text/plain": [
       "20"
      ]
     },
     "execution_count": 22,
     "metadata": {},
     "output_type": "execute_result"
    }
   ],
   "source": [
    "# Multiplicación\n",
    "10 * 2"
   ]
  },
  {
   "cell_type": "code",
   "execution_count": 23,
   "metadata": {},
   "outputs": [
    {
     "data": {
      "text/plain": [
       "0.6666666666666666"
      ]
     },
     "execution_count": 23,
     "metadata": {},
     "output_type": "execute_result"
    }
   ],
   "source": [
    "# División\n",
    "2 / 3"
   ]
  },
  {
   "cell_type": "code",
   "execution_count": 24,
   "metadata": {},
   "outputs": [
    {
     "data": {
      "text/plain": [
       "3"
      ]
     },
     "execution_count": 24,
     "metadata": {},
     "output_type": "execute_result"
    }
   ],
   "source": [
    "# División entera\n",
    "10 // 3"
   ]
  },
  {
   "cell_type": "code",
   "execution_count": 25,
   "metadata": {},
   "outputs": [
    {
     "data": {
      "text/plain": [
       "1"
      ]
     },
     "execution_count": 25,
     "metadata": {},
     "output_type": "execute_result"
    }
   ],
   "source": [
    "# Módulo (resto de la división)\n",
    "9 % 2"
   ]
  },
  {
   "cell_type": "code",
   "execution_count": 26,
   "metadata": {},
   "outputs": [
    {
     "data": {
      "text/plain": [
       "9"
      ]
     },
     "execution_count": 26,
     "metadata": {},
     "output_type": "execute_result"
    }
   ],
   "source": [
    "# Exponente\n",
    "3 ** 2"
   ]
  },
  {
   "cell_type": "markdown",
   "metadata": {},
   "source": [
    "#### b. Uso de variables"
   ]
  },
  {
   "cell_type": "code",
   "execution_count": 27,
   "metadata": {},
   "outputs": [
    {
     "name": "stdout",
     "output_type": "stream",
     "text": [
      "Suma: 13\n",
      "Resta: 7\n",
      "Multiplicación: 30\n",
      "División: 3.3333333333333335\n",
      "División entera: 3\n",
      "Módulo: 1\n",
      "Exponente: 1000\n"
     ]
    }
   ],
   "source": [
    "a = 10\n",
    "b = 3\n",
    "\n",
    "print(\"Suma:\", a + b)\n",
    "print(\"Resta:\", a - b)\n",
    "print(\"Multiplicación:\", a * b)\n",
    "print(\"División:\", a / b)\n",
    "print(\"División entera:\", a // b)\n",
    "print(\"Módulo:\", a % b)\n",
    "print(\"Exponente:\", a ** b)"
   ]
  },
  {
   "cell_type": "markdown",
   "metadata": {},
   "source": [
    "#### c. Ejercicio práctico\n",
    "\n",
    "Define dos variables de tipo `float` y aplica todos los operadores aritméticos mencionados."
   ]
  },
  {
   "cell_type": "code",
   "execution_count": null,
   "metadata": {},
   "outputs": [],
   "source": []
  },
  {
   "cell_type": "markdown",
   "metadata": {},
   "source": [
    "### 2. Operadores lógicos\n",
    "\n",
    "Los operadores lógicos permiten realizar operaciones que resultan en valores booleanos (`True` o `False`).\n",
    "\n",
    "- **and**: Devuelve `True` si ambas condiciones son verdaderas.\n",
    "- **or**: Devuelve `True` si al menos una de las condiciones es verdadera.\n",
    "- **not**: Devuelve `True` si la condición es falsa y viceversa.\n",
    "\n",
    "#### a. Pruebas booleanas"
   ]
  },
  {
   "cell_type": "code",
   "execution_count": 28,
   "metadata": {},
   "outputs": [
    {
     "data": {
      "text/plain": [
       "True"
      ]
     },
     "execution_count": 28,
     "metadata": {},
     "output_type": "execute_result"
    }
   ],
   "source": [
    "True and True"
   ]
  },
  {
   "cell_type": "code",
   "execution_count": 29,
   "metadata": {},
   "outputs": [
    {
     "data": {
      "text/plain": [
       "False"
      ]
     },
     "execution_count": 29,
     "metadata": {},
     "output_type": "execute_result"
    }
   ],
   "source": [
    "True and False"
   ]
  },
  {
   "cell_type": "code",
   "execution_count": 30,
   "metadata": {},
   "outputs": [
    {
     "data": {
      "text/plain": [
       "True"
      ]
     },
     "execution_count": 30,
     "metadata": {},
     "output_type": "execute_result"
    }
   ],
   "source": [
    "True or True"
   ]
  },
  {
   "cell_type": "code",
   "execution_count": 31,
   "metadata": {},
   "outputs": [
    {
     "data": {
      "text/plain": [
       "True"
      ]
     },
     "execution_count": 31,
     "metadata": {},
     "output_type": "execute_result"
    }
   ],
   "source": [
    "True or False"
   ]
  },
  {
   "cell_type": "code",
   "execution_count": 32,
   "metadata": {},
   "outputs": [
    {
     "data": {
      "text/plain": [
       "False"
      ]
     },
     "execution_count": 32,
     "metadata": {},
     "output_type": "execute_result"
    }
   ],
   "source": [
    "not True"
   ]
  },
  {
   "cell_type": "code",
   "execution_count": 33,
   "metadata": {},
   "outputs": [
    {
     "data": {
      "text/plain": [
       "True"
      ]
     },
     "execution_count": 33,
     "metadata": {},
     "output_type": "execute_result"
    }
   ],
   "source": [
    "not False"
   ]
  },
  {
   "cell_type": "markdown",
   "metadata": {},
   "source": [
    "#### b. Uso de variables"
   ]
  },
  {
   "cell_type": "code",
   "execution_count": 34,
   "metadata": {},
   "outputs": [
    {
     "name": "stdout",
     "output_type": "stream",
     "text": [
      "x and y: False\n",
      "x or y: True\n",
      "not x: False\n"
     ]
    }
   ],
   "source": [
    "x = True\n",
    "y = False\n",
    "\n",
    "print(\"x and y:\", x and y)\n",
    "print(\"x or y:\", x or y)\n",
    "print(\"not x:\", not x)"
   ]
  },
  {
   "cell_type": "markdown",
   "metadata": {},
   "source": [
    "#### c. Ejercicio práctico\n",
    "\n",
    "Crea un programa que defina tres variables booleanas y aplique los operadores lógicos `and`, `or` y `not`, mostrando los resultados."
   ]
  },
  {
   "cell_type": "code",
   "execution_count": null,
   "metadata": {},
   "outputs": [],
   "source": []
  },
  {
   "cell_type": "markdown",
   "metadata": {},
   "source": [
    "---\n",
    "\n",
    "## Módulo 2: Operadores de comparación\n",
    "\n",
    "### 1. Operadores de comparación\n",
    "\n",
    "Los operadores de comparación evalúan dos valores y devuelven `True` o `False` según la condición.\n",
    "\n",
    "- **Igual a (==)**: Verifica si dos valores son iguales.\n",
    "- **Distinto de (!=)**: Verifica si dos valores son diferentes.\n",
    "- **Mayor que (>)**: Verifica si el valor de la izquierda es mayor que el de la derecha.\n",
    "- **Menor que (<)**: Verifica si el valor de la izquierda es menor que el de la derecha.\n",
    "- **Mayor o igual que (>=)**: Verifica si el valor de la izquierda es mayor o igual que el de la derecha.\n",
    "- **Menor o igual que (<=)**: Verifica si el valor de la izquierda es menor o igual que el de la derecha.\n",
    "\n",
    "#### a. Uso con variables"
   ]
  },
  {
   "cell_type": "code",
   "execution_count": 35,
   "metadata": {},
   "outputs": [
    {
     "name": "stdout",
     "output_type": "stream",
     "text": [
      "a == b: False\n",
      "a != b: True\n",
      "a > b: False\n",
      "a < b: True\n",
      "a >= b: False\n",
      "a <= b: True\n"
     ]
    }
   ],
   "source": [
    "a = 5\n",
    "b = 10\n",
    "\n",
    "print(\"a == b:\", a == b)  # Devuelve False\n",
    "print(\"a != b:\", a != b)  # Devuelve True\n",
    "print(\"a > b:\", a > b)  # Devuelve False\n",
    "print(\"a < b:\", a < b)  # Devuelve True\n",
    "print(\"a >= b:\", a >= b)  # Devuelve False\n",
    "print(\"a <= b:\", a <= b)  # Devuelve True"
   ]
  },
  {
   "cell_type": "markdown",
   "metadata": {},
   "source": [
    "#### b. Ejercicio práctico\n",
    "\n",
    "Escribe un programa que solicite al usuario dos números y luego aplique todos los operadores de comparación, mostrando los resultados."
   ]
  },
  {
   "cell_type": "code",
   "execution_count": null,
   "metadata": {},
   "outputs": [],
   "source": []
  },
  {
   "cell_type": "markdown",
   "metadata": {},
   "source": [
    "### 2. Uso combinado de operadores\n",
    "\n",
    "En Python, puedes combinar operadores para crear expresiones más complejas. Las expresiones lógicas pueden contener operadores de comparación y aritméticos.\n",
    "\n",
    "#### a. Ejemplo de uso combinado de operadores aritméticos, lógicos y de comparación"
   ]
  },
  {
   "cell_type": "code",
   "execution_count": 36,
   "metadata": {},
   "outputs": [
    {
     "name": "stdout",
     "output_type": "stream",
     "text": [
      "Resultado: True\n",
      "Resultado 2: True\n"
     ]
    }
   ],
   "source": [
    "x = 20\n",
    "y = 15\n",
    "z = 10\n",
    "\n",
    "resultado = (x > y) and (y > z)  # Devuelve True\n",
    "print(\"Resultado:\", resultado)\n",
    "\n",
    "resultado_2 = (x + z > y) or (z - y > x)  # Devuelve True\n",
    "print(\"Resultado 2:\", resultado_2)"
   ]
  },
  {
   "cell_type": "markdown",
   "metadata": {},
   "source": [
    "#### b. Precedencia de operadores en Python\n",
    "\n",
    "En Python, los operadores de comparación y lógicos tienen un **orden de precedencia** que determina cómo se evalúan en expresiones complejas. Conocer este orden es fundamental para evitar errores lógicos en los programas.\n",
    "\n",
    "1. **Paréntesis `()`** – Agrupan expresiones para modificar la precedencia.\n",
    "2. **Exponentiación `**`** – Tiene la mayor precedencia después de los paréntesis.\n",
    "3. **Negación `-` (unario)**\n",
    "4. **Multiplicación `*`, División `/`, División entera `//`, Módulo `%`**\n",
    "5. **Suma `+`, Resta `-`**\n",
    "6. **Operadores de comparación** (`<`, `<=`, `>`, `>=`, `==`, `!=`)\n",
    "7. **Operadores lógicos**:\n",
    "   - **NOT** (`not`) – Negación lógica (precedencia más alta entre lógicos).\n",
    "   - **AND** (`and`) – Evaluación lógica condicional.\n",
    "   - **OR** (`or`) – Evaluación lógica condicional (precedencia más baja).\n",
    "\n",
    "##### c. Ejemplos"
   ]
  },
  {
   "cell_type": "code",
   "execution_count": 37,
   "metadata": {},
   "outputs": [],
   "source": [
    "x = 5\n",
    "y = 10\n",
    "z = 15"
   ]
  },
  {
   "cell_type": "code",
   "execution_count": 38,
   "metadata": {},
   "outputs": [
    {
     "name": "stdout",
     "output_type": "stream",
     "text": [
      "True\n"
     ]
    }
   ],
   "source": [
    "result = x < y and y < z  # True, se evalúa de izquierda a derecha\n",
    "print(result)"
   ]
  },
  {
   "cell_type": "code",
   "execution_count": 39,
   "metadata": {},
   "outputs": [
    {
     "name": "stdout",
     "output_type": "stream",
     "text": [
      "True\n"
     ]
    }
   ],
   "source": [
    "print(x < y < z) # Pythonic"
   ]
  },
  {
   "cell_type": "code",
   "execution_count": 40,
   "metadata": {},
   "outputs": [
    {
     "name": "stdout",
     "output_type": "stream",
     "text": [
      "False\n"
     ]
    }
   ],
   "source": [
    "result = not (x < y and y < z)  # False, se niega el resultado final\n",
    "print(result)"
   ]
  },
  {
   "cell_type": "code",
   "execution_count": 41,
   "metadata": {},
   "outputs": [
    {
     "name": "stdout",
     "output_type": "stream",
     "text": [
      "True\n"
     ]
    }
   ],
   "source": [
    "result = x + 2 * y > z # True, primero se evalúa la multiplicación (2 * y), luego la suma\n",
    "print(result)"
   ]
  },
  {
   "cell_type": "code",
   "execution_count": 42,
   "metadata": {},
   "outputs": [
    {
     "name": "stdout",
     "output_type": "stream",
     "text": [
      "True\n"
     ]
    }
   ],
   "source": [
    "result = (x + 2) * y > z  # True, paréntesis altera la precedencia\n",
    "print(result)"
   ]
  },
  {
   "cell_type": "markdown",
   "metadata": {},
   "source": [
    "#### d. Ejercicio práctico\n",
    "\n",
    "Escribe un programa en Python que realice las siguientes tareas:\n",
    "\n",
    "1. Solicita al usuario que ingrese dos números.\n",
    "2. Utiliza operadores aritméticos para calcular la suma y la diferencia de esos números.\n",
    "3. Evalúa las siguientes condiciones utilizando operadores de comparación y lógicos (`and`, `or`, `not`):\n",
    "   - Comprueba si la suma de los dos números es mayor que 10 **y** si la diferencia es menor que 5.\n",
    "   - Alternativamente, verifica si la suma es menor o igual a 10 **o** si la diferencia es mayor o igual a 5.\n",
    "4. Muestra un mensaje que indique si se cumplen o no, las condiciones evaluadas en el paso anterior."
   ]
  },
  {
   "cell_type": "code",
   "execution_count": null,
   "metadata": {},
   "outputs": [],
   "source": []
  }
 ],
 "metadata": {
  "kernelspec": {
   "display_name": ".env",
   "language": "python",
   "name": "python3"
  },
  "language_info": {
   "codemirror_mode": {
    "name": "ipython",
    "version": 3
   },
   "file_extension": ".py",
   "mimetype": "text/x-python",
   "name": "python",
   "nbconvert_exporter": "python",
   "pygments_lexer": "ipython3",
   "version": "3.12.7"
  }
 },
 "nbformat": 4,
 "nbformat_minor": 2
}
