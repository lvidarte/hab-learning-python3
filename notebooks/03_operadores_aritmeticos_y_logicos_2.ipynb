{
 "cells": [
  {
   "cell_type": "markdown",
   "metadata": {},
   "source": [
    "# Operadores en Python - Material complementario\n",
    "\n",
    "### 1. ¿Qué es un operador?\n",
    "\n",
    "En programación, un **operador** es un *símbolo o palabra reservada* que indica una operación específica a realizar sobre uno o más valores (llamados **operandos**). Los operadores permiten realizar cálculos matemáticos, comparar valores, manipular datos, realizar operaciones lógicas, y más. Python, como muchos otros lenguajes de programación, incluye diversos tipos de operadores para trabajar con distintos tipos de datos y realizar operaciones comunes.\n",
    "\n",
    "### 2. Clasificación de operadores en Python (y en otros lenguajes)\n",
    "\n",
    "#### a. **Operadores aritméticos**\n",
    "   - Realizan operaciones matemáticas básicas, como suma, resta, multiplicación y división.\n",
    "   - Ejemplos en Python: `+`, `-`, `*`, `/`, `%` (módulo), `**` (potencia), `//` (división entera).\n",
    "\n",
    "#### b. **Operadores de comparación o relacionales**\n",
    "   - Comparan dos valores y devuelven un valor booleano (`True` o `False`) indicando si la comparación es verdadera.\n",
    "   - Ejemplos en Python: `==` (igualdad), `!=` (desigualdad), `<`, `<=`, `>`, `>=`.\n",
    "\n",
    "#### c. **Operadores lógicos**\n",
    "   - Permiten construir expresiones lógicas y combinar valores booleanos.\n",
    "   - Ejemplos en Python: `and`, `or`, `not`.\n",
    "\n",
    "#### d. **Operadores de asignación**\n",
    "   - Asignan valores a variables. En Python, el operador de asignación simple es `=`, pero existen operadores compuestos que combinan la asignación con una operación.\n",
    "   - Ejemplos: `=`, `+=`, `-=`, `*=`, `/=`, etc.\n",
    "\n",
    "#### e. **Operadores de bits**\n",
    "   - Operan a nivel de bits entre valores enteros, permitiendo realizar desplazamientos y comparaciones directas de los bits.\n",
    "   - Ejemplos en Python: `&` (AND bit a bit), `|` (OR bit a bit), `^` (XOR bit a bit), `~` (complemento a nivel de bits), `<<` (desplazamiento a la izquierda), `>>` (desplazamiento a la derecha).\n",
    "\n",
    "#### f. **Operadores de pertenencia**\n",
    "   - Verifican si un valor está presente dentro de una colección (listas, cadenas, etc.).\n",
    "   - Ejemplos en Python: `in`, `not in`.\n",
    "\n",
    "#### f. **Operadores de identidad**\n",
    "   - Verifican si dos variables apuntan al mismo objeto en memoria.\n",
    "   - Ejemplos en Python: `is`, `is not`.\n",
    "\n",
    "### 3. Ejemplo en Python\n",
    "\n",
    "En una expresión como:\n",
    "\n",
    "```python\n",
    "a = 5\n",
    "b = 10\n",
    "c = a + b\n",
    "```\n",
    "\n",
    "- El operador de asignación `=` asigna a `a` el valor `5`.\n",
    "- El operador `+` suma `a` y `b`.\n",
    "- Otro operador de asignación `=` asigna a `c` el resultado de la suma.\n",
    "\n",
    "### 4. Importancia de los Operadores\n",
    "Los operadores son esenciales porque permiten realizar transformaciones y cálculos con los datos de una manera simple y eficiente. Facilitan tareas complejas, desde matemáticas básicas hasta manipulaciones avanzadas de datos, y constituyen una parte fundamental de la lógica en la programación."
   ]
  },
  {
   "cell_type": "markdown",
   "metadata": {},
   "source": [
    "---\n",
    "\n",
    "### 2. Palabras reservadas\n",
    "\n",
    "En Python, las **[palabras reservadas](https://docs.python.org/es/3/reference/lexical_analysis.html#keywords)** son términos que tienen un significado especial y están predefinidos en el lenguaje. Estas palabras no pueden usarse como identificadores (nombres de variables, funciones, clases, etc.), ya que tienen un propósito específico en la estructura y sintaxis del código. Cada palabra reservada está asociada a una funcionalidad particular, como el control de flujo, la definición de estructuras, la lógica booleana, o la gestión de excepciones.\n",
    "\n",
    "<table>\n",
    "    <tr>\n",
    "        <td>False</td>\n",
    "        <td>await</td>\n",
    "        <td>else</td>\n",
    "        <td>import</td>\n",
    "        <td>pass</td>\n",
    "    </tr>\n",
    "    <tr>\n",
    "        <td>None</td>\n",
    "        <td>break</td>\n",
    "        <td>except</td>\n",
    "        <td><span style=\"color:red\">in</span></td>\n",
    "        <td>raise</td>\n",
    "    </tr>\n",
    "    <tr>\n",
    "        <td>True</td>\n",
    "        <td>class</td>\n",
    "        <td>finally</td>\n",
    "        <td><span style=\"color:red\">is</span></td>\n",
    "        <td>return</td>\n",
    "    </tr>\n",
    "    <tr>\n",
    "        <td><span style=\"color:red\">and</span></td>\n",
    "        <td>continue</td>\n",
    "        <td>for</td>\n",
    "        <td>lambda</td>\n",
    "        <td>try</td>\n",
    "    </tr>\n",
    "    <tr>\n",
    "        <td>as</td>\n",
    "        <td>def</td>\n",
    "        <td>from</td>\n",
    "        <td>nonlocal</td>\n",
    "        <td>while</td>\n",
    "    </tr>\n",
    "    <tr>\n",
    "        <td>assert</td>\n",
    "        <td>del</td>\n",
    "        <td>global</td>\n",
    "        <td><span style=\"color:red\">not</span></td>\n",
    "        <td>with</td>\n",
    "    </tr>\n",
    "    <tr>\n",
    "        <td>async</td>\n",
    "        <td>elif</td>\n",
    "        <td>if</td>\n",
    "        <td><span style=\"color:red\">or</span></td>\n",
    "        <td>yield</td>\n",
    "    </tr>\n",
    "</table>\n",
    "\n",
    "#### a. Error al usar palabras reservadas"
   ]
  },
  {
   "cell_type": "code",
   "execution_count": 1,
   "metadata": {},
   "outputs": [
    {
     "ename": "SyntaxError",
     "evalue": "invalid syntax (3305041997.py, line 1)",
     "output_type": "error",
     "traceback": [
      "\u001b[0;36m  Cell \u001b[0;32mIn[1], line 1\u001b[0;36m\u001b[0m\n\u001b[0;31m    class = 10\u001b[0m\n\u001b[0m          ^\u001b[0m\n\u001b[0;31mSyntaxError\u001b[0m\u001b[0;31m:\u001b[0m invalid syntax\n"
     ]
    }
   ],
   "source": [
    "class = 10"
   ]
  },
  {
   "cell_type": "code",
   "execution_count": 3,
   "metadata": {},
   "outputs": [
    {
     "ename": "SyntaxError",
     "evalue": "invalid syntax (802449873.py, line 1)",
     "output_type": "error",
     "traceback": [
      "\u001b[0;36m  Cell \u001b[0;32mIn[3], line 1\u001b[0;36m\u001b[0m\n\u001b[0;31m    def lambda():\u001b[0m\n\u001b[0m        ^\u001b[0m\n\u001b[0;31mSyntaxError\u001b[0m\u001b[0;31m:\u001b[0m invalid syntax\n"
     ]
    }
   ],
   "source": [
    "def lambda():\n",
    "    pass"
   ]
  },
  {
   "cell_type": "markdown",
   "metadata": {},
   "source": [
    "---\n",
    "\n",
    "### 3. Precedencia de operadores\n",
    "\n",
    "En Python, la **precedencia de operadores** determina el orden en el cual se evalúan las expresiones cuando se combinan varios operadores. Los operadores de mayor precedencia se evalúan antes que los de menor precedencia. Así se organizan en Python, desde los de mayor a menor prioridad:\n",
    "\n",
    "1. **Operadores de paréntesis `()`**\n",
    "   - Los paréntesis tienen la precedencia más alta y se usan para agrupar expresiones, asegurando que las operaciones dentro de ellos se realicen primero.\n",
    "   - Ejemplo: `2 * (3 + 4)` evalúa `3 + 4` primero.\n",
    "\n",
    "2. **Operadores de potencia `**`**\n",
    "   - La potencia se evalúa después de los paréntesis.\n",
    "   - Ejemplo: `2 ** 3` da `8`.\n",
    "\n",
    "3. **Operadores unarios `+x`, `-x`, `~x`**\n",
    "   - Cambian el valor de una variable numérica (`+` para positivo, `-` para negativo y `~` para su complemento a nivel de bits).\n",
    "   - Ejemplo: `-5` o `+3`.\n",
    "\n",
    "4. **Multiplicación, división, división entera y módulo `*`, `/`, `//`, `%`**\n",
    "   - Estos operadores tienen la misma precedencia y se evalúan de izquierda a derecha.\n",
    "   - Ejemplo: `10 / 5 * 2` evalúa `10 / 5` primero.\n",
    "\n",
    "5. **Suma y resta `+`, `-`**\n",
    "   - La suma y la resta también se evalúan de izquierda a derecha.\n",
    "   - Ejemplo: `5 + 3 - 2` evalúa `5 + 3` primero.\n",
    "\n",
    "6. **Operadores de desplazamiento de bits `<<`, `>>`**\n",
    "   - Son operadores para desplazar bits a la izquierda o derecha.\n",
    "   - Ejemplo: `4 << 1` (desplaza los bits de `4` a la izquierda).\n",
    "\n",
    "7. **Operadores de comparación `<`, `<=`, `>`, `>=`**\n",
    "   - Comparan dos valores numéricos, retornando `True` o `False`.\n",
    "   - Ejemplo: `5 < 3` da `False`.\n",
    "\n",
    "8. **Igualdad y desigualdad `==`, `!=`**\n",
    "   - Comparan si dos valores son iguales o diferentes.\n",
    "   - Ejemplo: `5 == 5` da `True`.\n",
    "\n",
    "9. **Operadores bit a bit `&`, `^`, `|`**\n",
    "   - Operan a nivel de bits entre números enteros.\n",
    "   - Ejemplo: `5 & 3` hace una comparación bit a bit.\n",
    "\n",
    "10. **Operadores lógicos `not`, `and`, `or`**\n",
    "   - La precedencia entre operadores lógicos es la siguiente: `not` es el de mayor prioridad, seguido por `and` y luego `or`.\n",
    "   - Ejemplo: `True and False or True` evalúa `True and False` primero.\n",
    "\n",
    "11. **Operador de asignación y operadores compuestos `=`, `+=`, `-=`, `*=`, `/=`, etc.**\n",
    "   - Estos operadores se usan para asignar valores a las variables y tienen la precedencia más baja.\n",
    "   - Ejemplo: `x = 5` asigna `5` a `x`.\n",
    "\n",
    "\n",
    "#### a. TIP: Ante la duda, usar paréntesis\n",
    "\n",
    "En caso de duda, **es útil utilizar paréntesis** para especificar el orden deseado de evaluación, aunque no siempre sean necesarios. Esto mejora la legibilidad del código y evita confusiones en operaciones complejas.\n",
    "\n",
    "#### b Ejemplo de encadenamiento de operadores"
   ]
  },
  {
   "cell_type": "code",
   "execution_count": 10,
   "metadata": {},
   "outputs": [
    {
     "data": {
      "text/plain": [
       "17.0"
      ]
     },
     "execution_count": 10,
     "metadata": {},
     "output_type": "execute_result"
    }
   ],
   "source": [
    "10 + 5 * 2 - 3 / 1 ** 2"
   ]
  },
  {
   "cell_type": "markdown",
   "metadata": {},
   "source": [
    "\n",
    "**Evaluación Paso a Paso**:\n",
    "   - Primero, evaluamos la potencia: `1 ** 2` resulta en `1`.\n",
    "   - Ahora, la expresión se ve así: `10 + 5 * 2 - 3 / 1`.\n",
    "   - A continuación, evaluamos la multiplicación y la división de izquierda a derecha:\n",
    "     - `5 * 2` resulta en `10`.\n",
    "     - La expresión ahora es: `10 + 10 - 3 / 1`.\n",
    "     - Luego, `3 / 1` resulta en `3.0`.\n",
    "     - La expresión se convierte en: `10 + 10 - 3.0`.\n",
    "   - Finalmente, evaluamos la suma y la resta de izquierda a derecha:\n",
    "     - `10 + 10` resulta en `20`.\n",
    "     - La expresión final es: `20 - 3.0`, que resulta en `17.0`."
   ]
  }
 ],
 "metadata": {
  "kernelspec": {
   "display_name": ".env",
   "language": "python",
   "name": "python3"
  },
  "language_info": {
   "codemirror_mode": {
    "name": "ipython",
    "version": 3
   },
   "file_extension": ".py",
   "mimetype": "text/x-python",
   "name": "python",
   "nbconvert_exporter": "python",
   "pygments_lexer": "ipython3",
   "version": "3.12.7"
  }
 },
 "nbformat": 4,
 "nbformat_minor": 2
}
