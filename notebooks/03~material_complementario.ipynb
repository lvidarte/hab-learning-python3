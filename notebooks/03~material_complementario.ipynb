{
 "cells": [
  {
   "cell_type": "markdown",
   "metadata": {},
   "source": [
    "# Clase 3 - Material complementario\n",
    "\n",
    "### 1. ¿Qué es un operador?\n",
    "\n",
    "En programación, un **operador** es un *símbolo o palabra reservada* que indica una operación específica a realizar sobre uno o más valores (llamados **operandos**). Los operadores permiten realizar cálculos matemáticos, comparar valores, manipular datos, realizar operaciones lógicas, y más. Python, como muchos otros lenguajes de programación, incluye diversos tipos de operadores para trabajar con distintos tipos de datos y realizar operaciones comunes.\n",
    "\n",
    "#### a. Clasificación de operadores en Python (y en otros lenguajes)\n",
    "\n",
    "- **Operadores aritméticos**\n",
    "   - Realizan operaciones matemáticas básicas, como suma, resta, multiplicación y división.\n",
    "   - Ejemplos en Python: `+`, `-`, `*`, `/`, `%` (módulo), `**` (potencia), `//` (división entera).\n",
    "\n",
    "- **Operadores de comparación o relacionales**\n",
    "   - Comparan dos valores y devuelven un valor booleano (`True` o `False`) indicando si la comparación es verdadera.\n",
    "   - Ejemplos en Python: `==` (igualdad), `!=` (desigualdad), `<`, `<=`, `>`, `>=`.\n",
    "\n",
    "- **Operadores lógicos**\n",
    "   - Permiten construir expresiones lógicas y combinar valores booleanos.\n",
    "   - Ejemplos en Python: `and`, `or`, `not`.\n",
    "\n",
    "- **Operadores de asignación**\n",
    "   - Asignan valores a variables. En Python, el operador de asignación simple es `=`, pero existen operadores compuestos que combinan la asignación con una operación.\n",
    "   - Ejemplos: `=`, `+=`, `-=`, `*=`, `/=`, etc.\n",
    "\n",
    "- **Operadores de bits**\n",
    "   - Operan a nivel de bits entre valores enteros, permitiendo realizar desplazamientos y comparaciones directas de los bits.\n",
    "   - Ejemplos en Python: `&` (AND bit a bit), `|` (OR bit a bit), `^` (XOR bit a bit), `~` (complemento a nivel de bits), `<<` (desplazamiento a la izquierda), `>>` (desplazamiento a la derecha).\n",
    "\n",
    "- **Operadores de pertenencia**\n",
    "   - Verifican si un valor está presente dentro de una colección (listas, cadenas, etc.).\n",
    "   - Ejemplos en Python: `in`, `not in`.\n",
    "\n",
    "- **Operadores de identidad**\n",
    "   - Verifican si dos variables apuntan al mismo objeto en memoria.\n",
    "   - Ejemplos en Python: `is`, `is not`.\n",
    "\n",
    "#### b. Ejemplo en Python\n",
    "\n",
    "En una expresión como:\n",
    "\n",
    "```python\n",
    "a = 5\n",
    "b = 10\n",
    "c = a + b\n",
    "```\n",
    "\n",
    "- El operador de asignación `=` asigna a `a` el valor `5`.\n",
    "- El operador `+` suma `a` y `b`.\n",
    "- Otro operador de asignación `=` asigna a `c` el resultado de la suma.\n",
    "\n",
    "#### c. Importancia de los Operadores\n",
    "\n",
    "Los operadores son esenciales porque permiten realizar transformaciones y cálculos con los datos de una manera simple y eficiente. Facilitan tareas complejas, desde matemáticas básicas hasta manipulaciones avanzadas de datos, y constituyen una parte fundamental de la lógica en la programación."
   ]
  },
  {
   "cell_type": "markdown",
   "metadata": {},
   "source": [
    "---\n",
    "\n",
    "### 2. Palabras reservadas\n",
    "\n",
    "En Python, las **[palabras reservadas](https://docs.python.org/es/3/reference/lexical_analysis.html#keywords)** son términos que tienen un significado especial y están predefinidos en el lenguaje. Estas palabras no pueden usarse como identificadores (nombres de variables, funciones, clases, etc.), ya que tienen un propósito específico en la estructura y sintaxis del código. Cada palabra reservada está asociada a una funcionalidad particular, como el control de flujo, la definición de estructuras, la lógica booleana, o la gestión de excepciones.\n",
    "\n",
    "<table>\n",
    "    <tr>\n",
    "        <td>False</td>\n",
    "        <td>await</td>\n",
    "        <td>else</td>\n",
    "        <td>import</td>\n",
    "        <td>pass</td>\n",
    "    </tr>\n",
    "    <tr>\n",
    "        <td>None</td>\n",
    "        <td>break</td>\n",
    "        <td>except</td>\n",
    "        <td><span style=\"color:red\">in</span></td>\n",
    "        <td>raise</td>\n",
    "    </tr>\n",
    "    <tr>\n",
    "        <td>True</td>\n",
    "        <td>class</td>\n",
    "        <td>finally</td>\n",
    "        <td><span style=\"color:red\">is</span></td>\n",
    "        <td>return</td>\n",
    "    </tr>\n",
    "    <tr>\n",
    "        <td><span style=\"color:red\">and</span></td>\n",
    "        <td>continue</td>\n",
    "        <td>for</td>\n",
    "        <td>lambda</td>\n",
    "        <td>try</td>\n",
    "    </tr>\n",
    "    <tr>\n",
    "        <td>as</td>\n",
    "        <td>def</td>\n",
    "        <td>from</td>\n",
    "        <td>nonlocal</td>\n",
    "        <td>while</td>\n",
    "    </tr>\n",
    "    <tr>\n",
    "        <td>assert</td>\n",
    "        <td>del</td>\n",
    "        <td>global</td>\n",
    "        <td><span style=\"color:red\">not</span></td>\n",
    "        <td>with</td>\n",
    "    </tr>\n",
    "    <tr>\n",
    "        <td>async</td>\n",
    "        <td>elif</td>\n",
    "        <td>if</td>\n",
    "        <td><span style=\"color:red\">or</span></td>\n",
    "        <td>yield</td>\n",
    "    </tr>\n",
    "</table>\n",
    "\n",
    "#### a. Error al usar palabras reservadas"
   ]
  },
  {
   "cell_type": "code",
   "execution_count": 1,
   "metadata": {},
   "outputs": [
    {
     "ename": "SyntaxError",
     "evalue": "invalid syntax (3305041997.py, line 1)",
     "output_type": "error",
     "traceback": [
      "\u001b[0;36m  Cell \u001b[0;32mIn[1], line 1\u001b[0;36m\u001b[0m\n\u001b[0;31m    class = 10\u001b[0m\n\u001b[0m          ^\u001b[0m\n\u001b[0;31mSyntaxError\u001b[0m\u001b[0;31m:\u001b[0m invalid syntax\n"
     ]
    }
   ],
   "source": [
    "class = 10"
   ]
  },
  {
   "cell_type": "code",
   "execution_count": 3,
   "metadata": {},
   "outputs": [
    {
     "ename": "SyntaxError",
     "evalue": "invalid syntax (802449873.py, line 1)",
     "output_type": "error",
     "traceback": [
      "\u001b[0;36m  Cell \u001b[0;32mIn[3], line 1\u001b[0;36m\u001b[0m\n\u001b[0;31m    def lambda():\u001b[0m\n\u001b[0m        ^\u001b[0m\n\u001b[0;31mSyntaxError\u001b[0m\u001b[0;31m:\u001b[0m invalid syntax\n"
     ]
    }
   ],
   "source": [
    "def lambda():\n",
    "    pass"
   ]
  },
  {
   "cell_type": "markdown",
   "metadata": {},
   "source": [
    "---\n",
    "\n",
    "### 3. Precedencia de operadores\n",
    "\n",
    "En Python, la **precedencia de operadores** determina el orden en el cual se evalúan las expresiones cuando se combinan varios operadores. Los operadores de mayor precedencia se evalúan antes que los de menor precedencia. Así se organizan en Python, desde los de mayor a menor prioridad:\n",
    "\n",
    "1. **Operadores de paréntesis `()`**\n",
    "   - Los paréntesis tienen la precedencia más alta y se usan para agrupar expresiones, asegurando que las operaciones dentro de ellos se realicen primero.\n",
    "   - Ejemplo: `2 * (3 + 4)` evalúa `3 + 4` primero.\n",
    "\n",
    "2. **Operadores de potencia `**`**\n",
    "   - La potencia se evalúa después de los paréntesis.\n",
    "   - Ejemplo: `2 ** 3` da `8`.\n",
    "\n",
    "3. **Operadores unarios `+x`, `-x`, `~x`**\n",
    "   - Cambian el valor de una variable numérica (`+` para positivo, `-` para negativo y `~` para su complemento a nivel de bits).\n",
    "   - Ejemplo: `-5` o `+3`.\n",
    "\n",
    "4. **Multiplicación, división, división entera y módulo `*`, `/`, `//`, `%`**\n",
    "   - Estos operadores tienen la misma precedencia y se evalúan de izquierda a derecha.\n",
    "   - Ejemplo: `10 / 5 * 2` evalúa `10 / 5` primero.\n",
    "\n",
    "5. **Suma y resta `+`, `-`**\n",
    "   - La suma y la resta también se evalúan de izquierda a derecha.\n",
    "   - Ejemplo: `5 + 3 - 2` evalúa `5 + 3` primero.\n",
    "\n",
    "6. **Operadores de desplazamiento de bits `<<`, `>>`**\n",
    "   - Son operadores para desplazar bits a la izquierda o derecha.\n",
    "   - Ejemplo: `4 << 1` (desplaza los bits de `4` a la izquierda).\n",
    "\n",
    "7. **Operadores de comparación `<`, `<=`, `>`, `>=`**\n",
    "   - Comparan dos valores numéricos, retornando `True` o `False`.\n",
    "   - Ejemplo: `5 < 3` da `False`.\n",
    "\n",
    "8. **Igualdad y desigualdad `==`, `!=`**\n",
    "   - Comparan si dos valores son iguales o diferentes.\n",
    "   - Ejemplo: `5 == 5` da `True`.\n",
    "\n",
    "9. **Operadores bit a bit `&`, `^`, `|`**\n",
    "   - Operan a nivel de bits entre números enteros.\n",
    "   - Ejemplo: `5 & 3` hace una comparación bit a bit.\n",
    "\n",
    "10. **Operadores lógicos `not`, `and`, `or`**\n",
    "   - La precedencia entre operadores lógicos es la siguiente: `not` es el de mayor prioridad, seguido por `and` y luego `or`.\n",
    "   - Ejemplo: `True and False or True` evalúa `True and False` primero.\n",
    "\n",
    "11. **Operador de asignación y operadores compuestos `=`, `+=`, `-=`, `*=`, `/=`, etc.**\n",
    "   - Estos operadores se usan para asignar valores a las variables y tienen la precedencia más baja.\n",
    "   - Ejemplo: `x = 5` asigna `5` a `x`.\n",
    "\n",
    "\n",
    "#### a. TIP: Ante la duda, usar paréntesis\n",
    "\n",
    "En caso de duda, **es útil utilizar paréntesis** para especificar el orden deseado de evaluación, aunque no siempre sean necesarios. Esto mejora la legibilidad del código y evita confusiones en operaciones complejas.\n",
    "\n",
    "#### b Ejemplo de encadenamiento de operadores"
   ]
  },
  {
   "cell_type": "code",
   "execution_count": 10,
   "metadata": {},
   "outputs": [
    {
     "data": {
      "text/plain": [
       "17.0"
      ]
     },
     "execution_count": 10,
     "metadata": {},
     "output_type": "execute_result"
    }
   ],
   "source": [
    "10 + 5 * 2 - 3 / 1 ** 2"
   ]
  },
  {
   "cell_type": "markdown",
   "metadata": {},
   "source": [
    "\n",
    "**Evaluación Paso a Paso**:\n",
    "   - Primero, evaluamos la potencia: `1 ** 2` resulta en `1`.\n",
    "   - Ahora, la expresión se ve así: `10 + 5 * 2 - 3 / 1`.\n",
    "   - A continuación, evaluamos la multiplicación y la división de izquierda a derecha:\n",
    "     - `5 * 2` resulta en `10`.\n",
    "     - La expresión ahora es: `10 + 10 - 3 / 1`.\n",
    "     - Luego, `3 / 1` resulta en `3.0`.\n",
    "     - La expresión se convierte en: `10 + 10 - 3.0`.\n",
    "   - Finalmente, evaluamos la suma y la resta de izquierda a derecha:\n",
    "     - `10 + 10` resulta en `20`.\n",
    "     - La expresión final es: `20 - 3.0`, que resulta en `17.0`."
   ]
  },
  {
   "cell_type": "markdown",
   "metadata": {},
   "source": [
    "---\n",
    "\n",
    "### 4. Representaciones Numéricas en Python\n",
    "\n",
    "Python soporta varias notaciones numéricas para representar y trabajar con distintos sistemas de numeración. Aquí tienes un resumen de las principales notaciones:\n",
    "\n",
    "#### a. Decimal (Base 10)\n",
    "   - Es la notación numérica estándar en la mayoría de los lenguajes de programación.\n",
    "   - No requiere ningún prefijo.\n",
    "   - Puede representar enteros (`int`) y flotantes (`float`)."
   ]
  },
  {
   "cell_type": "code",
   "execution_count": 4,
   "metadata": {},
   "outputs": [
    {
     "data": {
      "text/plain": [
       "123"
      ]
     },
     "execution_count": 4,
     "metadata": {},
     "output_type": "execute_result"
    }
   ],
   "source": [
    "123 # Número entero en decimal"
   ]
  },
  {
   "cell_type": "code",
   "execution_count": 5,
   "metadata": {},
   "outputs": [
    {
     "data": {
      "text/plain": [
       "123.45"
      ]
     },
     "execution_count": 5,
     "metadata": {},
     "output_type": "execute_result"
    }
   ],
   "source": [
    "123.45 # Número decimal con punto flotante"
   ]
  },
  {
   "cell_type": "markdown",
   "metadata": {},
   "source": [
    "#### b. Binario (Base 2)\n",
    "   - Usa el prefijo `0b` o `0B` para indicar binario.\n",
    "   - Solo soporta enteros; no hay notación directa para binarios con decimales."
   ]
  },
  {
   "cell_type": "code",
   "execution_count": 6,
   "metadata": {},
   "outputs": [
    {
     "data": {
      "text/plain": [
       "10"
      ]
     },
     "execution_count": 6,
     "metadata": {},
     "output_type": "execute_result"
    }
   ],
   "source": [
    "0b1010  # Representa el número 10 en decimal"
   ]
  },
  {
   "cell_type": "markdown",
   "metadata": {},
   "source": [
    "#### c. Octal (Base 8)\n",
    "   - Usa el prefijo `0o` o `0O` para indicar octal.\n",
    "   - Solo para enteros."
   ]
  },
  {
   "cell_type": "code",
   "execution_count": 7,
   "metadata": {},
   "outputs": [
    {
     "data": {
      "text/plain": [
       "10"
      ]
     },
     "execution_count": 7,
     "metadata": {},
     "output_type": "execute_result"
    }
   ],
   "source": [
    "0o12  # Representa el número 10 en decimal"
   ]
  },
  {
   "cell_type": "markdown",
   "metadata": {},
   "source": [
    "#### d. Hexadecimal (Base 16)\n",
    "   - Usa el prefijo `0x` o `0X` para indicar hexadecimal.\n",
    "   - Solo para enteros."
   ]
  },
  {
   "cell_type": "code",
   "execution_count": 8,
   "metadata": {},
   "outputs": [
    {
     "data": {
      "text/plain": [
       "26"
      ]
     },
     "execution_count": 8,
     "metadata": {},
     "output_type": "execute_result"
    }
   ],
   "source": [
    "0x1A  # Representa el número 26 en decimal"
   ]
  },
  {
   "cell_type": "markdown",
   "metadata": {},
   "source": [
    "#### e. Notación científica (punto flotante en Base 10)\n",
    "   - Usa `e` o `E` para indicar la potencia de 10.\n",
    "   - Solo para valores de punto flotante, permitiendo representar números muy grandes o muy pequeños."
   ]
  },
  {
   "cell_type": "code",
   "execution_count": 9,
   "metadata": {},
   "outputs": [
    {
     "data": {
      "text/plain": [
       "1230000.0"
      ]
     },
     "execution_count": 9,
     "metadata": {},
     "output_type": "execute_result"
    }
   ],
   "source": [
    "1.23e6   # Científico grande: Equivale a 1.23 * 10^6"
   ]
  },
  {
   "cell_type": "code",
   "execution_count": 10,
   "metadata": {},
   "outputs": [
    {
     "data": {
      "text/plain": [
       "0.00456"
      ]
     },
     "execution_count": 10,
     "metadata": {},
     "output_type": "execute_result"
    }
   ],
   "source": [
    "4.56e-3  # Científico pequeño: Equivale a 4.56 * 10^-3"
   ]
  },
  {
   "cell_type": "markdown",
   "metadata": {},
   "source": [
    "#### f. Notación compleja\n",
    "   - Python también soporta números complejos, usando `j` para denotar la parte imaginaria."
   ]
  },
  {
   "cell_type": "code",
   "execution_count": 11,
   "metadata": {},
   "outputs": [
    {
     "data": {
      "text/plain": [
       "(3+4j)"
      ]
     },
     "execution_count": 11,
     "metadata": {},
     "output_type": "execute_result"
    }
   ],
   "source": [
    "3 + 4j  # Número complejo con parte real 3 e imaginaria 4"
   ]
  },
  {
   "cell_type": "markdown",
   "metadata": {},
   "source": [
    "#### g. Resumen de notaciones numéricas en Python\n",
    "\n",
    "| Notación               | Prefijo    | Ejemplo Literal  | Tipo de Datos |\n",
    "|------------------------|------------|------------------|---------------|\n",
    "| Decimal                | *Ninguno*  | `123`, `45.67`  | `int`, `float` |\n",
    "| Binario (Base 2)       | `0b` / `0B`| `0b1010`        | `int`         |\n",
    "| Octal (Base 8)         | `0o` / `0O`| `0o12`          | `int`         |\n",
    "| Hexadecimal (Base 16)  | `0x` / `0X`| `0x1A`          | `int`         |\n",
    "| Científica             | `e` / `E`  | `1.23e6`        | `float`       |\n",
    "| Compleja               | *Ninguno*  | `3 + 4j`        | `complex`     |"
   ]
  },
  {
   "cell_type": "markdown",
   "metadata": {},
   "source": [
    "---\n",
    "\n",
    "### 5. Operadores de bits\n",
    "\n",
    "Aquí tienes ejemplos prácticos de los operadores de bits en Python usando la notación binaria. Cada operación muestra cómo manipular valores a nivel de bits utilizando números binarios.\n",
    "\n",
    "#### a. AND bit a bit (`&`)\n",
    "   - Realiza una operación AND bit a bit entre dos números; el resultado tiene un `1` en cada posición donde ambos bits son `1`.\n",
    "\n",
    "**Tabla de verdad AND:**\n",
    "| X | Y | X AND Y |\n",
    "|:-:|:-:|:-------:|\n",
    "| 0 | 0 |    0    |\n",
    "| 0 | 1 |    0    |\n",
    "| 1 | 0 |    0    |\n",
    "| 1 | 1 |    1    |\n",
    "\n",
    "El operador AND produce 1 solo si ambas entradas (X e Y) son 1; de lo contrario, da 0."
   ]
  },
  {
   "cell_type": "code",
   "execution_count": 16,
   "metadata": {},
   "outputs": [
    {
     "data": {
      "text/plain": [
       "'0b1001'"
      ]
     },
     "execution_count": 16,
     "metadata": {},
     "output_type": "execute_result"
    }
   ],
   "source": [
    "a = 0b1101  # 13 en decimal\n",
    "b = 0b1011  # 11 en decimal\n",
    "\n",
    "bin(a & b)  # Resultado: 0b1001 (9 en decimal)"
   ]
  },
  {
   "cell_type": "markdown",
   "metadata": {},
   "source": [
    "#### b. OR bit a bit (`|`)\n",
    "   - Realiza una operación OR bit a bit; el resultado tiene un `1` en cada posición donde al menos uno de los bits es `1`.\n",
    "\n",
    "**Tabla de verdad OR:**\n",
    "| X | Y | X OR Y |\n",
    "|:-:|:-:|:------:|\n",
    "| 0 | 0 |   0    |\n",
    "| 0 | 1 |   1    |\n",
    "| 1 | 0 |   1    |\n",
    "| 1 | 1 |   1    |\n",
    "\n",
    "El operador OR produce 1 si al menos una de las entradas (X o Y) es 1; solo da 0 cuando ambas entradas son 0."
   ]
  },
  {
   "cell_type": "code",
   "execution_count": 15,
   "metadata": {},
   "outputs": [
    {
     "data": {
      "text/plain": [
       "'0b1111'"
      ]
     },
     "execution_count": 15,
     "metadata": {},
     "output_type": "execute_result"
    }
   ],
   "source": [
    "a = 0b1101  # 13 en decimal\n",
    "b = 0b1011  # 11 en decimal\n",
    "\n",
    "bin(a | b)  # Resultado: 0b1111 (15 en decimal)"
   ]
  },
  {
   "cell_type": "markdown",
   "metadata": {},
   "source": [
    "#### c. XOR bit a bit (`^`)\n",
    "   - Realiza una operación XOR bit a bit; el resultado tiene un `1` en cada posición donde los bits son diferentes.\n",
    "\n",
    "**Tabla de verdad XOR:**\n",
    "| X | Y | X XOR Y |\n",
    "|:-:|:-:|:-------:|\n",
    "| 0 | 0 |    0    |\n",
    "| 0 | 1 |    1    |\n",
    "| 1 | 0 |    1    |\n",
    "| 1 | 1 |    0    |\n",
    "\n",
    "El operador XOR produce 1 si exactamente una de las entradas (X o Y) es 1; da 0 cuando ambas son iguales (ambas 0 o ambas 1)."
   ]
  },
  {
   "cell_type": "code",
   "execution_count": 17,
   "metadata": {},
   "outputs": [
    {
     "data": {
      "text/plain": [
       "'0b110'"
      ]
     },
     "execution_count": 17,
     "metadata": {},
     "output_type": "execute_result"
    }
   ],
   "source": [
    "a = 0b1101  # 13 en decimal\n",
    "b = 0b1011  # 11 en decimal\n",
    "\n",
    "bin(a ^ b)  # Resultado: 0b0110 (6 en decimal)"
   ]
  },
  {
   "cell_type": "markdown",
   "metadata": {},
   "source": [
    "#### d. NOT bit a bit (`~`)\n",
    "   - Invierte todos los bits del número (de `0` a `1` y de `1` a `0`). Nota: en Python, esto da como resultado el complemento a dos, que es el valor negado más uno."
   ]
  },
  {
   "cell_type": "code",
   "execution_count": 18,
   "metadata": {},
   "outputs": [
    {
     "data": {
      "text/plain": [
       "'-0b1110'"
      ]
     },
     "execution_count": 18,
     "metadata": {},
     "output_type": "execute_result"
    }
   ],
   "source": [
    "a = 0b1101  # 13 en decimal\n",
    "\n",
    "bin(~a)  # Resultado: -0b1110 (-14 en decimal)"
   ]
  },
  {
   "cell_type": "markdown",
   "metadata": {},
   "source": [
    "#### e. Desplazamiento a la izquierda (`<<`)\n",
    "   - Desplaza los bits hacia la izquierda, agregando ceros a la derecha. Cada desplazamiento a la izquierda equivale a multiplicar el número por 2."
   ]
  },
  {
   "cell_type": "code",
   "execution_count": 19,
   "metadata": {},
   "outputs": [
    {
     "data": {
      "text/plain": [
       "'0b101000'"
      ]
     },
     "execution_count": 19,
     "metadata": {},
     "output_type": "execute_result"
    }
   ],
   "source": [
    "a = 0b1010  # 10 en decimal\n",
    "\n",
    "bin(a << 2)  # Resultado: 0b101000 (40 en decimal)"
   ]
  },
  {
   "cell_type": "markdown",
   "metadata": {},
   "source": [
    "#### f. Desplazamiento a la derecha (`>>`)\n",
    "   - Desplaza los bits hacia la derecha, descartando los bits más a la derecha. Cada desplazamiento a la derecha equivale a dividir el número entre 2."
   ]
  },
  {
   "cell_type": "code",
   "execution_count": 20,
   "metadata": {},
   "outputs": [
    {
     "data": {
      "text/plain": [
       "'0b10'"
      ]
     },
     "execution_count": 20,
     "metadata": {},
     "output_type": "execute_result"
    }
   ],
   "source": [
    "a = 0b1010  # 10 en decimal\n",
    "\n",
    "bin(a >> 2)  # Resultado: 0b10 (2 en decimal)"
   ]
  },
  {
   "cell_type": "markdown",
   "metadata": {},
   "source": [
    "#### g. Resumen de ejemplos de operadores de bits\n",
    "\n",
    "| Operador    | Ejemplo             | Resultado Binario | Resultado Decimal |\n",
    "|-------------|----------------------|-------------------|-------------------|\n",
    "| AND (`&`)   | `0b1101 & 0b1011`   | `0b1001`         | 9                 |\n",
    "| OR (`\\|`)    | `0b1101 \\| 0b1011`   | `0b1111`         | 15                |\n",
    "| XOR (`^`)   | `0b1101 ^ 0b1011`   | `0b0110`         | 6                 |\n",
    "| NOT (`~`)   | `~0b1101`           | `-0b1110`        | -14               |\n",
    "| Shift Izq. (`<<`) | `0b1010 << 2` | `0b101000`       | 40                |\n",
    "| Shift Der. (`>>`) | `0b1010 >> 2` | `0b10`           | 2                 |\n",
    "\n",
    "Estos operadores de bits pueden ser muy útiles para trabajar con máscaras, manipulación de bits y optimización a nivel bajo en Python."
   ]
  },
  {
   "cell_type": "markdown",
   "metadata": {},
   "source": [
    "---\n",
    "\n",
    "### 6. Operadores de asignación (Ultimos en la lista de precedencia)\n",
    "\n",
    "1. **Asignación Simple (`=`)**: Asigna un valor a una variable.\n",
    "   ```python\n",
    "   x = 10\n",
    "   ```\n",
    "\n",
    "Los siguientes operadores permiten modificar y asignar valores en un solo paso, simplificando el código.\n",
    "\n",
    "\n",
    "2. **Asignación Compuesta**:\n",
    "   - `+=`: Suma y asigna → `x += 3` (equivale a `x = x + 3`)\n",
    "   - `-=`: Resta y asigna → `y -= 4`\n",
    "   - `*=`: Multiplica y asigna → `z *= 2`\n",
    "   - `/=`: Divide y asigna → `a /= 5`\n",
    "   - `//=`: División entera y asigna → `b //= 3`\n",
    "   - `%=`: Módulo y asigna → `c %= 5`\n",
    "   - `**=`: Potencia y asigna → `d **= 3`\n",
    "\n",
    "3. **Asignación Bit a Bit**:\n",
    "   - `&=`: AND bit a bit → `e &= 0b1011`\n",
    "   - `|=`: OR bit a bit → `f |= 0b1011`\n",
    "   - `^=`: XOR bit a bit → `g ^= 0b1011`\n",
    "   - `<<=`: Desplazamiento a la izquierda → `h <<= 2`\n",
    "   - `>>=`: Desplazamiento a la derecha → `i >>= 2`\n"
   ]
  },
  {
   "cell_type": "markdown",
   "metadata": {},
   "source": [
    "#### a. Ejemplo sencillo de un contador usando el operador compuesto de suma y asignación (`+=`)"
   ]
  },
  {
   "cell_type": "code",
   "execution_count": 21,
   "metadata": {},
   "outputs": [
    {
     "name": "stdout",
     "output_type": "stream",
     "text": [
      "contador=1\n",
      "contador=2\n",
      "contador=3\n",
      "contador=4\n",
      "contador=5\n"
     ]
    }
   ],
   "source": [
    "contador = 0\n",
    "\n",
    "while True:\n",
    "    contador += 1\n",
    "    print(f\"{contador=}\")\n",
    "    if contador == 5:\n",
    "        break"
   ]
  },
  {
   "cell_type": "markdown",
   "metadata": {},
   "source": [
    "---\n",
    "\n",
    "### 7. Clasificación de los operadores según su número de operandos\n",
    "\n",
    "Los operadores en Python se pueden clasificar en dos categorías principales: **unarios y binarios**. Los operadores unarios requieren un solo operando para realizar una operación, como el operador de negación (-) que cambia el signo de un número. Por otro lado, los operadores binarios operan sobre dos operandos y son utilizados en operaciones como la suma (+), la resta (-), y la multiplicación (*), donde se requiere de ambos valores para producir un resultado.\n",
    "\n",
    "\n",
    "| **Operador** | **Descripción**                           | **Tipo**  | **Ejemplo**                     |\n",
    "|--------------|------------------------------------------|-----------|---------------------------------|\n",
    "| `+`          | Suma                                     | Binario   | `3 + 2` → `5`                   |\n",
    "| `-`          | Resta                                    | Binario   | `5 - 2` → `3`                   |\n",
    "| `*`          | Multiplicación                           | Binario   | `4 * 2` → `8`                   |\n",
    "| `/`          | División                                 | Binario   | `8 / 2` → `4.0`                 |\n",
    "| `//`         | División entera                          | Binario   | `8 // 3` → `2`                  |\n",
    "| `%`          | Módulo (resto de la división)           | Binario   | `8 % 3` → `2`                   |\n",
    "| `**`         | Potencia                                 | Binario   | `2 ** 3` → `8`                  |\n",
    "| `-`          | Negación                                 | <span style=\"color:red\">Unario</span>    | `-5` → `-5`                     |\n",
    "| `+`          | Positivo                                 | <span style=\"color:red\">Unario</span>    | `+3` → `3`                      |\n",
    "| `==`         | Igual a                                  | Binario   | `3 == 3` → `True`               |\n",
    "| `!=`         | No igual a                               | Binario   | `3 != 4` → `True`               |\n",
    "| `>`          | Mayor que                                | Binario   | `5 > 3` → `True`                |\n",
    "| `<`          | Menor que                                | Binario   | `3 < 5` → `True`                |\n",
    "| `>=`         | Mayor o igual que                        | Binario   | `5 >= 5` → `True`               |\n",
    "| `<=`         | Menor o igual que                        | Binario   | `3 <= 4` → `True`               |\n",
    "| `and`        | Conjunción lógica                        | Binario   | `True and False` → `False`      |\n",
    "| `or`         | Disyunción lógica                        | Binario   | `True or False` → `True`        |\n",
    "| `not`        | Negación lógica                          | <span style=\"color:red\">Unario</span>    | `not True` → `False`            |\n",
    "| `is`         | Identidad                                | Binario   | `a is b` (donde `a` y `b` son el mismo objeto) |\n",
    "| `is not`     | No identidad                             | Binario   | `a is not b` (donde `a` y `b` son diferentes objetos) |\n",
    "| `in`         | Pertenece a                              | Binario   | `'a' in 'apple'` → `True`       |\n",
    "| `not in`     | No pertenece a                           | Binario   | `'b' not in 'apple'` → `True`   |\n",
    "| `<<`         | Desplazamiento a la izquierda            | Binario   | `3 << 1` → `6`                   |\n",
    "| `>>`         | Desplazamiento a la derecha              | Binario   | `6 >> 1` → `3`                   |\n",
    "| `&`          | AND bit a bit                            | Binario   | `5 & 3` → `1`                    |\n",
    "| `\\|`          | OR bit a bit                             | Binario   | `5 \\| 3` → `7`                    |\n",
    "| `^`          | XOR bit a bit                            | Binario   | `5 ^ 3` → `6`                    |\n",
    "| `=`          | Asignación                               | Binario   | `x = 5`                          |\n",
    "| `+=`         | Asignación y suma                        | Binario   | `x += 2` (equivalente a `x = x + 2`) |\n",
    "| `-=`         | Asignación y resta                       | Binario   | `x -= 1` (equivalente a `x = x - 1`) |\n",
    "| `*=`         | Asignación y multiplicación              | Binario   | `x *= 2` (equivalente a `x = x * 2`) |\n",
    "| `/=`         | Asignación y división                    | Binario   | `x /= 2` (equivalente a `x = x / 2`) |\n",
    "| `//=`        | Asignación y división entera             | Binario   | `x //= 3` (equivalente a `x = x // 3`) |\n",
    "| `%=`         | Asignación y módulo                      | Binario   | `x %= 3` (equivalente a `x = x % 3`) |\n",
    "| `**=`        | Asignación y potencia                    | Binario   | `x **= 2` (equivalente a `x = x ** 2`) |\n",
    "| `&=`         | Asignación y AND bit a bit              | Binario   | `x &= 3` (equivalente a `x = x & 3`) |\n",
    "| `\\|=`         | Asignación y OR bit a bit               | Binario   | `x \\|= 3` (equivalente a `x = x | 3`) |\n",
    "| `^=`         | Asignación y XOR bit a bit              | Binario   | `x ^= 3` (equivalente a `x = x ^ 3`) |\n",
    "| `<<=`        | Asignación y desplazamiento a la izquierda | Binario   | `x <<= 1` (equivalente a `x = x << 1`) |\n",
    "| `>>=`        | Asignación y desplazamiento a la derecha | Binario   | `x >>= 1` (equivalente a `x = x >> 1`) |\n",
    "\n",
    "#### a. El operador ternario en Python\n",
    "\n",
    "Python posee también un operador ternario, que es en realidad una forma concisa de escribir una expresión condicional que selecciona entre dos valores basándose en una condición. Se utiliza en la siguiente sintaxis:\n",
    "\n",
    "```python\n",
    "resultado = valor_si_verdadero if condicion else valor_si_falso\n",
    "```\n",
    "\n",
    "Si la `condicion` se evalúa como `True`, se asigna `valor_si_verdadero` a la variable `resultado`. Si la `condicion` es `False`, se asigna `valor_si_falso`. Este operador es útil para simplificar expresiones condicionales y mejorar la legibilidad del código, ya que permite realizar asignaciones o retornos en una sola línea en lugar de usar una estructura condicional más extensa. Por ejemplo:"
   ]
  },
  {
   "cell_type": "code",
   "execution_count": 1,
   "metadata": {},
   "outputs": [
    {
     "name": "stdout",
     "output_type": "stream",
     "text": [
      "Es positivo\n"
     ]
    }
   ],
   "source": [
    "x = 10\n",
    "mensaje = \"Es positivo\" if x > 0 else \"Es negativo o cero\"\n",
    "print(mensaje)"
   ]
  },
  {
   "cell_type": "markdown",
   "metadata": {},
   "source": [
    "En este caso, si `x` es mayor que 0, `mensaje` será \"Es positivo\"; de lo contrario, será \"Es negativo o cero\"."
   ]
  },
  {
   "cell_type": "markdown",
   "metadata": {},
   "source": [
    "---\n",
    "\n",
    "### 8. Ejercicios con operadores\n",
    "\n",
    "Aquí tienes cinco ejercicios para practicar operadores aritméticos y lógicos en Python.\n",
    "\n",
    "#### a. Suma y promedio\n",
    "Escribe un programa que solicite al usuario dos números y luego calcule y muestre su suma y su promedio.\n",
    "\n",
    "**Pistas:**\n",
    "- Usa el operador de suma (`+`).\n",
    "- Calcula el promedio dividiendo la suma entre 2."
   ]
  },
  {
   "cell_type": "code",
   "execution_count": null,
   "metadata": {},
   "outputs": [],
   "source": []
  },
  {
   "cell_type": "markdown",
   "metadata": {},
   "source": [
    "#### b. Verificación de par\n",
    "Crea un programa que pida al usuario un número entero y determine si es par o impar.\n",
    "\n",
    "**Pistas:**\n",
    "- Usa el operador de módulo (`%`) para verificar si el número es divisible entre 2.\n",
    "- Imprime \"El número es par\" si el resultado es 0; de lo contrario, imprime \"El número es impar\"."
   ]
  },
  {
   "cell_type": "code",
   "execution_count": null,
   "metadata": {},
   "outputs": [],
   "source": []
  },
  {
   "cell_type": "markdown",
   "metadata": {},
   "source": [
    "#### c. Comparación de números\n",
    "Escribe un programa que solicite al usuario tres números y determine cuál es el mayor.\n",
    "\n",
    "**Pistas:**\n",
    "- Utiliza operadores de comparación (`>`, `<`) para comparar los números.\n",
    "- Imprime el número mayor."
   ]
  },
  {
   "cell_type": "code",
   "execution_count": null,
   "metadata": {},
   "outputs": [],
   "source": []
  },
  {
   "cell_type": "markdown",
   "metadata": {},
   "source": [
    "#### d. Evaluación de condiciones\n",
    "Crea un programa que pida al usuario su edad y verifique si puede votar (mayor de 18 años) y si es un adolescente (entre 13 y 19 años).\n",
    "\n",
    "**Pistas:**\n",
    "- Usa operadores lógicos (`and`, `or`) para evaluar las condiciones.\n",
    "- Imprime un mensaje que indique si el usuario puede votar y si es un adolescente."
   ]
  },
  {
   "cell_type": "code",
   "execution_count": null,
   "metadata": {},
   "outputs": [],
   "source": []
  },
  {
   "cell_type": "markdown",
   "metadata": {},
   "source": [
    "#### e. Cálculo de la potencia\n",
    "\n",
    "Escribe un programa que pida al usuario un número y un exponente, y que calcule la potencia del número elevado al exponente utilizando el operador de potencia (`**`).\n",
    "\n",
    "**Pistas:**\n",
    "- Usa el operador de potencia para calcular el resultado.\n",
    "- Imprime el resultado en un formato claro, por ejemplo: \"El resultado de [número] elevado a [exponente] es [resultado]\"."
   ]
  },
  {
   "cell_type": "code",
   "execution_count": null,
   "metadata": {},
   "outputs": [],
   "source": []
  }
 ],
 "metadata": {
  "kernelspec": {
   "display_name": ".env",
   "language": "python",
   "name": "python3"
  },
  "language_info": {
   "codemirror_mode": {
    "name": "ipython",
    "version": 3
   },
   "file_extension": ".py",
   "mimetype": "text/x-python",
   "name": "python",
   "nbconvert_exporter": "python",
   "pygments_lexer": "ipython3",
   "version": "3.12.7"
  }
 },
 "nbformat": 4,
 "nbformat_minor": 2
}
