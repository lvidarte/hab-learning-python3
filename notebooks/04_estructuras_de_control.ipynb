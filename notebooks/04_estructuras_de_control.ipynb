{
 "cells": [
  {
   "cell_type": "markdown",
   "metadata": {},
   "source": [
    "# Clase 4: Estructuras de Control en Python\n",
    "\n",
    "## Módulo 1: Condicionales\n",
    "\n",
    "### 1. Estructuras condicionales\n",
    "\n",
    "Las estructuras condicionales permiten que un programa ejecute diferentes bloques de código dependiendo de si una condición es verdadera o falsa.\n",
    "\n",
    "#### Sintaxis básica:\n",
    "\n",
    "- **if**: Evalúa una condición. Si es verdadera, ejecuta el bloque de código asociado.\n",
    "- **elif**: Se usa después de un `if` para evaluar otra condición si la primera es falsa.\n",
    "- **else**: Se ejecuta si todas las condiciones anteriores son falsas.\n",
    "\n",
    "##### Ejemplo:"
   ]
  },
  {
   "cell_type": "code",
   "execution_count": null,
   "metadata": {},
   "outputs": [],
   "source": [
    "x = 10\n",
    "\n",
    "if x > 5:\n",
    "    print(\"x es mayor que 5\")\n",
    "elif x == 5:\n",
    "    print(\"x es igual a 5\")\n",
    "else:\n",
    "    print(\"x es menor que 5\")"
   ]
  },
  {
   "cell_type": "markdown",
   "metadata": {},
   "source": [
    "#### Ejercicio práctico:\n",
    "\n",
    "Crea un programa que dado un número `n` determine si es positivo, negativo o cero usando estructuras condicionales."
   ]
  },
  {
   "cell_type": "code",
   "execution_count": null,
   "metadata": {},
   "outputs": [],
   "source": []
  },
  {
   "cell_type": "markdown",
   "metadata": {},
   "source": [
    "---\n",
    "\n",
    "## Módulo 2: Bucles (while y for)\n",
    "\n",
    "### 1. Bucle `while`\n",
    "\n",
    "El bucle `while` ejecuta un bloque de código mientras una condición sea verdadera. Si la condición nunca cambia a `False`, el bucle puede ser infinito.\n",
    "\n",
    "#### Sintaxis básica:\n",
    "\n",
    "```python\n",
    "while condición:\n",
    "    # código a ejecutar mientras la condición sea verdadera\n",
    "```\n",
    "\n",
    "##### Ejemplo:"
   ]
  },
  {
   "cell_type": "code",
   "execution_count": null,
   "metadata": {},
   "outputs": [],
   "source": [
    "i = 1\n",
    "while i <= 5:\n",
    "    print(i)\n",
    "    i += 1  # Incrementamos i para evitar un bucle infinito"
   ]
  },
  {
   "cell_type": "markdown",
   "metadata": {},
   "source": [
    "#### Ejercicio práctico:\n",
    "\n",
    "Escribe un programa que imprima los números del 1 al 10 utilizando un bucle `while`."
   ]
  },
  {
   "cell_type": "code",
   "execution_count": null,
   "metadata": {},
   "outputs": [],
   "source": []
  },
  {
   "cell_type": "markdown",
   "metadata": {},
   "source": [
    "### 2. Bucle `for`\n",
    "\n",
    "El bucle `for` en Python itera sobre una secuencia (como una lista, una cadena, o un rango de números).\n",
    "\n",
    "#### Sintaxis básica:\n",
    "\n",
    "```python\n",
    "for variable in secuencia:\n",
    "    # código a ejecutar en cada iteración\n",
    "```\n",
    "\n",
    "##### Ejemplo:"
   ]
  },
  {
   "cell_type": "code",
   "execution_count": null,
   "metadata": {},
   "outputs": [],
   "source": [
    "for letra in \"Python\":\n",
    "    print(letra)"
   ]
  },
  {
   "cell_type": "markdown",
   "metadata": {},
   "source": [
    "El bucle anterior imprimirá cada letra de la palabra \"Python\".\n",
    "\n",
    "#### Ejercicio práctico:\n",
    "\n",
    "Escribe un programa que recorra una lista de números y calcule su suma utilizando un bucle `for`."
   ]
  },
  {
   "cell_type": "code",
   "execution_count": null,
   "metadata": {},
   "outputs": [],
   "source": []
  },
  {
   "cell_type": "markdown",
   "metadata": {},
   "source": [
    "## 3. Uso de `range()`\n",
    "\n",
    "La función `range()` genera una secuencia de números y es útil cuando necesitas un rango de valores en un bucle `for`.\n",
    "\n",
    "##### Ejemplo:"
   ]
  },
  {
   "cell_type": "code",
   "execution_count": null,
   "metadata": {},
   "outputs": [],
   "source": [
    "for i in range(5):  # Genera los números de 0 a 4\n",
    "    print(i)"
   ]
  },
  {
   "cell_type": "markdown",
   "metadata": {},
   "source": [
    "#### Ejercicio práctico:\n",
    "\n",
    "Escribe un programa que imprima los números del 1 al 20 usando `range()`."
   ]
  },
  {
   "cell_type": "code",
   "execution_count": null,
   "metadata": {},
   "outputs": [],
   "source": []
  },
  {
   "cell_type": "markdown",
   "metadata": {},
   "source": [
    "#### Ejercicio de combinación de estructuras de control\n",
    "\n",
    "Combina condicionales y bucles para crear un programa que pida al usuario un número del 1 al 10, e imprima la tabla de multiplicar de ese número (del 1 al 10).\n",
    "\n",
    "##### Ejemplo:"
   ]
  },
  {
   "cell_type": "code",
   "execution_count": 3,
   "metadata": {},
   "outputs": [
    {
     "name": "stdout",
     "output_type": "stream",
     "text": [
      "Tabla de multiplicar del 2:\n",
      "2 x 1 = 2\n",
      "2 x 2 = 4\n",
      "2 x 3 = 6\n",
      "2 x 4 = 8\n",
      "2 x 5 = 10\n",
      "2 x 6 = 12\n",
      "2 x 7 = 14\n",
      "2 x 8 = 16\n",
      "2 x 9 = 18\n",
      "2 x 10 = 20\n"
     ]
    }
   ],
   "source": [
    "numero = int(input(\"Ingresa un número entero en el rango de 1 a 10\"))\n",
    "\n",
    "if 1 <= numero <= 10:\n",
    "    print(f\"Tabla de multiplicar del {numero}:\")\n",
    "    for i in range(1, 11):\n",
    "        print(f\"{numero} x {i} = {numero * i}\")\n",
    "else:\n",
    "    print(\"Número fuera de rango. Debe estar entre 1 y 10.\")"
   ]
  }
 ],
 "metadata": {
  "kernelspec": {
   "display_name": ".env",
   "language": "python",
   "name": "python3"
  },
  "language_info": {
   "codemirror_mode": {
    "name": "ipython",
    "version": 3
   },
   "file_extension": ".py",
   "mimetype": "text/x-python",
   "name": "python",
   "nbconvert_exporter": "python",
   "pygments_lexer": "ipython3",
   "version": "3.12.5"
  }
 },
 "nbformat": 4,
 "nbformat_minor": 2
}
