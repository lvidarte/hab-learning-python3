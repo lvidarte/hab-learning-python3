{
 "cells": [
  {
   "cell_type": "markdown",
   "metadata": {},
   "source": [
    "# Clase 4: Estructuras de Control en Python\n",
    "\n",
    "## Módulo 1: Condicionales\n",
    "\n",
    "### 1. Estructuras condicionales\n",
    "\n",
    "Las estructuras condicionales permiten que un programa ejecute diferentes bloques de código dependiendo de si una condición es verdadera o falsa.\n",
    "\n",
    "#### a. Sintaxis básica\n",
    "\n",
    "- **if**: Evalúa una condición. Si es verdadera, ejecuta el bloque de código asociado.\n",
    "- **elif**: Se usa después de un `if` para evaluar otra condición si la primera es falsa.\n",
    "- **else**: Se ejecuta si todas las condiciones anteriores son falsas.\n",
    "\n",
    "#### b. Ejemplos"
   ]
  },
  {
   "cell_type": "code",
   "execution_count": 28,
   "metadata": {},
   "outputs": [
    {
     "name": "stdout",
     "output_type": "stream",
     "text": [
      "Persona mayor de edad.\n"
     ]
    }
   ],
   "source": [
    "# Usando sólo if\n",
    "\n",
    "edad = 18\n",
    "\n",
    "if edad >= 18:\n",
    "    print(\"Persona mayor de edad.\")"
   ]
  },
  {
   "cell_type": "code",
   "execution_count": 29,
   "metadata": {},
   "outputs": [
    {
     "name": "stdout",
     "output_type": "stream",
     "text": [
      "Persona mayor de edad.\n"
     ]
    }
   ],
   "source": [
    "# Usando if-else\n",
    "\n",
    "edad = 18\n",
    "\n",
    "if edad >= 18:\n",
    "    print(\"Persona mayor de edad.\")\n",
    "else:\n",
    "    print(\"Persona menor de edad.\")"
   ]
  },
  {
   "cell_type": "code",
   "execution_count": 30,
   "metadata": {},
   "outputs": [
    {
     "name": "stdout",
     "output_type": "stream",
     "text": [
      "num es mayor que 5\n"
     ]
    }
   ],
   "source": [
    "# Ejemplo completo\n",
    "\n",
    "num = 10\n",
    "\n",
    "if num > 5:\n",
    "    print(\"num es mayor que 5\")\n",
    "elif num == 5:\n",
    "    print(\"num es igual a 5\")\n",
    "else:\n",
    "    print(\"num es menor que 5\")"
   ]
  },
  {
   "cell_type": "markdown",
   "metadata": {},
   "source": [
    "#### c. Anidación de estructuras condicionales"
   ]
  },
  {
   "cell_type": "code",
   "execution_count": 31,
   "metadata": {},
   "outputs": [
    {
     "name": "stdout",
     "output_type": "stream",
     "text": [
      "En La Coruña está lloviendo.\n"
     ]
    }
   ],
   "source": [
    "lugar = \"La Coruña\"\n",
    "llueve = True\n",
    "\n",
    "if lugar == \"La Coruña\":\n",
    "    if llueve:\n",
    "        print(\"En La Coruña está lloviendo.\")\n",
    "    else:\n",
    "        print(\"En La Coruña no está lloviendo.\")\n",
    "else:\n",
    "    print(\"No estamos en La Coruña.\")"
   ]
  },
  {
   "cell_type": "markdown",
   "metadata": {},
   "source": [
    "#### d. Ejercicio práctico\n",
    "\n",
    "Crea un programa que dado un número `n` determine si es positivo, negativo o cero usando estructuras condicionales."
   ]
  },
  {
   "cell_type": "code",
   "execution_count": null,
   "metadata": {},
   "outputs": [],
   "source": []
  },
  {
   "cell_type": "markdown",
   "metadata": {},
   "source": [
    "---\n",
    "\n",
    "## Módulo 2: Bucles (while y for)\n",
    "\n",
    "### 1. Bucle `while`\n",
    "\n",
    "El bucle `while` ejecuta un bloque de código mientras una condición sea verdadera. Si la condición nunca cambia a `False`, el bucle puede ser infinito.\n",
    "\n",
    "#### a. Sintaxis básica:\n",
    "\n",
    "```python\n",
    "while condición:\n",
    "    # código a ejecutar mientras la condición sea verdadera\n",
    "```\n",
    "\n",
    "#### b. Bucle clásico"
   ]
  },
  {
   "cell_type": "code",
   "execution_count": 32,
   "metadata": {},
   "outputs": [
    {
     "name": "stdout",
     "output_type": "stream",
     "text": [
      "1\n",
      "2\n",
      "3\n",
      "4\n",
      "5\n"
     ]
    }
   ],
   "source": [
    "i = 1\n",
    "while i <= 5:\n",
    "    print(i)\n",
    "    i += 1  # Incrementamos i para evitar un bucle infinito"
   ]
  },
  {
   "cell_type": "markdown",
   "metadata": {},
   "source": [
    "Si bien esta forma de uso es correcta, casi nunca veremos algo así en Python. Más adelante veremos que existe una forma más elegante de hacer lo mismo.\n",
    "\n",
    "#### c. Bucle infinito\n",
    "\n",
    "Otra forma común de usar `while` es mediante un bucle infinito y la sentencia `break`:"
   ]
  },
  {
   "cell_type": "code",
   "execution_count": null,
   "metadata": {},
   "outputs": [],
   "source": [
    "while True:\n",
    "    respuesta = input(\"Parar? (y/n)\")\n",
    "    if respuesta.lower() == 'y':\n",
    "        print(\"Parando...\")\n",
    "        break"
   ]
  },
  {
   "cell_type": "markdown",
   "metadata": {},
   "source": [
    "#### c. Ejercicio práctico\n",
    "\n",
    "Escribe un programa que imprima los números del 1 al 10 utilizando un bucle `while`."
   ]
  },
  {
   "cell_type": "code",
   "execution_count": null,
   "metadata": {},
   "outputs": [],
   "source": []
  },
  {
   "cell_type": "markdown",
   "metadata": {},
   "source": [
    "### 2. Bucle `for`\n",
    "\n",
    "El bucle `for` en Python itera sobre una secuencia (como una cadena, una lista, o un rango de números).\n",
    "\n",
    "#### a. Sintaxis básica\n",
    "\n",
    "```python\n",
    "for variable in secuencia:\n",
    "    # código a ejecutar en cada iteración\n",
    "```\n",
    "\n",
    "#### b. Ejemplo"
   ]
  },
  {
   "cell_type": "code",
   "execution_count": 40,
   "metadata": {},
   "outputs": [
    {
     "name": "stdout",
     "output_type": "stream",
     "text": [
      "P\n",
      "y\n",
      "t\n",
      "h\n",
      "o\n",
      "n\n"
     ]
    }
   ],
   "source": [
    "# Imprimir cada letra de la palabra Python\n",
    "for letra in \"Python\":\n",
    "    print(letra)"
   ]
  },
  {
   "cell_type": "markdown",
   "metadata": {},
   "source": [
    "#### c. Ejercicio práctico\n",
    "\n",
    "Escribe un programa que, utilizando un bucle `for`, cuente cuántas letras mayúsculas y cuántas minúsculas hay en una cadena ingresada por el usuario. Tip: utiliza los métodos `islower()` e `isupper()` de la clase `str` para identificar el tipo de letra."
   ]
  },
  {
   "cell_type": "code",
   "execution_count": null,
   "metadata": {},
   "outputs": [],
   "source": []
  },
  {
   "cell_type": "markdown",
   "metadata": {},
   "source": [
    "### 3. Uso de `range()`\n",
    "\n",
    "La función `range()` genera una secuencia de números y es útil cuando necesitas un rango de valores en un bucle `for`.\n",
    "\n",
    "#### a. Uso básico de `range`\n",
    "\n",
    "En este caso, usamos `range(fin)` para generar un rango que comienza en 0 y termina en fin menos uno."
   ]
  },
  {
   "cell_type": "code",
   "execution_count": 35,
   "metadata": {},
   "outputs": [
    {
     "name": "stdout",
     "output_type": "stream",
     "text": [
      "0\n",
      "1\n",
      "2\n",
      "3\n",
      "4\n"
     ]
    }
   ],
   "source": [
    "# Genera los números de 0 a 4\n",
    "for i in range(5):\n",
    "    print(i)"
   ]
  },
  {
   "cell_type": "markdown",
   "metadata": {},
   "source": [
    "#### b. Uso de `range()` definiendo inicio y fin\n",
    "\n",
    "En este caso, usamos `range(inicio, fin)` para generar un rango que comienza desde un número específico y termina en fin menos uno."
   ]
  },
  {
   "cell_type": "code",
   "execution_count": 36,
   "metadata": {},
   "outputs": [
    {
     "name": "stdout",
     "output_type": "stream",
     "text": [
      "5\n",
      "6\n",
      "7\n",
      "8\n",
      "9\n"
     ]
    }
   ],
   "source": [
    "# Genera números del 5 al 9\n",
    "for numero in range(5, 10):\n",
    "    print(numero)"
   ]
  },
  {
   "cell_type": "markdown",
   "metadata": {},
   "source": [
    "#### c. Uso de `range()` con tres parámetros (incluyendo paso)\n",
    "\n",
    "Aquí usamos `range(inicio, fin, paso)`, lo que permite definir un paso para controlar cómo aumenta o disminuye el rango."
   ]
  },
  {
   "cell_type": "code",
   "execution_count": 37,
   "metadata": {},
   "outputs": [
    {
     "name": "stdout",
     "output_type": "stream",
     "text": [
      "0\n",
      "2\n",
      "4\n",
      "6\n",
      "8\n",
      "10\n"
     ]
    }
   ],
   "source": [
    "# Genera números del 0 al 10 con un paso de 2\n",
    "for numero in range(0, 11, 2):\n",
    "    print(numero)"
   ]
  },
  {
   "cell_type": "markdown",
   "metadata": {},
   "source": [
    "#### d. Uso de `range()` con un rango decreciente\n",
    "\n",
    "En este ejemplo, usamos un rango que va hacia atrás, es decir, un rango decreciente. Esto se logra usando un valor negativo para el paso."
   ]
  },
  {
   "cell_type": "code",
   "execution_count": 38,
   "metadata": {},
   "outputs": [
    {
     "name": "stdout",
     "output_type": "stream",
     "text": [
      "10\n",
      "9\n",
      "8\n",
      "7\n",
      "6\n",
      "5\n",
      "4\n",
      "3\n",
      "2\n",
      "1\n"
     ]
    }
   ],
   "source": [
    "# Genera números del 10 al 1, descendiendo\n",
    "for numero in range(10, 0, -1):\n",
    "    print(numero)"
   ]
  },
  {
   "cell_type": "markdown",
   "metadata": {},
   "source": [
    "#### e. Uso de `range()` ignorando su valor de retorno\n",
    "\n",
    "Existen casos en los cuales sólo nos interesa iterar algo un cierto número de veces y lo devuelvo por `range()` no nos es útil. En estos casos la convención es usar `_` como nombre de variable, y de esa forma indicar visualmente que la variable no se usará."
   ]
  },
  {
   "cell_type": "code",
   "execution_count": 39,
   "metadata": {},
   "outputs": [
    {
     "name": "stdout",
     "output_type": "stream",
     "text": [
      "SOS\n",
      "SOS\n",
      "SOS\n",
      "SOS\n"
     ]
    }
   ],
   "source": [
    "for _ in range(4):\n",
    "    print(\"SOS\")"
   ]
  },
  {
   "cell_type": "markdown",
   "metadata": {},
   "source": [
    "#### f. Ejercicio práctico\n",
    "\n",
    "Escribe un programa que, utilizando un bucle `for`, pida al usuario el ingreso de cinco enteros y calcule su suma."
   ]
  },
  {
   "cell_type": "code",
   "execution_count": null,
   "metadata": {},
   "outputs": [],
   "source": []
  },
  {
   "cell_type": "markdown",
   "metadata": {},
   "source": [
    "### 4. Combinación de estructuras de control\n",
    "\n",
    "Es posible combinar bucles y estructuras condicionales.\n",
    "\n",
    "#### a. Ejemplo: imprimir la tabla de multiplicar de un número dado"
   ]
  },
  {
   "cell_type": "code",
   "execution_count": 3,
   "metadata": {},
   "outputs": [
    {
     "name": "stdout",
     "output_type": "stream",
     "text": [
      "Tabla de multiplicar del 2:\n",
      "2 x 1 = 2\n",
      "2 x 2 = 4\n",
      "2 x 3 = 6\n",
      "2 x 4 = 8\n",
      "2 x 5 = 10\n",
      "2 x 6 = 12\n",
      "2 x 7 = 14\n",
      "2 x 8 = 16\n",
      "2 x 9 = 18\n",
      "2 x 10 = 20\n"
     ]
    }
   ],
   "source": [
    "numero = int(input(\"Ingresa un número entero en el rango de 1 a 10\"))\n",
    "\n",
    "if 1 <= numero <= 10:\n",
    "    print(f\"Tabla de multiplicar del {numero}:\")\n",
    "    for i in range(1, 11):\n",
    "        print(f\"{numero} x {i} = {numero * i}\")\n",
    "else:\n",
    "    print(\"Número fuera de rango. Debe estar entre 1 y 10.\")"
   ]
  },
  {
   "cell_type": "markdown",
   "metadata": {},
   "source": [
    "#### b. Ejercicio práctico\n",
    "\n",
    "Escribe un programa que, mientras el usuario elija continuar, pida un número del 1 al 10 e imprima su tabla de multiplicar."
   ]
  },
  {
   "cell_type": "code",
   "execution_count": null,
   "metadata": {},
   "outputs": [],
   "source": []
  }
 ],
 "metadata": {
  "kernelspec": {
   "display_name": ".env",
   "language": "python",
   "name": "python3"
  },
  "language_info": {
   "codemirror_mode": {
    "name": "ipython",
    "version": 3
   },
   "file_extension": ".py",
   "mimetype": "text/x-python",
   "name": "python",
   "nbconvert_exporter": "python",
   "pygments_lexer": "ipython3",
   "version": "3.12.5"
  }
 },
 "nbformat": 4,
 "nbformat_minor": 2
}
