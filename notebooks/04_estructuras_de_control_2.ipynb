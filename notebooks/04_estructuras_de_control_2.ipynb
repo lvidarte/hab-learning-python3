{
 "cells": [
  {
   "cell_type": "markdown",
   "metadata": {},
   "source": [
    "# Estructuras de Control en Python - Material complementario\n",
    "\n",
    "### 1. Introducción a las estructuras de control en programación\n",
    "\n",
    "Las **estructuras de control** son componentes fundamentales en la programación que permiten tomar decisiones, repetir tareas y dirigir el flujo de ejecución de un programa. Gracias a estas estructuras, un programa puede responder de manera dinámica a diferentes condiciones y situaciones, permitiendo que el código se adapte a diversas entradas y circunstancias.\n",
    "\n",
    "Existen principalmente dos tipos de estructuras de control:\n",
    "\n",
    "1. **Estructuras de control de selección (o condicionales)**: Permiten ejecutar diferentes bloques de código según condiciones específicas. Las más comunes son `if`, `else` y `elif`.\n",
    "\n",
    "2. **Estructuras de control de repetición (o bucles)**: Permiten ejecutar un bloque de código varias veces. Los bucles más utilizados son `for` y `while`."
   ]
  },
  {
   "cell_type": "markdown",
   "metadata": {},
   "source": [
    "---\n",
    "\n",
    "### 2. Introducción a los bloques en Python\n",
    "\n",
    "En programación, un **bloque** es un grupo de declaraciones que se ejecutan juntas como una unidad. Los bloques son fundamentales para estructurar el código y controlar el flujo de ejecución. En muchos lenguajes de programación, los bloques se delimitan con llaves (`{}`), pero en Python, se utiliza la indentación para definir bloques de código.\n",
    "\n",
    "#### a. Definición de bloques en Python\n",
    "\n",
    "En Python, la indentación es crucial y es la forma en que el lenguaje determina qué líneas de código pertenecen a un bloque determinado. La **[convención estándar definida en pep8 es usar 4 espacios](https://peps.python.org/pep-0008/#indentation)** para cada nivel de indentación. Esto significa que cuando se escribe un bloque de código, todas las líneas dentro del bloque deben estar alineadas con 4 espacios adicionales respecto a la línea anterior que inicia el bloque.\n",
    "\n",
    "#### b. Ejemplo de uso de bloques\n",
    "\n",
    "A continuación, se muestra un ejemplo simple utilizando una estructura de control `if` para ilustrar cómo se definen los bloques en Python:\n",
    "\n",
    "```python\n",
    "x = 10\n",
    "\n",
    "if x > 5:\n",
    "    print(\"x es mayor que 5\")\n",
    "    print(\"Este es otro mensaje dentro del bloque if\")\n",
    "print(\"Este mensaje está fuera del bloque if\")\n",
    "```\n",
    "\n",
    "#### c. Comparación con otros lenguajes\n",
    "\n",
    "En muchos otros lenguajes de programación, como C, C++, y Java, los bloques de código se definen utilizando llaves. Por ejemplo:\n",
    "\n",
    "```c\n",
    "if (x > 5) {\n",
    "    printf(\"x es mayor que 5\");\n",
    "    printf(\"Este es otro mensaje dentro del bloque if\");\n",
    "}\n",
    "printf(\"Este mensaje está fuera del bloque if\");\n",
    "```\n",
    "\n",
    "#### d. Características clave en Python\n",
    "\n",
    "1. **Terminación de líneas**: En Python, cada línea dentro de un bloque termina con un salto de línea (`\\n`) y no con un punto y coma (`;`) como en muchos otros lenguajes. Esto no solo mejora la legibilidad, sino que también obliga a los programadores a organizar su código de manera más clara. En lenguajes que utilizan `;`, es posible escribir múltiples instrucciones en la misma línea, lo que puede llevar a un código menos legible y más difícil de mantener.\n",
    "\n",
    "2. **Legibilidad**: La indentación forzada hace que el código sea más legible y más fácil de entender. Un bloque bien indentado permite a los programadores identificar rápidamente la estructura lógica del código.\n",
    "\n",
    "3. **Reducción de errores**: Al eliminar la necesidad de llaves, se minimizan los errores que pueden surgir de no cerrar adecuadamente los bloques. La correcta indentación se convierte en un requisito del lenguaje, lo que evita omisiones.\n",
    "\n",
    "4. **Simplicidad**: La simplicidad de la sintaxis de Python, que utiliza espacios en lugar de caracteres adicionales, contribuye a un código más limpio y menos cargado.\n",
    "\n",
    "#### c. IndentationError\n",
    "\n",
    "Un `IndentationError` en Python ocurre cuando la indentación del código no es coherente o correcta. A continuación, se presenta un ejemplo simple que ilustra cómo se produce este error:"
   ]
  },
  {
   "cell_type": "code",
   "execution_count": 4,
   "metadata": {},
   "outputs": [
    {
     "ename": "IndentationError",
     "evalue": "unindent does not match any outer indentation level (<string>, line 5)",
     "output_type": "error",
     "traceback": [
      "\u001b[0;36m  File \u001b[0;32m<string>:5\u001b[0;36m\u001b[0m\n\u001b[0;31m    print(\"Esto causará un IndentationError\")\u001b[0m\n\u001b[0m                                             ^\u001b[0m\n\u001b[0;31mIndentationError\u001b[0m\u001b[0;31m:\u001b[0m unindent does not match any outer indentation level\n"
     ]
    }
   ],
   "source": [
    "x = 10\n",
    "\n",
    "if x > 5:\n",
    "    print(\"x es mayor que 5\")\n",
    " print(\"Esto causará un IndentationError\")"
   ]
  },
  {
   "cell_type": "markdown",
   "metadata": {},
   "source": [
    "---\n",
    "\n",
    "### 3. Ejercicios con `if` `else`\n",
    "\n",
    "#### a. Calcular el precio de un producto con descuento\n",
    "\n",
    "Pide al usuario el precio de un producto y aplica un descuento según este criterio:\n",
    "   - Si el precio es mayor a 1000, aplica un 15% de descuento.\n",
    "   - Si está entre 500 y 1000, aplica un 10% de descuento.\n",
    "   - Si es menor a 500, aplica un 5% de descuento.\n",
    "Muestra el precio final con el descuento aplicado.\n",
    "\n",
    "```python\n",
    "# Ejemplo de salida esperada:\n",
    "# Precio del producto: 750\n",
    "# Resultado: El precio final con descuento es de 675.0\n",
    "```"
   ]
  },
  {
   "cell_type": "code",
   "execution_count": null,
   "metadata": {},
   "outputs": [],
   "source": [
    "precio = float(input(\"Ingresa el precio de un producto: \"))\n",
    "\n",
    "if precio > 1000:\n",
    "    precio *= 0.85 # 15% descuento\n",
    "elif 500 <= precio < 1000:\n",
    "    precio *= 0.9 # 10% descuento\n",
    "else:\n",
    "    precio *= 0.95 # 5% descuento\n",
    "\n",
    "print(f\"El precio final con descuento es de {precio}\")"
   ]
  },
  {
   "cell_type": "markdown",
   "metadata": {},
   "source": [
    "#### b. Descuento por cantidad comprada\n",
    "\n",
    "Escribe un programa que pida al usuario el precio de un producto y la cantidad de unidades que quiere comprar. Aplica un descuento basado en la cantidad:\n",
    "   - Si compra entre 1 y 5 unidades, aplica un 5% de descuento.\n",
    "   - Si compra entre 6 y 10 unidades, aplica un 10% de descuento.\n",
    "   - Si compra más de 10 unidades, aplica un 15% de descuento.\n",
    "\n",
    "Muestra el precio final con el descuento aplicado.\n",
    "\n",
    "```python\n",
    "# Ejemplo de salida esperada:\n",
    "# Ingresa el precio del producto: 200\n",
    "# Ingresa la cantidad de unidades: 8\n",
    "# Resultado: El precio final con descuento es 1440.0\n",
    "```"
   ]
  },
  {
   "cell_type": "code",
   "execution_count": null,
   "metadata": {},
   "outputs": [],
   "source": [
    "precio = float(input(\"Ingresa el precio del producto: \"))\n",
    "cantidad = int(input(\"Ingresa la cantidad en unidades: \"))\n",
    "\n",
    "descuento = 0\n",
    "\n",
    "if 1 <= cantidad <= 5:\n",
    "    descuento = 0.95\n",
    "elif 6 <= cantidad <= 10:\n",
    "    descuento = 0.9\n",
    "else:\n",
    "    descuento = 0.85\n",
    "\n",
    "precio_final = precio * cantidad * descuento\n",
    "\n",
    "print(f\"Precio sin descuento: {precio * cantidad}\")\n",
    "print(f\"Resultado: El precio final con descuento es {precio_final:.1f}\")"
   ]
  },
  {
   "cell_type": "markdown",
   "metadata": {},
   "source": [
    "#### c. Cálculo de aumento de precio según la categoría del producto\n",
    "\n",
    "Pide al usuario ingresar el precio de un producto y la categoría a la que pertenece:\n",
    "   - \"A\": aplica un aumento del 20%\n",
    "   - \"B\": aplica un aumento del 10%\n",
    "   - \"C\": aplica un aumento del 5%\n",
    "\n",
    "Si la categoría ingresada no es válida, muestra un mensaje de error. Calcula el precio final con el aumento y muestra el resultado.\n",
    "\n",
    "```python\n",
    "# Ejemplo de salida esperada:\n",
    "# Ingresa el precio del producto: 150\n",
    "# Ingresa la categoría (A/B/C): B\n",
    "# Resultado: El precio final con aumento es 165.0\n",
    "```"
   ]
  },
  {
   "cell_type": "code",
   "execution_count": null,
   "metadata": {},
   "outputs": [],
   "source": [
    "precio = float(input(\"Ingresa el precio del producto: \"))\n",
    "\n",
    "categoria = input(\"Ingresa la categoria (A/B/C): \").strip().upper()\n",
    "\n",
    "if categoria == 'A':\n",
    "    aumento = 1.2 # 20%\n",
    "elif categoria == 'B':\n",
    "    aumento = 1.1\n",
    "elif categoria == 'C':\n",
    "    aumento = 1.05 # 5%\n",
    "else:\n",
    "    print(\"Error: categoría no válida.\")\n",
    "    exit()\n",
    "\n",
    "precio_final = precio * aumento\n",
    "\n",
    "print(f\"Resultado: El precio final con aumento es {precio_final:.1f}\")"
   ]
  },
  {
   "cell_type": "markdown",
   "metadata": {},
   "source": [
    "#### d. Calificación de un estudiante\n",
    "\n",
    "Escribe un programa que le pida al usuario una calificación entre 0 y 100 y que determine la letra correspondiente:\n",
    "   - 90 a 100: \"A\"\n",
    "   - 80 a 89: \"B\"\n",
    "   - 70 a 79: \"C\"\n",
    "   - 60 a 69: \"D\"\n",
    "   - Menor a 60: \"F\"\n",
    "\n",
    "Muestra la letra correspondiente.\n",
    "\n",
    "```python\n",
    "# Ejemplo de salida esperada:\n",
    "# Ingresa la calificación: 85\n",
    "# Resultado: La calificación es B\n",
    "```"
   ]
  },
  {
   "cell_type": "code",
   "execution_count": null,
   "metadata": {},
   "outputs": [],
   "source": [
    "calificacion = float(input(\"Ingresa la calificación (0 a 100): \"))\n",
    "\n",
    "letra = \"\"\n",
    "\n",
    "if 0 <= calificacion <= 100:\n",
    "    if 90 <= calificacion <= 100:\n",
    "        letra = \"A\"\n",
    "    elif 80 <= calificacion < 90:\n",
    "        letra = \"B\"\n",
    "    elif 70 <= calificacion < 80:\n",
    "        letra = \"C\"\n",
    "    elif 60 <= calificacion < 70:\n",
    "        letra = \"D\"\n",
    "    else:  # Menor a 60\n",
    "        letra = \"F\"\n",
    "\n",
    "    print(f\"Resultado: La calificación es {letra}\")\n",
    "else:\n",
    "    print(\"Error: La calificación debe estar entre 0 y 100.\")"
   ]
  },
  {
   "cell_type": "markdown",
   "metadata": {},
   "source": [
    "#### e. Clasificación de temperaturas\n",
    "\n",
    "Escribe un programa que pida al usuario una temperatura en grados Celsius entre -100 y 100, y la clasifique en:\n",
    "   - Menor a 0: \"Frío extremo\"\n",
    "   - Entre 0 y 15: \"Frío\"\n",
    "   - Entre 16 y 25: \"Templado\"\n",
    "   - Mayor a 25: \"Calor\"\n",
    "\n",
    "```python\n",
    "# Ejemplo de salida esperada:\n",
    "# Ingresa la temperatura en Celsius: 18\n",
    "# Resultado: La temperatura es templada.\n",
    "```"
   ]
  },
  {
   "cell_type": "code",
   "execution_count": null,
   "metadata": {},
   "outputs": [],
   "source": [
    "temperatura = float(input(\"Ingresa la temperatura en Celsius (-100 a 100): \"))\n",
    "\n",
    "clasificacion = \"\"\n",
    "\n",
    "if -100 <= temperatura <= 100:\n",
    "    # Clasificar la temperatura\n",
    "    if temperatura < 0:\n",
    "        clasificacion = \"Frío extremo\"\n",
    "    elif 0 <= temperatura <= 15:\n",
    "        clasificacion = \"Frío\"\n",
    "    elif 16 <= temperatura <= 25:\n",
    "        clasificacion = \"Templado\"\n",
    "    else:  # Mayor a 25\n",
    "        clasificacion = \"Calor\"\n",
    "\n",
    "    # Mostrar el resultado\n",
    "    print(f\"Resultado: La temperatura es {clasificacion}.\")\n",
    "else:\n",
    "    print(\"Error: La temperatura debe estar entre -100 y 100.\")"
   ]
  },
  {
   "cell_type": "markdown",
   "metadata": {},
   "source": [
    "#### f. Verificar acceso según el rol de usuario\n",
    "\n",
    "Solicita al usuario que ingrese su rol en una plataforma (administrador, editor o visitante) y muestra un mensaje con los permisos correspondientes:\n",
    "   - Administrador: “Tienes acceso total.”\n",
    "   - Editor: “Tienes acceso limitado para editar.”\n",
    "   - Visitante: “Tienes acceso de solo lectura.”\n",
    "\n",
    "```python\n",
    "# Ejemplo de salida esperada:\n",
    "# Ingresa tu rol (administrador/editor/visitante): editor\n",
    "# Resultado: Tienes acceso limitado para editar.\n",
    "```"
   ]
  },
  {
   "cell_type": "code",
   "execution_count": null,
   "metadata": {},
   "outputs": [],
   "source": [
    "rol = input(\"Ingresa tu rol (administrador/editor/visitante): \").strip().lower()\n",
    "\n",
    "if rol == \"administrador\":\n",
    "    mensaje = \"Tienes acceso total.\"\n",
    "elif rol == \"editor\":\n",
    "    mensaje = \"Tienes acceso limitado para editar.\"\n",
    "elif rol == \"visitante\":\n",
    "    mensaje = \"Tienes acceso de solo lectura.\"\n",
    "else:\n",
    "    mensaje = \"Error: Rol no válido.\"\n",
    "\n",
    "print(f\"Resultado: {mensaje}\")"
   ]
  },
  {
   "cell_type": "markdown",
   "metadata": {},
   "source": [
    "#### g. Determinar si un número es divisible entre 2 y entre 3\n",
    "\n",
    "Solicita al usuario un número y verifica si es divisible entre 2, entre 3 o entre ambos.\n",
    "\n",
    "```python\n",
    "# Ejemplo de salida esperada:\n",
    "# Ingresa un número: 12\n",
    "# Resultado: El número es divisible entre 2 y entre 3.\n",
    "```"
   ]
  },
  {
   "cell_type": "code",
   "execution_count": null,
   "metadata": {},
   "outputs": [],
   "source": [
    "numero = int(input(\"Ingresa un número: \"))\n",
    "\n",
    "resultado = \"\"\n",
    "\n",
    "# Verificar la divisibilidad\n",
    "divisible_por_2 = (numero % 2 == 0)\n",
    "divisible_por_3 = (numero % 3 == 0)\n",
    "\n",
    "# Determinar el mensaje según la divisibilidad\n",
    "if divisible_por_2 and divisible_por_3:\n",
    "    resultado = \"El número es divisible entre 2 y entre 3.\"\n",
    "elif divisible_por_2:\n",
    "    resultado = \"El número es divisible entre 2.\"\n",
    "elif divisible_por_3:\n",
    "    resultado = \"El número es divisible entre 3.\"\n",
    "else:\n",
    "    resultado = \"El número no es divisible entre 2 ni entre 3.\"\n",
    "\n",
    "print(f\"Resultado: {resultado}\")"
   ]
  },
  {
   "cell_type": "markdown",
   "metadata": {},
   "source": [
    "#### h. Verificar la longitud de una palabra\n",
    "\n",
    "Escribe un programa que pida al usuario una palabra y verifique su longitud:\n",
    "   - Menos de 4 caracteres: “Palabra corta.”\n",
    "   - Entre 4 y 8 caracteres: “Palabra de longitud media.”\n",
    "   - Más de 8 caracteres: “Palabra larga.”\n",
    "\n",
    "```python\n",
    "# Ejemplo de salida esperada:\n",
    "# Ingresa una palabra: programación\n",
    "# Resultado: Palabra larga.\n",
    "```"
   ]
  },
  {
   "cell_type": "code",
   "execution_count": null,
   "metadata": {},
   "outputs": [],
   "source": [
    "palabra = input(\"Ingresa una palabra: \")\n",
    "\n",
    "# Obtener la longitud de la palabra\n",
    "longitud = len(palabra)\n",
    "\n",
    "\n",
    "if longitud < 4:\n",
    "    resultado = \"Palabra corta.\"\n",
    "elif 4 <= longitud <= 8:\n",
    "    resultado = \"Palabra de longitud media.\"\n",
    "else:  # Más de 8 caracteres\n",
    "    resultado = \"Palabra larga.\"\n",
    "\n",
    "print(f\"Resultado: {resultado}\")"
   ]
  },
  {
   "cell_type": "markdown",
   "metadata": {},
   "source": [
    "#### i. Tipo de triángulo según los lados\n",
    "\n",
    "Escribe un programa que pida al usuario tres números enteros que representan los lados de un triángulo: \n",
    "   - Equilátero: todos los lados iguales\n",
    "   - Isósceles: dos lados iguales\n",
    "   - Escaleno: todos los lados diferentes\n",
    "\n",
    "Si los valores no cumplen con la propiedad de un triángulo válido (la suma de dos lados debe ser mayor al tercer lado), muestra un mensaje indicando que no forman un triángulo.\n",
    "\n",
    "```python\n",
    "# Ejemplo de salida esperada:\n",
    "# Ingresa el primer lado: 5\n",
    "# Ingresa el segundo lado: 5\n",
    "# Ingresa el tercer lado: 8\n",
    "# Resultado: Es un triángulo isósceles.\n",
    "```"
   ]
  },
  {
   "cell_type": "code",
   "execution_count": null,
   "metadata": {},
   "outputs": [],
   "source": [
    "lado1 = int(input(\"Ingresa el primer lado: \"))\n",
    "lado2 = int(input(\"Ingresa el segundo lado: \"))\n",
    "lado3 = int(input(\"Ingresa el tercer lado: \"))\n",
    "\n",
    "# Verificar si los lados pueden formar un triángulo\n",
    "if (lado1 + lado2 > lado3) and (lado1 + lado3 > lado2) and (lado2 + lado3 > lado1):\n",
    "    # Determinar el tipo de triángulo\n",
    "    if lado1 == lado2 == lado3:\n",
    "        resultado = \"Es un triángulo equilátero.\"\n",
    "    elif lado1 == lado2 or lado1 == lado3 or lado2 == lado3:\n",
    "        resultado = \"Es un triángulo isósceles.\"\n",
    "    else:\n",
    "        resultado = \"Es un triángulo escaleno.\"\n",
    "else:\n",
    "    resultado = \"No forman un triángulo.\"\n",
    "\n",
    "print(f\"Resultado: {resultado}\")"
   ]
  },
  {
   "cell_type": "markdown",
   "metadata": {},
   "source": [
    "#### j. Verificar condiciones meteorológicas complejas\n",
    "\n",
    "Pide al usuario la temperatura y el nivel de humedad. Luego, determina el tipo de clima:\n",
    "   - Si la temperatura es menor a 10°C y la humedad es mayor al 80%, indica \"Frío y húmedo\".\n",
    "   - Si la temperatura es menor a 10°C y la humedad es menor o igual a 80%, indica \"Frío y seco\".\n",
    "   - Si la temperatura está entre 10°C y 25°C y la humedad es mayor al 60%, indica \"Templado y húmedo\".\n",
    "   - Si la temperatura está entre 10°C y 25°C y la humedad es menor o igual a 60%, indica \"Templado y seco\".\n",
    "   - Si la temperatura es mayor a 25°C, verifica si la humedad es mayor a 50% para indicar \"Caluroso y húmedo\" o \"Caluroso y seco\" en caso contrario.\n",
    "\n",
    "```python\n",
    "# Ejemplo de salida esperada:\n",
    "# Ingresa la temperatura en °C: 27\n",
    "# Ingresa el nivel de humedad (%): 40\n",
    "# Resultado: Caluroso y seco.\n",
    "```"
   ]
  },
  {
   "cell_type": "code",
   "execution_count": null,
   "metadata": {},
   "outputs": [],
   "source": [
    "temperatura = float(input(\"Ingresa la temperatura en °C: \"))\n",
    "humedad = float(input(\"Ingresa el nivel de humedad (%): \"))\n",
    "\n",
    "resultado = \"\"\n",
    "\n",
    "if temperatura < 10:\n",
    "    if humedad > 80:\n",
    "        resultado = \"Frío y húmedo.\"\n",
    "    else:  # humedad <= 80\n",
    "        resultado = \"Frío y seco.\"\n",
    "elif 10 <= temperatura <= 25:\n",
    "    if humedad > 60:\n",
    "        resultado = \"Templado y húmedo.\"\n",
    "    else:  # humedad <= 60\n",
    "        resultado = \"Templado y seco.\"\n",
    "else:  # temperatura > 25\n",
    "    if humedad > 50:\n",
    "        resultado = \"Caluroso y húmedo.\"\n",
    "    else:  # humedad <= 50\n",
    "        resultado = \"Caluroso y seco.\"\n",
    "\n",
    "print(f\"Resultado: {resultado}\")"
   ]
  },
  {
   "cell_type": "markdown",
   "metadata": {},
   "source": [
    "---\n",
    "\n",
    "### 4. Diferencias entre el bucle `for` tradicional y el `for` en Python\n",
    "\n",
    "El bucle `for` es una estructura de control fundamental que se utiliza para iterar sobre una secuencia de elementos, como listas, tuplas o cadenas. Sin embargo, la forma en que se implementa varía entre los lenguajes de programación. A continuación, se analizan las diferencias entre un bucle `for` tradicional, como el que se encuentra en C o Java, y el bucle `for` en Python.\n",
    "\n",
    "#### a. Sintaxis\n",
    "\n",
    "- **Bucle `for` tradicional (C/C++/Java)**\n",
    "\n",
    "  En lenguajes como C o Java, el bucle `for` tiene una sintaxis más estructurada y requiere inicialización, condición y actualización dentro de la declaración:\n",
    "\n",
    "  ```c\n",
    "  for (int i = 0; i < 10; i++) {\n",
    "      printf(\"%d\\n\", i);\n",
    "  }\n",
    "  ```\n",
    "\n",
    "  - Inicialización: `int i = 0;` - Se inicializa una variable de control.\n",
    "  - Condición: `i < 10;` - Se evalúa antes de cada iteración.\n",
    "  - Actualización: `i++` - Se incrementa después de cada iteración.\n",
    "\n",
    "- **Bucle `for` en Python**\n",
    "\n",
    "  En Python, el bucle `for` tiene una sintaxis más simple y se basa en la iteración sobre elementos de una colección:\n",
    "\n",
    "  ```python\n",
    "  for i in range(10):\n",
    "      print(i)\n",
    "  ```\n",
    "\n",
    "#### b. Tipo de iteración\n",
    "\n",
    "- **Bucle `for` tradicional**\n",
    "\n",
    "  Los bucles `for` tradicionales a menudo se utilizan con un contador que se incrementa en cada iteración. Esto puede dar lugar a errores si la condición no se maneja correctamente.\n",
    "\n",
    "- **Bucle `for` en Python**\n",
    "\n",
    "  El bucle `for` en Python es inherentemente más flexible. Permite iterar directamente sobre cualquier objeto iterable, como listas, diccionarios, o cadenas, **sin necesidad de un contador**:\n",
    "\n",
    "  ```python\n",
    "  frutas = [\"manzana\", \"banana\", \"cereza\"]\n",
    "  for fruta in frutas:\n",
    "      print(fruta)\n",
    "  ```\n",
    "\n",
    "#### c. Manejo de la indentación\n",
    "\n",
    "- **Bucle `for` tradicional**\n",
    "\n",
    "  En lenguajes como C o Java, los bloques de código dentro del bucle `for` se delimitan con llaves (`{}`):\n",
    "\n",
    "  ```c\n",
    "  for (int i = 0; i < 10; i++) {\n",
    "      printf(\"%d\\n\", i);\n",
    "  }\n",
    "  ```\n",
    "\n",
    "- **Bucle `for` en Python**\n",
    "\n",
    "  Python utiliza la indentación para definir el bloque de código, lo que contribuye a la legibilidad:\n",
    "\n",
    "  ```python\n",
    "  for i in range(10):\n",
    "      print(i)  # Este código pertenece al bloque del for\n",
    "  ```\n",
    "\n",
    "#### d. Control de flujo\n",
    "\n",
    "- **Bucle `for` tradicional**\n",
    "\n",
    "  En muchos lenguajes, puedes usar `break` y `continue` para controlar el flujo de la iteración:\n",
    "\n",
    "  ```c\n",
    "  for (int i = 0; i < 10; i++) {\n",
    "      if (i == 5) break; // Sale del bucle cuando i es 5\n",
    "      printf(\"%d\\n\", i);\n",
    "  }\n",
    "  ```\n",
    "\n",
    "- **Bucle `for` en Python**\n",
    "\n",
    "  Python también permite el uso de `break` y `continue`, pero de una manera más legible gracias a la indentación:\n",
    "\n",
    "  ```python\n",
    "  for i in range(10):\n",
    "      if i == 5:\n",
    "          break  # Sale del bucle cuando i es 5\n",
    "      print(i)\n",
    "  ```"
   ]
  },
  {
   "cell_type": "markdown",
   "metadata": {},
   "source": [
    "---\n",
    "\n",
    "### 5. ¿Qué es un Iterable en Python?\n",
    "\n",
    "Un **iterable** en Python es cualquier objeto que se puede recorrer en un bucle. Esto significa que puedes usar un `for` para acceder a sus elementos uno por uno. Los iterables son fundamentales en Python, ya que permiten trabajar con colecciones de datos de manera eficiente.\n",
    "\n",
    "#### a. Características de los iterables\n",
    "\n",
    "1. **Recorrido**: Los iterables pueden ser recorridos usando bucles, lo que permite acceder a cada elemento secuencialmente.\n",
    "   \n",
    "2. **Método `__iter__()`**: Un objeto se considera iterable si implementa el método especial `__iter__()`, que devuelve un iterador. Este iterador, a su vez, debe implementar el método `__next__()` para acceder a los elementos de forma secuencial.\n",
    "\n",
    "3. **Tipos comunes de iterables**: Los tipos de datos comunes que son iterables incluyen:\n",
    "   - Listas (`list`)\n",
    "   - Tuplas (`tuple`)\n",
    "   - Cadenas (`str`)\n",
    "   - Conjuntos (`set`)\n",
    "   - Diccionarios (`dict`)\n",
    "   - Rangos (`range`)\n",
    "\n",
    "#### b. Ejemplo de cadenas (`str`) como iterables\n",
    "\n",
    "Las cadenas de texto (`str`) también son iterables en Python. Puedes recorrer cada carácter de una cadena utilizando un bucle. Por ejemplo:"
   ]
  },
  {
   "cell_type": "code",
   "execution_count": 5,
   "metadata": {},
   "outputs": [
    {
     "name": "stdout",
     "output_type": "stream",
     "text": [
      "H\n",
      "o\n",
      "l\n",
      "a\n"
     ]
    }
   ],
   "source": [
    "texto = \"Hola\"\n",
    "for caracter in texto:\n",
    "    print(caracter)"
   ]
  },
  {
   "cell_type": "markdown",
   "metadata": {},
   "source": [
    "#### c. ¿`range` devuelve un iterable?\n",
    "\n",
    "Sí, la función `range()` en Python devuelve un objeto de tipo `range`, que es un iterable. Aunque no es una secuencia tradicional (como una lista o una tupla), el objeto `range` puede ser recorrido en un bucle y genera los números en la secuencia especificada **sin crear una lista en memoria**. Esto lo hace eficiente en términos de uso de memoria, especialmente cuando se trabaja con grandes rangos de números."
   ]
  },
  {
   "cell_type": "code",
   "execution_count": 7,
   "metadata": {},
   "outputs": [
    {
     "name": "stdout",
     "output_type": "stream",
     "text": [
      "0\n",
      "1\n",
      "2\n",
      "3\n",
      "4\n"
     ]
    }
   ],
   "source": [
    "for i in range(5):  # Itera desde 0 hasta 4\n",
    "    print(i)"
   ]
  },
  {
   "cell_type": "markdown",
   "metadata": {},
   "source": [
    "---\n",
    "\n",
    "### 6. Ejercicios con `for` y `while`\n",
    "\n",
    "#### a. Sumar números\n",
    "Escribe un programa que pida al usuario un número entero positivo `n` y calcule la suma de todos los números desde 1 hasta `n` utilizando un bucle `for`.\n",
    "\n",
    "**Pistas:**\n",
    "- Puedes inicializar una variable `suma` en 0 y usarla para acumular los resultados dentro del bucle."
   ]
  },
  {
   "cell_type": "code",
   "execution_count": null,
   "metadata": {},
   "outputs": [],
   "source": [
    "n = int(input(\"Ingresa un número entero positivo: \"))\n",
    "\n",
    "suma = 0\n",
    "\n",
    "for i in range(1, n + 1):\n",
    "    suma += i  # Sumar el valor de i a la suma\n",
    "\n",
    "print(f\"La suma de todos los números desde 1 hasta {n} es: {suma}\")"
   ]
  },
  {
   "cell_type": "markdown",
   "metadata": {},
   "source": [
    "#### b. Contar vocales\n",
    "\n",
    "Crea un programa que pida al usuario una frase y cuente cuántas vocales (a, e, i, o, u) hay en la frase utilizando un bucle `for`.\n",
    "\n",
    "**Pistas:**\n",
    "- Usa una lista o cadena que contenga las vocales y verifica cada carácter de la frase para ver si está en esa lista."
   ]
  },
  {
   "cell_type": "code",
   "execution_count": null,
   "metadata": {},
   "outputs": [],
   "source": [
    "frase = input(\"Ingresa una frase: \")\n",
    "\n",
    "vocales = \"aeiou\"\n",
    "\n",
    "contador_vocales = 0\n",
    "\n",
    "for char in frase.lower():\n",
    "    if char in vocales:\n",
    "        contador_vocales += 1\n",
    "\n",
    "print(f\"La cantidad de vocales en la frase es: {contador_vocales}\")"
   ]
  },
  {
   "cell_type": "markdown",
   "metadata": {},
   "source": [
    "#### c. Números pares con `while`\n",
    "\n",
    "Crea un programa que imprima todos los números pares del 1 al 100 utilizando un bucle `while`.\n",
    "\n",
    "**Pistas:**\n",
    "- Comienza desde 2 y usa un contador que aumente de 2 en 2 para imprimir solo los números pares."
   ]
  },
  {
   "cell_type": "code",
   "execution_count": null,
   "metadata": {},
   "outputs": [],
   "source": [
    "contador = 2\n",
    "\n",
    "while contador <= 100:\n",
    "    print(contador)\n",
    "    contador += 2"
   ]
  },
  {
   "cell_type": "markdown",
   "metadata": {},
   "source": [
    "#### d. Adivina el número\n",
    "\n",
    "Desarrolla un juego donde el programa elige un número aleatorio entre 1 y 100, y el usuario debe adivinarlo. El programa debe usar un bucle `while` para permitir múltiples intentos.\n",
    "\n",
    "**Pistas:**\n",
    "- Usa la biblioteca `random` y la función `randint()` para generar un número aleatorio.\n",
    "- Proporciona retroalimentación al usuario si su intento es menor o mayor."
   ]
  },
  {
   "cell_type": "code",
   "execution_count": null,
   "metadata": {},
   "outputs": [],
   "source": [
    "import random\n",
    "\n",
    "numero_secreto = random.randint(1, 100)\n",
    "\n",
    "intento = 0\n",
    "\n",
    "while intento != numero_secreto:\n",
    "    intento = int(input(\"Adivina el número entre 1 y 100: \"))\n",
    "\n",
    "    if intento < numero_secreto:\n",
    "        print(\"Demasiado bajo. Intenta nuevamente.\")\n",
    "    elif intento > numero_secreto:\n",
    "        print(\"Demasiado alto. Intenta nuevamente.\")\n",
    "    else:\n",
    "        print(\"¡Felicidades! Has adivinado el número.\")"
   ]
  },
  {
   "cell_type": "markdown",
   "metadata": {},
   "source": [
    "#### e. Contar espacios\n",
    "\n",
    "Pide al usuario que ingrese un texto y cuenta cuántos espacios hay utilizando un bucle `for`.\n",
    "\n",
    "**Pistas:**\n",
    "- Recuerda que el objeto str es un iterable."
   ]
  },
  {
   "cell_type": "code",
   "execution_count": null,
   "metadata": {},
   "outputs": [],
   "source": [
    "texto = input(\"Ingresa un texto: \")\n",
    "\n",
    "espacios = 0\n",
    "\n",
    "for caracter in texto:\n",
    "    if caracter == ' ':\n",
    "        espacios += 1\n",
    "\n",
    "print(f\"El número de espacios en el texto es: {espacios}\")"
   ]
  },
  {
   "cell_type": "markdown",
   "metadata": {},
   "source": [
    "#### f. Imprimir un triángulo\n",
    "\n",
    "Escribe un programa que imprima un triángulo de asteriscos (`*`). Pide al usuario el número de filas y usa un bucle `for`.\n",
    "\n",
    "**Pistas:**\n",
    "- En cada iteración, imprime el número correspondiente de asteriscos, que puede ser igual al número de la fila actual."
   ]
  },
  {
   "cell_type": "code",
   "execution_count": null,
   "metadata": {},
   "outputs": [],
   "source": [
    "filas = int(input(\"Ingresa el número de filas: \"))\n",
    "\n",
    "for i in range(1, filas + 1):\n",
    "    print('*' * i)"
   ]
  },
  {
   "cell_type": "markdown",
   "metadata": {},
   "source": [
    "#### g. Factorial\n",
    "\n",
    "Crea un programa que calcule el factorial de un número entero positivo ingresado por el usuario usando un bucle `for`.\n",
    "\n",
    "**Pistas:**\n",
    "- El factorial de un número `n` es el producto de todos los números enteros desde 1 hasta `n`.\n",
    "- Puedes inicializar un acumulador en 1 y multiplicar en cada iteración."
   ]
  },
  {
   "cell_type": "code",
   "execution_count": null,
   "metadata": {},
   "outputs": [],
   "source": [
    "n = int(input(\"Ingresa un número entero positivo: \"))\n",
    "\n",
    "factorial = 1\n",
    "\n",
    "for i in range(1, n + 1):  # Desde 1 hasta n (inclusive)\n",
    "    factorial *= i  # Multiplicar el acumulador por el número actual\n",
    "\n",
    "print(f\"El factorial de {n} es: {factorial}\")"
   ]
  },
  {
   "cell_type": "markdown",
   "metadata": {},
   "source": [
    "#### h. Números Fibonacci\n",
    "\n",
    "Escribe un programa que imprima los primeros `n` números de la secuencia de Fibonacci, donde `n` es ingresado por el usuario.\n",
    "\n",
    "**Pistas:**\n",
    "- Recuerda que los primeros dos números de Fibonacci son 0 y 1, y cada número siguiente es la suma de los dos anteriores.\n",
    "- La secuencia de Fibonacci para los primeros 10 números es: 0, 1, 1, 2, 3, 5, 8, 13, 21, 34."
   ]
  },
  {
   "cell_type": "code",
   "execution_count": null,
   "metadata": {},
   "outputs": [],
   "source": [
    "n = int(input(\"Ingresa la cantidad de números de Fibonacci que deseas imprimir: \"))\n",
    "\n",
    "# Inicializar los primeros dos números de la secuencia de Fibonacci\n",
    "a, b = 0, 1\n",
    "\n",
    "# Comprobar si n es mayor que 0 para evitar errores\n",
    "if n <= 0:\n",
    "    print(\"Por favor, ingresa un número entero positivo.\")\n",
    "else:\n",
    "    print(\"Los primeros\", n, \"números de Fibonacci son:\")\n",
    "\n",
    "    for _ in range(n):\n",
    "        print(a, end=\", \")  # Imprimir el número actual en la secuencia\n",
    "        a, b = b, a + b    # Actualizar los valores de a y b"
   ]
  }
 ],
 "metadata": {
  "kernelspec": {
   "display_name": ".env",
   "language": "python",
   "name": "python3"
  },
  "language_info": {
   "codemirror_mode": {
    "name": "ipython",
    "version": 3
   },
   "file_extension": ".py",
   "mimetype": "text/x-python",
   "name": "python",
   "nbconvert_exporter": "python",
   "pygments_lexer": "ipython3",
   "version": "3.12.7"
  }
 },
 "nbformat": 4,
 "nbformat_minor": 2
}
