{
 "cells": [
  {
   "cell_type": "markdown",
   "metadata": {},
   "source": [
    "# Estructuras de Control en Python - Material complementario\n",
    "\n",
    "### 1. Introducción a las Estructuras de Control en Programación\n",
    "\n",
    "Las **estructuras de control** son componentes fundamentales en la programación que permiten tomar decisiones, repetir tareas y dirigir el flujo de ejecución de un programa. Gracias a estas estructuras, un programa puede responder de manera dinámica a diferentes condiciones y situaciones, permitiendo que el código se adapte a diversas entradas y circunstancias.\n",
    "\n",
    "Existen principalmente dos tipos de estructuras de control:\n",
    "\n",
    "1. **Estructuras de control de selección (o condicionales)**: Permiten ejecutar diferentes bloques de código según condiciones específicas. Las más comunes son `if`, `else` y `elif`.\n",
    "\n",
    "2. **Estructuras de control de repetición (o bucles)**: Permiten ejecutar un bloque de código varias veces. Los bucles más utilizados son `for` y `while`."
   ]
  },
  {
   "cell_type": "markdown",
   "metadata": {},
   "source": [
    "---\n",
    "\n",
    "### 2. Introducción a los Bloques en Python\n",
    "\n",
    "En programación, un **bloque** es un grupo de declaraciones que se ejecutan juntas como una unidad. Los bloques son fundamentales para estructurar el código y controlar el flujo de ejecución. En muchos lenguajes de programación, los bloques se delimitan con llaves (`{}`), pero en Python, se utiliza la indentación para definir bloques de código.\n",
    "\n",
    "#### a. Definición de Bloques en Python\n",
    "\n",
    "En Python, la indentación es crucial y es la forma en que el lenguaje determina qué líneas de código pertenecen a un bloque determinado. La **[convención estándar definida en pep8 es usar 4 espacios](https://peps.python.org/pep-0008/#indentation)** para cada nivel de indentación. Esto significa que cuando se escribe un bloque de código, todas las líneas dentro del bloque deben estar alineadas con 4 espacios adicionales respecto a la línea anterior que inicia el bloque.\n",
    "\n",
    "#### b. Ejemplo de Uso de Bloques\n",
    "\n",
    "A continuación, se muestra un ejemplo simple utilizando una estructura de control `if` para ilustrar cómo se definen los bloques en Python:\n",
    "\n",
    "```python\n",
    "x = 10\n",
    "\n",
    "if x > 5:\n",
    "    print(\"x es mayor que 5\")\n",
    "    print(\"Este es otro mensaje dentro del bloque if\")\n",
    "print(\"Este mensaje está fuera del bloque if\")\n",
    "```\n",
    "\n",
    "#### c. Comparación con Otros Lenguajes\n",
    "\n",
    "En muchos otros lenguajes de programación, como C, C++, y Java, los bloques de código se definen utilizando llaves. Por ejemplo:\n",
    "\n",
    "```c\n",
    "if (x > 5) {\n",
    "    printf(\"x es mayor que 5\");\n",
    "    printf(\"Este es otro mensaje dentro del bloque if\");\n",
    "}\n",
    "printf(\"Este mensaje está fuera del bloque if\");\n",
    "```\n",
    "\n",
    "#### d. Características clave en Python\n",
    "\n",
    "1. **Terminación de Líneas**: En Python, cada línea dentro de un bloque termina con un salto de línea (`\\n`) y no con un punto y coma (`;`) como en muchos otros lenguajes. Esto no solo mejora la legibilidad, sino que también obliga a los programadores a organizar su código de manera más clara. En lenguajes que utilizan `;`, es posible escribir múltiples instrucciones en la misma línea, lo que puede llevar a un código menos legible y más difícil de mantener.\n",
    "\n",
    "2. **Legibilidad**: La indentación forzada hace que el código sea más legible y más fácil de entender. Un bloque bien indentado permite a los programadores identificar rápidamente la estructura lógica del código.\n",
    "\n",
    "3. **Reducción de Errores**: Al eliminar la necesidad de llaves, se minimizan los errores que pueden surgir de no cerrar adecuadamente los bloques. La correcta indentación se convierte en un requisito del lenguaje, lo que evita omisiones.\n",
    "\n",
    "4. **Simplicidad**: La simplicidad de la sintaxis de Python, que utiliza espacios en lugar de caracteres adicionales, contribuye a un código más limpio y menos cargado.\n",
    "\n",
    "#### c. IndentationError\n",
    "\n",
    "Un `IndentationError` en Python ocurre cuando la indentación del código no es coherente o correcta. A continuación, se presenta un ejemplo simple que ilustra cómo se produce este error:"
   ]
  },
  {
   "cell_type": "code",
   "execution_count": 4,
   "metadata": {},
   "outputs": [
    {
     "ename": "IndentationError",
     "evalue": "unindent does not match any outer indentation level (<string>, line 5)",
     "output_type": "error",
     "traceback": [
      "\u001b[0;36m  File \u001b[0;32m<string>:5\u001b[0;36m\u001b[0m\n\u001b[0;31m    print(\"Esto causará un IndentationError\")\u001b[0m\n\u001b[0m                                             ^\u001b[0m\n\u001b[0;31mIndentationError\u001b[0m\u001b[0;31m:\u001b[0m unindent does not match any outer indentation level\n"
     ]
    }
   ],
   "source": [
    "x = 10\n",
    "\n",
    "if x > 5:\n",
    "    print(\"x es mayor que 5\")\n",
    " print(\"Esto causará un IndentationError\")"
   ]
  },
  {
   "cell_type": "markdown",
   "metadata": {},
   "source": [
    "---\n",
    "\n",
    "### 3. Diferencias entre el Bucle `for` Tradicional y el `for` en Python\n",
    "\n",
    "El bucle `for` es una estructura de control fundamental que se utiliza para iterar sobre una secuencia de elementos, como listas, tuplas o cadenas. Sin embargo, la forma en que se implementa varía entre los lenguajes de programación. A continuación, se analizan las diferencias entre un bucle `for` tradicional, como el que se encuentra en C o Java, y el bucle `for` en Python.\n",
    "\n",
    "#### a. Sintaxis\n",
    "\n",
    "**Bucle `for` Tradicional (C/C++/Java)**\n",
    "\n",
    "En lenguajes como C o Java, el bucle `for` tiene una sintaxis más estructurada y requiere inicialización, condición y actualización dentro de la declaración:\n",
    "\n",
    "```c\n",
    "for (int i = 0; i < 10; i++) {\n",
    "    printf(\"%d\\n\", i);\n",
    "}\n",
    "```\n",
    "\n",
    "- **Inicialización**: `int i = 0;` - Se inicializa una variable de control.\n",
    "- **Condición**: `i < 10;` - Se evalúa antes de cada iteración.\n",
    "- **Actualización**: `i++` - Se incrementa después de cada iteración.\n",
    "\n",
    "**Bucle `for` en Python**\n",
    "\n",
    "En Python, el bucle `for` es más conciso y se basa en la iteración sobre elementos de una colección:\n",
    "\n",
    "```python\n",
    "for i in range(10):\n",
    "    print(i)\n",
    "```\n",
    "\n",
    "- **Sintaxis más simple**: No requiere inicialización ni actualización explícita. La función `range(10)` genera una secuencia de números del 0 al 9.\n",
    "\n",
    "#### b. Tipo de Iteración\n",
    "\n",
    "**Bucle `for` Tradicional**\n",
    "\n",
    "Los bucles `for` tradicionales a menudo se utilizan con un contador que se incrementa en cada iteración. Esto puede dar lugar a errores si la condición no se maneja correctamente.\n",
    "\n",
    "**Bucle `for` en Python**\n",
    "\n",
    "El bucle `for` en Python es inherentemente más flexible. Permite iterar directamente sobre cualquier objeto iterable, como listas, diccionarios, o cadenas. Por ejemplo:\n",
    "\n",
    "```python\n",
    "frutas = [\"manzana\", \"banana\", \"cereza\"]\n",
    "for fruta in frutas:\n",
    "    print(fruta)\n",
    "```\n",
    "\n",
    "En este caso, el bucle itera directamente sobre los elementos de la lista `frutas`, sin necesidad de un contador.\n",
    "\n",
    "#### c. Manejo de la Indentación\n",
    "\n",
    "**Bucle `for` Tradicional**\n",
    "\n",
    "En lenguajes como C o Java, los bloques de código dentro del bucle `for` se delimitan con llaves (`{}`):\n",
    "\n",
    "```c\n",
    "for (int i = 0; i < 10; i++) {\n",
    "    printf(\"%d\\n\", i);\n",
    "}\n",
    "```\n",
    "\n",
    "**Bucle `for` en Python**\n",
    "\n",
    "Python utiliza la indentación para definir el bloque de código, lo que contribuye a la legibilidad:\n",
    "\n",
    "```python\n",
    "for i in range(10):\n",
    "    print(i)  # Este código pertenece al bloque del for\n",
    "```\n",
    "\n",
    "La correcta indentación es crucial en Python y ayuda a mantener el código organizado y legible.\n",
    "\n",
    "#### d. Control de Flujo\n",
    "\n",
    "**Bucle `for` Tradicional**\n",
    "\n",
    "En muchos lenguajes, puedes usar `break` y `continue` para controlar el flujo de la iteración:\n",
    "\n",
    "```c\n",
    "for (int i = 0; i < 10; i++) {\n",
    "    if (i == 5) break; // Sale del bucle cuando i es 5\n",
    "    printf(\"%d\\n\", i);\n",
    "}\n",
    "```\n",
    "\n",
    "**Bucle `for` en Python**\n",
    "\n",
    "Python también permite el uso de `break` y `continue`, pero de una manera más legible gracias a la indentación:\n",
    "\n",
    "```python\n",
    "for i in range(10):\n",
    "    if i == 5:\n",
    "        break  # Sale del bucle cuando i es 5\n",
    "    print(i)\n",
    "```"
   ]
  },
  {
   "cell_type": "markdown",
   "metadata": {},
   "source": [
    "---\n",
    "\n",
    "### 4. ¿Qué es un Iterable en Python?\n",
    "\n",
    "Un **iterable** en Python es cualquier objeto que se puede recorrer en un bucle. Esto significa que puedes usar un `for` para acceder a sus elementos uno por uno. Los iterables son fundamentales en Python, ya que permiten trabajar con colecciones de datos de manera eficiente.\n",
    "\n",
    "#### a. Características de los Iterables\n",
    "\n",
    "1. **Recorrido**: Los iterables pueden ser recorridos usando bucles, lo que permite acceder a cada elemento secuencialmente.\n",
    "   \n",
    "2. **Método `__iter__()`**: Un objeto se considera iterable si implementa el método especial `__iter__()`, que devuelve un iterador. Este iterador, a su vez, debe implementar el método `__next__()` para acceder a los elementos de forma secuencial.\n",
    "\n",
    "3. **Tipos Comunes de Iterables**: Los tipos de datos comunes que son iterables incluyen:\n",
    "   - Listas (`list`)\n",
    "   - Tuplas (`tuple`)\n",
    "   - Cadenas (`str`)\n",
    "   - Conjuntos (`set`)\n",
    "   - Diccionarios (`dict`)\n",
    "   - Rangos (`range`)\n",
    "\n",
    "#### b. Ejemplo de Cadenas (`str`) como Iterable\n",
    "\n",
    "Las cadenas de texto (`str`) también son iterables en Python. Puedes recorrer cada carácter de una cadena utilizando un bucle. Por ejemplo:"
   ]
  },
  {
   "cell_type": "code",
   "execution_count": 5,
   "metadata": {},
   "outputs": [
    {
     "name": "stdout",
     "output_type": "stream",
     "text": [
      "H\n",
      "o\n",
      "l\n",
      "a\n"
     ]
    }
   ],
   "source": [
    "texto = \"Hola\"\n",
    "for caracter in texto:\n",
    "    print(caracter)"
   ]
  },
  {
   "cell_type": "markdown",
   "metadata": {},
   "source": [
    "#### c. ¿`range` Devuelve un Iterable?\n",
    "\n",
    "Sí, la función `range()` en Python devuelve un objeto de tipo `range`, que es un iterable. Aunque no es una secuencia tradicional (como una lista o una tupla), el objeto `range` puede ser recorrido en un bucle y genera los números en la secuencia especificada **sin crear una lista en memoria**. Esto lo hace eficiente en términos de uso de memoria, especialmente cuando se trabaja con grandes rangos de números."
   ]
  },
  {
   "cell_type": "code",
   "execution_count": 7,
   "metadata": {},
   "outputs": [
    {
     "name": "stdout",
     "output_type": "stream",
     "text": [
      "0\n",
      "1\n",
      "2\n",
      "3\n",
      "4\n"
     ]
    }
   ],
   "source": [
    "for i in range(5):  # Itera desde 0 hasta 4\n",
    "    print(i)"
   ]
  }
 ],
 "metadata": {
  "kernelspec": {
   "display_name": ".env",
   "language": "python",
   "name": "python3"
  },
  "language_info": {
   "codemirror_mode": {
    "name": "ipython",
    "version": 3
   },
   "file_extension": ".py",
   "mimetype": "text/x-python",
   "name": "python",
   "nbconvert_exporter": "python",
   "pygments_lexer": "ipython3",
   "version": "3.12.7"
  }
 },
 "nbformat": 4,
 "nbformat_minor": 2
}
