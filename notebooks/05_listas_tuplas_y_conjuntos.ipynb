{
 "cells": [
  {
   "cell_type": "markdown",
   "metadata": {},
   "source": [
    "# Clase 5: Listas, Tuplas y Conjuntos\n",
    "\n",
    "## Módulo 1: Listas\n",
    "\n",
    "### 1. Introducción a las listas\n",
    "\n",
    "Las listas en Python son colecciones ordenadas y mutables, lo que significa que puedes modificar sus elementos después de haberlas creado. Se definen usando corchetes `[]`.\n",
    "\n",
    "#### Ejemplo básico de una lista:"
   ]
  },
  {
   "cell_type": "code",
   "execution_count": 3,
   "metadata": {},
   "outputs": [
    {
     "name": "stdout",
     "output_type": "stream",
     "text": [
      "['manzana', 'banana', 'cereza']\n"
     ]
    }
   ],
   "source": [
    "frutas = [\"manzana\", \"banana\", \"cereza\"]\n",
    "print(frutas)"
   ]
  },
  {
   "cell_type": "markdown",
   "metadata": {},
   "source": [
    "#### 2. Acceso y modificación de elementos\n",
    "\n",
    "Puedes acceder a los elementos de una lista mediante su índice, y modificar los elementos directamente.\n",
    "\n",
    "##### Ejemplo:"
   ]
  },
  {
   "cell_type": "code",
   "execution_count": 4,
   "metadata": {},
   "outputs": [
    {
     "name": "stdout",
     "output_type": "stream",
     "text": [
      "banana\n",
      "['manzana', 'mango', 'cereza']\n"
     ]
    }
   ],
   "source": [
    "print(frutas[1])  # Acceso al segundo elemento: 'banana'\n",
    "frutas[1] = \"mango\"  # Cambia 'banana' por 'mango'\n",
    "print(frutas)"
   ]
  },
  {
   "cell_type": "markdown",
   "metadata": {},
   "source": [
    "#### 3. Métodos comunes de las listas\n",
    "\n",
    "Algunos métodos útiles de las listas incluyen:\n",
    "\n",
    "- **append()**: Agrega un elemento al final de la lista.\n",
    "- **insert()**: Inserta un elemento en una posición específica.\n",
    "- **remove()**: Elimina el primer elemento que coincide con el valor.\n",
    "- **pop()**: Elimina el elemento en una posición específica (por defecto, el último).\n",
    "- **sort()**: Ordena los elementos de la lista.\n",
    "\n",
    "##### Ejemplo:"
   ]
  },
  {
   "cell_type": "code",
   "execution_count": 5,
   "metadata": {},
   "outputs": [
    {
     "name": "stdout",
     "output_type": "stream",
     "text": [
      "['manzana', 'mango', 'cereza', 'naranja']\n"
     ]
    }
   ],
   "source": [
    "frutas.append(\"naranja\")  # Agrega 'naranja' al final\n",
    "print(frutas)"
   ]
  },
  {
   "cell_type": "code",
   "execution_count": 6,
   "metadata": {},
   "outputs": [
    {
     "name": "stdout",
     "output_type": "stream",
     "text": [
      "['manzana', 'kiwi', 'mango', 'cereza', 'naranja']\n"
     ]
    }
   ],
   "source": [
    "frutas.insert(1, \"kiwi\")  # Inserta 'kiwi' en la posición 1\n",
    "print(frutas)"
   ]
  },
  {
   "cell_type": "code",
   "execution_count": 7,
   "metadata": {},
   "outputs": [
    {
     "name": "stdout",
     "output_type": "stream",
     "text": [
      "['kiwi', 'mango', 'cereza', 'naranja']\n"
     ]
    }
   ],
   "source": [
    "frutas.remove(\"manzana\")  # Elimina 'manzana'\n",
    "print(frutas)"
   ]
  },
  {
   "cell_type": "code",
   "execution_count": 8,
   "metadata": {},
   "outputs": [
    {
     "name": "stdout",
     "output_type": "stream",
     "text": [
      "Última fruta eliminada: naranja\n",
      "['kiwi', 'mango', 'cereza']\n"
     ]
    }
   ],
   "source": [
    "ultima_fruta = frutas.pop()  # Elimina el último elemento y lo guarda\n",
    "print(\"Última fruta eliminada:\", ultima_fruta)\n",
    "print(frutas)"
   ]
  },
  {
   "cell_type": "code",
   "execution_count": 9,
   "metadata": {},
   "outputs": [
    {
     "name": "stdout",
     "output_type": "stream",
     "text": [
      "['cereza', 'kiwi', 'mango']\n"
     ]
    }
   ],
   "source": [
    "frutas.sort()  # Ordena la lista alfabéticamente\n",
    "print(frutas)"
   ]
  },
  {
   "cell_type": "markdown",
   "metadata": {},
   "source": [
    "#### 4. Listas anidadas\n",
    "\n",
    "Las listas pueden contener otras listas, lo que se llama listas anidadas.\n",
    "\n",
    "##### Ejemplo:"
   ]
  },
  {
   "cell_type": "code",
   "execution_count": 13,
   "metadata": {},
   "outputs": [
    {
     "name": "stdout",
     "output_type": "stream",
     "text": [
      "['manzana', 'banana']\n",
      "pepino\n"
     ]
    }
   ],
   "source": [
    "lista_anidada = [[\"manzana\", \"banana\"], [\"zanahoria\", \"pepino\"]]\n",
    "print(lista_anidada[0])  # Acceso a la primera sublista\n",
    "print(lista_anidada[1][1])  # Acceso a 'pepino'"
   ]
  },
  {
   "cell_type": "markdown",
   "metadata": {},
   "source": [
    "#### Ejercicio práctico:\n",
    "\n",
    "Crea una lista con al menos 5 números enteros. Luego, realiza las siguientes acciones:\n",
    "1. Agrega un número al final de la lista.\n",
    "2. Inserta un número en la segunda posición.\n",
    "3. Elimina el tercer número.\n",
    "4. Ordena la lista de menor a mayor."
   ]
  },
  {
   "cell_type": "code",
   "execution_count": null,
   "metadata": {},
   "outputs": [],
   "source": []
  },
  {
   "cell_type": "markdown",
   "metadata": {},
   "source": [
    "---\n",
    "\n",
    "## Módulo 2: Tuplas y conjuntos\n",
    "\n",
    "### 1. Tuplas\n",
    "\n",
    "Las tuplas son similares a las listas, pero a diferencia de estas, son inmutables (no se pueden modificar una vez creadas). Se definen usando paréntesis `()`.\n",
    "\n",
    "#### Ejemplo básico de una tupla:"
   ]
  },
  {
   "cell_type": "code",
   "execution_count": 14,
   "metadata": {},
   "outputs": [
    {
     "name": "stdout",
     "output_type": "stream",
     "text": [
      "('manzana', 'banana', 'cereza')\n"
     ]
    }
   ],
   "source": [
    "mi_tupla = (\"manzana\", \"banana\", \"cereza\")\n",
    "print(mi_tupla)"
   ]
  },
  {
   "cell_type": "markdown",
   "metadata": {},
   "source": [
    "#### 2. Acceso a elementos en una tupla\n",
    "\n",
    "Puedes acceder a los elementos de una tupla de la misma manera que en las listas, usando índices, pero no puedes modificar sus elementos.\n",
    "\n",
    "##### Ejemplo:"
   ]
  },
  {
   "cell_type": "code",
   "execution_count": 15,
   "metadata": {},
   "outputs": [
    {
     "name": "stdout",
     "output_type": "stream",
     "text": [
      "banana\n"
     ]
    }
   ],
   "source": [
    "print(mi_tupla[1])  # Acceso al segundo elemento: 'banana'\n",
    "\n",
    "# Intentar modificar un elemento dará un error:\n",
    "# mi_tupla[1] = \"mango\"  # Esto generará un TypeError"
   ]
  },
  {
   "cell_type": "markdown",
   "metadata": {},
   "source": [
    "#### 3. Conversión de tuplas a listas\n",
    "\n",
    "Si necesitas modificar una tupla, puedes convertirla temporalmente a una lista, hacer los cambios y volver a convertirla en tupla.\n",
    "\n",
    "##### Ejemplo:"
   ]
  },
  {
   "cell_type": "code",
   "execution_count": 16,
   "metadata": {},
   "outputs": [
    {
     "name": "stdout",
     "output_type": "stream",
     "text": [
      "(1, 'mango', 3)\n"
     ]
    }
   ],
   "source": [
    "mi_lista = list((1, 2, 3))  # Convertir tupla a lista\n",
    "mi_lista[1] = \"mango\"  # Modificar la lista\n",
    "mi_tupla = tuple(mi_lista)  # Convertir lista de nuevo a tupla\n",
    "print(mi_tupla)"
   ]
  },
  {
   "cell_type": "markdown",
   "metadata": {},
   "source": [
    "#### Ejercicio práctico:\n",
    "\n",
    "Crea una tupla con 4 colores diferentes. Luego, convierte la tupla en una lista, cambia el segundo color, y vuelve a convertir la lista en tupla."
   ]
  },
  {
   "cell_type": "code",
   "execution_count": null,
   "metadata": {},
   "outputs": [],
   "source": []
  },
  {
   "cell_type": "markdown",
   "metadata": {},
   "source": [
    "### 4. Conjuntos\n",
    "\n",
    "Los conjuntos son colecciones desordenadas y no permiten elementos duplicados. Se definen usando llaves `{}` o la función `set()`.\n",
    "\n",
    "#### Ejemplo básico de un conjunto:"
   ]
  },
  {
   "cell_type": "code",
   "execution_count": 11,
   "metadata": {},
   "outputs": [
    {
     "name": "stdout",
     "output_type": "stream",
     "text": [
      "{'cereza', 'banana', 'manzana'}\n"
     ]
    }
   ],
   "source": [
    "mi_conjunto = {\"manzana\", \"banana\", \"cereza\"}\n",
    "print(mi_conjunto)"
   ]
  },
  {
   "cell_type": "markdown",
   "metadata": {},
   "source": [
    "#### 5. Métodos de conjuntos\n",
    "\n",
    "Los conjuntos permiten operaciones como:\n",
    "\n",
    "- **add()**: Agrega un elemento al conjunto.\n",
    "- **remove()**: Elimina un elemento del conjunto (genera un error si no existe).\n",
    "- **discard()**: Elimina un elemento del conjunto (no genera error si no existe).\n",
    "- **union()**: Une dos conjuntos.\n",
    "- **intersection()**: Devuelve los elementos comunes entre dos conjuntos.\n",
    "- **difference()**: Devuelve los elementos que están en el primer conjunto pero no en el segundo.\n",
    "\n",
    "##### Ejemplo:"
   ]
  },
  {
   "cell_type": "code",
   "execution_count": 12,
   "metadata": {},
   "outputs": [
    {
     "name": "stdout",
     "output_type": "stream",
     "text": [
      "{'cereza', 'banana', 'manzana', 'naranja'}\n"
     ]
    }
   ],
   "source": [
    "mi_conjunto.add(\"naranja\")  # Agrega 'naranja' al conjunto\n",
    "print(mi_conjunto)"
   ]
  },
  {
   "cell_type": "code",
   "execution_count": 13,
   "metadata": {},
   "outputs": [
    {
     "name": "stdout",
     "output_type": "stream",
     "text": [
      "{'cereza', 'manzana', 'naranja'}\n"
     ]
    }
   ],
   "source": [
    "mi_conjunto.remove(\"banana\")  # Elimina 'banana' del conjunto\n",
    "print(mi_conjunto)"
   ]
  },
  {
   "cell_type": "code",
   "execution_count": 14,
   "metadata": {},
   "outputs": [
    {
     "name": "stdout",
     "output_type": "stream",
     "text": [
      "Unión: {1, 2, 3, 4, 5, 6}\n"
     ]
    }
   ],
   "source": [
    "# Conjuntos para realizar operaciones:\n",
    "A = {1, 2, 3, 4}\n",
    "B = {3, 4, 5, 6}\n",
    "\n",
    "union = A.union(B)  # Unión de A y B\n",
    "print(\"Unión:\", union)"
   ]
  },
  {
   "cell_type": "code",
   "execution_count": 15,
   "metadata": {},
   "outputs": [
    {
     "name": "stdout",
     "output_type": "stream",
     "text": [
      "Intersección: {3, 4}\n"
     ]
    }
   ],
   "source": [
    "interseccion = A.intersection(B)  # Intersección de A y B\n",
    "print(\"Intersección:\", interseccion)"
   ]
  },
  {
   "cell_type": "code",
   "execution_count": 16,
   "metadata": {},
   "outputs": [
    {
     "name": "stdout",
     "output_type": "stream",
     "text": [
      "Diferencia: {1, 2}\n"
     ]
    }
   ],
   "source": [
    "diferencia = A.difference(B)  # Elementos en A que no están en B\n",
    "print(\"Diferencia:\", diferencia)"
   ]
  },
  {
   "cell_type": "markdown",
   "metadata": {},
   "source": [
    "#### Ejercicio práctico:\n",
    "\n",
    "Crea dos conjuntos con números enteros. Luego:\n",
    "1. Realiza la unión de ambos conjuntos.\n",
    "2. Encuentra la intersección de los conjuntos.\n",
    "3. Encuentra la diferencia entre ambos conjuntos."
   ]
  },
  {
   "cell_type": "code",
   "execution_count": null,
   "metadata": {},
   "outputs": [],
   "source": []
  }
 ],
 "metadata": {
  "kernelspec": {
   "display_name": ".env",
   "language": "python",
   "name": "python3"
  },
  "language_info": {
   "codemirror_mode": {
    "name": "ipython",
    "version": 3
   },
   "file_extension": ".py",
   "mimetype": "text/x-python",
   "name": "python",
   "nbconvert_exporter": "python",
   "pygments_lexer": "ipython3",
   "version": "3.12.5"
  }
 },
 "nbformat": 4,
 "nbformat_minor": 2
}
