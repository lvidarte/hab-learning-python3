{
 "cells": [
  {
   "cell_type": "markdown",
   "metadata": {},
   "source": [
    "# Listas, Tuplas y Conjuntos - Material complementario"
   ]
  },
  {
   "cell_type": "markdown",
   "metadata": {},
   "source": [
    "### 1. Concepto de mutabilidad\n",
    "\n",
    "En Python, la **mutabilidad** o **inmutabilidad** de un objeto se refiere a su capacidad para cambiar después de su creación. Este concepto es fundamental para entender cómo funcionan las estructuras de datos y cómo manejar los datos de manera eficiente.\n",
    "\n",
    "#### a. ¿Por qué importa la mutabilidad?\n",
    "\n",
    "La mutabilidad afecta cómo se manejan y pasan los datos en Python:\n",
    "- **Objetos Mutables**: Si una función recibe un objeto mutable como argumento y lo modifica, los cambios se reflejarán fuera de la función porque el objeto es el mismo en memoria.\n",
    "- **Objetos Inmutables**: Si una función recibe un objeto inmutable y realiza cambios, se creará un nuevo objeto en la memoria, y el objeto original permanecerá sin cambios.\n",
    "\n",
    "#### b. Ejemplo comparativo"
   ]
  },
  {
   "cell_type": "code",
   "execution_count": 11,
   "metadata": {},
   "outputs": [
    {
     "name": "stdout",
     "output_type": "stream",
     "text": [
      "[1, 2, 3, 4]\n"
     ]
    }
   ],
   "source": [
    "def modificar_lista(lista):\n",
    "    lista.append(4)\n",
    "\n",
    "mi_lista = [1, 2, 3]\n",
    "modificar_lista(mi_lista)\n",
    "print(mi_lista)  # Salida: [1, 2, 3, 4] (la lista original cambió)"
   ]
  },
  {
   "cell_type": "code",
   "execution_count": 12,
   "metadata": {},
   "outputs": [
    {
     "name": "stdout",
     "output_type": "stream",
     "text": [
      "10\n"
     ]
    }
   ],
   "source": [
    "def modificar_entero(valor):\n",
    "    valor += 1\n",
    "\n",
    "mi_entero = 10\n",
    "modificar_entero(mi_entero)\n",
    "print(mi_entero)  # Salida: 10 (el entero original no cambió)"
   ]
  },
  {
   "cell_type": "markdown",
   "metadata": {},
   "source": [
    "- En el primer caso, `mi_lista` se modifica porque es mutable.\n",
    "- En el segundo caso, `mi_entero` no cambia porque los enteros son inmutables y el incremento crea un nuevo valor en la memoria.\n",
    "\n",
    "#### c. Resumen\n",
    "| Tipo de Objeto | Ejemplos             | ¿Mutable? |\n",
    "|----------------|----------------------|-----------|\n",
    "| Listas         | `[1, 2, 3]`          | Sí        |\n",
    "| Diccionarios   | `{'clave': 'valor'}` | Sí        |\n",
    "| Conjuntos      | `{1, 2, 3}`          | Sí        |\n",
    "| Enteros        | `5`, `42`, `-3`      | No        |\n",
    "| Cadenas        | `\"Hola\"`             | No        |\n",
    "| Tuplas         | `(1, 2, 3)`          | No        |\n",
    "\n",
    "La elección entre usar objetos mutables o inmutables depende del contexto y de la necesidad de cambiar o no el valor de los datos almacenados."
   ]
  },
  {
   "cell_type": "markdown",
   "metadata": {},
   "source": [
    "---\n",
    "\n",
    "### 2. Objetos mutables\n",
    "\n",
    "Un objeto **mutable** es aquel que se puede modificar después de su creación, es decir, podemos cambiar su contenido sin crear un nuevo objeto. Entre los tipos mutables más comunes en Python están las **listas**, **diccionarios** y **conjuntos**.\n",
    "\n",
    "#### a. Ejemplo de lista (objeto mutable)"
   ]
  },
  {
   "cell_type": "code",
   "execution_count": 20,
   "metadata": {},
   "outputs": [
    {
     "name": "stdout",
     "output_type": "stream",
     "text": [
      "[1, 2, 3, 4]\n"
     ]
    }
   ],
   "source": [
    "mi_lista = [1, 2, 3]\n",
    "mi_lista.append(4)   # Modifica la lista original\n",
    "print(mi_lista)"
   ]
  },
  {
   "cell_type": "markdown",
   "metadata": {},
   "source": [
    "En este caso, se ha modificado la lista `mi_lista` agregando un nuevo elemento sin necesidad de crear una nueva lista. \n",
    "\n",
    "#### b. Ejemplo de diccionario (objeto mutable)"
   ]
  },
  {
   "cell_type": "code",
   "execution_count": 19,
   "metadata": {},
   "outputs": [
    {
     "name": "stdout",
     "output_type": "stream",
     "text": [
      "{'nombre': 'Juan', 'edad': 26}\n"
     ]
    }
   ],
   "source": [
    "mi_diccionario = {'nombre': 'Juan', 'edad': 25}\n",
    "mi_diccionario['edad'] = 26  # Cambia el valor asociado a la clave 'edad'\n",
    "print(mi_diccionario)"
   ]
  },
  {
   "cell_type": "markdown",
   "metadata": {},
   "source": [
    "\n",
    "Acá, el diccionario `mi_diccionario` se modifica actualizando el valor de la clave `edad` sin necesidad de crear un nuevo diccionario."
   ]
  },
  {
   "cell_type": "markdown",
   "metadata": {},
   "source": [
    "---\n",
    "\n",
    "### 3. Objetos inmutables\n",
    "\n",
    "Un objeto **inmutable** no se puede modificar una vez que ha sido creado. Esto significa que cualquier \"modificación\" en un objeto inmutable en realidad crea un nuevo objeto en la memoria. Los tipos inmutables en Python incluyen **enteros**, **flotantes**, **cadenas de texto** (`str`), y **tuplas**.\n",
    "\n",
    "#### a. Ejemplo de string (objeto inmutable)"
   ]
  },
  {
   "cell_type": "code",
   "execution_count": 21,
   "metadata": {},
   "outputs": [
    {
     "name": "stdout",
     "output_type": "stream",
     "text": [
      "Hola Mundo\n"
     ]
    }
   ],
   "source": [
    "mi_cadena = \"Hola\"\n",
    "mi_cadena += \" Mundo\"  # Crea una nueva cadena en lugar de modificar la original\n",
    "print(mi_cadena)"
   ]
  },
  {
   "cell_type": "markdown",
   "metadata": {},
   "source": [
    "En este ejemplo, cuando hacemos `mi_cadena += \" Mundo\"`, Python crea una nueva cadena en lugar de modificar la original. La variable `mi_cadena` ahora apunta a esta nueva cadena, pero la cadena original `\"Hola\"` sigue existiendo por separado en la memoria.\n",
    "\n",
    "#### b. Ejemplo de tupla (objeto inmutable)"
   ]
  },
  {
   "cell_type": "code",
   "execution_count": 18,
   "metadata": {},
   "outputs": [
    {
     "ename": "TypeError",
     "evalue": "'tuple' object does not support item assignment",
     "output_type": "error",
     "traceback": [
      "\u001b[0;31m---------------------------------------------------------------------------\u001b[0m",
      "\u001b[0;31mTypeError\u001b[0m                                 Traceback (most recent call last)",
      "Cell \u001b[0;32mIn[18], line 2\u001b[0m\n\u001b[1;32m      1\u001b[0m mi_tupla \u001b[38;5;241m=\u001b[39m (\u001b[38;5;241m1\u001b[39m, \u001b[38;5;241m2\u001b[39m, \u001b[38;5;241m3\u001b[39m)\n\u001b[0;32m----> 2\u001b[0m \u001b[43mmi_tupla\u001b[49m\u001b[43m[\u001b[49m\u001b[38;5;241;43m0\u001b[39;49m\u001b[43m]\u001b[49m \u001b[38;5;241m=\u001b[39m \u001b[38;5;241m10\u001b[39m   \u001b[38;5;66;03m# Esto genera un error porque las tuplas son inmutables\u001b[39;00m\n",
      "\u001b[0;31mTypeError\u001b[0m: 'tuple' object does not support item assignment"
     ]
    }
   ],
   "source": [
    "mi_tupla = (1, 2, 3)\n",
    "mi_tupla[0] = 10   # Esto genera un error porque las tuplas son inmutables"
   ]
  },
  {
   "cell_type": "markdown",
   "metadata": {},
   "source": [
    "\n",
    "Las tuplas son inmutables, así que cualquier intento de cambiar uno de sus elementos provocará un error. \n"
   ]
  },
  {
   "cell_type": "markdown",
   "metadata": {},
   "source": [
    "---\n",
    "\n",
    "### 4. Funciones incorporadas (built-in) que trabajan con listas\n",
    "\n",
    "Python ofrece varias funciones incorporadas que hacen que trabajar con listas sea más flexible y permiten realizar muchas operaciones de manera rápida y efectiva en Python.\n",
    "\n",
    "#### a. `len()`\n",
    "La función `len()` devuelve la cantidad de elementos de una lista."
   ]
  },
  {
   "cell_type": "code",
   "execution_count": 22,
   "metadata": {},
   "outputs": [
    {
     "name": "stdout",
     "output_type": "stream",
     "text": [
      "5\n"
     ]
    }
   ],
   "source": [
    "mi_lista = [1, 2, 3, 4, 5]\n",
    "print(len(mi_lista))"
   ]
  },
  {
   "cell_type": "markdown",
   "metadata": {},
   "source": [
    "#### b. `max()`\n",
    "`max()` devuelve el valor máximo de una lista (siempre que todos los elementos sean comparables)."
   ]
  },
  {
   "cell_type": "code",
   "execution_count": 25,
   "metadata": {},
   "outputs": [
    {
     "name": "stdout",
     "output_type": "stream",
     "text": [
      "8\n"
     ]
    }
   ],
   "source": [
    "mi_lista = [3, 7, 2, 8, 4]\n",
    "print(max(mi_lista))"
   ]
  },
  {
   "cell_type": "markdown",
   "metadata": {},
   "source": [
    "#### c. `min()`\n",
    "`min()` devuelve el valor mínimo de una lista.\n",
    "\n"
   ]
  },
  {
   "cell_type": "code",
   "execution_count": 24,
   "metadata": {},
   "outputs": [
    {
     "name": "stdout",
     "output_type": "stream",
     "text": [
      "2\n"
     ]
    }
   ],
   "source": [
    "mi_lista = [3, 7, 2, 8, 4]\n",
    "print(min(mi_lista))"
   ]
  },
  {
   "cell_type": "markdown",
   "metadata": {},
   "source": [
    "#### d. `sum()`\n",
    "`sum()` devuelve la suma de todos los elementos de la lista (deben ser numéricos)."
   ]
  },
  {
   "cell_type": "code",
   "execution_count": 29,
   "metadata": {},
   "outputs": [
    {
     "name": "stdout",
     "output_type": "stream",
     "text": [
      "10\n"
     ]
    }
   ],
   "source": [
    "mi_lista = [1, 2, 3, 4]\n",
    "print(sum(mi_lista))"
   ]
  },
  {
   "cell_type": "markdown",
   "metadata": {},
   "source": [
    "#### e. `sorted()`\n",
    "`sorted()` devuelve una nueva lista con los elementos ordenados. No modifica la lista original."
   ]
  },
  {
   "cell_type": "code",
   "execution_count": 30,
   "metadata": {},
   "outputs": [
    {
     "name": "stdout",
     "output_type": "stream",
     "text": [
      "[1, 1, 3, 4, 5]\n",
      "[3, 1, 4, 1, 5]\n"
     ]
    }
   ],
   "source": [
    "mi_lista = [3, 1, 4, 1, 5]\n",
    "lista_ordenada = sorted(mi_lista)\n",
    "print(lista_ordenada)  # Salida: [1, 1, 3, 4, 5]\n",
    "print(mi_lista)        # Salida: [3, 1, 4, 1, 5] (sin cambios)"
   ]
  },
  {
   "cell_type": "markdown",
   "metadata": {},
   "source": [
    "#### f. `reversed()`\n",
    "`reversed()` devuelve un iterador que recorre la lista en orden inverso. Para convertirlo en una lista, usamos `list()`."
   ]
  },
  {
   "cell_type": "code",
   "execution_count": 31,
   "metadata": {},
   "outputs": [
    {
     "name": "stdout",
     "output_type": "stream",
     "text": [
      "[5, 4, 3, 2, 1]\n"
     ]
    }
   ],
   "source": [
    "mi_lista = [1, 2, 3, 4, 5]\n",
    "lista_invertida = list(reversed(mi_lista))\n",
    "print(lista_invertida)"
   ]
  },
  {
   "cell_type": "markdown",
   "metadata": {},
   "source": [
    "#### g. `any()`\n",
    "`any()` devuelve `True` si al menos uno de los elementos de la lista es `True` (o un valor no nulo)."
   ]
  },
  {
   "cell_type": "code",
   "execution_count": 46,
   "metadata": {},
   "outputs": [
    {
     "name": "stdout",
     "output_type": "stream",
     "text": [
      "True\n"
     ]
    }
   ],
   "source": [
    "mi_lista = [0, False, \"\", None, 1]\n",
    "print(any(mi_lista))  # Salida: True (porque el `1` es True)"
   ]
  },
  {
   "cell_type": "markdown",
   "metadata": {},
   "source": [
    "#### h. `all()`\n",
    "`all()` devuelve `True` solo si **todos** los elementos de la lista son `True`."
   ]
  },
  {
   "cell_type": "code",
   "execution_count": 45,
   "metadata": {},
   "outputs": [
    {
     "name": "stdout",
     "output_type": "stream",
     "text": [
      "True\n"
     ]
    }
   ],
   "source": [
    "mi_lista = [1, True, \"Texto\"]\n",
    "print(all(mi_lista))  # Salida: True (todos son verdaderos)"
   ]
  },
  {
   "cell_type": "markdown",
   "metadata": {},
   "source": [
    "#### i. `enumerate()`\n",
    "`enumerate()` devuelve un iterador que da un índice y el valor correspondiente de cada elemento de la lista."
   ]
  },
  {
   "cell_type": "code",
   "execution_count": 32,
   "metadata": {},
   "outputs": [
    {
     "name": "stdout",
     "output_type": "stream",
     "text": [
      "0 a\n",
      "1 b\n",
      "2 c\n"
     ]
    }
   ],
   "source": [
    "mi_lista = [\"a\", \"b\", \"c\"]\n",
    "for indice, valor in enumerate(mi_lista):\n",
    "    print(indice, valor)"
   ]
  },
  {
   "cell_type": "markdown",
   "metadata": {},
   "source": [
    "#### j. `zip()`\n",
    "`zip()` combina dos o más listas en una sola, creando pares de elementos de las listas originales."
   ]
  },
  {
   "cell_type": "code",
   "execution_count": 33,
   "metadata": {},
   "outputs": [
    {
     "name": "stdout",
     "output_type": "stream",
     "text": [
      "[('Ana', 22), ('Luis', 35), ('Sofía', 29)]\n"
     ]
    }
   ],
   "source": [
    "nombres = [\"Ana\", \"Luis\", \"Sofía\"]\n",
    "edades = [22, 35, 29]\n",
    "combinado = list(zip(nombres, edades))\n",
    "print(combinado)"
   ]
  },
  {
   "cell_type": "markdown",
   "metadata": {},
   "source": [
    "#### k. `map()`\n",
    "`map()` aplica una función a cada elemento de una lista y devuelve un iterador con los resultados."
   ]
  },
  {
   "cell_type": "code",
   "execution_count": 43,
   "metadata": {},
   "outputs": [
    {
     "name": "stdout",
     "output_type": "stream",
     "text": [
      "[1, 4, 9, 16]\n"
     ]
    }
   ],
   "source": [
    "mi_lista = [1, 2, 3, 4]\n",
    "cuadrados = list(map(lambda x: x ** 2, mi_lista))\n",
    "print(cuadrados)"
   ]
  },
  {
   "cell_type": "markdown",
   "metadata": {},
   "source": [
    "#### l. `filter()`\n",
    "`filter()` devuelve un iterador con los elementos que cumplen una condición específica."
   ]
  },
  {
   "cell_type": "code",
   "execution_count": 35,
   "metadata": {},
   "outputs": [
    {
     "name": "stdout",
     "output_type": "stream",
     "text": [
      "[2, 4]\n"
     ]
    }
   ],
   "source": [
    "mi_lista = [1, 2, 3, 4, 5]\n",
    "pares = list(filter(lambda x: x % 2 == 0, mi_lista))\n",
    "print(pares)"
   ]
  },
  {
   "cell_type": "markdown",
   "metadata": {},
   "source": [
    "#### m. `list()`\n",
    "`list()` convierte un iterable (como una cadena o un rango) en una lista."
   ]
  },
  {
   "cell_type": "code",
   "execution_count": 42,
   "metadata": {},
   "outputs": [
    {
     "name": "stdout",
     "output_type": "stream",
     "text": [
      "['h', 'o', 'l', 'a']\n"
     ]
    }
   ],
   "source": [
    "cadena = \"hola\"\n",
    "lista = list(cadena)\n",
    "print(lista)"
   ]
  },
  {
   "cell_type": "markdown",
   "metadata": {},
   "source": [
    "___\n",
    "\n",
    "### 5. Ejercicios con listas\n",
    "\n",
    "Estos ejercicios son básicos pero muy útiles para empezar a familiarizarse con la manipulación de listas en Python. Prueba modificando los valores y las listas, y experimenta con los métodos que Python ofrece para listas, como `append`, `remove`, y `pop`.\n",
    "\n",
    "#### a. Sumar todos los elementos\n",
    "\n",
    "Dada una lista de números, calcula la suma de todos sus elementos e imprime el resultado."
   ]
  },
  {
   "cell_type": "code",
   "execution_count": 5,
   "metadata": {},
   "outputs": [
    {
     "name": "stdout",
     "output_type": "stream",
     "text": [
      "30\n"
     ]
    }
   ],
   "source": [
    "numeros = [2, 4, 6, 8, 10]\n",
    "# Debería imprimir: 30\n",
    "\n",
    "# sum(numeros)\n",
    "\n",
    "suma = 0\n",
    "for numero in numeros:\n",
    "    suma += numero\n",
    "\n",
    "print(suma)"
   ]
  },
  {
   "cell_type": "markdown",
   "metadata": {},
   "source": [
    "#### b. Encontrar el mayor elemento\n",
    "\n",
    "Dada una lista de números, encuentra el mayor elemento y muéstralo."
   ]
  },
  {
   "cell_type": "code",
   "execution_count": 4,
   "metadata": {},
   "outputs": [
    {
     "name": "stdout",
     "output_type": "stream",
     "text": [
      "9\n"
     ]
    }
   ],
   "source": [
    "numeros = [1, 5, 3, 9, 7]\n",
    "# Debería imprimir: 9\n",
    "\n",
    "# max(numeros)\n",
    "\n",
    "mayor = 0\n",
    "for numero in numeros:\n",
    "    if numero > mayor:\n",
    "        mayor = numero\n",
    "\n",
    "print(mayor)"
   ]
  },
  {
   "cell_type": "markdown",
   "metadata": {},
   "source": [
    "\n",
    "#### c. Invertir una lista\n",
    "\n",
    "Dada una lista, invierte el orden de sus elementos e imprime la lista resultante."
   ]
  },
  {
   "cell_type": "code",
   "execution_count": 7,
   "metadata": {},
   "outputs": [
    {
     "name": "stdout",
     "output_type": "stream",
     "text": [
      "['Sofía', 'Luis', 'Juan', 'Ana']\n"
     ]
    }
   ],
   "source": [
    "nombres = [\"Ana\", \"Juan\", \"Luis\", \"Sofía\"]\n",
    "# Debería imprimir: [\"Sofía\", \"Luis\", \"Juan\", \"Ana\"]\n",
    "\n",
    "# nombres[::-1]\n",
    "\n",
    "nombres_ordenados = []\n",
    "for i in range(3, -1, -1):\n",
    "    nombres_ordenados.append(nombres[i])\n",
    "\n",
    "print(nombres_ordenados)"
   ]
  },
  {
   "cell_type": "markdown",
   "metadata": {},
   "source": [
    "#### d. Contar ocurrencias de un elemento\n",
    "\n",
    "Dada una lista de palabras, cuenta cuántas veces aparece una palabra específica en la lista e imprime el resultado."
   ]
  },
  {
   "cell_type": "code",
   "execution_count": 8,
   "metadata": {},
   "outputs": [
    {
     "name": "stdout",
     "output_type": "stream",
     "text": [
      "3\n"
     ]
    }
   ],
   "source": [
    "palabras = [\"hola\", \"mundo\", \"hola\", \"python\", \"hola\"]\n",
    "palabra_a_contar = \"hola\"\n",
    "# Debería imprimir: 3\n",
    "\n",
    "# palabras.count('hola')\n",
    "\n",
    "contador = 0\n",
    "for palabra in palabras:\n",
    "    if palabra == palabra_a_contar:\n",
    "        contador += 1\n",
    "\n",
    "print(contador)"
   ]
  },
  {
   "cell_type": "markdown",
   "metadata": {},
   "source": [
    "\n",
    "#### e. Eliminar duplicados\n",
    "\n",
    "Dada una lista con elementos repetidos, crea una nueva lista solo con los elementos únicos (sin duplicados) e imprímela."
   ]
  },
  {
   "cell_type": "code",
   "execution_count": 9,
   "metadata": {},
   "outputs": [
    {
     "name": "stdout",
     "output_type": "stream",
     "text": [
      "[1, 2, 3, 4, 5]\n"
     ]
    }
   ],
   "source": [
    "numeros = [1, 2, 2, 3, 4, 4, 5]\n",
    "# Debería imprimir: [1, 2, 3, 4, 5]\n",
    "\n",
    "# list(set(numeros))\n",
    "\n",
    "numeros_unicos = []\n",
    "for numero in numeros:\n",
    "    if numero not in numeros_unicos:\n",
    "        numeros_unicos.append(numero)\n",
    "\n",
    "print(numeros_unicos)"
   ]
  },
  {
   "cell_type": "markdown",
   "metadata": {},
   "source": [
    "\n",
    "#### f. Ordenar una lista de menor a mayor\n",
    "\n",
    "Dada una lista de números desordenados, ordénala de menor a mayor e imprime la lista ordenada."
   ]
  },
  {
   "cell_type": "code",
   "execution_count": 11,
   "metadata": {},
   "outputs": [
    {
     "name": "stdout",
     "output_type": "stream",
     "text": [
      "[1, 3, 4, 7, 9]\n"
     ]
    }
   ],
   "source": [
    "numeros = [7, 3, 9, 1, 4]\n",
    "# Debería imprimir: [1, 3, 4, 7, 9]\n",
    "\n",
    "# sorted(numeros)\n",
    "\n",
    "for i in range(len(numeros)):\n",
    "    for j in range(0, len(numeros) - i - 1):\n",
    "       if numeros[j] > numeros[j + 1]:\n",
    "           numeros[j], numeros[j + 1] = numeros[j + 1], numeros[j]\n",
    "\n",
    "print(numeros)"
   ]
  },
  {
   "cell_type": "markdown",
   "metadata": {},
   "source": [
    "\n",
    "#### g. Filtrar números pares\n",
    "\n",
    "Dada una lista de números, crea una nueva lista solo con los números pares e imprémela."
   ]
  },
  {
   "cell_type": "code",
   "execution_count": 12,
   "metadata": {},
   "outputs": [
    {
     "name": "stdout",
     "output_type": "stream",
     "text": [
      "[2, 4, 6, 8]\n"
     ]
    }
   ],
   "source": [
    "numeros = [1, 2, 3, 4, 5, 6, 7, 8]\n",
    "# Debería imprimir: [2, 4, 6, 8]\n",
    "\n",
    "# pares = [n for n in numeros if n % 2 == 0]\n",
    "\n",
    "pares = []\n",
    "for n in numeros:\n",
    "    if n % 2 == 0:\n",
    "        pares.append(n)\n",
    "\n",
    "print(pares)"
   ]
  },
  {
   "cell_type": "markdown",
   "metadata": {},
   "source": [
    "\n",
    "#### h. Concatenar listas\n",
    "\n",
    "Dadas dos listas, combina sus elementos en una sola lista e imprime el resultado."
   ]
  },
  {
   "cell_type": "code",
   "execution_count": 13,
   "metadata": {},
   "outputs": [
    {
     "name": "stdout",
     "output_type": "stream",
     "text": [
      "['a', 'b', 'c', 1, 2, 3]\n"
     ]
    }
   ],
   "source": [
    "lista1 = [\"a\", \"b\", \"c\"]\n",
    "lista2 = [1, 2, 3]\n",
    "# Debería imprimir: [\"a\", \"b\", \"c\", 1, 2, 3]\n",
    "\n",
    "lista = lista1 + lista2\n",
    "print(lista)"
   ]
  },
  {
   "cell_type": "markdown",
   "metadata": {},
   "source": [
    "\n",
    "####  i. Eliminar el primer y último elemento\n",
    "\n",
    "Dada una lista, elimine el primer y último elemento e imprime la lista resultante."
   ]
  },
  {
   "cell_type": "code",
   "execution_count": 14,
   "metadata": {},
   "outputs": [
    {
     "name": "stdout",
     "output_type": "stream",
     "text": [
      "Ana, Juan, Luis\n"
     ]
    }
   ],
   "source": [
    "nombres = [\"Pedro\", \"Ana\", \"Juan\", \"Luis\", \"Sofía\"]\n",
    "# Debería imprimir: [\"Ana\", \"Juan\", \"Luis\"]\n",
    "\n",
    "nombres.pop(0)\n",
    "nombres.pop()\n",
    "print(', '.join(nombres))"
   ]
  },
  {
   "cell_type": "markdown",
   "metadata": {},
   "source": [
    "---\n",
    "\n",
    "### 6. Listas vs. Tuplas\n",
    "\n",
    "En Python, tanto las listas como las tuplas son estructuras de datos que almacenan una secuencia de elementos. Sin embargo, existen diferencias clave entre ellas que influyen en su uso, en particular en relación con la **mutabilidad**, la **eficiencia** y las **funciones** aplicables.\n",
    "\n",
    "El uso de listas o tuplas depende del contexto y de la naturaleza de los datos. Si necesitas flexibilidad y capacidad de modificación, las listas son adecuadas. Por el contrario, si estás trabajando con datos constantes que no requieren cambios, una tupla es la opción más eficiente y segura.\n",
    "\n",
    "#### a. Diferencias principales entre listas y tuplas\n",
    "\n",
    "1. **Mutabilidad**: La diferencia más importante es que las listas son **mutables**, mientras que las tuplas son **inmutables**. Esto significa que una vez que creas una lista, puedes modificarla (agregar, eliminar o cambiar elementos). Por otro lado, una vez que se crea una tupla, sus elementos no pueden cambiar. Esta inmutabilidad hace que las tuplas sean más seguras para datos que no necesitan modificarse y pueden proteger la integridad de los datos en ciertos contextos.\n",
    "\n",
    "2. **Rendimiento**: Debido a su inmutabilidad, las tuplas son generalmente **más eficientes en términos de memoria y velocidad**. Las operaciones que involucran tuplas, como su creación o el acceso a elementos, suelen ser más rápidas que en listas. Esto hace que las tuplas sean preferibles cuando se trabaja con una gran cantidad de datos fijos, ya que el procesamiento será más rápido.\n",
    "\n",
    "3. **Funciones disponibles**: Aunque listas y tuplas comparten varias funciones, como `len()`, `max()` y `min()`, las listas ofrecen métodos adicionales que permiten modificar sus elementos, tales como `append()`, `remove()`, y `sort()`. Estos métodos no están disponibles para las tuplas, ya que su inmutabilidad impide cualquier alteración en su contenido.\n",
    "\n",
    "4. **Uso en claves de diccionarios**: Otra ventaja de las tuplas es que pueden usarse como **claves en diccionarios** o en conjuntos (`sets`), mientras que las listas no pueden debido a su mutabilidad. Esto es útil cuando necesitas asociar datos fijos a una clave, como en los casos de coordenadas o pares de datos.\n",
    "\n",
    "#### b. Casos en los que es conveniente usar una lista\n",
    "\n",
    "- **Datos modificables**: Si necesitas almacenar datos que pueden cambiar, como un carrito de compras, una lista de tareas o registros que pueden actualizarse, una lista es la mejor opción.\n",
    "- **Operaciones de modificación frecuentes**: Si se requiere agregar, eliminar o modificar elementos constantemente, las listas son ideales por su flexibilidad.\n",
    "- **Ordenación de datos**: Si los datos necesitan ordenarse o si se realizan operaciones de ordenamiento, una lista es más adecuada, ya que puedes usar el método `sort()` o `reverse()` sin tener que crear una nueva estructura.\n",
    "\n",
    "#### c. Casos en los que es conveniente usar una tupla\n",
    "\n",
    "- **Datos fijos**: Cuando tienes una secuencia de datos que no cambiarán, como las coordenadas de un punto (x, y), una fecha (día, mes, año) o configuraciones que deben ser constantes, las tuplas son la mejor opción.\n",
    "- **Optimización de memoria**: En casos de procesamiento intensivo, donde se necesita una estructura ligera y rápida, las tuplas ofrecen ventajas en cuanto a rendimiento. Esto es útil en estructuras de datos complejas o cuando se manejan grandes volúmenes de datos fijos.\n",
    "- **Claves de diccionario**: Si necesitas asociar datos con una clave en un diccionario, las tuplas son ideales para definir pares de datos constantes y únicos, como identificadores o combinaciones de valores.\n",
    "\n",
    "#### d. Ejemplos\n",
    "\n",
    "1. **Lista**: Un menú de opciones en una interfaz que puede actualizarse."
   ]
  },
  {
   "cell_type": "code",
   "execution_count": 47,
   "metadata": {},
   "outputs": [
    {
     "name": "stdout",
     "output_type": "stream",
     "text": [
      "['Inicio', 'Perfil', 'Ajustes', 'Ayuda']\n"
     ]
    }
   ],
   "source": [
    "opciones_menu = [\"Inicio\", \"Perfil\", \"Ajustes\"]\n",
    "opciones_menu.append(\"Ayuda\")  # Modificación posible\n",
    "print(opciones_menu)"
   ]
  },
  {
   "cell_type": "markdown",
   "metadata": {},
   "source": [
    "2. **Tupla**: Coordenadas de un punto en un sistema de gráficos."
   ]
  },
  {
   "cell_type": "code",
   "execution_count": 49,
   "metadata": {},
   "outputs": [
    {
     "ename": "TypeError",
     "evalue": "'tuple' object does not support item assignment",
     "output_type": "error",
     "traceback": [
      "\u001b[0;31m---------------------------------------------------------------------------\u001b[0m",
      "\u001b[0;31mTypeError\u001b[0m                                 Traceback (most recent call last)",
      "Cell \u001b[0;32mIn[49], line 2\u001b[0m\n\u001b[1;32m      1\u001b[0m punto \u001b[38;5;241m=\u001b[39m (\u001b[38;5;241m10\u001b[39m, \u001b[38;5;241m20\u001b[39m)\n\u001b[0;32m----> 2\u001b[0m \u001b[43mpunto\u001b[49m\u001b[43m[\u001b[49m\u001b[38;5;241;43m0\u001b[39;49m\u001b[43m]\u001b[49m \u001b[38;5;241m=\u001b[39m \u001b[38;5;241m15\u001b[39m  \u001b[38;5;66;03m# Esto lanza un error, ya que las tuplas son inmutables\u001b[39;00m\n",
      "\u001b[0;31mTypeError\u001b[0m: 'tuple' object does not support item assignment"
     ]
    }
   ],
   "source": [
    "punto = (10, 20)\n",
    "punto[0] = 15  # Esto lanza un error, ya que las tuplas son inmutables"
   ]
  },
  {
   "cell_type": "markdown",
   "metadata": {},
   "source": [
    "---\n",
    "\n",
    "### 7. Listas vs. Sets\n",
    "\n",
    "La elección entre listas y conjuntos depende de tus necesidades específicas en cuanto al manejo de datos, el orden y la unicidad. Las listas son ideales para colecciones ordenadas y con duplicados, mientras que los conjuntos son mejores para operaciones que requieren rapidez y exclusividad.\n",
    "\n",
    "#### a. Ventajas de usar listas\n",
    "\n",
    "1. **Orden de los elementos**: Las listas mantienen el orden de inserción de los elementos. Esto significa que puedes acceder a los elementos en el mismo orden en que fueron añadidos. Esto es especialmente útil cuando necesitas procesar datos en un orden específico."
   ]
  },
  {
   "cell_type": "code",
   "execution_count": 52,
   "metadata": {},
   "outputs": [
    {
     "name": "stdout",
     "output_type": "stream",
     "text": [
      "[3, 1, 4, 2]\n"
     ]
    }
   ],
   "source": [
    "lista = [3, 1, 4, 2]\n",
    "print(lista)"
   ]
  },
  {
   "cell_type": "markdown",
   "metadata": {},
   "source": [
    "2. **Permiten duplicados**: Las listas pueden contener elementos duplicados. Esto es útil cuando deseas representar una colección de elementos en la que el mismo valor puede tener significados diferentes o simplemente aparece varias veces."
   ]
  },
  {
   "cell_type": "code",
   "execution_count": 51,
   "metadata": {},
   "outputs": [
    {
     "name": "stdout",
     "output_type": "stream",
     "text": [
      "[1, 2, 2, 3, 4]\n"
     ]
    }
   ],
   "source": [
    "lista_con_duplicados = [1, 2, 2, 3, 4]\n",
    "print(lista_con_duplicados)"
   ]
  },
  {
   "cell_type": "markdown",
   "metadata": {},
   "source": [
    "3. **Acceso por índice**: Puedes acceder a los elementos de una lista usando índices, lo que te permite acceder a elementos específicos de manera rápida y eficiente."
   ]
  },
  {
   "cell_type": "code",
   "execution_count": 53,
   "metadata": {},
   "outputs": [
    {
     "name": "stdout",
     "output_type": "stream",
     "text": [
      "b\n"
     ]
    }
   ],
   "source": [
    "lista = ['a', 'b', 'c']\n",
    "print(lista[1])"
   ]
  },
  {
   "cell_type": "markdown",
   "metadata": {},
   "source": [
    "4. **Métodos adicionales**: Las listas ofrecen una variedad de métodos útiles (como `append()`, `insert()`, `remove()`, y `sort()`) que no están disponibles en conjuntos. Esto las hace más versátiles para manipular y organizar datos."
   ]
  },
  {
   "cell_type": "code",
   "execution_count": 55,
   "metadata": {},
   "outputs": [
    {
     "name": "stdout",
     "output_type": "stream",
     "text": [
      "[3, 1, 4, 2]\n"
     ]
    }
   ],
   "source": [
    "lista = [3, 1, 4]\n",
    "lista.append(2)  # Agrega 2 al final\n",
    "print(lista)"
   ]
  },
  {
   "cell_type": "markdown",
   "metadata": {},
   "source": [
    "5. **Iteración y comprensión de listas**: Las listas son fáciles de iterar y permiten la comprensión de listas, lo que facilita la creación de nuevas listas a partir de las existentes con un solo comando."
   ]
  },
  {
   "cell_type": "code",
   "execution_count": 56,
   "metadata": {},
   "outputs": [
    {
     "name": "stdout",
     "output_type": "stream",
     "text": [
      "[1, 4, 9, 16]\n"
     ]
    }
   ],
   "source": [
    "lista = [1, 2, 3, 4]\n",
    "cuadrados = [x**2 for x in lista]\n",
    "print(cuadrados)"
   ]
  },
  {
   "cell_type": "markdown",
   "metadata": {},
   "source": [
    "#### b. Desventajas en comparación con `set`\n",
    "\n",
    "- **Búsqueda y operación de pertenencia**: Los conjuntos son más eficientes para comprobar la pertenencia de un elemento, ya que utilizan tablas hash. Por lo tanto, las operaciones como `in` son más rápidas en conjuntos que en listas.\n",
    "  \n",
    "- **Duplicados**: Si no necesitas duplicados, usar un conjunto es más apropiado, ya que automáticamente eliminará cualquier elemento repetido.\n",
    "\n",
    "- **Uso de memoria**: Los conjuntos suelen ser más eficientes en términos de uso de memoria cuando se trabaja con grandes volúmenes de datos únicos."
   ]
  },
  {
   "cell_type": "markdown",
   "metadata": {},
   "source": [
    "---\n",
    "\n",
    "### 8. Ejercicios con listas y conjuntos\n",
    "\n",
    "Aquí tienes cinco ejercicios que combinan el uso de conjuntos (`sets`) y listas en Python. Estos ejercicios te ayudarán a practicar cómo trabajar con ambos tipos de datos de manera efectiva.\n",
    "\n",
    "#### a. Eliminar duplicados de una lista\n",
    "\n",
    "Dada una lista con elementos duplicados, utiliza un conjunto para crear una nueva lista que contenga solo los elementos únicos."
   ]
  },
  {
   "cell_type": "code",
   "execution_count": 15,
   "metadata": {},
   "outputs": [
    {
     "name": "stdout",
     "output_type": "stream",
     "text": [
      "['Juan', 'Ana', 'Sofía', 'Luis']\n"
     ]
    }
   ],
   "source": [
    "nombres = [\"Ana\", \"Luis\", \"Juan\", \"Ana\", \"Sofía\", \"Luis\"]\n",
    "# Salida esperada: ['Ana', 'Luis', 'Juan', 'Sofía']\n",
    "\n",
    "nombres_unicos = list(set(nombres))\n",
    "print(nombres_unicos)"
   ]
  },
  {
   "cell_type": "markdown",
   "metadata": {},
   "source": [
    "\n",
    "#### b. Encontrar elementos comunes entre dos listas\n",
    "\n",
    "Dadas dos listas, encuentra los elementos que están presentes en ambas y devuelve una lista con esos elementos únicos utilizando conjuntos."
   ]
  },
  {
   "cell_type": "code",
   "execution_count": 16,
   "metadata": {},
   "outputs": [
    {
     "name": "stdout",
     "output_type": "stream",
     "text": [
      "[4, 5]\n"
     ]
    }
   ],
   "source": [
    "lista1 = [1, 2, 3, 4, 5]\n",
    "lista2 = [4, 5, 6, 7, 8]\n",
    "# Salida esperada: [4, 5]\n",
    "\n",
    "elementos_comunes = list(set(lista1) & set(lista2))\n",
    "print(elementos_comunes)"
   ]
  },
  {
   "cell_type": "markdown",
   "metadata": {},
   "source": [
    "#### c. Unir elementos de dos listas sin duplicados\n",
    "\n",
    "Crea una lista que contenga todos los elementos de dos listas diferentes, eliminando cualquier duplicado en el proceso."
   ]
  },
  {
   "cell_type": "code",
   "execution_count": 17,
   "metadata": {},
   "outputs": [
    {
     "name": "stdout",
     "output_type": "stream",
     "text": [
      "['d', 'b', 'c', 'e', 'a']\n"
     ]
    }
   ],
   "source": [
    "lista1 = ['a', 'b', 'c']\n",
    "lista2 = ['c', 'd', 'e']\n",
    "# Salida esperada: ['a', 'b', 'c', 'd', 'e']\n",
    "\n",
    "union = list(set(lista1) | set(lista2))\n",
    "print(union)"
   ]
  },
  {
   "cell_type": "markdown",
   "metadata": {},
   "source": [
    "#### d. Contar elementos únicos en una lista\n",
    "\n",
    "Dada una lista, utiliza un conjunto para contar cuántos elementos únicos hay en ella."
   ]
  },
  {
   "cell_type": "code",
   "execution_count": 18,
   "metadata": {},
   "outputs": [
    {
     "name": "stdout",
     "output_type": "stream",
     "text": [
      "Número de elementos únicos: 5\n"
     ]
    }
   ],
   "source": [
    "numeros = [1, 2, 2, 3, 4, 4, 5, 1]\n",
    "# Salida esperada: 5\n",
    "\n",
    "numeros_unicos = set(numeros)\n",
    "cantidad_unicos = len(numeros_unicos)\n",
    "\n",
    "print(f\"Número de elementos únicos: {cantidad_unicos}\")"
   ]
  },
  {
   "cell_type": "markdown",
   "metadata": {},
   "source": [
    "#### e. Verificar si una lista es un subconjunto de otra\n",
    "\n",
    "Dadas dos listas, verifica si todos los elementos de la primera lista están presentes en la segunda. Utiliza conjuntos para facilitar la verificación."
   ]
  },
  {
   "cell_type": "code",
   "execution_count": 19,
   "metadata": {},
   "outputs": [
    {
     "name": "stdout",
     "output_type": "stream",
     "text": [
      "Lista1 es un subconjunto de Lista2.\n"
     ]
    }
   ],
   "source": [
    "lista1 = [1, 2, 3]\n",
    "lista2 = [1, 2, 3, 4, 5]\n",
    "# Salida esperada: Lista1 es un subconjunto de Lista2.\n",
    "\n",
    "es_subconjunto = set(lista1).issubset(set(lista2))\n",
    "\n",
    "if es_subconjunto:\n",
    "    print(\"Lista1 es un subconjunto de Lista2.\")\n",
    "else:\n",
    "    print(\"Lista1 no es un subconjunto de Lista2.\")"
   ]
  }
 ],
 "metadata": {
  "kernelspec": {
   "display_name": ".env",
   "language": "python",
   "name": "python3"
  },
  "language_info": {
   "codemirror_mode": {
    "name": "ipython",
    "version": 3
   },
   "file_extension": ".py",
   "mimetype": "text/x-python",
   "name": "python",
   "nbconvert_exporter": "python",
   "pygments_lexer": "ipython3",
   "version": "3.12.7"
  }
 },
 "nbformat": 4,
 "nbformat_minor": 2
}
