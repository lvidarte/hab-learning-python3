{
 "cells": [
  {
   "cell_type": "markdown",
   "metadata": {},
   "source": [
    "# Clase 6: Diccionarios y Manipulación de Estructuras de Datos\n",
    "\n",
    "## Módulo 1: Diccionarios\n",
    "\n",
    "### 1. Introducción a los diccionarios\n",
    "\n",
    "Los diccionarios en Python son colecciones de pares clave-valor, donde cada clave es única y se utiliza para acceder a su valor asociado. Se definen usando llaves `{}`.\n",
    "\n",
    "#### Ejemplo básico de un diccionario:"
   ]
  },
  {
   "cell_type": "code",
   "execution_count": 9,
   "metadata": {},
   "outputs": [
    {
     "name": "stdout",
     "output_type": "stream",
     "text": [
      "{'nombre': 'Juan', 'edad': 30, 'ciudad': 'Madrid'}\n"
     ]
    }
   ],
   "source": [
    "mi_diccionario = {\n",
    "    \"nombre\": \"Juan\",\n",
    "    \"edad\": 30,\n",
    "    \"ciudad\": \"Madrid\"\n",
    "}\n",
    "print(mi_diccionario)"
   ]
  },
  {
   "cell_type": "markdown",
   "metadata": {},
   "source": [
    "#### 2. Acceso a valores\n",
    "\n",
    "Se puede acceder a los valores de un diccionario usando la clave correspondiente."
   ]
  },
  {
   "cell_type": "code",
   "execution_count": 10,
   "metadata": {},
   "outputs": [
    {
     "name": "stdout",
     "output_type": "stream",
     "text": [
      "Juan\n",
      "30\n"
     ]
    }
   ],
   "source": [
    "print(mi_diccionario[\"nombre\"])  # Imprime 'Juan'\n",
    "print(mi_diccionario.get(\"edad\"))  # Imprime '30'"
   ]
  },
  {
   "cell_type": "markdown",
   "metadata": {},
   "source": [
    "#### 3. Modificación de valores\n",
    "\n",
    "Los valores en un diccionario pueden ser modificados, agregando nuevos pares clave-valor o cambiando el valor de una clave existente.\n",
    "\n",
    "##### Ejemplo:"
   ]
  },
  {
   "cell_type": "code",
   "execution_count": 11,
   "metadata": {},
   "outputs": [
    {
     "name": "stdout",
     "output_type": "stream",
     "text": [
      "{'nombre': 'Juan', 'edad': 31, 'ciudad': 'Madrid', 'profesión': 'Ingeniero'}\n"
     ]
    }
   ],
   "source": [
    "mi_diccionario[\"edad\"] = 31  # Cambia el valor asociado a la clave 'edad'\n",
    "mi_diccionario[\"profesión\"] = \"Ingeniero\"  # Agrega una nueva clave-valor\n",
    "print(mi_diccionario)"
   ]
  },
  {
   "cell_type": "markdown",
   "metadata": {},
   "source": [
    "#### 4. Métodos útiles de los diccionarios\n",
    "\n",
    "- **keys()**: Devuelve las claves del diccionario.\n",
    "- **values()**: Devuelve los valores del diccionario.\n",
    "- **items()**: Devuelve los pares clave-valor como tuplas.\n",
    "- **pop()**: Elimina una clave y su valor asociado.\n",
    "\n",
    "##### Ejemplo:"
   ]
  },
  {
   "cell_type": "code",
   "execution_count": 12,
   "metadata": {},
   "outputs": [
    {
     "name": "stdout",
     "output_type": "stream",
     "text": [
      "dict_keys(['nombre', 'edad', 'ciudad', 'profesión'])\n",
      "dict_values(['Juan', 31, 'Madrid', 'Ingeniero'])\n",
      "{'nombre': 'Juan', 'edad': 31, 'profesión': 'Ingeniero'}\n"
     ]
    }
   ],
   "source": [
    "print(mi_diccionario.keys())  # Devuelve las claves\n",
    "print(mi_diccionario.values())  # Devuelve los valores\n",
    "\n",
    "mi_diccionario.pop(\"ciudad\")  # Elimina el par clave-valor con clave 'ciudad'\n",
    "print(mi_diccionario)"
   ]
  },
  {
   "cell_type": "markdown",
   "metadata": {},
   "source": [
    "#### Ejercicio práctico:\n",
    "\n",
    "Crea un diccionario que contenga información de un libro (título, autor, año, género). Modifica el género del libro y elimina el año de publicación."
   ]
  },
  {
   "cell_type": "code",
   "execution_count": null,
   "metadata": {},
   "outputs": [],
   "source": []
  },
  {
   "cell_type": "markdown",
   "metadata": {},
   "source": [
    "---\n",
    "\n",
    "## Módulo 2: Manipulación de estructuras de datos\n",
    "\n",
    "### 1. Rebanado de listas y tuplas\n",
    "\n",
    "El rebanado (slicing) permite acceder a una porción de una lista o tupla utilizando el operador `:`.\n",
    "\n",
    "#### Ejemplo de rebanado en listas:"
   ]
  },
  {
   "cell_type": "code",
   "execution_count": 4,
   "metadata": {},
   "outputs": [
    {
     "name": "stdout",
     "output_type": "stream",
     "text": [
      "[2, 3, 4]\n",
      "[0, 1, 2, 3]\n",
      "[5, 6, 7, 8, 9]\n",
      "[0, 2, 4, 6, 8]\n"
     ]
    }
   ],
   "source": [
    "numeros = [0, 1, 2, 3, 4, 5, 6, 7, 8, 9]\n",
    "print(numeros[2:5])  # Imprime los elementos de índice 2 a 4: [2, 3, 4]\n",
    "print(numeros[:4])  # Imprime los primeros cuatro elementos: [0, 1, 2, 3]\n",
    "print(numeros[5:])  # Imprime desde el índice 5 hasta el final: [5, 6, 7, 8, 9]\n",
    "print(numeros[::2])  # Imprime los elementos con un salto de 2: [0, 2, 4, 6, 8]"
   ]
  },
  {
   "cell_type": "markdown",
   "metadata": {},
   "source": [
    "#### Ejercicio práctico:\n",
    "\n",
    "Dada una lista de 10 números enteros, imprime los primeros 5 números y los últimos 3 utilizando rebanado."
   ]
  },
  {
   "cell_type": "code",
   "execution_count": null,
   "metadata": {},
   "outputs": [],
   "source": []
  },
  {
   "cell_type": "markdown",
   "metadata": {},
   "source": [
    "### 2. Comprensión de listas\n",
    "\n",
    "La comprensión de listas es una manera concisa de crear listas a partir de secuencias o condiciones, y puede reemplazar bucles for tradicionales.\n",
    "\n",
    "#### Ejemplo básico de comprensión de listas:"
   ]
  },
  {
   "cell_type": "code",
   "execution_count": 3,
   "metadata": {},
   "outputs": [
    {
     "name": "stdout",
     "output_type": "stream",
     "text": [
      "[0, 1, 4, 9, 16, 25, 36, 49, 64, 81]\n"
     ]
    }
   ],
   "source": [
    "cuadrados = [x**2 for x in range(10)]  # Crea una lista de los cuadrados de 0 a 9\n",
    "print(cuadrados)"
   ]
  },
  {
   "cell_type": "markdown",
   "metadata": {},
   "source": [
    "##### Comprensión de listas con condiciones:"
   ]
  },
  {
   "cell_type": "code",
   "execution_count": 2,
   "metadata": {},
   "outputs": [
    {
     "name": "stdout",
     "output_type": "stream",
     "text": [
      "[0, 2, 4, 6, 8]\n"
     ]
    }
   ],
   "source": [
    "pares = [x for x in range(10) if x % 2 == 0]  # Crea una lista con los números pares\n",
    "print(pares)"
   ]
  },
  {
   "cell_type": "markdown",
   "metadata": {},
   "source": [
    "#### Ejercicio práctico:\n",
    "\n",
    "Crea una lista con los números del 1 al 20, y usa comprensión de listas para generar otra lista con solo los números impares."
   ]
  },
  {
   "cell_type": "code",
   "execution_count": null,
   "metadata": {},
   "outputs": [],
   "source": []
  },
  {
   "cell_type": "markdown",
   "metadata": {},
   "source": [
    "### 3. Manipulación de diccionarios\n",
    "\n",
    "Puedes iterar sobre los pares clave-valor de un diccionario, aplicar condiciones, o crear nuevos diccionarios con comprensión de diccionarios.\n",
    "\n",
    "#### Ejemplo de iteración sobre diccionarios:"
   ]
  },
  {
   "cell_type": "code",
   "execution_count": 13,
   "metadata": {},
   "outputs": [
    {
     "name": "stdout",
     "output_type": "stream",
     "text": [
      "nombre: Juan\n",
      "edad: 31\n",
      "profesión: Ingeniero\n"
     ]
    }
   ],
   "source": [
    "for clave, valor in mi_diccionario.items():\n",
    "    print(f\"{clave}: {valor}\")"
   ]
  },
  {
   "cell_type": "markdown",
   "metadata": {},
   "source": [
    "##### Comprensión de diccionarios:"
   ]
  },
  {
   "cell_type": "code",
   "execution_count": null,
   "metadata": {},
   "outputs": [],
   "source": [
    "nombres = {\"Juan\": 30, \"Ana\": 25, \"Luis\": 35}\n",
    "nombres_mayores_30 = {clave: valor for clave, valor in nombres.items() if valor > 30}\n",
    "print(nombres_mayores_30)  # Imprime {'Luis': 35}"
   ]
  },
  {
   "cell_type": "markdown",
   "metadata": {},
   "source": [
    "#### Ejercicio práctico:\n",
    "\n",
    "Crea un diccionario que contenga nombres y edades de 5 personas. Luego, crea un nuevo diccionario que contenga solo aquellas personas cuya edad sea mayor a 30 años, utilizando comprensión de diccionarios."
   ]
  },
  {
   "cell_type": "code",
   "execution_count": null,
   "metadata": {},
   "outputs": [],
   "source": []
  }
 ],
 "metadata": {
  "kernelspec": {
   "display_name": ".env",
   "language": "python",
   "name": "python3"
  },
  "language_info": {
   "codemirror_mode": {
    "name": "ipython",
    "version": 3
   },
   "file_extension": ".py",
   "mimetype": "text/x-python",
   "name": "python",
   "nbconvert_exporter": "python",
   "pygments_lexer": "ipython3",
   "version": "3.12.5"
  }
 },
 "nbformat": 4,
 "nbformat_minor": 2
}
