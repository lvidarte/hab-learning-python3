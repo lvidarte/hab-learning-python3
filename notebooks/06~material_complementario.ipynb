{
 "cells": [
  {
   "cell_type": "markdown",
   "metadata": {},
   "source": [
    "# Clase 6: Material complementario\n",
    "\n",
    "### 1. Diccionarios\n",
    "\n",
    "Los **diccionarios** en Python son estructuras de datos muy útiles que nos permiten almacenar pares clave-valor. Son similares a un índice, donde cada clave (como un nombre) tiene asociado un valor (como un número de teléfono o una dirección). A diferencia de las listas, donde los elementos se acceden por un índice numérico, en los diccionarios se accede a los elementos usando claves, lo cual resulta especialmente útil para representar colecciones de datos que se pueden identificar con nombres específicos.\n",
    "\n",
    "#### a. Características clave de los diccionarios\n",
    "\n",
    "1. **Claves únicas:** Cada clave en un diccionario debe ser única; no puede haber claves duplicadas. Si se intenta agregar una clave que ya existe, el valor de esa clave será sobrescrito.\n",
    "\n",
    "2. **Tipo de claves:** Las claves en un diccionario deben ser **inmutables**. Por lo tanto, se suelen utilizar tipos como `str`, `int`, o `tuple`. No se pueden usar listas o diccionarios como claves, ya que son mutables.\n",
    "\n",
    "3. **Acceso rápido:** Los diccionarios son altamente eficientes en cuanto al acceso a los datos gracias a su implementación interna, basada en tablas hash. Esto permite que la búsqueda de valores sea rápida.\n",
    "\n",
    "#### b. Manteniendo el orden de creación\n",
    "\n",
    "A partir de **Python 3.7**, los diccionarios mantienen el orden en el que se agregaron los elementos. Esto significa que, si agregas elementos en un orden específico, al iterar sobre el diccionario, se mantendrá ese orden. Aunque esta característica fue oficialmente documentada en Python 3.7, ya funcionaba así en Python 3.6 como una implementación interna.\n",
    "\n",
    "Antes de Python 3.6, el orden de los elementos en los diccionarios no estaba garantizado y podía variar.\n",
    "\n",
    "Ejemplo en Python 3.7+:\n"
   ]
  },
  {
   "cell_type": "code",
   "execution_count": 15,
   "metadata": {},
   "outputs": [
    {
     "name": "stdout",
     "output_type": "stream",
     "text": [
      "nombre : Ana\n",
      "edad : 25\n",
      "ciudad : Buenos Aires\n"
     ]
    }
   ],
   "source": [
    "# Creación del diccionario\n",
    "mi_diccionario = {\n",
    "    'nombre': 'Ana',\n",
    "    'edad': 25,\n",
    "    'ciudad': 'Buenos Aires'\n",
    "}\n",
    "\n",
    "# Iterando en el mismo orden de inserción\n",
    "for clave, valor in mi_diccionario.items():\n",
    "    print(clave, \":\", valor)"
   ]
  },
  {
   "cell_type": "markdown",
   "metadata": {},
   "source": [
    "---\n",
    "\n",
    "### 2. Ejercicios con diccionarios\n",
    "\n",
    "#### a. Contando palabras\n",
    "\n",
    "Crea un diccionario que almacene el conteo de palabras en una oración dada. Pide al usuario que ingrese una oración y almacena en el diccionario cuántas veces aparece cada palabra."
   ]
  },
  {
   "cell_type": "code",
   "execution_count": 1,
   "metadata": {},
   "outputs": [
    {
     "name": "stdout",
     "output_type": "stream",
     "text": [
      "{'hola': 2, 'mundo': 1}\n"
     ]
    }
   ],
   "source": [
    "texto = \"hola mundo hola\"\n",
    "# Salida esperada: {'hola', 2, 'mundo': 1}\n",
    "\n",
    "palabras = texto.split()\n",
    "conteo_palabras = {}\n",
    "\n",
    "for palabra in palabras:\n",
    "    if palabra in conteo_palabras:\n",
    "        conteo_palabras[palabra] += 1\n",
    "    else:\n",
    "        conteo_palabras[palabra] = 1\n",
    "\n",
    "print(conteo_palabras)"
   ]
  },
  {
   "cell_type": "markdown",
   "metadata": {},
   "source": [
    "#### b. Actualización de inventario\n",
    "\n",
    "Tienes un diccionario que representa el inventario de una tienda, donde las claves son los nombres de los productos y los valores son la cantidad disponible. Pide al usuario que ingrese el nombre de un producto y una cantidad, luego actualiza el inventario sumando esa cantidad al valor existente."
   ]
  },
  {
   "cell_type": "code",
   "execution_count": 3,
   "metadata": {},
   "outputs": [
    {
     "name": "stdout",
     "output_type": "stream",
     "text": [
      "{'manzanas': 13, 'naranjas': 5, 'bananas': 7}\n"
     ]
    }
   ],
   "source": [
    "inventario = {'manzanas': 10, 'naranjas': 5, 'bananas': 7}\n",
    "# Salida esperada: {'manzanas': 13, 'naranjas': 5, 'bananas': 7}\n",
    "\n",
    "producto = input(\"Ingresa el nombre del producto: \")\n",
    "cantidad = int(input(\"Ingresa la cantidad a agregar: \"))\n",
    "\n",
    "if producto in inventario:\n",
    "    inventario[producto] += cantidad\n",
    "else:\n",
    "    inventario[producto] = cantidad\n",
    "\n",
    "print(inventario)"
   ]
  },
  {
   "cell_type": "markdown",
   "metadata": {},
   "source": [
    "#### c. Invirtiendo claves y valores\n",
    "\n",
    "Dado un diccionario donde las claves son nombres de estudiantes y los valores son sus calificaciones, crea un nuevo diccionario donde las claves sean las calificaciones y los valores una lista de estudiantes que tienen esa calificación."
   ]
  },
  {
   "cell_type": "code",
   "execution_count": 4,
   "metadata": {},
   "outputs": [
    {
     "name": "stdout",
     "output_type": "stream",
     "text": [
      "{10: ['Ana', 'Carlos'], 8: ['Juan'], 7: ['María']}\n"
     ]
    }
   ],
   "source": [
    "calificaciones = {'Ana': 10, 'Juan': 8, 'Carlos': 10, 'María': 7}\n",
    "# Salida esperada: {10: ['Ana', 'Carlos'], 8: ['Juan'], 7: ['María']}\n",
    "\n",
    "alumnos_por_nota = {}\n",
    "\n",
    "for alumno, nota in calificaciones.items():\n",
    "    if nota not in alumnos_por_nota:\n",
    "        alumnos_por_nota[nota] = []\n",
    "    alumnos_por_nota[nota].append(alumno)\n",
    "\n",
    "print(alumnos_por_nota)"
   ]
  },
  {
   "cell_type": "markdown",
   "metadata": {},
   "source": [
    "#### d. Creación de un diccionario de contactos\n",
    "\n",
    "Pide al usuario que ingrese nombres y números de teléfono, y almacénalos en un diccionario. Permite que el usuario ingrese varios contactos y luego imprime el diccionario completo."
   ]
  },
  {
   "cell_type": "code",
   "execution_count": 5,
   "metadata": {},
   "outputs": [
    {
     "name": "stdout",
     "output_type": "stream",
     "text": [
      "{'Luis': '12345', 'Ana': '67890'}\n"
     ]
    }
   ],
   "source": [
    "contactos = {}\n",
    "# Salida esperada: {'Luis': '12345', 'Ana': '67890'}\n",
    "\n",
    "while True:\n",
    "    nombre = input(\"Ingresa el nombre (o 'salir' para terminar): \")\n",
    "    if nombre == 'salir':\n",
    "        break\n",
    "    telefono = input(\"Ingresa el número de teléfono: \")\n",
    "    contactos[nombre] = telefono\n",
    "\n",
    "print(contactos)"
   ]
  },
  {
   "cell_type": "markdown",
   "metadata": {},
   "source": [
    "#### e. Países y capitales\n",
    "\n",
    "Crea un diccionario con al menos cinco pares de países y sus respectivas capitales. Luego, permite al usuario ingresar el nombre de un país y muestra su capital. Si el país no está en el diccionario, muestra un mensaje de que no está registrado."
   ]
  },
  {
   "cell_type": "code",
   "execution_count": 6,
   "metadata": {},
   "outputs": [
    {
     "name": "stdout",
     "output_type": "stream",
     "text": [
      "La capital de Chile es Santiago.\n"
     ]
    }
   ],
   "source": [
    "paises = {'Argentina': 'Buenos Aires', 'Brasil': 'Brasilia', 'Chile': 'Santiago'}\n",
    "# Salida esperada: La capital de Chile es Santiago.\n",
    "\n",
    "pais = input(\"Ingresa el nombre de un país: \")\n",
    "\n",
    "if pais in paises:\n",
    "    print(f\"La capital de {pais} es {paises[pais]}.\")\n",
    "else:\n",
    "    print(\"El país no está registrado.\")"
   ]
  },
  {
   "cell_type": "markdown",
   "metadata": {},
   "source": [
    "#### f. Suma de valores\n",
    "\n",
    "Crea un diccionario con varios pares clave-valor donde las claves sean nombres de productos y los valores sean sus precios. Calcula e imprime el costo total de todos los productos en el diccionario."
   ]
  },
  {
   "cell_type": "code",
   "execution_count": 7,
   "metadata": {},
   "outputs": [
    {
     "name": "stdout",
     "output_type": "stream",
     "text": [
      "El costo total de todos los productos es 125.\n"
     ]
    }
   ],
   "source": [
    "precios = {'lápiz': 5, 'cuaderno': 20, 'mochila': 100}\n",
    "# Salida esperada: El costo total de todos los productos es 125.\n",
    "\n",
    "total = sum(precios.values())\n",
    "\n",
    "print(f\"El costo total de todos los productos es {total}.\")"
   ]
  },
  {
   "cell_type": "markdown",
   "metadata": {},
   "source": [
    "#### g. Filtrando productos caros\n",
    "\n",
    "Tienes un diccionario de productos con sus respectivos precios. Imprime solo aquellos productos cuyo precio sea mayor a un valor especificado (por ejemplo, mayor a 50)."
   ]
  },
  {
   "cell_type": "code",
   "execution_count": 8,
   "metadata": {},
   "outputs": [
    {
     "name": "stdout",
     "output_type": "stream",
     "text": [
      "{'zapatos': 70, 'pantalón': 55}\n"
     ]
    }
   ],
   "source": [
    "productos = {'camisa': 30, 'zapatos': 70, 'pantalón': 55, 'gorra': 20}\n",
    "# Salida esperada: {'zapatos': 70, 'pantalón': 55}\n",
    "\n",
    "filtro = 50\n",
    "productos_caros = {producto: precio for producto, precio in productos.items() if precio > filtro}\n",
    "\n",
    "print(productos_caros)"
   ]
  },
  {
   "cell_type": "markdown",
   "metadata": {},
   "source": [
    "#### h. Diccionario de traducciones\n",
    "\n",
    "Crea un diccionario donde las claves sean palabras en español y los valores sean sus traducciones en inglés. Luego, permite al usuario ingresar una palabra en español y muestra su traducción. Si la palabra no está en el diccionario, muestra un mensaje indicando que la palabra no tiene traducción."
   ]
  },
  {
   "cell_type": "code",
   "execution_count": 9,
   "metadata": {},
   "outputs": [
    {
     "name": "stdout",
     "output_type": "stream",
     "text": [
      "La traducción de 'gato' es 'cat'.\n"
     ]
    }
   ],
   "source": [
    "traducciones = {'perro': 'dog', 'gato': 'cat', 'casa': 'house'}\n",
    "# Salida esperada: La traducción de 'gato' es 'cat'.\n",
    "\n",
    "palabra = input(\"Ingresa una palabra en español: \")\n",
    "\n",
    "if palabra in traducciones:\n",
    "    print(f\"La traducción de '{palabra}' es '{traducciones[palabra]}'.\")\n",
    "else:\n",
    "    print(\"La palabra no tiene traducción.\")"
   ]
  },
  {
   "cell_type": "markdown",
   "metadata": {},
   "source": [
    "#### i. Identificación de elementos únicos\n",
    "\n",
    "Tienes una lista de números y quieres saber cuántas veces aparece cada número en la lista. Utiliza un diccionario para almacenar cada número y su conteo de apariciones, luego imprime el diccionario."
   ]
  },
  {
   "cell_type": "code",
   "execution_count": 10,
   "metadata": {},
   "outputs": [
    {
     "name": "stdout",
     "output_type": "stream",
     "text": [
      "{1: 1, 2: 2, 3: 3, 4: 1}\n"
     ]
    }
   ],
   "source": [
    "numeros = [1, 2, 2, 3, 3, 3, 4]\n",
    "# Salida esperada: {1: 1, 2: 2, 3: 3, 4: 1}\n",
    "\n",
    "conteo = {}\n",
    "\n",
    "for numero in numeros:\n",
    "    if numero in conteo:\n",
    "        conteo[numero] += 1\n",
    "    else:\n",
    "        conteo[numero] = 1\n",
    "\n",
    "print(conteo)"
   ]
  },
  {
   "cell_type": "markdown",
   "metadata": {},
   "source": [
    "#### j. Actualización de precios con descuento\n",
    "\n",
    "Crea un diccionario con productos y sus respectivos precios. Luego, reduce cada precio un 10% y actualiza el diccionario. Finalmente, imprime el diccionario con los precios ya actualizados."
   ]
  },
  {
   "cell_type": "code",
   "execution_count": 11,
   "metadata": {},
   "outputs": [
    {
     "name": "stdout",
     "output_type": "stream",
     "text": [
      "{'libro': 180.0, 'revista': 45.0, 'marcador': 9.0}\n"
     ]
    }
   ],
   "source": [
    "precios = {'libro': 200, 'revista': 50, 'marcador': 10}\n",
    "# Salida esperada: {'libro': 180.0, 'revista': 45.0, 'marcador': 9.0}\n",
    "\n",
    "descuento = 0.10\n",
    "\n",
    "for producto in precios:\n",
    "    precios[producto] -= precios[producto] * descuento\n",
    "\n",
    "print(precios)"
   ]
  },
  {
   "cell_type": "markdown",
   "metadata": {},
   "source": [
    "---\n",
    "\n",
    "### 3. Ventajas del slicing en Python\n",
    "\n",
    "1. **Acceso rápido y conciso a subsecciones de datos:** Permite extraer sublistas, subcadenas o subtuplas sin la necesidad de bucles o lógica adicional, lo que facilita la manipulación de datos.\n",
    "\n",
    "2. **Creación de copias superficiales:** Usando el slicing sin definir `start` ni `stop` (`mi_lista[:]`), se puede crear una copia superficial de una lista, lo cual es útil cuando queremos trabajar con la misma estructura sin modificar el original.\n",
    "\n",
    "3. **Extracción de datos de manera flexible:** Los valores `start`, `stop` y `step` permiten flexibilidad, incluyendo la selección de elementos en posiciones específicas (pares, impares) o la inversión de una lista (con `[::-1]`), lo cual agiliza operaciones de acceso a datos en sentido inverso.\n",
    "\n",
    "4. **Evita la sobrecarga de bucles innecesarios:** Al usar slicing, no es necesario iterar manualmente sobre una estructura de datos, lo que simplifica el código y puede mejorar la legibilidad y mantenimiento del mismo.\n",
    "\n",
    "5. **Menos errores de índice en rangos personalizados:** Al definir límites claros en el slicing (`start` y `stop`), se evita el riesgo de errores comunes al usar índices en bucles.\n",
    "\n",
    "6. **Ideal para preprocesamiento de datos:** Al trabajar con series de datos, como en análisis de texto o datos numéricos, slicing permite seleccionar y limpiar datos rápidamente, agilizando la preparación antes de aplicarle operaciones más complejas."
   ]
  },
  {
   "cell_type": "markdown",
   "metadata": {},
   "source": [
    "---\n",
    "\n",
    "### 4. Ejercicios con slicing\n",
    "\n",
    "Estos ejercicios cubren varios usos comunes de slicing en listas.\n",
    "\n",
    "#### a. Extraer sublista\n",
    "\n",
    "Dada una lista de números, extrae una sublista con los primeros 5 elementos."
   ]
  },
  {
   "cell_type": "code",
   "execution_count": 12,
   "metadata": {},
   "outputs": [
    {
     "name": "stdout",
     "output_type": "stream",
     "text": [
      "[10, 20, 30, 40, 50]\n"
     ]
    }
   ],
   "source": [
    "numeros = [10, 20, 30, 40, 50, 60, 70, 80, 90, 100]\n",
    "# Salida esperada: [10, 20, 30, 40, 50]\n",
    "\n",
    "primeros_cinco = numeros[:5]\n",
    "print(primeros_cinco)"
   ]
  },
  {
   "cell_type": "markdown",
   "metadata": {},
   "source": [
    "#### b. Obtener últimos elementos\n",
    "\n",
    "Dada una lista de palabras, obtén una sublista con las últimas 3 palabras."
   ]
  },
  {
   "cell_type": "code",
   "execution_count": 13,
   "metadata": {},
   "outputs": [
    {
     "name": "stdout",
     "output_type": "stream",
     "text": [
      "['ruby', 'perl', 'swift']\n"
     ]
    }
   ],
   "source": [
    "palabras = [\"python\", \"javascript\", \"java\", \"ruby\", \"perl\", \"swift\"]\n",
    "# Salida esperada: ['ruby', 'perl', 'swift']\n",
    "\n",
    "print(palabras[-3:])"
   ]
  },
  {
   "cell_type": "markdown",
   "metadata": {},
   "source": [
    "#### c. Sublista de elementos en posiciones pares\n",
    "\n",
    "Dada una lista de letras, crea una nueva lista con los elementos en las posiciones pares de la lista original."
   ]
  },
  {
   "cell_type": "code",
   "execution_count": 14,
   "metadata": {},
   "outputs": [
    {
     "name": "stdout",
     "output_type": "stream",
     "text": [
      "['a', 'c', 'e', 'g']\n"
     ]
    }
   ],
   "source": [
    "letras = [\"a\", \"b\", \"c\", \"d\", \"e\", \"f\", \"g\", \"h\"]\n",
    "# Salida esperada: ['a', 'c', 'e', 'g']\n",
    "\n",
    "print(letras[::2])"
   ]
  },
  {
   "cell_type": "markdown",
   "metadata": {},
   "source": [
    "#### d. Invertir lista\n",
    "\n",
    "Dada una lista de números, utiliza slicing para invertir el orden de la lista."
   ]
  },
  {
   "cell_type": "code",
   "execution_count": 15,
   "metadata": {},
   "outputs": [
    {
     "name": "stdout",
     "output_type": "stream",
     "text": [
      "[5, 4, 3, 2, 1]\n"
     ]
    }
   ],
   "source": [
    "numeros = [1, 2, 3, 4, 5]\n",
    "# Salida esperada: [5, 4, 3, 2, 1]\n",
    "\n",
    "print(numeros[::-1])"
   ]
  },
  {
   "cell_type": "markdown",
   "metadata": {},
   "source": [
    "#### e. Sublista desde el tercer elemento hasta el penúltimo\n",
    "\n",
    "Dada una lista de nombres, crea una sublista que incluya desde el tercer elemento hasta el penúltimo."
   ]
  },
  {
   "cell_type": "code",
   "execution_count": 16,
   "metadata": {},
   "outputs": [
    {
     "name": "stdout",
     "output_type": "stream",
     "text": [
      "['María', 'Carlos', 'Sofía', 'Miguel']\n"
     ]
    }
   ],
   "source": [
    "nombres = [\"Ana\", \"Luis\", \"María\", \"Carlos\", \"Sofía\", \"Miguel\", \"Elena\"]\n",
    "# Salida esperada: ['María', 'Carlos', 'Sofía', 'Miguel']\n",
    "\n",
    "sublista = nombres[2:-1]\n",
    "print(sublista)"
   ]
  },
  {
   "cell_type": "markdown",
   "metadata": {},
   "source": [
    "---\n",
    "\n",
    "### 5. Ventajas de la comprensión de listas\n",
    "\n",
    "La comprensión de listas es una herramienta poderosa y concisa que facilita la generación de listas en Python, mejorando la legibilidad y eficiencia del código, especialmente cuando se trabaja con transformaciones y filtrados básicos de datos.\n",
    "\n",
    "1. **Código más corto y legible:** Con una sola línea, se logra el mismo resultado que un bucle `for` convencional, haciendo que el código sea más limpio y fácil de leer.\n",
    "  \n",
    "2. **Rendimiento optimizado:** Al estar implementado en el lenguaje como una construcción de comprensión, el rendimiento suele ser mejor que el de los bucles `for` tradicionales en muchos casos.\n",
    "\n",
    "3. **Filtrado eficiente:** Permite aplicar condiciones fácilmente, generando listas con elementos que cumplen ciertos criterios sin bucles adicionales.\n",
    "\n",
    "4. **Flexibilidad para realizar operaciones complejas:** Se pueden aplicar transformaciones y cálculos directamente al definir cada elemento, lo cual es útil en diversas tareas de procesamiento de datos.\n",
    "\n",
    "#### a. Comprensión de listas vs. bucle `for`\n",
    "\n",
    "La comprensión de listas es ideal cuando se necesita generar listas simples y comprensibles. Sin embargo, en casos complejos, donde la lógica dentro de la iteración es extensa o requiere varias condiciones, un bucle `for` podría ser más adecuado para mantener la claridad."
   ]
  },
  {
   "cell_type": "markdown",
   "metadata": {},
   "source": [
    "---\n",
    "\n",
    "### 6. Ejercicios con comprensión de listas\n",
    "\n",
    "Estos ejercicios muestran la versatilidad de la comprensión de listas, permitiendo transformaciones, filtrado de datos y la creación de combinaciones de manera simple y concisa.\n",
    "\n",
    "#### a. Elevar al cuadrado\n",
    "\n",
    "Dada una lista de números, genera una nueva lista que contenga el cuadrado de cada número en la lista original."
   ]
  },
  {
   "cell_type": "code",
   "execution_count": 17,
   "metadata": {},
   "outputs": [
    {
     "name": "stdout",
     "output_type": "stream",
     "text": [
      "[1, 4, 9, 16, 25]\n"
     ]
    }
   ],
   "source": [
    "numeros = [1, 2, 3, 4, 5]\n",
    "# Salida esperada: [1, 4, 9, 16, 25]\n",
    "\n",
    "cuadrados = [n ** 2 for n in numeros]\n",
    "print(cuadrados)"
   ]
  },
  {
   "cell_type": "markdown",
   "metadata": {},
   "source": [
    "#### b. Filtrar números pares\n",
    "\n",
    "Dada una lista de números, genera una nueva lista que contenga solo los números pares."
   ]
  },
  {
   "cell_type": "code",
   "execution_count": 18,
   "metadata": {},
   "outputs": [
    {
     "name": "stdout",
     "output_type": "stream",
     "text": [
      "[10, 20, 30, 40]\n"
     ]
    }
   ],
   "source": [
    "numeros = [10, 15, 20, 25, 30, 35, 40]\n",
    "# Salida esperada: [10, 20, 30, 40]\n",
    "\n",
    "pares = [n for n in numeros if n % 2 == 0]\n",
    "print(pares)"
   ]
  },
  {
   "cell_type": "markdown",
   "metadata": {},
   "source": [
    "#### c. Longitud de palabras\n",
    "\n",
    "Dada una lista de palabras, genera una nueva lista que contenga la longitud de cada palabra."
   ]
  },
  {
   "cell_type": "code",
   "execution_count": 19,
   "metadata": {},
   "outputs": [
    {
     "name": "stdout",
     "output_type": "stream",
     "text": [
      "[6, 11, 2, 6, 2, 4]\n"
     ]
    }
   ],
   "source": [
    "palabras = [\"python\", \"comprensión\", \"de\", \"listas\", \"es\", \"útil\"]\n",
    "# Salida esperada: [6, 11, 2, 6, 2, 4]\n",
    "\n",
    "longitudes = [len(palabra) for palabra in palabras]\n",
    "print(longitudes)"
   ]
  },
  {
   "cell_type": "markdown",
   "metadata": {},
   "source": [
    "#### d. Convertir a minúsculas\n",
    "\n",
    "Dada una lista de palabras con algunas en mayúsculas y otras en minúsculas, genera una nueva lista con todas las palabras en minúsculas."
   ]
  },
  {
   "cell_type": "code",
   "execution_count": 20,
   "metadata": {},
   "outputs": [
    {
     "name": "stdout",
     "output_type": "stream",
     "text": [
      "['python', 'listas', 'comprensión', 'de', 'datos']\n"
     ]
    }
   ],
   "source": [
    "palabras = [\"PYTHON\", \"Listas\", \"Comprensión\", \"De\", \"Datos\"]\n",
    "# Salida esperada: ['python', 'listas', 'comprensión', 'de', 'datos']\n",
    "\n",
    "print([palabra.lower() for palabra in palabras])"
   ]
  },
  {
   "cell_type": "markdown",
   "metadata": {},
   "source": [
    "#### e. Obtener los primeros caracteres\n",
    "\n",
    "Dada una lista de palabras, genera una nueva lista que contenga solo el primer carácter de cada palabra. "
   ]
  },
  {
   "cell_type": "code",
   "execution_count": 21,
   "metadata": {},
   "outputs": [
    {
     "name": "stdout",
     "output_type": "stream",
     "text": [
      "['p', 'l', 'c', 'd', 'd']\n"
     ]
    }
   ],
   "source": [
    "palabras = [\"python\", \"listas\", \"comprensión\", \"de\", \"datos\"]\n",
    "# Salida esperada: ['p', 'l', 'c', 'd', 'd']\n",
    "\n",
    "print([palabra[0] for palabra in palabras])"
   ]
  }
 ],
 "metadata": {
  "kernelspec": {
   "display_name": ".env",
   "language": "python",
   "name": "python3"
  },
  "language_info": {
   "codemirror_mode": {
    "name": "ipython",
    "version": 3
   },
   "file_extension": ".py",
   "mimetype": "text/x-python",
   "name": "python",
   "nbconvert_exporter": "python",
   "pygments_lexer": "ipython3",
   "version": "3.12.7"
  }
 },
 "nbformat": 4,
 "nbformat_minor": 2
}
