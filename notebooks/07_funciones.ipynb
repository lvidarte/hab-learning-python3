{
 "cells": [
  {
   "cell_type": "markdown",
   "metadata": {},
   "source": [
    "# Clase 7: Funciones en Python, Parámetros y Retorno de Valores\n",
    "\n",
    "## Módulo 1: Funciones en Python\n",
    "\n",
    "### 1. Definición y uso de funciones\n",
    "\n",
    "Una función en Python es un bloque de código reutilizable que realiza una tarea específica. Las funciones se definen usando la palabra clave `def`, seguidas por el nombre de la función y paréntesis `()`.\n",
    "\n",
    "#### a. Definición básica de una función"
   ]
  },
  {
   "cell_type": "code",
   "execution_count": 3,
   "metadata": {},
   "outputs": [],
   "source": [
    "def saludar():\n",
    "    print(\"Hola, bienvenidos al curso de Python\")"
   ]
  },
  {
   "cell_type": "code",
   "execution_count": 4,
   "metadata": {},
   "outputs": [
    {
     "name": "stdout",
     "output_type": "stream",
     "text": [
      "Hola, bienvenidos al curso de Python\n"
     ]
    }
   ],
   "source": [
    "# Llamar a la función\n",
    "saludar()"
   ]
  },
  {
   "cell_type": "markdown",
   "metadata": {},
   "source": [
    "#### b. Ventajas de usar funciones\n",
    "\n",
    "Las funciones permiten:\n",
    "\n",
    "- Reutilizar código\n",
    "- Dividir un programa en partes más pequeñas y manejables\n",
    "- Evitar la repetición de código\n",
    "- Abstracción\n",
    "\n",
    "#### c. Ejercicio práctico\n",
    "\n",
    "Escribe una función llamada `despedida()` que imprima un mensaje de despedida. Llama a la función tres veces."
   ]
  },
  {
   "cell_type": "code",
   "execution_count": null,
   "metadata": {},
   "outputs": [],
   "source": []
  },
  {
   "cell_type": "markdown",
   "metadata": {},
   "source": [
    "### 2. Argumentos y parámetros\n",
    "\n",
    "Una función puede aceptar datos (argumentos) para personalizar su comportamiento. Los parámetros se definen dentro de los paréntesis al definir la función.\n",
    "\n",
    "#### a. Ejemplo con un único argumento"
   ]
  },
  {
   "cell_type": "code",
   "execution_count": 5,
   "metadata": {},
   "outputs": [],
   "source": [
    "def saludar_persona(nombre):\n",
    "    print(f\"Hola, {nombre}!\")"
   ]
  },
  {
   "cell_type": "code",
   "execution_count": 6,
   "metadata": {},
   "outputs": [
    {
     "name": "stdout",
     "output_type": "stream",
     "text": [
      "Hola, Ana!\n"
     ]
    }
   ],
   "source": [
    "saludar_persona(\"Ana\")"
   ]
  },
  {
   "cell_type": "code",
   "execution_count": 7,
   "metadata": {},
   "outputs": [
    {
     "name": "stdout",
     "output_type": "stream",
     "text": [
      "Hola, Juan!\n"
     ]
    }
   ],
   "source": [
    "saludar_persona(\"Juan\")"
   ]
  },
  {
   "cell_type": "markdown",
   "metadata": {},
   "source": [
    "#### b. Ejemplo con múltiples argumentos"
   ]
  },
  {
   "cell_type": "code",
   "execution_count": 9,
   "metadata": {},
   "outputs": [],
   "source": [
    "def sumar(a, b):\n",
    "    print(f\"{a} + {b} = {a + b}\")"
   ]
  },
  {
   "cell_type": "code",
   "execution_count": 8,
   "metadata": {},
   "outputs": [
    {
     "name": "stdout",
     "output_type": "stream",
     "text": [
      "1 + 2 = 3\n"
     ]
    }
   ],
   "source": [
    "sumar(1, 2)"
   ]
  },
  {
   "cell_type": "code",
   "execution_count": 10,
   "metadata": {},
   "outputs": [
    {
     "name": "stdout",
     "output_type": "stream",
     "text": [
      "1 + 0 = 1\n",
      "1 + 1 = 2\n",
      "1 + 2 = 3\n",
      "1 + 3 = 4\n",
      "1 + 4 = 5\n",
      "1 + 5 = 6\n",
      "1 + 6 = 7\n",
      "1 + 7 = 8\n",
      "1 + 8 = 9\n",
      "1 + 9 = 10\n"
     ]
    }
   ],
   "source": [
    "for a in range(10):\n",
    "    sumar(1, a)"
   ]
  },
  {
   "cell_type": "markdown",
   "metadata": {},
   "source": [
    "#### c. Ejercicio práctico\n",
    "\n",
    "Escribe una función que reciba un número del 1 al 10 y escriba la tabla de multiplicar de dicho número."
   ]
  },
  {
   "cell_type": "code",
   "execution_count": null,
   "metadata": {},
   "outputs": [],
   "source": []
  },
  {
   "cell_type": "markdown",
   "metadata": {},
   "source": [
    "--- \n",
    "\n",
    "## Módulo 2: Parámetros y retorno de valores\n",
    "\n",
    "### 1. Parámetros por defecto\n",
    "\n",
    "Puedes definir valores por defecto para los parámetros de una función, que se utilizarán si no se proporciona un argumento al llamar a la función.\n",
    "\n",
    "#### a. Ejemplo"
   ]
  },
  {
   "cell_type": "code",
   "execution_count": 12,
   "metadata": {},
   "outputs": [],
   "source": [
    "def saludar_persona(nombre=\"invitado\"):\n",
    "    print(f\"Hola, {nombre}!\")"
   ]
  },
  {
   "cell_type": "code",
   "execution_count": 13,
   "metadata": {},
   "outputs": [
    {
     "name": "stdout",
     "output_type": "stream",
     "text": [
      "Hola, invitado!\n",
      "Hola, Pedro!\n"
     ]
    }
   ],
   "source": [
    "saludar_persona()  # Llama a la función sin argumentos\n",
    "saludar_persona(\"Pedro\")  # Llama a la función con un argumento"
   ]
  },
  {
   "cell_type": "markdown",
   "metadata": {},
   "source": [
    "#### b. Ejercicio práctico\n",
    "\n",
    "Escribe una función llamada `presentar()` que reciba dos parámetros, `nombre` y `edad`, donde `edad` tenga un valor por defecto de 18. Si no se proporciona una edad, debe usar el valor por defecto."
   ]
  },
  {
   "cell_type": "code",
   "execution_count": null,
   "metadata": {},
   "outputs": [],
   "source": []
  },
  {
   "cell_type": "markdown",
   "metadata": {},
   "source": [
    "### 2. Retorno de valores\n",
    "\n",
    "Las funciones pueden devolver un valor usando la palabra clave `return`. Esto permite que el resultado de una función sea utilizado en otros cálculos o tareas.\n",
    "\n",
    "#### a. Función que devuelve un valor"
   ]
  },
  {
   "cell_type": "code",
   "execution_count": 15,
   "metadata": {},
   "outputs": [],
   "source": [
    "def sumar(a, b):\n",
    "    return a + b"
   ]
  },
  {
   "cell_type": "code",
   "execution_count": 16,
   "metadata": {},
   "outputs": [
    {
     "name": "stdout",
     "output_type": "stream",
     "text": [
      "La suma es: 8\n"
     ]
    }
   ],
   "source": [
    "resultado = sumar(5, 3)\n",
    "print(\"La suma es:\", resultado)"
   ]
  },
  {
   "cell_type": "markdown",
   "metadata": {},
   "source": [
    "#### b. Función con varios valores de retorno"
   ]
  },
  {
   "cell_type": "code",
   "execution_count": 17,
   "metadata": {},
   "outputs": [],
   "source": [
    "def operaciones(a, b):\n",
    "    suma = a + b\n",
    "    resta = a - b\n",
    "    return suma, resta"
   ]
  },
  {
   "cell_type": "code",
   "execution_count": 18,
   "metadata": {},
   "outputs": [
    {
     "name": "stdout",
     "output_type": "stream",
     "text": [
      "Suma: 12, Resta: 4\n"
     ]
    }
   ],
   "source": [
    "resultado_suma, resultado_resta = operaciones(8, 4)\n",
    "print(f\"Suma: {resultado_suma}, Resta: {resultado_resta}\")"
   ]
  },
  {
   "cell_type": "markdown",
   "metadata": {},
   "source": [
    "#### c. Ejercicio práctico\n",
    "\n",
    "Escribe una función llamada `calcular_potencia()` que reciba dos números como parámetros y devuelva el resultado de elevar el primero al segundo."
   ]
  },
  {
   "cell_type": "code",
   "execution_count": null,
   "metadata": {},
   "outputs": [],
   "source": []
  },
  {
   "cell_type": "markdown",
   "metadata": {},
   "source": [
    "### 3. Funciones con parámetros variables\n",
    "\n",
    "A veces, es útil definir funciones que puedan recibir un número variable de argumentos usando `*args` o `**kwargs`.\n",
    "\n",
    "#### a. Ejemplo con `*args`"
   ]
  },
  {
   "cell_type": "code",
   "execution_count": 20,
   "metadata": {},
   "outputs": [],
   "source": [
    "def sumar_todos(*numeros):\n",
    "    return sum(numeros)"
   ]
  },
  {
   "cell_type": "code",
   "execution_count": 24,
   "metadata": {},
   "outputs": [
    {
     "name": "stdout",
     "output_type": "stream",
     "text": [
      "10\n"
     ]
    }
   ],
   "source": [
    "print(sumar_todos(1, 2, 3, 4))"
   ]
  },
  {
   "cell_type": "markdown",
   "metadata": {},
   "source": [
    "#### b. Ejemplo con `**kwargs`"
   ]
  },
  {
   "cell_type": "code",
   "execution_count": 22,
   "metadata": {},
   "outputs": [],
   "source": [
    "def detalles_persona(**kwargs):\n",
    "    for clave, valor in kwargs.items():\n",
    "        print(f\"{clave}: {valor}\")"
   ]
  },
  {
   "cell_type": "code",
   "execution_count": 23,
   "metadata": {},
   "outputs": [
    {
     "name": "stdout",
     "output_type": "stream",
     "text": [
      "nombre: Laura\n",
      "edad: 25\n",
      "ciudad: Galicia\n"
     ]
    }
   ],
   "source": [
    "detalles_persona(nombre=\"Laura\", edad=25, ciudad=\"Galicia\")"
   ]
  },
  {
   "cell_type": "markdown",
   "metadata": {},
   "source": [
    "#### c. Ejercicio práctico\n",
    "\n",
    "Escribe una función llamada `calcular_total()` que reciba un número variable de precios y devuelva la suma de todos los precios."
   ]
  },
  {
   "cell_type": "code",
   "execution_count": null,
   "metadata": {},
   "outputs": [],
   "source": []
  }
 ],
 "metadata": {
  "kernelspec": {
   "display_name": ".env",
   "language": "python",
   "name": "python3"
  },
  "language_info": {
   "codemirror_mode": {
    "name": "ipython",
    "version": 3
   },
   "file_extension": ".py",
   "mimetype": "text/x-python",
   "name": "python",
   "nbconvert_exporter": "python",
   "pygments_lexer": "ipython3",
   "version": "3.12.5"
  }
 },
 "nbformat": 4,
 "nbformat_minor": 2
}
