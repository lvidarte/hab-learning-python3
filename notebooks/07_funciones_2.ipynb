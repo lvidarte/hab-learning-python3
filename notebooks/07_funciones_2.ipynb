{
 "cells": [
  {
   "cell_type": "markdown",
   "metadata": {},
   "source": [
    "# Funciones en Python, Parámetros y Retorno de Valores - Material complementario\n",
    "\n",
    "### 1. Funciones en Python\n",
    "\n",
    "Las **funciones en Python** son bloques de código diseñados para realizar una tarea específica. La principal ventaja de usar funciones es que permiten una **abstracción** del código y fomentan su **reutilización**. En lugar de escribir el mismo bloque de código varias veces, podemos definir una función una vez y luego llamarla cada vez que necesitemos realizar esa tarea. Esto no solo hace que el código sea más claro y modular, sino que también facilita su mantenimiento.\n",
    "\n",
    "#### a. ¿Por qué son importantes las funciones?\n",
    "1. **Abstracción**: Las funciones permiten dividir un problema complejo en partes más manejables. Al encapsular una operación dentro de una función, no necesitamos preocuparnos por los detalles cada vez que la usamos, solo invocarla con los datos correctos.\n",
    "\n",
    "2. **Reutilización de código**: Una función puede definirse una vez y luego usarse en cualquier parte del programa o incluso en otros programas. Esto reduce la duplicación de código y, por lo tanto, disminuye la probabilidad de errores.\n",
    "\n",
    "3. **Organización y legibilidad**: Un programa que utiliza funciones es más fácil de leer y de entender, ya que cada función cumple un propósito específico, lo que facilita a otros programadores (o a uno mismo) entender el flujo del código.\n",
    "\n",
    "4. **Mantenibilidad**: Si se necesita modificar el comportamiento de una función, basta con actualizar el código de la función en su lugar, y automáticamente se verán reflejados los cambios en todas las partes del programa donde se llama a esa función.\n",
    "\n",
    "#### b. Las funciones como objetos\n",
    "En Python, las funciones son **objetos de primera clase**. Esto significa que:\n",
    "- Podemos asignar una función a una variable.\n",
    "- Podemos pasar funciones como argumentos a otras funciones.\n",
    "- Podemos retornar funciones desde otras funciones.\n",
    "- Podemos almacenarlas en estructuras de datos como listas o diccionarios.\n",
    "\n",
    "Esta capacidad de tratar funciones como objetos permite patrones de programación más avanzados, como las funciones de orden superior (que reciben o devuelven otras funciones) y las funciones lambda, que son funciones anónimas de una sola línea."
   ]
  },
  {
   "cell_type": "markdown",
   "metadata": {},
   "source": [
    "---\n",
    "\n",
    "### 2. Objetos de primera clase\n",
    "\n",
    "El hecho de que las funciones en Python sean objetos de primera clase, permite usarlas de maneras avanzadas y flexibles.\n",
    "\n",
    "#### a. Asignar una función a una variable\n",
    "Puedes almacenar una función en una variable, lo cual permite llamarla de manera indirecta o intercambiar funciones en tu programa."
   ]
  },
  {
   "cell_type": "code",
   "execution_count": 1,
   "metadata": {},
   "outputs": [
    {
     "name": "stdout",
     "output_type": "stream",
     "text": [
      "¡Hola, Mundo!\n"
     ]
    }
   ],
   "source": [
    "def saludo():\n",
    "    return \"¡Hola, Mundo!\"\n",
    "\n",
    "# Asignando la función a una variable\n",
    "mensaje = saludo\n",
    "print(mensaje())"
   ]
  },
  {
   "cell_type": "markdown",
   "metadata": {},
   "source": [
    "#### b. Pasar una función como argumento\n",
    "\n",
    "Puedes pasar funciones como argumentos a otras funciones. Esto es útil para crear **funciones de orden superior** que operan sobre otras funciones."
   ]
  },
  {
   "cell_type": "code",
   "execution_count": 8,
   "metadata": {},
   "outputs": [
    {
     "name": "stdout",
     "output_type": "stream",
     "text": [
      "7\n",
      "12\n"
     ]
    }
   ],
   "source": [
    "def aplicar_operacion(a, b, operacion):\n",
    "    return operacion(a, b)\n",
    "\n",
    "def suma(x, y):\n",
    "    return x + y\n",
    "\n",
    "def multiplicacion(x, y):\n",
    "    return x * y\n",
    "\n",
    "# Usando aplicar_operacion con diferentes funciones\n",
    "print(aplicar_operacion(3, 4, suma))\n",
    "print(aplicar_operacion(3, 4, multiplicacion))"
   ]
  },
  {
   "cell_type": "markdown",
   "metadata": {},
   "source": [
    "Aquí, `aplicar_operacion` es una función de orden superior que recibe otra función (`operacion`) como argumento, y aplica esa función a los valores `a` y `b`.\n",
    "\n",
    "#### c. Retornar una función desde otra función\n",
    "\n",
    "Una función puede devolver otra función, lo cual es una característica clave para implementar **clausuras** y **factories** (funciones que generan otras funciones)."
   ]
  },
  {
   "cell_type": "code",
   "execution_count": 3,
   "metadata": {},
   "outputs": [
    {
     "name": "stdout",
     "output_type": "stream",
     "text": [
      "¡Hola, Carlos!\n",
      "Estimado, Carlos!\n"
     ]
    }
   ],
   "source": [
    "def crear_saludo_personalizado(saludo_base):\n",
    "    def saludo(nombre):\n",
    "        return f\"{saludo_base}, {nombre}!\"\n",
    "    return saludo\n",
    "\n",
    "# Crear saludos personalizados\n",
    "saludo_amistoso = crear_saludo_personalizado(\"¡Hola\")\n",
    "saludo_formal = crear_saludo_personalizado(\"Estimado\")\n",
    "\n",
    "print(saludo_amistoso(\"Carlos\"))\n",
    "print(saludo_formal(\"Carlos\"))"
   ]
  },
  {
   "cell_type": "markdown",
   "metadata": {},
   "source": [
    "Aquí, `crear_saludo_personalizado` retorna una nueva función (`saludo`) que mantiene el contexto de `saludo_base` en su definición, lo que se conoce como **clausura**.\n",
    "\n",
    "#### d. Usar funciones en estructuras de datos\n",
    "Al ser objetos, las funciones se pueden almacenar en listas, diccionarios, y otras estructuras de datos. Esto facilita el uso de **tablas de despacho** para organizar y acceder a funciones en lugar de usar múltiples estructuras de control (`if`, `elif`, `else`)."
   ]
  },
  {
   "cell_type": "code",
   "execution_count": 4,
   "metadata": {},
   "outputs": [
    {
     "name": "stdout",
     "output_type": "stream",
     "text": [
      "8\n"
     ]
    }
   ],
   "source": [
    "def suma(a, b):\n",
    "    return a + b\n",
    "\n",
    "def resta(a, b):\n",
    "    return a - b\n",
    "\n",
    "def multiplicacion(a, b):\n",
    "    return a * b\n",
    "\n",
    "# Tabla de operaciones\n",
    "operaciones = {\n",
    "    'suma': suma,\n",
    "    'resta': resta,\n",
    "    'multiplicacion': multiplicacion\n",
    "}\n",
    "\n",
    "# Usar una operación desde el diccionario\n",
    "resultado = operaciones['suma'](5, 3)\n",
    "print(resultado)"
   ]
  },
  {
   "cell_type": "markdown",
   "metadata": {},
   "source": [
    "La estructura `operaciones` permite seleccionar y ejecutar la función deseada dinámicamente, facilitando el código y evitando muchos condicionales.\n",
    "\n",
    "#### e. Funciones anónimas (Lambda)\n",
    "\n",
    "Las funciones lambda en Python son funciones de una sola línea que permiten crear funciones rápidamente sin definirlas explícitamente."
   ]
  },
  {
   "cell_type": "code",
   "execution_count": 6,
   "metadata": {},
   "outputs": [
    {
     "name": "stdout",
     "output_type": "stream",
     "text": [
      "[1, 4, 9, 16, 25]\n"
     ]
    }
   ],
   "source": [
    "# Función de orden superior con lambda\n",
    "numeros = [1, 2, 3, 4, 5]\n",
    "cuadrados = list(map(lambda x: x ** 2, numeros))\n",
    "\n",
    "print(cuadrados)"
   ]
  },
  {
   "cell_type": "markdown",
   "metadata": {},
   "source": [
    "En este ejemplo, usamos una función `lambda` (anónima) dentro de `map` para aplicar la operación de elevar al cuadrado a cada elemento de la lista.\n",
    "\n",
    "#### f. Decoradores\n",
    "\n",
    "Los decoradores son funciones que toman otra función y la envuelven para modificar su comportamiento. Esto es posible porque las funciones pueden ser pasadas y devueltas como objetos."
   ]
  },
  {
   "cell_type": "code",
   "execution_count": 7,
   "metadata": {},
   "outputs": [
    {
     "name": "stdout",
     "output_type": "stream",
     "text": [
      "Inicio del mensaje\n",
      "¡Hola a todos!\n",
      "Fin del mensaje\n"
     ]
    }
   ],
   "source": [
    "def decorador_mensaje(funcion):\n",
    "    def funcion_decorada():\n",
    "        print(\"Inicio del mensaje\")\n",
    "        funcion()\n",
    "        print(\"Fin del mensaje\")\n",
    "    return funcion_decorada\n",
    "\n",
    "@decorador_mensaje\n",
    "def saludo():\n",
    "    print(\"¡Hola a todos!\")\n",
    "\n",
    "# Llamando a la función decorada\n",
    "saludo()"
   ]
  },
  {
   "cell_type": "markdown",
   "metadata": {},
   "source": [
    "Aquí, `@decorador_mensaje` envuelve a la función `saludo` con una función decorada que añade mensajes antes y después de la ejecución. Los decoradores son útiles para agregar comportamientos adicionales sin modificar el código original de una función."
   ]
  },
  {
   "cell_type": "markdown",
   "metadata": {},
   "source": [
    "---\n",
    "\n",
    "### 3. Decorador completo\n",
    "\n",
    "Los decoradores pueden aceptar parámetros y necesitan un nivel adicional de anidación para recibirlos. Al mismo tiempo, `functools.wraps` es útil para que el decorador mantenga el nombre y la documentación de la función original, sin que se sobrescriban por la envoltura."
   ]
  },
  {
   "cell_type": "code",
   "execution_count": 9,
   "metadata": {},
   "outputs": [
    {
     "name": "stdout",
     "output_type": "stream",
     "text": [
      "¡Hola, Juan!\n",
      "¡Hola, Juan!\n",
      "¡Hola, Juan!\n",
      "saludo\n",
      "Imprime un saludo personalizado.\n"
     ]
    }
   ],
   "source": [
    "from functools import wraps\n",
    "\n",
    "def repetir(repeticiones):\n",
    "    def decorador(func):\n",
    "        @wraps(func)\n",
    "        def funcion_decorada(*args, **kwargs):\n",
    "            for _ in range(repeticiones):\n",
    "                resultado = func(*args, **kwargs)\n",
    "            return resultado\n",
    "        return funcion_decorada\n",
    "    return decorador\n",
    "\n",
    "@repetir(3)\n",
    "def saludo(nombre):\n",
    "    \"\"\"Imprime un saludo personalizado.\"\"\"\n",
    "    print(f\"¡Hola, {nombre}!\")\n",
    "\n",
    "# Llamando a la función decorada\n",
    "saludo(\"Juan\")\n",
    "\n",
    "# Verificando si conserva el nombre y la documentación\n",
    "print(saludo.__name__)\n",
    "print(saludo.__doc__)"
   ]
  },
  {
   "cell_type": "markdown",
   "metadata": {},
   "source": [
    "#### a. Explicación\n",
    "\n",
    "1. **Decorador con parámetros**: El decorador `repetir` recibe un parámetro `repeticiones`, que controla cuántas veces se ejecutará la función original.\n",
    "2. **`wraps`**: Al aplicar `@wraps(func)` en `funcion_decorada`, logramos que el nombre, la documentación (`__doc__`), y otros metadatos de la función original (`saludo`) se mantengan en `funcion_decorada`.\n",
    "3. **Uso del decorador**: Al decorar `saludo` con `@repetir(3)`, especificamos que queremos que `saludo` se ejecute 3 veces cuando se llame."
   ]
  },
  {
   "cell_type": "markdown",
   "metadata": {},
   "source": [
    "---\n",
    "\n",
    "### 4. Docstrings\n",
    "\n",
    "Los **docstrings** en Python son una herramienta fundamental para documentar el propósito y uso de las funciones, clases y módulos, facilitando la comprensión del código tanto para otros programadores como para uno mismo en el futuro. Python recomienda seguir ciertos estándares para los docstrings, y uno de los más utilizados es el de **PEP 257**, que establece buenas prácticas para estructurarlos.\n",
    "\n",
    "#### a. ¿Qué es un docstring?\n",
    "\n",
    "Un docstring es una cadena de texto colocada al inicio de una función, clase o módulo, que explica brevemente qué hace y cómo se usa. En Python, se coloca dentro de tres comillas dobles (`\"\"\" ... \"\"\"`) y se puede acceder mediante el atributo `__doc__` del objeto o la función `help()`.\n",
    "\n",
    "#### b. Estructura básica de un docstring en una función"
   ]
  },
  {
   "cell_type": "code",
   "execution_count": 10,
   "metadata": {},
   "outputs": [],
   "source": [
    "def nombre_funcion(param1, param2):\n",
    "    \"\"\"\n",
    "    Descripción breve de la función en una sola línea.\n",
    "\n",
    "    Descripción detallada de lo que hace la función, si es necesario. Explica\n",
    "    el propósito, el contexto de uso, y cualquier otro detalle relevante.\n",
    "\n",
    "    Args:\n",
    "        param1 (tipo): Descripción de param1.\n",
    "        param2 (tipo): Descripción de param2.\n",
    "\n",
    "    Returns:\n",
    "        tipo: Descripción de lo que retorna la función.\n",
    "\n",
    "    Raises:\n",
    "        TipoDeExcepcion: Descripción de cuándo y por qué se lanza una excepción.\n",
    "    \"\"\"\n",
    "    # Código de la función\n",
    "    pass"
   ]
  },
  {
   "cell_type": "markdown",
   "metadata": {},
   "source": [
    "#### c. Estructura básica de un docstring con anotaciones de tipo\n",
    "\n",
    "Cuando usamos `typing`, podemos reemplazar el bloque `Args` en el docstring, ya que los tipos de los parámetros se anotan directamente en la definición de la función. Esto simplifica la documentación y hace el código más claro."
   ]
  },
  {
   "cell_type": "code",
   "execution_count": 11,
   "metadata": {},
   "outputs": [],
   "source": [
    "from typing import Any\n",
    "\n",
    "def nombre_funcion(param1: int, param2: str) -> Any:\n",
    "    \"\"\"\n",
    "    Descripción breve de la función en una sola línea.\n",
    "\n",
    "    Descripción detallada de lo que hace la función, si es necesario. Explica\n",
    "    el propósito, el contexto de uso, y cualquier otro detalle relevante.\n",
    "\n",
    "    Parameters:\n",
    "        param1 (int): Descripción de param1.\n",
    "        param2 (str): Descripción de param2.\n",
    "\n",
    "    Returns:\n",
    "        Any: Descripción de lo que retorna la función.\n",
    "\n",
    "    Raises:\n",
    "        TipoDeExcepcion: Descripción de cuándo y por qué se lanza una excepción.\n",
    "    \"\"\"\n",
    "    pass"
   ]
  },
  {
   "cell_type": "markdown",
   "metadata": {},
   "source": [
    "#### d. Ejemplo de docstring con typing en una función\n",
    "\n",
    "Aquí tienes el ejemplo de una función que calcula el área de un rectángulo, usando anotaciones de tipo:"
   ]
  },
  {
   "cell_type": "code",
   "execution_count": 40,
   "metadata": {},
   "outputs": [],
   "source": [
    "def calcular_area_rectangulo(base: float, altura: float) -> float:\n",
    "    \"\"\"\n",
    "    Calcula el área de un rectángulo dado su base y altura.\n",
    "\n",
    "    Esta función toma la base y la altura de un rectángulo y retorna\n",
    "    el área. Es útil para aplicaciones de geometría o cálculo de superficies.\n",
    "\n",
    "    Parameters:\n",
    "        base (float): La longitud de la base del rectángulo en unidades.\n",
    "        altura (float): La longitud de la altura del rectángulo en unidades.\n",
    "\n",
    "    Returns:\n",
    "        float: El área del rectángulo en unidades cuadradas.\n",
    "\n",
    "    Raises:\n",
    "        ValueError: Si la base o la altura son valores negativos.\n",
    "    \"\"\"\n",
    "    if base < 0 or altura < 0:\n",
    "        raise ValueError(\"La base y la altura deben ser valores no negativos.\")\n",
    "    return base * altura"
   ]
  },
  {
   "cell_type": "markdown",
   "metadata": {},
   "source": [
    "---\n",
    "\n",
    "### 5. Ejercicios con funciones\n",
    "\n",
    "\n",
    "#### a. Escribe una función `es_anagrama` que verifique si dos cadenas son anagramas (tienen las mismas letras en diferente orden). La función debe recibir los parámetros `cadena1` y `cadena2` y devolver `True` si ambas tienen los mismos caracteres."
   ]
  },
  {
   "cell_type": "code",
   "execution_count": 55,
   "metadata": {},
   "outputs": [],
   "source": [
    "anagramas = [\n",
    "    ('Amor', 'Roma'),\n",
    "    ('Nacionalista', 'Altisonancia'),\n",
    "    ('Cobra', 'Barco'),\n",
    "    ('Flamenco', 'Come flan'),\n",
    "    ('Un legado', 'De alguno'),\n",
    "]"
   ]
  },
  {
   "cell_type": "markdown",
   "metadata": {},
   "source": [
    "#### b. Escribe una función `obtener_maximo_absoluto` que reciba una lista de números y devuelva el valor absoluto más alto."
   ]
  },
  {
   "cell_type": "markdown",
   "metadata": {},
   "source": []
  },
  {
   "cell_type": "markdown",
   "metadata": {},
   "source": [
    "#### c. Escribe una función `calcular_fibonacci` que devuelva una lista con los primeros `n` valores de la secuencia de Fibonacci."
   ]
  },
  {
   "cell_type": "code",
   "execution_count": null,
   "metadata": {},
   "outputs": [],
   "source": []
  },
  {
   "cell_type": "markdown",
   "metadata": {},
   "source": [
    "#### d. Escribe una función `es_capicua` que reciba un número entero usando el parámetro `numero` y devuelva `True` si el número es capicúa (se lee igual de izquierda a derecha que de derecha a izquierda) y `False` si no lo es."
   ]
  },
  {
   "cell_type": "code",
   "execution_count": null,
   "metadata": {},
   "outputs": [],
   "source": []
  },
  {
   "cell_type": "markdown",
   "metadata": {},
   "source": [
    "#### e. Escribe una función `generar_acronimo` que reciba una frase y devuelva el acrónimo formado por la primera letra de cada palabra, en mayúsculas."
   ]
  },
  {
   "cell_type": "code",
   "execution_count": null,
   "metadata": {},
   "outputs": [],
   "source": []
  },
  {
   "cell_type": "markdown",
   "metadata": {},
   "source": [
    "#### f. Escribe una función `es_bisiesto` que reciba un año y retorne `True` si es bisiesto y `False` si no lo es."
   ]
  },
  {
   "cell_type": "code",
   "execution_count": null,
   "metadata": {},
   "outputs": [],
   "source": []
  },
  {
   "cell_type": "markdown",
   "metadata": {},
   "source": [
    "#### g. Escribe una función `contar_vocales` que reciba una cadena de texto y retorne el total de vocales en la misma, sin importar mayúsculas o minúsculas."
   ]
  },
  {
   "cell_type": "code",
   "execution_count": null,
   "metadata": {},
   "outputs": [],
   "source": []
  },
  {
   "cell_type": "markdown",
   "metadata": {},
   "source": [
    "#### h. Escribe una función `factorial` que calcule el factorial de un número no negativo."
   ]
  },
  {
   "cell_type": "code",
   "execution_count": null,
   "metadata": {},
   "outputs": [],
   "source": []
  },
  {
   "cell_type": "markdown",
   "metadata": {},
   "source": [
    "---\n",
    "\n",
    "### 6. Parámetros\n",
    "\n",
    "En Python, los **parámetros** son valores que una función recibe para poder realizar su tarea. Definir parámetros en una función permite que esta trabaje de manera flexible, adaptándose a los datos específicos que le pasemos cada vez que la llamemos.\n",
    "\n",
    "Los **parámetros** se definen entre paréntesis en la declaración de una función. Cuando llamamos a la función, le pasamos **argumentos** (los valores concretos) que tomarán el lugar de esos parámetros y así ejecutarán la función con datos específicos.\n",
    "\n",
    "#### a. Parámetros\n",
    "\n",
    "Python ofrece varias formas de pasar parámetros a las funciones, lo que permite ajustar la forma en que enviamos y recibimos datos. Los más comunes son:\n",
    "\n",
    "1. **Parámetros posicionales:** El valor de cada argumento se asocia a los parámetros de acuerdo con el orden en que aparecen. Este es el tipo de parámetro más común y es muy directo de usar.\n",
    "\n",
    "2. **Parámetros con nombre o `keyword arguments`:** En este caso, al llamar a la función, indicamos explícitamente el nombre del parámetro junto con su valor, lo cual facilita el entendimiento y la legibilidad del código.\n",
    "\n",
    "3. **Parámetros con valores por defecto:** Podemos definir valores predeterminados para ciertos parámetros en la declaración de la función. De este modo, si el argumento no se pasa al llamar a la función, Python utilizará el valor predeterminado.\n",
    "\n",
    "4. **Parámetros arbitrarios (`*args` y `**kwargs`):** En algunos casos, no sabemos de antemano cuántos argumentos se pasarán. Para esos casos, se pueden utilizar `*args` para recibir cualquier cantidad de argumentos posicionales y `**kwargs` para recibir cualquier cantidad de argumentos con nombre.\n",
    "\n",
    "#### b. Ejemplo de parámetros posicionales\n",
    "\n",
    "Los parámetros posicionales se asignan en el orden en que aparecen. Si cambiamos el orden de los argumentos, afectamos los valores con los que trabajará la función."
   ]
  },
  {
   "cell_type": "code",
   "execution_count": 47,
   "metadata": {},
   "outputs": [
    {
     "name": "stdout",
     "output_type": "stream",
     "text": [
      "Nombre: Ana\n",
      "Edad: 30\n"
     ]
    }
   ],
   "source": [
    "def presentar_persona(nombre, edad):\n",
    "    print(f\"Nombre: {nombre}\")\n",
    "    print(f\"Edad: {edad}\")\n",
    "\n",
    "# Llamada con parámetros posicionales\n",
    "presentar_persona(\"Ana\", 30)"
   ]
  },
  {
   "cell_type": "code",
   "execution_count": 44,
   "metadata": {},
   "outputs": [
    {
     "name": "stdout",
     "output_type": "stream",
     "text": [
      "Nombre: Ana\n",
      "Edad: 30\n"
     ]
    }
   ],
   "source": [
    "def presentar_persona(nombre: str, edad: int) -> None:\n",
    "    print(f\"Nombre: {nombre}\")\n",
    "    print(f\"Edad: {edad}\")\n",
    "\n",
    "presentar_persona(\"Ana\", 30)"
   ]
  },
  {
   "cell_type": "markdown",
   "metadata": {},
   "source": [
    "#### b. Parámetros con nombre (keyword arguments)\n",
    "\n",
    "Podemos especificar explícitamente el nombre del parámetro en la llamada, sin importar el orden en que los coloquemos."
   ]
  },
  {
   "cell_type": "code",
   "execution_count": 45,
   "metadata": {},
   "outputs": [
    {
     "name": "stdout",
     "output_type": "stream",
     "text": [
      "Nombre: Carlos\n",
      "Edad: 25\n"
     ]
    }
   ],
   "source": [
    "# Llamada con parámetros con nombre\n",
    "presentar_persona(edad=25, nombre=\"Carlos\")"
   ]
  },
  {
   "cell_type": "markdown",
   "metadata": {},
   "source": [
    "\n",
    "Esto hace que el código sea más claro y flexible, especialmente en funciones con muchos parámetros.\n",
    "\n",
    "#### c. Parámetros con valores por defecto\n",
    "\n",
    "Los valores por defecto permiten que algunos argumentos sean opcionales. Si no se proporciona un argumento al llamar a la función, se usará el valor por defecto."
   ]
  },
  {
   "cell_type": "code",
   "execution_count": 48,
   "metadata": {},
   "outputs": [],
   "source": [
    "def saludar(nombre, saludo=\"Hola\"):\n",
    "    print(f\"{saludo}, {nombre}!\")"
   ]
  },
  {
   "cell_type": "code",
   "execution_count": 50,
   "metadata": {},
   "outputs": [],
   "source": [
    "# Usando typing\n",
    "def saludar(nombre, saludo: str = \"Hola\") -> None:\n",
    "    print(f\"{saludo}, {nombre}!\")"
   ]
  },
  {
   "cell_type": "code",
   "execution_count": 51,
   "metadata": {},
   "outputs": [
    {
     "name": "stdout",
     "output_type": "stream",
     "text": [
      "Hola, Marta!\n"
     ]
    }
   ],
   "source": [
    "saludar(\"Marta\")"
   ]
  },
  {
   "cell_type": "code",
   "execution_count": 52,
   "metadata": {},
   "outputs": [
    {
     "name": "stdout",
     "output_type": "stream",
     "text": [
      "Buenos días, Marta!\n"
     ]
    }
   ],
   "source": [
    "saludar(\"Marta\", \"Buenos días\")"
   ]
  },
  {
   "cell_type": "markdown",
   "metadata": {},
   "source": [
    "\n",
    "En este ejemplo, `saludo` tiene un valor por defecto de `\"Hola\"`, por lo que no es necesario pasarlo si queremos usar ese valor.\n",
    "\n",
    "\n",
    "#### d. Parámetros arbitrarios (`*args` y `**kwargs`)\n",
    "\n",
    "A veces queremos que una función acepte un número variable de argumentos. `*args` nos permite recibir múltiples argumentos posicionales en forma de tupla, mientras que `**kwargs` recibe múltiples argumentos con nombre en forma de diccionario."
   ]
  },
  {
   "cell_type": "code",
   "execution_count": 53,
   "metadata": {},
   "outputs": [
    {
     "name": "stdout",
     "output_type": "stream",
     "text": [
      "Lista de amigos:\n",
      "Juan\n",
      "Ana\n",
      "Luis\n"
     ]
    }
   ],
   "source": [
    "def lista_amigos(*args):\n",
    "    print(\"Lista de amigos:\")\n",
    "    for amigo in args:\n",
    "        print(amigo)\n",
    "\n",
    "lista_amigos(\"Juan\", \"Ana\", \"Luis\")"
   ]
  },
  {
   "cell_type": "markdown",
   "metadata": {},
   "source": [
    "Y con `**kwargs`:"
   ]
  },
  {
   "cell_type": "code",
   "execution_count": 54,
   "metadata": {},
   "outputs": [
    {
     "name": "stdout",
     "output_type": "stream",
     "text": [
      "nombre: Laura\n",
      "edad: 28\n",
      "ciudad: Madrid\n"
     ]
    }
   ],
   "source": [
    "def informacion_persona(**kwargs):\n",
    "    for clave, valor in kwargs.items():\n",
    "        print(f\"{clave}: {valor}\")\n",
    "\n",
    "informacion_persona(nombre=\"Laura\", edad=28, ciudad=\"Madrid\")"
   ]
  },
  {
   "cell_type": "markdown",
   "metadata": {},
   "source": [
    "Con estos parámetros, la función puede adaptarse a la cantidad de información que queremos pasarle, sin necesidad de definir cada parámetro por adelantado."
   ]
  },
  {
   "cell_type": "markdown",
   "metadata": {},
   "source": [
    "---\n",
    "\n",
    "### 7. Clean Code\n",
    "\n",
    "Aquí tienes una serie de máximas inspiradas en el libro *Clean Code* de Robert C. Martin, específicamente para definir funciones en Python. Siguiendo estas recomendaciones, lograrás que tus funciones sean claras, concisas y mantengan una alta calidad en el código:\n",
    "\n",
    "#### a. Mantén las funciones pequeñas\n",
    "   - Una función debe hacer solo una cosa y hacerlo bien. Martin sugiere que las funciones pequeñas son más fáciles de leer, comprender y mantener. Idealmente, una función debería ser de 20 líneas o menos.\n",
    "\n",
    "#### b. Realiza una sola tarea\n",
    "   - Siguiendo el principio de responsabilidad única, una función debe tener un propósito claro y único. Esto ayuda a reducir la complejidad y facilita el mantenimiento. Si sientes que estás haciendo más de una cosa en una función, divídela en varias.\n",
    "\n",
    "#### c. Nombrado descriptivo\n",
    "   - Usa nombres que describan exactamente lo que la función hace. Debe ser clara sin necesidad de comentarios adicionales. Los nombres como `calcular_total_con_impuestos` o `obtener_datos_usuario` son preferibles a nombres genéricos como `procesar_datos`.\n",
    "\n",
    "#### d. Usa pocos parámetros\n",
    "   - Idealmente, una función debería tener entre 0 y 2 parámetros. Más de tres parámetros hacen que la función sea difícil de entender y propensa a errores. Cuando necesitas más parámetros, considera agruparlos en una estructura de datos, como un diccionario o un objeto.\n",
    "\n",
    "#### e. Evita los efectos secundarios\n",
    "   - Las funciones deben evitar modificar variables fuera de su propio ámbito (sin efectos secundarios). Esto facilita la comprensión y reduce el riesgo de errores inesperados. \n",
    "\n",
    "#### f. Evita la duplicación\n",
    "   - La duplicación de código es una señal de que deberías extraer una función. Evitar la duplicación simplifica el mantenimiento y facilita la actualización del código en un solo lugar si algo cambia.\n",
    "\n",
    "#### g. Usa `return` para la salida de la función y mantén solo un punto de retorno\n",
    "   - Mantener un único punto de salida (un solo `return`) ayuda a leer y depurar el código con mayor facilidad. Esto no es una regla estricta, pero es una buena práctica para evitar confusiones en funciones largas o complejas.\n",
    "\n",
    "#### h. Evita los valores booleanos como parámetros\n",
    "   - Los parámetros booleanos suelen ser un indicio de que una función está haciendo más de una cosa. En lugar de `procesar_datos(con_validacion=True)`, considera crear dos funciones: `procesar_datos` y `procesar_datos_con_validacion`.\n",
    "\n",
    "#### i. Prefiere las excepciones en lugar de los códigos de error\n",
    "   - Las funciones deben manejar los errores mediante excepciones en lugar de devolver códigos de error. Esto facilita el manejo de errores y mejora la legibilidad del código.\n",
    "\n",
    "#### j. Escribe funciones con propósito claro\n",
    "   - Cada función debe tener un propósito claro que se pueda expresar en una frase corta. Si es difícil explicar en pocas palabras lo que hace la función, probablemente esté haciendo demasiado.\n",
    "\n",
    "#### k. Documenta la intención con docstrings\n",
    "   - Los *docstrings* deben indicar qué hace la función, no cómo lo hace. Un buen *docstring* describe claramente el propósito de la función, los parámetros y el valor de retorno sin profundizar en los detalles de la implementación."
   ]
  },
  {
   "cell_type": "markdown",
   "metadata": {},
   "source": [
    "---\n",
    "\n",
    "### 8. Ejercicios con funciones - II\n",
    "\n",
    "#### a. Adivina el número\n",
    "\n",
    "Crear una función que permita comparar un número secreto con el intento de un jugador. La función debe devolver un valor que indique si el intento del jugador es mayor, menor o igual al número secreto.\n",
    "\n",
    "1. Crea una función llamada `comparar_numeros` que reciba dos parámetros: el `numero_secreto` (un número entero) y el `intento` (un número entero que representa el intento del jugador).\n",
    "2. La función debe devolver:\n",
    "   - `-1` si el `intento` es menor que el `numero_secreto`.\n",
    "   - `1` si el `intento` es mayor que el `numero_secreto`.\n",
    "   - `0` si el `intento` es igual al `numero_secreto`.\n",
    "3. Una vez creada la función, implementa un juego dentro de un bucle `while True`, donde el jugador deberá seguir intentando adivinar el número secreto hasta que lo logre. En cada intento, la función debe ser llamada y el juego debe indicarle al jugador si debe intentar con un número mayor o menor.\n",
    "4. Utiliza `input()` para que el jugador ingrese su intento. El juego debe seguir pidiendo intentos hasta que el jugador adivine el número."
   ]
  },
  {
   "cell_type": "code",
   "execution_count": null,
   "metadata": {},
   "outputs": [],
   "source": []
  },
  {
   "cell_type": "markdown",
   "metadata": {},
   "source": [
    "#### b. Juego de dados\n",
    "\n",
    "1. Simulación de lanzamiento de dado:\n",
    "   - Crea una función llamada `lanzar_dado()` que no reciba parámetros y devuelva un número aleatorio entre 1 y 6, simulando el lanzamiento de un dado.\n",
    "   - Utiliza la función `random.randint()` para obtener el número aleatorio.\n",
    "\n",
    "2. Juego de competencia:\n",
    "   - Crea una función llamada `jugar()` donde el jugador y la computadora lanzan un dado.\n",
    "   - El jugador debe ingresar el número de veces que desea lanzar el dado. En cada intento, el jugador lanzará el dado y la computadora también lo hará de forma aleatoria.\n",
    "   - La función `jugar()` debe imprimir los resultados de cada lanzamiento, indicando quién ganó cada ronda (jugador o computadora) y mostrar el puntaje total después de todas las rondas.\n",
    "   - Al final del juego, la función debe imprimir quién ganó (si el jugador tiene más puntos que la computadora, el jugador gana; si es al revés, gana la computadora).\n",
    "   - El juego se detendrá cuando el jugador decida no continuar.\n",
    "\n",
    "3. Requerimientos:\n",
    "   - Utiliza la función `lanzar_dado()` para simular el lanzamiento del dado tanto para el jugador como para la computadora.\n",
    "   - Usa un bucle para que el jugador decida cuántas rondas jugar.\n",
    "   - Debes manejar correctamente el puntaje y la impresión de los resultados de cada ronda.\n",
    "\n",
    "4. Ejemplo de salida:\n",
    "```\n",
    "Ronda 1\n",
    "Humano: 1\n",
    "Computadora: 1\n",
    "Empate.\n",
    "\n",
    "Ronda 2\n",
    "Humano: 4\n",
    "Computadora: 4\n",
    "Empate.\n",
    "\n",
    "Ronda 3\n",
    "Humano: 5\n",
    "Computadora: 4\n",
    "El humano ganó esta ronda.\n",
    "\n",
    "Ronda 4\n",
    "Humano: 2\n",
    "Computadora: 6\n",
    "La computadora ganó esta ronda.\n",
    "\n",
    "Puntaje final\n",
    "Humano: 1\n",
    "Computadora: 1\n",
    "El juego terminó en empate.\n",
    "```"
   ]
  },
  {
   "cell_type": "code",
   "execution_count": null,
   "metadata": {},
   "outputs": [],
   "source": []
  },
  {
   "cell_type": "markdown",
   "metadata": {},
   "source": [
    "#### c. Juego de \"Piedra, Papel o Tijera\"\n",
    "\n",
    "Crear un juego sencillo de \"Piedra, Papel o Tijera\" donde el jugador compita contra la computadora. El juego debe estar organizado en funciones para separar las distintas tareas.\n",
    "\n",
    "1. Función `opcion_humano()`:\n",
    "   - Crea una función llamada `opcion_humano()` que permita al jugador elegir entre \"piedra\", \"papel\" o \"tijera\". La función debe validar que la opción ingresada sea válida (debe ser una de estas tres opciones). Si el jugador ingresa algo incorrecto, la función debe pedirle que ingrese de nuevo.\n",
    "\n",
    "2. Función `opcion_computadora()`:\n",
    "   - Crea una función llamada `opcion_computadora()` que simule la elección de la computadora. La computadora debe elegir aleatoriamente entre \"piedra\", \"papel\" o \"tijera\".\n",
    "\n",
    "3. Función `detectar_ganador()`:\n",
    "   - Crea una función llamada `detectar_ganador()` que reciba como parámetros la opción del humano y la opción de la computadora. La función debe comparar ambas opciones y devolver un mensaje indicando quién ha ganado (\"Humano\", \"Computadora\" o \"Empate\").\n",
    "\n",
    "4. Función `jugar()`:\n",
    "   - Crea una función llamada `jugar()` que se encargue de coordinar el flujo del juego. Esta función debe:\n",
    "     - Llamar a `opcion_humano()` para obtener la elección del humano.\n",
    "     - Llamar a `opcion_computadora()` para obtener la elección de la computadora.\n",
    "     - Llamar a `detectar_ganador()` para determinar el ganador y mostrar el resultado.\n",
    "     - Preguntar al jugador si quiere jugar otra ronda.\n",
    "\n",
    "5. Requerimientos:\n",
    "    - Utiliza la función `random.choice()` para que la computadora haga su elección de manera aleatoria.\n",
    "    - Utiliza un bucle para permitir al jugador jugar varias rondas si lo desea.\n",
    "    - El juego debe seguir pidiendo opciones hasta que el jugador decida no jugar más.\n",
    "\n",
    "6. Ejemplo de salida:\n",
    "\n",
    "```\n",
    "Humano: piedra\n",
    "Computadora: piedra\n",
    "Empate.\n",
    "\n",
    "Humano: papel\n",
    "Computadora: piedra\n",
    "El humano ganó esta ronda.\n",
    "\n",
    "Humano: tijera\n",
    "Computadora: piedra\n",
    "La computadora ganó esta ronda.\n",
    "\n",
    "Gracias por jugar.\n",
    "```"
   ]
  },
  {
   "cell_type": "code",
   "execution_count": null,
   "metadata": {},
   "outputs": [],
   "source": []
  }
 ],
 "metadata": {
  "kernelspec": {
   "display_name": ".env",
   "language": "python",
   "name": "python3"
  },
  "language_info": {
   "codemirror_mode": {
    "name": "ipython",
    "version": 3
   },
   "file_extension": ".py",
   "mimetype": "text/x-python",
   "name": "python",
   "nbconvert_exporter": "python",
   "pygments_lexer": "ipython3",
   "version": "3.12.7"
  }
 },
 "nbformat": 4,
 "nbformat_minor": 2
}
