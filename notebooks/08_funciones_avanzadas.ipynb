{
 "cells": [
  {
   "cell_type": "markdown",
   "metadata": {},
   "source": [
    "# Clase 8: Funciones avanzadas y alcance de las variables (scope)\n",
    "\n",
    "## Módulo 1: Funciones avanzadas - Argumentos y parámetros opcionales\n",
    "\n",
    "### 1. Argumentos opcionales\n",
    "\n",
    "En Python, puedes definir argumentos opcionales en una función estableciendo un valor por defecto para los parámetros. Si el usuario no proporciona un valor para ese argumento, se utilizará el valor por defecto.\n",
    "\n",
    "#### a. Función con argumento opcional"
   ]
  },
  {
   "cell_type": "code",
   "execution_count": 3,
   "metadata": {},
   "outputs": [],
   "source": [
    "def saludar(nombre, mensaje=\"Hola\"):\n",
    "    print(f\"{mensaje}, {nombre}!\")"
   ]
  },
  {
   "cell_type": "code",
   "execution_count": 4,
   "metadata": {},
   "outputs": [
    {
     "name": "stdout",
     "output_type": "stream",
     "text": [
      "Hola, Ana!\n",
      "Buenas tardes, Pedro!\n"
     ]
    }
   ],
   "source": [
    "saludar(\"Ana\")  # Usa el valor por defecto para 'mensaje'\n",
    "saludar(\"Pedro\", \"Buenas tardes\")  # Proporciona un valor personalizado"
   ]
  },
  {
   "cell_type": "markdown",
   "metadata": {},
   "source": [
    "#### b. Ejercicio práctico\n",
    "\n",
    "Crea una función llamada `calcular_precio()` que reciba dos parámetros: `precio` y `descuento`, donde `descuento` sea opcional y por defecto tenga un valor del 10%. Si el descuento no se proporciona, la función aplicará el 10%."
   ]
  },
  {
   "cell_type": "code",
   "execution_count": null,
   "metadata": {},
   "outputs": [],
   "source": []
  },
  {
   "cell_type": "markdown",
   "metadata": {},
   "source": [
    "### 2. Argumentos por palabra clave\n",
    "\n",
    "Puedes llamar a una función utilizando el nombre de los parámetros en lugar de su posición. Esto se conoce como \"argumentos por palabra clave\" (keyword arguments), y es útil para mejorar la legibilidad y evitar errores.\n",
    "\n",
    "#### a. Función con argumentos por palabra clave"
   ]
  },
  {
   "cell_type": "code",
   "execution_count": null,
   "metadata": {},
   "outputs": [],
   "source": [
    "def describir_persona(nombre, edad, ciudad):\n",
    "    print(f\"Nombre: {nombre}, Edad: {edad}, Ciudad: {ciudad}\")"
   ]
  },
  {
   "cell_type": "code",
   "execution_count": 6,
   "metadata": {},
   "outputs": [
    {
     "name": "stdout",
     "output_type": "stream",
     "text": [
      "Nombre: Sofia, Edad: 30, Ciudad: Madrid\n"
     ]
    }
   ],
   "source": [
    "describir_persona(edad=30, ciudad=\"Madrid\", nombre=\"Sofia\")  # Se pueden cambiar las posiciones"
   ]
  },
  {
   "cell_type": "markdown",
   "metadata": {},
   "source": [
    "#### b. Ejercicio práctico\n",
    "\n",
    "Crea una función llamada `mostrar_informacion()` que acepte tres parámetros: `nombre`, `ocupacion`, y `edad`, pero permite al usuario pasar estos parámetros en cualquier orden al llamar la función utilizando palabras clave."
   ]
  },
  {
   "cell_type": "code",
   "execution_count": null,
   "metadata": {},
   "outputs": [],
   "source": []
  },
  {
   "cell_type": "markdown",
   "metadata": {},
   "source": [
    "### 3. Parámetros variables (`*args` y `**kwargs`)\n",
    "\n",
    "Puedes usar `*args` para aceptar un número variable de argumentos posicionales y `**kwargs` para aceptar un número variable de argumentos por palabra clave.\n",
    "\n",
    "#### a. Recibir parámetros con `*args`:"
   ]
  },
  {
   "cell_type": "code",
   "execution_count": 7,
   "metadata": {},
   "outputs": [],
   "source": [
    "def sumar_numeros(*args):\n",
    "    return sum(args)"
   ]
  },
  {
   "cell_type": "code",
   "execution_count": 8,
   "metadata": {},
   "outputs": [
    {
     "name": "stdout",
     "output_type": "stream",
     "text": [
      "10\n"
     ]
    }
   ],
   "source": [
    "print(sumar_numeros(1, 2, 3, 4))"
   ]
  },
  {
   "cell_type": "markdown",
   "metadata": {},
   "source": [
    "#### b. Recibir parámetros con `**kwargs`"
   ]
  },
  {
   "cell_type": "code",
   "execution_count": 9,
   "metadata": {},
   "outputs": [],
   "source": [
    "def detalles_producto(**kwargs):\n",
    "    for clave, valor in kwargs.items():\n",
    "        print(f\"{clave}: {valor}\")"
   ]
  },
  {
   "cell_type": "code",
   "execution_count": 10,
   "metadata": {},
   "outputs": [
    {
     "name": "stdout",
     "output_type": "stream",
     "text": [
      "nombre: Laptop\n",
      "marca: Dell\n",
      "precio: 1500\n"
     ]
    }
   ],
   "source": [
    "detalles_producto(nombre=\"Laptop\", marca=\"Dell\", precio=1500)"
   ]
  },
  {
   "cell_type": "markdown",
   "metadata": {},
   "source": [
    "#### c. Ejercicio práctico\n",
    "\n",
    "Crea una función llamada `registro_evento()` que acepte un número variable de asistentes (usando `*args`) y detalles opcionales sobre el evento (usando `**kwargs`)."
   ]
  },
  {
   "cell_type": "code",
   "execution_count": null,
   "metadata": {},
   "outputs": [],
   "source": []
  },
  {
   "cell_type": "markdown",
   "metadata": {},
   "source": [
    "---\n",
    "\n",
    "## Módulo 2: Alcance de las Variables (Scope)\n",
    "\n",
    "### 1. Alcance de las variables\n",
    "\n",
    "El \"alcance\" o **scope** de una variable determina dónde se puede acceder a ella en el código. Python tiene dos tipos principales de alcance:\n",
    "\n",
    "- **Local**: Las variables definidas dentro de una función solo son accesibles dentro de esa función.\n",
    "- **Global**: Las variables definidas fuera de cualquier función pueden ser accesibles en todo el programa.\n",
    "\n",
    "#### a. Variables locales"
   ]
  },
  {
   "cell_type": "code",
   "execution_count": 8,
   "metadata": {},
   "outputs": [
    {
     "name": "stdout",
     "output_type": "stream",
     "text": [
      "20\n"
     ]
    }
   ],
   "source": [
    "y = 20  # 'y' es una variable global\n",
    "\n",
    "def otra_funcion():\n",
    "    print(y)  # Accede a la variable global\n",
    "\n",
    "otra_funcion()  # Imprime 20"
   ]
  },
  {
   "cell_type": "markdown",
   "metadata": {},
   "source": [
    "#### b. Ejercicio práctico\n",
    "\n",
    "Crea una función llamada `mostrar_valores()` que imprima una variable local `a` y una variable global `b`."
   ]
  },
  {
   "cell_type": "code",
   "execution_count": null,
   "metadata": {},
   "outputs": [],
   "source": []
  },
  {
   "cell_type": "markdown",
   "metadata": {},
   "source": [
    "### 2. Modificar variables globales dentro de una función\n",
    "\n",
    "Para modificar una variable global dentro de una función, se debe utilizar la palabra clave `global`.\n",
    "\n",
    "#### a. Modificación de una variable global"
   ]
  },
  {
   "cell_type": "code",
   "execution_count": 9,
   "metadata": {},
   "outputs": [
    {
     "name": "stdout",
     "output_type": "stream",
     "text": [
      "Valor dentro de la función: 10\n",
      "Valor fuera de la función: 10\n"
     ]
    }
   ],
   "source": [
    "z = 5  # Variable global\n",
    "\n",
    "def cambiar_valor():\n",
    "    global z\n",
    "    z = 10  # Modifica la variable global\n",
    "    print(\"Valor dentro de la función:\", z)\n",
    "\n",
    "cambiar_valor()  # Imprime 10\n",
    "print(\"Valor fuera de la función:\", z)  # Imprime 10"
   ]
  },
  {
   "cell_type": "markdown",
   "metadata": {},
   "source": [
    "#### b. Ejercicio práctico\n",
    "\n",
    "Escribe una función llamada `incrementar()` que incremente una variable global `contador` cada vez que se llame. Usa la palabra clave `global` para modificar `contador` desde dentro de la función.\n"
   ]
  },
  {
   "cell_type": "code",
   "execution_count": null,
   "metadata": {},
   "outputs": [],
   "source": []
  },
  {
   "cell_type": "markdown",
   "metadata": {},
   "source": [
    "### 3. Alcance anidado (nonlocal)\n",
    "\n",
    "Dentro de funciones anidadas, se puede acceder y modificar variables de la función externa usando la palabra clave `nonlocal`.\n",
    "\n",
    "#### a. Uso de `nonlocal`"
   ]
  },
  {
   "cell_type": "code",
   "execution_count": 10,
   "metadata": {},
   "outputs": [
    {
     "name": "stdout",
     "output_type": "stream",
     "text": [
      "Dentro de funcion_interna: modificada\n",
      "Dentro de funcion_externa: modificada\n"
     ]
    }
   ],
   "source": [
    "def funcion_externa():\n",
    "    x = \"local\"\n",
    "\n",
    "    def funcion_interna():\n",
    "        nonlocal x\n",
    "        x = \"modificada\"\n",
    "        print(\"Dentro de funcion_interna:\", x)\n",
    "\n",
    "    funcion_interna()\n",
    "    print(\"Dentro de funcion_externa:\", x)\n",
    "\n",
    "funcion_externa()"
   ]
  },
  {
   "cell_type": "markdown",
   "metadata": {},
   "source": [
    "#### b. Ejercicio práctico\n",
    "\n",
    "Escribe dos funciones anidadas: `exterior()` e `interior()`. Usa `nonlocal` en `interior()` para modificar una variable definida en `exterior()`."
   ]
  },
  {
   "cell_type": "code",
   "execution_count": null,
   "metadata": {},
   "outputs": [],
   "source": []
  }
 ],
 "metadata": {
  "kernelspec": {
   "display_name": ".env",
   "language": "python",
   "name": "python3"
  },
  "language_info": {
   "codemirror_mode": {
    "name": "ipython",
    "version": 3
   },
   "file_extension": ".py",
   "mimetype": "text/x-python",
   "name": "python",
   "nbconvert_exporter": "python",
   "pygments_lexer": "ipython3",
   "version": "3.12.7"
  }
 },
 "nbformat": 4,
 "nbformat_minor": 2
}
