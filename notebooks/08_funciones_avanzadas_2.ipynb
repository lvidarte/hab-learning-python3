{
 "cells": [
  {
   "cell_type": "markdown",
   "metadata": {},
   "source": [
    "# Funciones Avanzadas y Alcance de las Variables (Scope) - Material complementario\n",
    "\n",
    "### 1. Introducción a los parámetros variables en Python\n",
    "\n",
    "En Python, una función puede recibir un número variable de argumentos usando `*args` y `**kwargs`. \n",
    "\n",
    "1. `*args`: permite a la función aceptar un número variable de argumentos posicionales, que se agrupan en una tupla.\n",
    "2. `**kwargs`: permite a la función aceptar un número variable de argumentos de palabra clave (keyword arguments), que se agrupan en un diccionario.\n",
    "\n",
    "Los parámetros variables son útiles cuando:\n",
    "- No conocemos de antemano cuántos argumentos se pasarán a la función.\n",
    "- Queremos hacer la función flexible y adaptable para diferentes entradas.\n",
    "\n",
    "También es posible usar `*` y `**` en las llamadas a funciones para expandir listas y diccionarios, respectivamente, en múltiples argumentos.\n",
    "\n",
    "#### a. Uso de `*args` para argumentos posicionales variables"
   ]
  },
  {
   "cell_type": "code",
   "execution_count": 1,
   "metadata": {},
   "outputs": [
    {
     "name": "stdout",
     "output_type": "stream",
     "text": [
      "6\n",
      "30\n"
     ]
    }
   ],
   "source": [
    "def suma(*args):\n",
    "       return sum(args)\n",
    "\n",
    "print(suma(1, 2, 3))        # 6\n",
    "print(suma(4, 5, 6, 7, 8))  # 30"
   ]
  },
  {
   "cell_type": "markdown",
   "metadata": {},
   "source": [
    "\n",
    "#### b. Uso de `**kwargs` para argumentos de palabra clave variables\n"
   ]
  },
  {
   "cell_type": "code",
   "execution_count": 2,
   "metadata": {},
   "outputs": [
    {
     "name": "stdout",
     "output_type": "stream",
     "text": [
      "nombre: Ana\n",
      "edad: 25\n",
      "ciudad: Buenos Aires\n"
     ]
    }
   ],
   "source": [
    "def mostrar_info(**kwargs):\n",
    "    for key, value in kwargs.items():\n",
    "        print(f\"{key}: {value}\")\n",
    "\n",
    "mostrar_info(nombre=\"Ana\", edad=25, ciudad=\"Buenos Aires\")"
   ]
  },
  {
   "cell_type": "markdown",
   "metadata": {},
   "source": [
    "#### c. Combinación de argumentos de posición, `*args`, y `**kwargs`"
   ]
  },
  {
   "cell_type": "code",
   "execution_count": 3,
   "metadata": {},
   "outputs": [
    {
     "name": "stdout",
     "output_type": "stream",
     "text": [
      "param1: Fijo\n",
      "args: (10, 20)\n",
      "kwargs: {'nombre': 'Carla', 'ciudad': 'Barcelona'}\n"
     ]
    }
   ],
   "source": [
    "def combinar(param1, *args, **kwargs):\n",
    "       print(f\"param1: {param1}\")\n",
    "       print(\"args:\", args)\n",
    "       print(\"kwargs:\", kwargs)\n",
    "\n",
    "combinar(\"Fijo\", 10, 20, nombre=\"Carla\", ciudad=\"Barcelona\")"
   ]
  },
  {
   "cell_type": "markdown",
   "metadata": {},
   "source": [
    "\n",
    "#### d. Llamada a función con `*` para expandir una lista\n"
   ]
  },
  {
   "cell_type": "code",
   "execution_count": 4,
   "metadata": {},
   "outputs": [
    {
     "name": "stdout",
     "output_type": "stream",
     "text": [
      "5\n"
     ]
    }
   ],
   "source": [
    "def resta(a, b, c):\n",
    "       return a - b - c\n",
    "\n",
    "lista_numeros = [10, 3, 2]\n",
    "print(resta(*lista_numeros))"
   ]
  },
  {
   "cell_type": "markdown",
   "metadata": {},
   "source": [
    "\n",
    "#### e. Llamada a función con `**` para expandir un diccionario\n"
   ]
  },
  {
   "cell_type": "code",
   "execution_count": 5,
   "metadata": {},
   "outputs": [
    {
     "name": "stdout",
     "output_type": "stream",
     "text": [
      "Nombre: Juan, Edad: 30, Ciudad: La Plata\n"
     ]
    }
   ],
   "source": [
    "def mostrar_detalles(nombre, edad, ciudad):\n",
    "       print(f\"Nombre: {nombre}, Edad: {edad}, Ciudad: {ciudad}\")\n",
    "\n",
    "datos = {\"nombre\": \"Juan\", \"edad\": 30, \"ciudad\": \"La Plata\"}\n",
    "mostrar_detalles(**datos)"
   ]
  },
  {
   "cell_type": "markdown",
   "metadata": {},
   "source": [
    "#### f. Uso combinado de parámetros fijos, `*args`, y `**kwargs`"
   ]
  },
  {
   "cell_type": "code",
   "execution_count": 8,
   "metadata": {},
   "outputs": [
    {
     "name": "stdout",
     "output_type": "stream",
     "text": [
      "Evento: Fiesta\n",
      "Invitados: Ana, Carlos\n",
      "hora: 20:00\n",
      "lugar: Club Social\n"
     ]
    }
   ],
   "source": [
    "def evento(descripcion, *invitados, **detalles):\n",
    "    print(f\"Evento: {descripcion}\")\n",
    "    print(\"Invitados:\", \", \".join(invitados))\n",
    "    for key, value in detalles.items():\n",
    "        print(f\"{key}: {value}\")\n",
    "\n",
    "evento(\"Fiesta\", \"Ana\", \"Carlos\", hora=\"20:00\", lugar=\"Club Social\")"
   ]
  },
  {
   "cell_type": "markdown",
   "metadata": {},
   "source": [
    "#### g. Definir una función con `*args` y `**kwargs` para crear un mensaje"
   ]
  },
  {
   "cell_type": "code",
   "execution_count": 9,
   "metadata": {},
   "outputs": [
    {
     "name": "stdout",
     "output_type": "stream",
     "text": [
      "Hola Mundo (autor=Lucia, año=2024)\n"
     ]
    }
   ],
   "source": [
    "def mensaje_personalizado(*args, **kwargs):\n",
    "    mensaje = \" \".join(args)\n",
    "    detalles = \", \".join(f\"{k}={v}\" for k, v in kwargs.items())\n",
    "    return f\"{mensaje} ({detalles})\"\n",
    "\n",
    "print(mensaje_personalizado(\"Hola\", \"Mundo\", autor=\"Lucia\", año=2024))"
   ]
  },
  {
   "cell_type": "markdown",
   "metadata": {},
   "source": [
    "#### h. Uso de `*` y `**` para pasar elementos de una lista y un diccionario a una función"
   ]
  },
  {
   "cell_type": "code",
   "execution_count": 12,
   "metadata": {},
   "outputs": [
    {
     "name": "stdout",
     "output_type": "stream",
     "text": [
      "param1='a', param2='b', param3='c'\n",
      "Nombre: Pedro, Edad: 45\n"
     ]
    }
   ],
   "source": [
    "def procesar(param1, param2, param3, nombre=None, edad=None):\n",
    "    print(f\"{param1=}, {param2=}, {param3=}\")\n",
    "    print(f\"Nombre: {nombre}, Edad: {edad}\")\n",
    "\n",
    "lista = ['a', 'b', 'c']\n",
    "dicc = {\"nombre\": \"Pedro\", \"edad\": 45}\n",
    "\n",
    "procesar(*lista, **dicc)"
   ]
  },
  {
   "cell_type": "markdown",
   "metadata": {},
   "source": [
    "#### i. Función que acepta cualquier combinación de argumentos"
   ]
  },
  {
   "cell_type": "code",
   "execution_count": 13,
   "metadata": {},
   "outputs": [
    {
     "name": "stdout",
     "output_type": "stream",
     "text": [
      "Datos: (10, 20, 30)\n",
      "Detalles: {'usuario': 'Juan', 'edad': 30}\n"
     ]
    }
   ],
   "source": [
    "def informe(*args, **kwargs):\n",
    "    print(\"Datos:\", args)\n",
    "    print(\"Detalles:\", kwargs)\n",
    "\n",
    "informe(10, 20, 30, usuario=\"Juan\", edad=30)"
   ]
  },
  {
   "cell_type": "markdown",
   "metadata": {},
   "source": [
    "---\n",
    "\n",
    "### 2. Modificadores `/` y `*`\n",
    "\n",
    "En Python (versión 3.8 y superiores), los modificadores `/` y `*` en la definición de parámetros permiten controlar cómo se deben pasar los argumentos a una función: ya sea exclusivamente por posición, exclusivamente por nombre (keyword arguments), o de manera mixta. Estos modificadores son útiles cuando quieres que ciertos parámetros solo se acepten de una manera específica, mejorando la legibilidad y reduciendo errores de llamada.\n",
    "\n",
    "#### a. Modificador `/` (solo por posición)\n",
    "El modificador `/` indica que todos los parámetros que estén antes de él deben ser pasados **solo por posición**. Esto significa que, para esos parámetros, no se puede usar el nombre al hacer la llamada a la función, lo cual es útil para evitar la confusión entre parámetros de nombre similar."
   ]
  },
  {
   "cell_type": "code",
   "execution_count": 14,
   "metadata": {},
   "outputs": [
    {
     "name": "stdout",
     "output_type": "stream",
     "text": [
      "5.0\n"
     ]
    }
   ],
   "source": [
    "def dividir(a, b, /):\n",
    "    return a / b\n",
    "\n",
    "# Llamada correcta (solo por posición)\n",
    "print(dividir(10, 2))  # 5.0"
   ]
  },
  {
   "cell_type": "code",
   "execution_count": 15,
   "metadata": {},
   "outputs": [
    {
     "ename": "TypeError",
     "evalue": "dividir() got some positional-only arguments passed as keyword arguments: 'a, b'",
     "output_type": "error",
     "traceback": [
      "\u001b[0;31m---------------------------------------------------------------------------\u001b[0m",
      "\u001b[0;31mTypeError\u001b[0m                                 Traceback (most recent call last)",
      "Cell \u001b[0;32mIn[15], line 2\u001b[0m\n\u001b[1;32m      1\u001b[0m \u001b[38;5;66;03m# Llamada incorrecta (uso por nombre)\u001b[39;00m\n\u001b[0;32m----> 2\u001b[0m \u001b[38;5;28mprint\u001b[39m(\u001b[43mdividir\u001b[49m\u001b[43m(\u001b[49m\u001b[43ma\u001b[49m\u001b[38;5;241;43m=\u001b[39;49m\u001b[38;5;241;43m10\u001b[39;49m\u001b[43m,\u001b[49m\u001b[43m \u001b[49m\u001b[43mb\u001b[49m\u001b[38;5;241;43m=\u001b[39;49m\u001b[38;5;241;43m2\u001b[39;49m\u001b[43m)\u001b[49m)\n",
      "\u001b[0;31mTypeError\u001b[0m: dividir() got some positional-only arguments passed as keyword arguments: 'a, b'"
     ]
    }
   ],
   "source": [
    "# Llamada incorrecta (uso por nombre)\n",
    "print(dividir(a=10, b=2))"
   ]
  },
  {
   "cell_type": "markdown",
   "metadata": {},
   "source": [
    "#### b. Modificador `*` (solo por nombre)\n",
    "\n",
    "El modificador `*` indica que todos los parámetros después de él deben ser pasados **solo por nombre** (keyword arguments). Así, estos argumentos solo se pueden pasar especificando el nombre del parámetro y su valor, lo que ayuda a hacer la llamada más explícita."
   ]
  },
  {
   "cell_type": "code",
   "execution_count": 16,
   "metadata": {},
   "outputs": [
    {
     "name": "stdout",
     "output_type": "stream",
     "text": [
      "Nombre: Ana, Edad: 30, Ciudad: Buenos Aires, País: Argentina\n"
     ]
    }
   ],
   "source": [
    "def crear_usuario(nombre, edad, *, ciudad, pais):\n",
    "    print(f\"Nombre: {nombre}, Edad: {edad}, Ciudad: {ciudad}, País: {pais}\")\n",
    "\n",
    "# Llamada correcta (ciudad y país como keyword arguments)\n",
    "crear_usuario(\"Ana\", 30, ciudad=\"Buenos Aires\", pais=\"Argentina\")"
   ]
  },
  {
   "cell_type": "code",
   "execution_count": 17,
   "metadata": {},
   "outputs": [
    {
     "ename": "TypeError",
     "evalue": "crear_usuario() takes 2 positional arguments but 4 were given",
     "output_type": "error",
     "traceback": [
      "\u001b[0;31m---------------------------------------------------------------------------\u001b[0m",
      "\u001b[0;31mTypeError\u001b[0m                                 Traceback (most recent call last)",
      "Cell \u001b[0;32mIn[17], line 2\u001b[0m\n\u001b[1;32m      1\u001b[0m \u001b[38;5;66;03m# Llamada incorrecta (sin usar keyword arguments)\u001b[39;00m\n\u001b[0;32m----> 2\u001b[0m \u001b[43mcrear_usuario\u001b[49m\u001b[43m(\u001b[49m\u001b[38;5;124;43m\"\u001b[39;49m\u001b[38;5;124;43mAna\u001b[39;49m\u001b[38;5;124;43m\"\u001b[39;49m\u001b[43m,\u001b[49m\u001b[43m \u001b[49m\u001b[38;5;241;43m30\u001b[39;49m\u001b[43m,\u001b[49m\u001b[43m \u001b[49m\u001b[38;5;124;43m\"\u001b[39;49m\u001b[38;5;124;43mBuenos Aires\u001b[39;49m\u001b[38;5;124;43m\"\u001b[39;49m\u001b[43m,\u001b[49m\u001b[43m \u001b[49m\u001b[38;5;124;43m\"\u001b[39;49m\u001b[38;5;124;43mArgentina\u001b[39;49m\u001b[38;5;124;43m\"\u001b[39;49m\u001b[43m)\u001b[49m\n",
      "\u001b[0;31mTypeError\u001b[0m: crear_usuario() takes 2 positional arguments but 4 were given"
     ]
    }
   ],
   "source": [
    "# Llamada incorrecta (sin usar keyword arguments)\n",
    "crear_usuario(\"Ana\", 30, \"Buenos Aires\", \"Argentina\")"
   ]
  },
  {
   "cell_type": "markdown",
   "metadata": {},
   "source": [
    "\n",
    "### c. Uso combinado de `/` y `*` para una mayor flexibilidad"
   ]
  },
  {
   "cell_type": "code",
   "execution_count": 18,
   "metadata": {},
   "outputs": [
    {
     "name": "stdout",
     "output_type": "stream",
     "text": [
      "9\n"
     ]
    }
   ],
   "source": [
    "def producto(a, b, /, c, *, d):\n",
    "       return (a * b) + c - d\n",
    "\n",
    "# Llamada correcta\n",
    "print(producto(2, 3, 4, d=1))"
   ]
  },
  {
   "cell_type": "code",
   "execution_count": 19,
   "metadata": {},
   "outputs": [
    {
     "ename": "TypeError",
     "evalue": "producto() takes 3 positional arguments but 4 were given",
     "output_type": "error",
     "traceback": [
      "\u001b[0;31m---------------------------------------------------------------------------\u001b[0m",
      "\u001b[0;31mTypeError\u001b[0m                                 Traceback (most recent call last)",
      "Cell \u001b[0;32mIn[19], line 2\u001b[0m\n\u001b[1;32m      1\u001b[0m \u001b[38;5;66;03m# Llamada incorrecta (pasando `d` sin nombre)\u001b[39;00m\n\u001b[0;32m----> 2\u001b[0m \u001b[38;5;28mprint\u001b[39m(\u001b[43mproducto\u001b[49m\u001b[43m(\u001b[49m\u001b[38;5;241;43m2\u001b[39;49m\u001b[43m,\u001b[49m\u001b[43m \u001b[49m\u001b[38;5;241;43m3\u001b[39;49m\u001b[43m,\u001b[49m\u001b[43m \u001b[49m\u001b[38;5;241;43m4\u001b[39;49m\u001b[43m,\u001b[49m\u001b[43m \u001b[49m\u001b[38;5;241;43m1\u001b[39;49m\u001b[43m)\u001b[49m)  \u001b[38;5;66;03m# Error\u001b[39;00m\n",
      "\u001b[0;31mTypeError\u001b[0m: producto() takes 3 positional arguments but 4 were given"
     ]
    }
   ],
   "source": [
    "\n",
    "# Llamada incorrecta (pasando `d` sin nombre)\n",
    "print(producto(2, 3, 4, 1))  # Error"
   ]
  },
  {
   "cell_type": "markdown",
   "metadata": {},
   "source": [
    "#### d. Función que usa `/`, `*`, `*args`, y `**kwargs` "
   ]
  },
  {
   "cell_type": "code",
   "execution_count": 20,
   "metadata": {},
   "outputs": [
    {
     "name": "stdout",
     "output_type": "stream",
     "text": [
      "a: 1, b: 2, c: 3\n",
      "args: (4, 5)\n",
      "d: 6, e: 7\n",
      "kwargs: {'extra': 'dato'}\n"
     ]
    }
   ],
   "source": [
    "def procesar(a, b, /, c, *args, d, e, **kwargs):\n",
    "    print(f\"a: {a}, b: {b}, c: {c}\")\n",
    "    print(\"args:\", args)\n",
    "    print(f\"d: {d}, e: {e}\")\n",
    "    print(\"kwargs:\", kwargs)\n",
    "\n",
    "procesar(1, 2, 3, 4, 5, d=6, e=7, extra=\"dato\")"
   ]
  },
  {
   "cell_type": "markdown",
   "metadata": {},
   "source": [
    "---\n",
    "\n",
    "### 3. Modelo LEGB en Python\n",
    "\n",
    "En Python, el modelo LEGB define el orden de búsqueda para las variables y nombres en el código. LEGB es un acrónimo de los cuatro niveles en los que Python busca una variable en el siguiente orden:\n",
    "\n",
    "1. **Local (L)**: Primero, Python busca en el ámbito local, que es el espacio de nombres de una función, método o bloque de código específico.\n",
    "2. **Enclosing (E)**: Si no encuentra el nombre en el ámbito local, busca en el ámbito que lo engloba, como en una función dentro de otra función.\n",
    "3. **Global (G)**: Si el nombre no está en el ámbito local ni en el englobante, Python lo busca en el ámbito global del módulo.\n",
    "4. **Built-in (B)**: Si no lo encuentra en los ámbitos anteriores, busca en el ámbito de nombres predefinidos de Python, como funciones integradas (`print`, `len`, etc.).\n",
    "\n",
    "#### a. Local Scope (L)"
   ]
  },
  {
   "cell_type": "code",
   "execution_count": 21,
   "metadata": {},
   "outputs": [
    {
     "name": "stdout",
     "output_type": "stream",
     "text": [
      "Soy local\n"
     ]
    }
   ],
   "source": [
    "def funcion_local():\n",
    "    x = \"Soy local\"\n",
    "    print(x)  # Busca en el ámbito local de la función\n",
    "\n",
    "funcion_local()  # Salida: \"Soy local\""
   ]
  },
  {
   "cell_type": "markdown",
   "metadata": {},
   "source": [
    "Aquí `x` es local a `funcion_local`, por lo que Python la encuentra directamente en el ámbito local.\n",
    "\n",
    "#### b. Enclosing Scope (E)"
   ]
  },
  {
   "cell_type": "code",
   "execution_count": 24,
   "metadata": {},
   "outputs": [
    {
     "name": "stdout",
     "output_type": "stream",
     "text": [
      "Soy de la función externa\n"
     ]
    }
   ],
   "source": [
    "def funcion_externa():\n",
    "    x = \"Soy de la función externa\"\n",
    "\n",
    "    def funcion_interna():\n",
    "        print(x)  # Busca en el ámbito englobante\n",
    "\n",
    "    funcion_interna()\n",
    "\n",
    "funcion_externa()  # Salida: \"Soy de la función externa\""
   ]
  },
  {
   "cell_type": "markdown",
   "metadata": {},
   "source": [
    "Aquí, `x` está en el ámbito de `funcion_externa`, que envuelve `funcion_interna`. La función interna puede acceder a `x` en el ámbito englobante.\n",
    "\n",
    "#### c. Global Scope (G)"
   ]
  },
  {
   "cell_type": "code",
   "execution_count": 25,
   "metadata": {},
   "outputs": [
    {
     "name": "stdout",
     "output_type": "stream",
     "text": [
      "Soy global\n"
     ]
    }
   ],
   "source": [
    "x = \"Soy global\"\n",
    "\n",
    "def mostrar_global():\n",
    "    print(x)  # Busca en el ámbito global\n",
    "\n",
    "mostrar_global()  # Salida: \"Soy global\""
   ]
  },
  {
   "cell_type": "markdown",
   "metadata": {},
   "source": [
    "En este ejemplo, `x` está en el ámbito global, por lo que se encuentra al no haber ningún `x` en el ámbito local de `mostrar_global`.\n",
    "\n",
    "#### d. Built-in Scope (B)"
   ]
  },
  {
   "cell_type": "code",
   "execution_count": 26,
   "metadata": {},
   "outputs": [
    {
     "name": "stdout",
     "output_type": "stream",
     "text": [
      "4\n"
     ]
    }
   ],
   "source": [
    "def mostrar_longitud():\n",
    "    texto = \"Hola\"\n",
    "    print(len(texto))  # `len` es una función built-in\n",
    "\n",
    "mostrar_longitud()  # Salida: 4"
   ]
  },
  {
   "cell_type": "markdown",
   "metadata": {},
   "source": [
    "\n",
    "Python encuentra `len` en el ámbito de nombres predefinidos, ya que es una función incorporada.\n",
    "\n",
    "#### e. Combinación de todos los niveles"
   ]
  },
  {
   "cell_type": "code",
   "execution_count": 27,
   "metadata": {},
   "outputs": [
    {
     "name": "stdout",
     "output_type": "stream",
     "text": [
      "Soy local\n"
     ]
    }
   ],
   "source": [
    "x = \"Soy global\"\n",
    "\n",
    "def funcion_externa():\n",
    "    x = \"Soy de la función externa\"\n",
    "\n",
    "    def funcion_interna():\n",
    "        x = \"Soy local\"\n",
    "        print(x)  # Busca en el ámbito local\n",
    "\n",
    "    funcion_interna()\n",
    "\n",
    "funcion_externa()  # Salida: \"Soy local\""
   ]
  },
  {
   "cell_type": "markdown",
   "metadata": {},
   "source": [
    "En este caso, `funcion_interna` imprime \"Soy local\" porque el ámbito local de `funcion_interna` tiene precedencia sobre el englobante y el global."
   ]
  },
  {
   "cell_type": "markdown",
   "metadata": {},
   "source": [
    "---\n",
    "\n",
    "### 4. Uso de `nonlocal` y `global`\n",
    "\n",
    "`nonlocal` y `global` son palabras clave en Python que permiten acceder y modificar variables en diferentes ámbitos.\n",
    "\n",
    "#### a. Ejemplo con `nonlocal` para acceder a \"Soy de la función externa\"\n",
    "\n",
    "Usamos `nonlocal` dentro de `funcion_interna` para acceder y modificar la variable `x` del ámbito englobante (en este caso, `funcion_externa`)."
   ]
  },
  {
   "cell_type": "code",
   "execution_count": 28,
   "metadata": {},
   "outputs": [
    {
     "name": "stdout",
     "output_type": "stream",
     "text": [
      "Modificado en la función interna\n",
      "Modificado en la función interna\n"
     ]
    }
   ],
   "source": [
    "def funcion_externa():\n",
    "    x = \"Soy de la función externa\"\n",
    "\n",
    "    def funcion_interna():\n",
    "        nonlocal x  # Accede a x en el ámbito englobante\n",
    "        x = \"Modificado en la función interna\"\n",
    "        print(x)  # Imprime el valor modificado en el ámbito englobante\n",
    "\n",
    "    funcion_interna()\n",
    "    print(x)  # Confirma que el valor en el ámbito englobante ha cambiado\n",
    "\n",
    "funcion_externa()"
   ]
  },
  {
   "cell_type": "markdown",
   "metadata": {},
   "source": [
    "En este caso, `nonlocal` permite que `funcion_interna` modifique `x` en el ámbito de `funcion_externa`.\n",
    "\n",
    "#### b. Ejemplo con `global` para acceder a \"Soy global\"\n",
    "\n",
    "Usamos `global` para modificar la variable `x` en el ámbito global desde dentro de la función. Esto permite que `funcion_interna` pueda acceder y modificar `x` en el espacio de nombres global."
   ]
  },
  {
   "cell_type": "code",
   "execution_count": 29,
   "metadata": {},
   "outputs": [
    {
     "name": "stdout",
     "output_type": "stream",
     "text": [
      "Modificado en la función interna\n",
      "Modificado en la función interna\n"
     ]
    }
   ],
   "source": [
    "x = \"Soy global\"\n",
    "\n",
    "def funcion_externa():\n",
    "    def funcion_interna():\n",
    "        global x  # Accede a x en el ámbito global\n",
    "        x = \"Modificado en la función interna\"\n",
    "        print(x)  # Imprime el valor modificado en el ámbito global\n",
    "\n",
    "    funcion_interna()\n",
    "    print(x)  # Confirma que el valor en el ámbito global ha cambiado\n",
    "\n",
    "funcion_externa()"
   ]
  },
  {
   "cell_type": "markdown",
   "metadata": {},
   "source": [
    "\n",
    "\n",
    "En este ejemplo, `global` permite a `funcion_interna` cambiar el valor de `x` en el ámbito global, y este cambio es reflejado en todo el programa. "
   ]
  },
  {
   "cell_type": "markdown",
   "metadata": {},
   "source": [
    "---\n",
    "\n",
    "### 5. ColabTurtle\n",
    "\n",
    "`ColabTurtle` es una librería que permite usar el módulo turtle de Python en Google Colab, que generalmente no es compatible en entorno Jupyter Notebook debido a que utiliza una ventana gráfica interactiva. Esta librería proporciona una forma sencilla de usar el entorno gráfico de la tortuga en Google Colab, permitiéndote crear dibujos, gráficos y patrones de manera interactiva sin necesidad de instalar software adicional.\n",
    "\n",
    "#### a. ¿Qué es `turtle`?\n",
    "\n",
    "El módulo `turtle` de Python es una herramienta educativa que permite a los programadores aprender conceptos de programación mientras dibujan figuras geométricas. Usando una tortuga que se mueve por la pantalla, puedes crear gráficos y patrones.\n",
    "\n",
    "#### b. ¿Por qué una tortuga? \n",
    "\n",
    "El módulo turtle de Python está inspirado en el lenguaje de programación Logo, que fue creado en la década de 1960 por Seymour Papert y otros investigadores del MIT. Logo fue diseñado principalmente como una herramienta educativa para enseñar a los niños conceptos básicos de programación a través del uso de una \"tortuga\" que se mueve por la pantalla, dibujando figuras geométricas.\n",
    "\n",
    "#### c. ¿Cómo funciona `ColabTurtle`?\n",
    "\n",
    "`ColabTurtle` permite ejecutar código de `turtle` dentro de Google Colab, utilizando un entorno gráfico que se renderiza directamente en las celdas de código de Colab. Esto hace que sea una herramienta perfecta para enseñar y practicar programación de manera visual sin salir del entorno de Colab.\n",
    "\n",
    "#### d. Características principales de ColabTurtle\n",
    "\n",
    "- **Dibujo en tiempo real**: Puedes dibujar figuras y patrones gráficos de manera interactiva.\n",
    "- **Funciones personalizadas**: Puedes crear funciones para dibujar formas, figuras y patrones, y controlar la tortuga con comandos como `forward()`, `left()`, `right()`, etc.\n",
    "- **Uso de colores**: Puedes cambiar el color de la tortuga y del trazo para hacer tus dibujos más interesantes.\n",
    "- **Patrones aleatorios**: Puedes incorporar la librería `random` para generar patrones o movimientos de la tortuga de forma aleatoria, creando resultados únicos cada vez que ejecutas el código.\n",
    "\n",
    "#### e. ¿Cómo empezar?\n",
    "\n",
    "Para usar `ColabTurtle`, primero debes instalar la librería."
   ]
  },
  {
   "cell_type": "code",
   "execution_count": 31,
   "metadata": {},
   "outputs": [
    {
     "name": "stdout",
     "output_type": "stream",
     "text": [
      "Collecting ColabTurtle\n",
      "  Downloading ColabTurtle-2.1.0.tar.gz (6.8 kB)\n",
      "  Installing build dependencies ... \u001b[?25ldone\n",
      "\u001b[?25h  Getting requirements to build wheel ... \u001b[?25ldone\n",
      "\u001b[?25h  Preparing metadata (pyproject.toml) ... \u001b[?25ldone\n",
      "\u001b[?25hBuilding wheels for collected packages: ColabTurtle\n",
      "  Building wheel for ColabTurtle (pyproject.toml) ... \u001b[?25ldone\n",
      "\u001b[?25h  Created wheel for ColabTurtle: filename=ColabTurtle-2.1.0-py3-none-any.whl size=7642 sha256=b33a917cd0c9a3521dbe4642c0f5418552935b25b25f761691093261f4e31a81\n",
      "  Stored in directory: /Users/leo/Library/Caches/pip/wheels/9f/af/64/ffd85f9858ed7d56b7293dcedbc9d461bf13c8cfc97e352bc8\n",
      "Successfully built ColabTurtle\n",
      "Installing collected packages: ColabTurtle\n",
      "Successfully installed ColabTurtle-2.1.0\n",
      "\n",
      "\u001b[1m[\u001b[0m\u001b[34;49mnotice\u001b[0m\u001b[1;39;49m]\u001b[0m\u001b[39;49m A new release of pip is available: \u001b[0m\u001b[31;49m24.3\u001b[0m\u001b[39;49m -> \u001b[0m\u001b[32;49m24.3.1\u001b[0m\n",
      "\u001b[1m[\u001b[0m\u001b[34;49mnotice\u001b[0m\u001b[1;39;49m]\u001b[0m\u001b[39;49m To update, run: \u001b[0m\u001b[32;49mpip install --upgrade pip\u001b[0m\n"
     ]
    }
   ],
   "source": [
    "!pip3 install ColabTurtle"
   ]
  },
  {
   "cell_type": "markdown",
   "metadata": {},
   "source": [
    "Luego hacer el siguiente import."
   ]
  },
  {
   "cell_type": "code",
   "execution_count": 35,
   "metadata": {},
   "outputs": [],
   "source": [
    "from ColabTurtle.Turtle import *"
   ]
  },
  {
   "cell_type": "markdown",
   "metadata": {},
   "source": [
    "Finalmente inicializar la tortuga y comenzar a hacer dibujos."
   ]
  },
  {
   "cell_type": "code",
   "execution_count": 36,
   "metadata": {},
   "outputs": [
    {
     "data": {
      "text/html": [
       "\n",
       "      <svg width=\"800\" height=\"500\">\n",
       "        <rect width=\"100%\" height=\"100%\" fill=\"black\"/>\n",
       "        <line x1=\"400\" y1=\"250\" x2=\"400.0\" y2=\"150.0\" stroke-linecap=\"round\" style=\"stroke:white;stroke-width:4\"/><line x1=\"400.0\" y1=\"150.0\" x2=\"300.0\" y2=\"150.0\" stroke-linecap=\"round\" style=\"stroke:white;stroke-width:4\"/><line x1=\"300.0\" y1=\"150.0\" x2=\"300.0\" y2=\"250.0\" stroke-linecap=\"round\" style=\"stroke:white;stroke-width:4\"/><line x1=\"300.0\" y1=\"250.0\" x2=\"400.0\" y2=\"250.0\" stroke-linecap=\"round\" style=\"stroke:white;stroke-width:4\"/>\n",
       "        <g visibility=visible transform=\"rotate(360,400.0,250.0) translate(382.0, 232.0)\">\n",
       "<path style=\" stroke:none;fill-rule:evenodd;fill:white;fill-opacity:1;\" d=\"M 18.214844 0.632812 C 16.109375 1.800781 15.011719 4.074219 15.074219 7.132812 L 15.085938 7.652344 L 14.785156 7.496094 C 13.476562 6.824219 11.957031 6.671875 10.40625 7.066406 C 8.46875 7.550781 6.515625 9.15625 4.394531 11.992188 C 3.0625 13.777344 2.679688 14.636719 3.042969 15.027344 L 3.15625 15.152344 L 3.519531 15.152344 C 4.238281 15.152344 4.828125 14.886719 8.1875 13.039062 C 9.386719 12.378906 10.371094 11.839844 10.378906 11.839844 C 10.386719 11.839844 10.355469 11.929688 10.304688 12.035156 C 9.832031 13.09375 9.257812 14.820312 8.96875 16.078125 C 7.914062 20.652344 8.617188 24.53125 11.070312 27.660156 C 11.351562 28.015625 11.363281 27.914062 10.972656 28.382812 C 8.925781 30.84375 7.945312 33.28125 8.238281 35.1875 C 8.289062 35.527344 8.28125 35.523438 8.917969 35.523438 C 10.941406 35.523438 13.074219 34.207031 15.136719 31.6875 C 15.359375 31.417969 15.328125 31.425781 15.5625 31.574219 C 16.292969 32.042969 18.023438 32.964844 18.175781 32.964844 C 18.335938 32.964844 19.941406 32.210938 20.828125 31.71875 C 20.996094 31.625 21.136719 31.554688 21.136719 31.558594 C 21.203125 31.664062 21.898438 32.414062 22.222656 32.730469 C 23.835938 34.300781 25.5625 35.132812 27.582031 35.300781 C 27.90625 35.328125 27.9375 35.308594 28.007812 34.984375 C 28.382812 33.242188 27.625 30.925781 25.863281 28.425781 L 25.542969 27.96875 L 25.699219 27.785156 C 28.945312 23.960938 29.132812 18.699219 26.257812 11.96875 L 26.207031 11.84375 L 27.945312 12.703125 C 31.53125 14.476562 32.316406 14.800781 33.03125 14.800781 C 33.976562 14.800781 33.78125 13.9375 32.472656 12.292969 C 28.519531 7.355469 25.394531 5.925781 21.921875 7.472656 L 21.558594 7.636719 L 21.578125 7.542969 C 21.699219 6.992188 21.761719 5.742188 21.699219 5.164062 C 21.496094 3.296875 20.664062 1.964844 19.003906 0.855469 C 18.480469 0.503906 18.457031 0.5 18.214844 0.632812\"/>\n",
       "</g>\n",
       "      </svg>\n",
       "    "
      ],
      "text/plain": [
       "<IPython.core.display.HTML object>"
      ]
     },
     "metadata": {},
     "output_type": "display_data"
    }
   ],
   "source": [
    "# Inicializa la tortuga\n",
    "initializeTurtle()\n",
    "\n",
    "# Dibuja un cuadrado\n",
    "for _ in range(4):\n",
    "    forward(100)\n",
    "    left(90)"
   ]
  },
  {
   "cell_type": "markdown",
   "metadata": {},
   "source": [
    "#### f. Funciones básicas\n",
    "\n",
    "| Función          | Descripción                                                                 | Uso Ejemplo                                  |\n",
    "|------------------|-----------------------------------------------------------------------------|----------------------------------------------|\n",
    "| `initializeTurtle()` | Inicializa la tortuga para comenzar a dibujar.                               | `initializeTurtle()`                        |\n",
    "| `forward(dist)`   | Mueve la tortuga hacia adelante una distancia especificada en píxeles.      | `forward(100)`                              |\n",
    "| `backward(dist)`  | Mueve la tortuga hacia atrás una distancia especificada en píxeles.         | `backward(50)`                              |\n",
    "| `left(angle)`     | Gira la tortuga hacia la izquierda un ángulo especificado en grados.        | `left(90)`                                  |\n",
    "| `right(angle)`    | Gira la tortuga hacia la derecha un ángulo especificado en grados.          | `right(45)`                                 |\n",
    "| `penup()`         | Levanta el lápiz, la tortuga no dibuja mientras se mueve.                   | `penup()`                                   |\n",
    "| `pendown()`       | Baja el lápiz, la tortuga comienza a dibujar mientras se mueve.             | `pendown()`                                 |\n",
    "| `color(pen_color, fill_color)` | Cambia el color del lápiz (trazo) y el color de relleno.              | `color(\"blue\")`, `color(\"blue\", \"yellow\")`  |\n",
    "| `bgcolor(color)`  | Cambia el color de fondo del lienzo.                                         | `bgcolor(\"lightgray\")`                      |\n",
    "| `speed(speed_value)` | Cambia la velocidad de la tortuga, de 0 (lento) a 10 (rápido).              | `speed(5)`                                  |\n",
    "| `reset()`         | Resetea el estado de la tortuga, borrando todo y restableciendo la posición. | `reset()`                                   |\n",
    "| `clear()`         | Borra lo que ha dibujado la tortuga pero mantiene su posición.              | `clear()`                                   |\n",
    "| `done()`          | Finaliza el dibujo y mantiene la ventana abierta para ver el resultado.     | `done()`                                    |\n",
    "\n",
    "#### g. Colores disponibles\n",
    "\n",
    "| Color        | Nombre del Color |\n",
    "|--------------|------------------|\n",
    "| `\"black\"`    | Negro            |\n",
    "| `\"white\"`    | Blanco           |\n",
    "| `\"red\"`      | Rojo             |\n",
    "| `\"green\"`    | Verde            |\n",
    "| `\"blue\"`     | Azul             |\n",
    "| `\"yellow\"`   | Amarillo         |\n",
    "| `\"cyan\"`     | Cian             |\n",
    "| `\"magenta\"`  | Magenta          |\n",
    "| `\"orange\"`   | Naranja          |\n",
    "| `\"purple\"`   | Púrpura          |\n",
    "| `\"brown\"`    | Marrón           |\n",
    "| `\"pink\"`     | Rosa             |\n",
    "| `\"gray\"`     | Gris             |"
   ]
  },
  {
   "cell_type": "markdown",
   "metadata": {},
   "source": [
    "---\n",
    "\n",
    "### 6. Ejercicios con funciones - III\n",
    "\n",
    "#### a. Crea una función `cuadrado` que dibuje un cuadrado de un tamaño dado."
   ]
  },
  {
   "cell_type": "code",
   "execution_count": 37,
   "metadata": {},
   "outputs": [
    {
     "data": {
      "text/html": [
       "\n",
       "      <svg width=\"800\" height=\"500\">\n",
       "        <rect width=\"100%\" height=\"100%\" fill=\"black\"/>\n",
       "        <line x1=\"400\" y1=\"250\" x2=\"400.0\" y2=\"150.0\" stroke-linecap=\"round\" style=\"stroke:white;stroke-width:4\"/><line x1=\"400.0\" y1=\"150.0\" x2=\"500.0\" y2=\"150.0\" stroke-linecap=\"round\" style=\"stroke:white;stroke-width:4\"/><line x1=\"500.0\" y1=\"150.0\" x2=\"500.0\" y2=\"250.0\" stroke-linecap=\"round\" style=\"stroke:white;stroke-width:4\"/><line x1=\"500.0\" y1=\"250.0\" x2=\"400.0\" y2=\"250.0\" stroke-linecap=\"round\" style=\"stroke:white;stroke-width:4\"/>\n",
       "        <g visibility=visible transform=\"rotate(360,400.0,250.0) translate(382.0, 232.0)\">\n",
       "<path style=\" stroke:none;fill-rule:evenodd;fill:white;fill-opacity:1;\" d=\"M 18.214844 0.632812 C 16.109375 1.800781 15.011719 4.074219 15.074219 7.132812 L 15.085938 7.652344 L 14.785156 7.496094 C 13.476562 6.824219 11.957031 6.671875 10.40625 7.066406 C 8.46875 7.550781 6.515625 9.15625 4.394531 11.992188 C 3.0625 13.777344 2.679688 14.636719 3.042969 15.027344 L 3.15625 15.152344 L 3.519531 15.152344 C 4.238281 15.152344 4.828125 14.886719 8.1875 13.039062 C 9.386719 12.378906 10.371094 11.839844 10.378906 11.839844 C 10.386719 11.839844 10.355469 11.929688 10.304688 12.035156 C 9.832031 13.09375 9.257812 14.820312 8.96875 16.078125 C 7.914062 20.652344 8.617188 24.53125 11.070312 27.660156 C 11.351562 28.015625 11.363281 27.914062 10.972656 28.382812 C 8.925781 30.84375 7.945312 33.28125 8.238281 35.1875 C 8.289062 35.527344 8.28125 35.523438 8.917969 35.523438 C 10.941406 35.523438 13.074219 34.207031 15.136719 31.6875 C 15.359375 31.417969 15.328125 31.425781 15.5625 31.574219 C 16.292969 32.042969 18.023438 32.964844 18.175781 32.964844 C 18.335938 32.964844 19.941406 32.210938 20.828125 31.71875 C 20.996094 31.625 21.136719 31.554688 21.136719 31.558594 C 21.203125 31.664062 21.898438 32.414062 22.222656 32.730469 C 23.835938 34.300781 25.5625 35.132812 27.582031 35.300781 C 27.90625 35.328125 27.9375 35.308594 28.007812 34.984375 C 28.382812 33.242188 27.625 30.925781 25.863281 28.425781 L 25.542969 27.96875 L 25.699219 27.785156 C 28.945312 23.960938 29.132812 18.699219 26.257812 11.96875 L 26.207031 11.84375 L 27.945312 12.703125 C 31.53125 14.476562 32.316406 14.800781 33.03125 14.800781 C 33.976562 14.800781 33.78125 13.9375 32.472656 12.292969 C 28.519531 7.355469 25.394531 5.925781 21.921875 7.472656 L 21.558594 7.636719 L 21.578125 7.542969 C 21.699219 6.992188 21.761719 5.742188 21.699219 5.164062 C 21.496094 3.296875 20.664062 1.964844 19.003906 0.855469 C 18.480469 0.503906 18.457031 0.5 18.214844 0.632812\"/>\n",
       "</g>\n",
       "      </svg>\n",
       "    "
      ],
      "text/plain": [
       "<IPython.core.display.HTML object>"
      ]
     },
     "metadata": {},
     "output_type": "display_data"
    }
   ],
   "source": [
    "from ColabTurtle.Turtle import *\n",
    "\n",
    "# Inicializa la tortuga\n",
    "initializeTurtle()\n",
    "\n",
    "# Función para dibujar un cuadrado\n",
    "def cuadrado(tamaño):\n",
    "    for _ in range(4):\n",
    "        forward(tamaño)\n",
    "        right(90)\n",
    "\n",
    "# Llamada a la función con un tamaño específico\n",
    "cuadrado(100)"
   ]
  },
  {
   "cell_type": "markdown",
   "metadata": {},
   "source": [
    "#### b. Crea una función que dibuje un triángulo equilátero."
   ]
  },
  {
   "cell_type": "code",
   "execution_count": 39,
   "metadata": {},
   "outputs": [
    {
     "data": {
      "text/html": [
       "\n",
       "      <svg width=\"800\" height=\"500\">\n",
       "        <rect width=\"100%\" height=\"100%\" fill=\"black\"/>\n",
       "        <line x1=\"400\" y1=\"250\" x2=\"400.0\" y2=\"100.0\" stroke-linecap=\"round\" style=\"stroke:white;stroke-width:4\"/><line x1=\"400.0\" y1=\"100.0\" x2=\"529.904\" y2=\"175.0\" stroke-linecap=\"round\" style=\"stroke:white;stroke-width:4\"/><line x1=\"529.904\" y1=\"175.0\" x2=\"400.0\" y2=\"250.0\" stroke-linecap=\"round\" style=\"stroke:white;stroke-width:4\"/>\n",
       "        <g visibility=visible transform=\"rotate(360,400.0,250.0) translate(382.0, 232.0)\">\n",
       "<path style=\" stroke:none;fill-rule:evenodd;fill:white;fill-opacity:1;\" d=\"M 18.214844 0.632812 C 16.109375 1.800781 15.011719 4.074219 15.074219 7.132812 L 15.085938 7.652344 L 14.785156 7.496094 C 13.476562 6.824219 11.957031 6.671875 10.40625 7.066406 C 8.46875 7.550781 6.515625 9.15625 4.394531 11.992188 C 3.0625 13.777344 2.679688 14.636719 3.042969 15.027344 L 3.15625 15.152344 L 3.519531 15.152344 C 4.238281 15.152344 4.828125 14.886719 8.1875 13.039062 C 9.386719 12.378906 10.371094 11.839844 10.378906 11.839844 C 10.386719 11.839844 10.355469 11.929688 10.304688 12.035156 C 9.832031 13.09375 9.257812 14.820312 8.96875 16.078125 C 7.914062 20.652344 8.617188 24.53125 11.070312 27.660156 C 11.351562 28.015625 11.363281 27.914062 10.972656 28.382812 C 8.925781 30.84375 7.945312 33.28125 8.238281 35.1875 C 8.289062 35.527344 8.28125 35.523438 8.917969 35.523438 C 10.941406 35.523438 13.074219 34.207031 15.136719 31.6875 C 15.359375 31.417969 15.328125 31.425781 15.5625 31.574219 C 16.292969 32.042969 18.023438 32.964844 18.175781 32.964844 C 18.335938 32.964844 19.941406 32.210938 20.828125 31.71875 C 20.996094 31.625 21.136719 31.554688 21.136719 31.558594 C 21.203125 31.664062 21.898438 32.414062 22.222656 32.730469 C 23.835938 34.300781 25.5625 35.132812 27.582031 35.300781 C 27.90625 35.328125 27.9375 35.308594 28.007812 34.984375 C 28.382812 33.242188 27.625 30.925781 25.863281 28.425781 L 25.542969 27.96875 L 25.699219 27.785156 C 28.945312 23.960938 29.132812 18.699219 26.257812 11.96875 L 26.207031 11.84375 L 27.945312 12.703125 C 31.53125 14.476562 32.316406 14.800781 33.03125 14.800781 C 33.976562 14.800781 33.78125 13.9375 32.472656 12.292969 C 28.519531 7.355469 25.394531 5.925781 21.921875 7.472656 L 21.558594 7.636719 L 21.578125 7.542969 C 21.699219 6.992188 21.761719 5.742188 21.699219 5.164062 C 21.496094 3.296875 20.664062 1.964844 19.003906 0.855469 C 18.480469 0.503906 18.457031 0.5 18.214844 0.632812\"/>\n",
       "</g>\n",
       "      </svg>\n",
       "    "
      ],
      "text/plain": [
       "<IPython.core.display.HTML object>"
      ]
     },
     "metadata": {},
     "output_type": "display_data"
    }
   ],
   "source": [
    "initializeTurtle()\n",
    "\n",
    "def triangulo(tamaño):\n",
    "    for _ in range(3):\n",
    "        forward(tamaño)\n",
    "        right(120)\n",
    "\n",
    "triangulo(150)"
   ]
  },
  {
   "cell_type": "markdown",
   "metadata": {},
   "source": [
    "#### c. Crea una función que dibuje un polígono de cualquier cantidad de lados, dado el número de lados y el tamaño del lado."
   ]
  },
  {
   "cell_type": "code",
   "execution_count": null,
   "metadata": {},
   "outputs": [],
   "source": []
  },
  {
   "cell_type": "markdown",
   "metadata": {},
   "source": [
    "#### d. Crea una función que utilizando la función anterior, dibuje 8 polígonos, girando 45 grados a la derecha por cada polígono."
   ]
  },
  {
   "cell_type": "code",
   "execution_count": null,
   "metadata": {},
   "outputs": [],
   "source": []
  },
  {
   "cell_type": "markdown",
   "metadata": {},
   "source": [
    "#### e. Crea una función `mandala` que sea capaz de dibujar n polígonos, usando colores de la siguiente lista"
   ]
  },
  {
   "cell_type": "code",
   "execution_count": null,
   "metadata": {},
   "outputs": [],
   "source": [
    "colores = [\"red\", \"blue\", \"green\", \"yellow\", \"purple\"]\n",
    "\n",
    "def mandala(poligonos, lados, largo):\n",
    "    for i in range(poligonos):\n",
    "        color(colores[i % 5])\n",
    "        poligono(lados, largo)\n",
    "        right(360/poligonos)"
   ]
  },
  {
   "cell_type": "markdown",
   "metadata": {},
   "source": [
    "#### f. Crear una función que dibuje una estrella de 5 puntas"
   ]
  },
  {
   "cell_type": "code",
   "execution_count": null,
   "metadata": {},
   "outputs": [],
   "source": [
    "def estrella(largo):\n",
    "    for _ in range(5):\n",
    "        forward(largo)\n",
    "        right(144)"
   ]
  },
  {
   "cell_type": "markdown",
   "metadata": {},
   "source": [
    "#### g. Crea una función `mover_al_azar` que mueva la tortuga a un lugar aleatorio del lienzo."
   ]
  },
  {
   "cell_type": "code",
   "execution_count": null,
   "metadata": {},
   "outputs": [],
   "source": []
  },
  {
   "cell_type": "markdown",
   "metadata": {},
   "source": [
    "#### h. Crea una función que dibuje n polígonos al azar, usando un color al azar para cada polígono y moviendo aleatoriamente la tortuga entre cada polígono."
   ]
  },
  {
   "cell_type": "code",
   "execution_count": null,
   "metadata": {},
   "outputs": [],
   "source": []
  },
  {
   "cell_type": "markdown",
   "metadata": {},
   "source": [
    "#### i. Crea una función que dibuje una espiral cuadrada"
   ]
  },
  {
   "cell_type": "code",
   "execution_count": null,
   "metadata": {},
   "outputs": [],
   "source": []
  },
  {
   "cell_type": "markdown",
   "metadata": {},
   "source": [
    "#### j. Crea una función que dibuje cualquier tipo de espiral, ya sea triangular, cuadrada, hexagonal, etc."
   ]
  },
  {
   "cell_type": "code",
   "execution_count": null,
   "metadata": {},
   "outputs": [],
   "source": []
  },
  {
   "cell_type": "markdown",
   "metadata": {},
   "source": [
    "#### k. Crea una función que dibuje un cielo estrellado"
   ]
  },
  {
   "cell_type": "code",
   "execution_count": null,
   "metadata": {},
   "outputs": [],
   "source": []
  }
 ],
 "metadata": {
  "kernelspec": {
   "display_name": ".env",
   "language": "python",
   "name": "python3"
  },
  "language_info": {
   "codemirror_mode": {
    "name": "ipython",
    "version": 3
   },
   "file_extension": ".py",
   "mimetype": "text/x-python",
   "name": "python",
   "nbconvert_exporter": "python",
   "pygments_lexer": "ipython3",
   "version": "3.12.7"
  }
 },
 "nbformat": 4,
 "nbformat_minor": 2
}
