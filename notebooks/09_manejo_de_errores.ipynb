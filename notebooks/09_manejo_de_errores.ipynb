{
 "cells": [
  {
   "cell_type": "markdown",
   "metadata": {},
   "source": [
    "# Clase 9: Manejo de errores y excepciones\n",
    "\n",
    "## Módulo 1: Manejo básico de excepciones\n",
    "\n",
    "### 1. Introducción\n",
    "\n",
    "Los errores en Python pueden ocurrir debido a diversas razones, como problemas de sintaxis, referencias a variables no definidas o errores de tipo. Para manejar estos errores, se utilizan excepciones.\n",
    "\n",
    "#### a. Uso de bloques try y except\n",
    "\n",
    "El manejo de excepciones se realiza mediante los bloques `try` y `except`. El código que puede generar un error se coloca en el bloque `try`, y las acciones que se deben tomar en caso de un error se definen en el bloque `except`."
   ]
  },
  {
   "cell_type": "code",
   "execution_count": 6,
   "metadata": {},
   "outputs": [
    {
     "name": "stdout",
     "output_type": "stream",
     "text": [
      "El número es: 5\n"
     ]
    }
   ],
   "source": [
    "try:\n",
    "    numero = int(input('Ingresa un número'))\n",
    "    print(\"El número es:\", numero)\n",
    "except ValueError:\n",
    "    print(\"¡Error! no es un número válido.\")"
   ]
  },
  {
   "cell_type": "markdown",
   "metadata": {},
   "source": [
    "#### b. Manejo de múltiples excepciones\n",
    "\n",
    "Puedes manejar múltiples tipos de excepciones utilizando varios bloques `except`."
   ]
  },
  {
   "cell_type": "code",
   "execution_count": 7,
   "metadata": {},
   "outputs": [
    {
     "name": "stdout",
     "output_type": "stream",
     "text": [
      "¡Error! Debes ingresar un número.\n"
     ]
    }
   ],
   "source": [
    "try:\n",
    "    resultado = 10 / int(input('Ingresa un número'))\n",
    "    print(\"Resultado de la división:\", resultado)\n",
    "except ValueError:\n",
    "    print(\"¡Error! Debes ingresar un número.\")\n",
    "except ZeroDivisionError:\n",
    "    print(\"¡Error! No se puede dividir entre cero.\")"
   ]
  },
  {
   "cell_type": "markdown",
   "metadata": {},
   "source": [
    "#### c. Ejercicio práctico\n",
    "\n",
    "Se tiene una lista con tres elementos: `[1, 2, 3]`. Solicita al usuario que ingrese un número entero. El programa debe intentar realizar dos operaciones con el número proporcionado:\n",
    "\n",
    "1. Convertir el valor ingresado en un número entero.\n",
    "2. Acceder a un índice de la lista usando el número proporcionado.\n",
    "\n",
    "**Requisitos**:\n",
    "\n",
    "- Si el usuario ingresa un valor que no pueda ser convertido a un número entero (por ejemplo, una cadena de texto), el programa debe capturar el error y mostrar el mensaje:  \n",
    "  `\"Error: Debes introducir un número entero.\"`\n",
    "\n",
    "- Si el número ingresado es un índice fuera del rango de la lista (por ejemplo, si el número es 5), el programa debe capturar el error y mostrar el mensaje:  \n",
    "  `\"Error: El índice proporcionado está fuera del rango de la lista.\"`\n",
    "\n",
    "- Si ocurre cualquier otro error inesperado, el programa debe capturar el error y mostrar un mensaje genérico indicando que ocurrió un error, sin especificar detalles del tipo de error. El mensaje debe ser:  \n",
    "  `\"Se ha producido un error inesperado: {mensaje del error}\"`"
   ]
  },
  {
   "cell_type": "code",
   "execution_count": null,
   "metadata": {},
   "outputs": [],
   "source": []
  },
  {
   "cell_type": "markdown",
   "metadata": {},
   "source": [
    "### 2. Bloque finally\n",
    "\n",
    "El bloque `finally` se ejecuta siempre, ya sea que se haya producido una excepción o no. Es útil para liberar recursos o realizar limpiezas.\n",
    "\n",
    "#### a. Ejemplo de función que procesa datos"
   ]
  },
  {
   "cell_type": "code",
   "execution_count": 4,
   "metadata": {},
   "outputs": [],
   "source": [
    "def procesar_datos(datos):\n",
    "    try:\n",
    "        # Intentar obtener el primer valor de la lista\n",
    "        primero = datos[0]\n",
    "        print(f\"Procesando el primer dato: {primero}\")\n",
    "        \n",
    "        # Intentar hacer una operación que podría fallar (por ejemplo, una conversión)\n",
    "        resultado = int(primero)\n",
    "        print(f\"El primer dato convertido a entero es: {resultado}\")\n",
    "        \n",
    "    except IndexError:\n",
    "        print(\"Error: La lista está vacía.\")\n",
    "    except ValueError:\n",
    "        print(\"Error: El primer dato no es un número válido.\")\n",
    "    finally:\n",
    "        print(\"Proceso de procesamiento de datos finalizado, independientemente del resultado.\")\n"
   ]
  },
  {
   "cell_type": "code",
   "execution_count": 2,
   "metadata": {},
   "outputs": [
    {
     "name": "stdout",
     "output_type": "stream",
     "text": [
      "Procesando el primer dato: 10\n",
      "El primer dato convertido a entero es: 10\n",
      "Proceso de procesamiento de datos finalizado, independientemente del resultado.\n"
     ]
    }
   ],
   "source": [
    "datos = [\"10\", \"20\", \"30\"]\n",
    "procesar_datos(datos)"
   ]
  },
  {
   "cell_type": "code",
   "execution_count": 3,
   "metadata": {},
   "outputs": [
    {
     "name": "stdout",
     "output_type": "stream",
     "text": [
      "Error: La lista está vacía.\n",
      "Proceso de procesamiento de datos finalizado, independientemente del resultado.\n"
     ]
    }
   ],
   "source": [
    "datos_vacios = []\n",
    "procesar_datos(datos_vacios)"
   ]
  },
  {
   "cell_type": "markdown",
   "metadata": {},
   "source": [
    "#### b. Ejercicio práctico\n",
    "\n",
    "Escribe una función que divida dos números e implemente manejo de excepciones. Si ocurre una división por cero, debe mostrar un mensaje de error, pero el bloque `finally` siempre debe ejecutarse para confirmar que el intento de división ha finalizado."
   ]
  },
  {
   "cell_type": "code",
   "execution_count": null,
   "metadata": {},
   "outputs": [],
   "source": []
  },
  {
   "cell_type": "markdown",
   "metadata": {},
   "source": [
    "---\n",
    "\n",
    "## Módulo 2: Creación de excepciones personalizadas\n",
    "\n",
    "### 1. Introducción a las excepciones personalizadas\n",
    "\n",
    "Además de las excepciones incorporadas, puedes crear tus propias excepciones personalizadas para manejar errores específicos en tu aplicación.\n",
    "\n",
    "#### a. Definición de una excepción personalizada\n",
    "\n",
    "Para crear una excepción personalizada, debes definir una nueva clase que herede de la clase `Exception`.\n"
   ]
  },
  {
   "cell_type": "code",
   "execution_count": 1,
   "metadata": {},
   "outputs": [
    {
     "name": "stdout",
     "output_type": "stream",
     "text": [
      "Se ha producido una excepción: El número no puede ser negativo.\n"
     ]
    }
   ],
   "source": [
    "class MiExcepcion(Exception):\n",
    "    pass\n",
    "\n",
    "def verificar_numero(num):\n",
    "    if num < 0:\n",
    "        raise MiExcepcion(\"El número no puede ser negativo.\")\n",
    "\n",
    "try:\n",
    "    verificar_numero(-5)\n",
    "except MiExcepcion as e:\n",
    "    print(\"Se ha producido una excepción:\", e)"
   ]
  },
  {
   "cell_type": "markdown",
   "metadata": {},
   "source": [
    "#### b. Añadir información a la excepción\n",
    "\n",
    "Puedes agregar más información a la excepción personalizada utilizando el constructor de la clase."
   ]
  },
  {
   "cell_type": "code",
   "execution_count": null,
   "metadata": {},
   "outputs": [],
   "source": [
    "class ErrorValor(Exception):\n",
    "    def __init__(self, mensaje, valor):\n",
    "        super().__init__(mensaje)\n",
    "        self.valor = valor\n",
    "\n",
    "def verificar_edad(edad):\n",
    "    if edad < 18:\n",
    "        raise ErrorValor(\"La edad debe ser al menos 18.\", edad)\n",
    "\n",
    "try:\n",
    "    verificar_edad(15)\n",
    "except ErrorValor as e:\n",
    "    print(f\"Excepción: {e}, Valor no válido: {e.valor}\")"
   ]
  },
  {
   "cell_type": "markdown",
   "metadata": {},
   "source": [
    "#### c. Ejercicio práctico\n",
    "\n",
    "Crea una excepción personalizada llamada `ErrorSaldo` que se lance si un usuario intenta retirar una cantidad de dinero mayor a su saldo. Implementa una función `retirar_dinero()` que use esta excepción."
   ]
  },
  {
   "cell_type": "code",
   "execution_count": null,
   "metadata": {},
   "outputs": [],
   "source": []
  }
 ],
 "metadata": {
  "kernelspec": {
   "display_name": ".env",
   "language": "python",
   "name": "python3"
  },
  "language_info": {
   "codemirror_mode": {
    "name": "ipython",
    "version": 3
   },
   "file_extension": ".py",
   "mimetype": "text/x-python",
   "name": "python",
   "nbconvert_exporter": "python",
   "pygments_lexer": "ipython3",
   "version": "3.12.7"
  }
 },
 "nbformat": 4,
 "nbformat_minor": 2
}
