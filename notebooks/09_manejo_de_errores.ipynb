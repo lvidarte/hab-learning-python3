{
 "cells": [
  {
   "cell_type": "markdown",
   "metadata": {},
   "source": [
    "# Clase 9: Manejo de Errores y Excepciones\n",
    "\n",
    "## Módulo 1: Manejo de errores y excepciones\n",
    "\n",
    "### 1. Introducción a los errores y excepciones\n",
    "\n",
    "Los errores en Python pueden ocurrir debido a diversas razones, como problemas de sintaxis, referencias a variables no definidas o errores de tipo. Para manejar estos errores, se utilizan excepciones.\n",
    "\n",
    "#### 2. Uso de bloques try y except\n",
    "\n",
    "El manejo de excepciones se realiza mediante los bloques `try` y `except`. El código que puede generar un error se coloca en el bloque `try`, y las acciones que se deben tomar en caso de un error se definen en el bloque `except`.\n",
    "\n",
    "##### Ejemplo básico de manejo de excepciones:"
   ]
  },
  {
   "cell_type": "code",
   "execution_count": 6,
   "metadata": {},
   "outputs": [
    {
     "name": "stdout",
     "output_type": "stream",
     "text": [
      "El número es: 5\n"
     ]
    }
   ],
   "source": [
    "try:\n",
    "    numero = int(input('Ingresa un número'))\n",
    "    print(\"El número es:\", numero)\n",
    "except ValueError:\n",
    "    print(\"¡Error! no es un número válido.\")"
   ]
  },
  {
   "cell_type": "markdown",
   "metadata": {},
   "source": [
    "#### 3. Manejo de múltiples excepciones\n",
    "\n",
    "Puedes manejar múltiples tipos de excepciones utilizando varios bloques `except`."
   ]
  },
  {
   "cell_type": "code",
   "execution_count": 7,
   "metadata": {},
   "outputs": [
    {
     "name": "stdout",
     "output_type": "stream",
     "text": [
      "¡Error! Debes ingresar un número.\n"
     ]
    }
   ],
   "source": [
    "try:\n",
    "    resultado = 10 / int(input('Ingresa un número'))\n",
    "    print(\"Resultado de la división:\", resultado)\n",
    "except ValueError:\n",
    "    print(\"¡Error! Debes ingresar un número.\")\n",
    "except ZeroDivisionError:\n",
    "    print(\"¡Error! No se puede dividir entre cero.\")"
   ]
  },
  {
   "cell_type": "markdown",
   "metadata": {},
   "source": [
    "#### Ejercicio práctico:\n",
    "\n",
    "Escribe un programa que solicite al usuario ingresar un número. Maneja la excepción `ValueError` y `ZeroDivisionError` al intentar dividir 10 entre el número ingresado."
   ]
  },
  {
   "cell_type": "code",
   "execution_count": null,
   "metadata": {},
   "outputs": [],
   "source": []
  },
  {
   "cell_type": "markdown",
   "metadata": {},
   "source": [
    "### 4. Bloque finally\n",
    "\n",
    "El bloque `finally` se ejecuta siempre, ya sea que se haya producido una excepción o no. Es útil para liberar recursos o realizar limpiezas."
   ]
  },
  {
   "cell_type": "code",
   "execution_count": 2,
   "metadata": {},
   "outputs": [
    {
     "name": "stdout",
     "output_type": "stream",
     "text": [
      "¡Error! El archivo no se encontró.\n"
     ]
    },
    {
     "ename": "NameError",
     "evalue": "name 'archivo' is not defined",
     "output_type": "error",
     "traceback": [
      "\u001b[0;31m---------------------------------------------------------------------------\u001b[0m",
      "\u001b[0;31mNameError\u001b[0m                                 Traceback (most recent call last)",
      "Cell \u001b[0;32mIn[2], line 7\u001b[0m\n\u001b[1;32m      5\u001b[0m     \u001b[38;5;28mprint\u001b[39m(\u001b[38;5;124m\"\u001b[39m\u001b[38;5;124m¡Error! El archivo no se encontró.\u001b[39m\u001b[38;5;124m\"\u001b[39m)\n\u001b[1;32m      6\u001b[0m \u001b[38;5;28;01mfinally\u001b[39;00m:\n\u001b[0;32m----> 7\u001b[0m     \u001b[43marchivo\u001b[49m\u001b[38;5;241m.\u001b[39mclose()  \u001b[38;5;66;03m# Asegura que el archivo se cierre\u001b[39;00m\n",
      "\u001b[0;31mNameError\u001b[0m: name 'archivo' is not defined"
     ]
    }
   ],
   "source": [
    "try:\n",
    "    archivo = open(\"archivo.txt\", \"r\")\n",
    "    contenido = archivo.read()\n",
    "except FileNotFoundError:\n",
    "    print(\"¡Error! El archivo no se encontró.\")\n",
    "finally:\n",
    "    archivo.close()  # Asegura que el archivo se cierre"
   ]
  },
  {
   "cell_type": "markdown",
   "metadata": {},
   "source": [
    "#### Ejercicio práctico:\n",
    "\n",
    "Crea un programa que intente abrir un archivo y lea su contenido, asegurando que el archivo se cierre en el bloque `finally`."
   ]
  },
  {
   "cell_type": "code",
   "execution_count": null,
   "metadata": {},
   "outputs": [],
   "source": []
  },
  {
   "cell_type": "markdown",
   "metadata": {},
   "source": [
    "---\n",
    "\n",
    "## Módulo 2: Creación de excepciones personalizadas\n",
    "\n",
    "### 1. Introducción a las excepciones personalizadas\n",
    "\n",
    "Además de las excepciones incorporadas, puedes crear tus propias excepciones personalizadas para manejar errores específicos en tu aplicación.\n",
    "\n",
    "#### 2. Definición de una excepción personalizada\n",
    "\n",
    "Para crear una excepción personalizada, debes definir una nueva clase que herede de la clase `Exception`.\n",
    "\n",
    "##### Ejemplo de excepción personalizada:"
   ]
  },
  {
   "cell_type": "code",
   "execution_count": 1,
   "metadata": {},
   "outputs": [
    {
     "name": "stdout",
     "output_type": "stream",
     "text": [
      "Se ha producido una excepción: El número no puede ser negativo.\n"
     ]
    }
   ],
   "source": [
    "class MiExcepcion(Exception):\n",
    "    pass\n",
    "\n",
    "def verificar_numero(num):\n",
    "    if num < 0:\n",
    "        raise MiExcepcion(\"El número no puede ser negativo.\")\n",
    "\n",
    "try:\n",
    "    verificar_numero(-5)\n",
    "except MiExcepcion as e:\n",
    "    print(\"Se ha producido una excepción:\", e)"
   ]
  },
  {
   "cell_type": "markdown",
   "metadata": {},
   "source": [
    "#### 3. Añadir información a la excepción\n",
    "\n",
    "Puedes agregar más información a la excepción personalizada utilizando el constructor de la clase."
   ]
  },
  {
   "cell_type": "code",
   "execution_count": null,
   "metadata": {},
   "outputs": [],
   "source": [
    "class ErrorValor(Exception):\n",
    "    def __init__(self, mensaje, valor):\n",
    "        super().__init__(mensaje)\n",
    "        self.valor = valor\n",
    "\n",
    "def verificar_edad(edad):\n",
    "    if edad < 18:\n",
    "        raise ErrorValor(\"La edad debe ser al menos 18.\", edad)\n",
    "\n",
    "try:\n",
    "    verificar_edad(15)\n",
    "except ErrorValor as e:\n",
    "    print(f\"Excepción: {e}, Valor no válido: {e.valor}\")"
   ]
  },
  {
   "cell_type": "markdown",
   "metadata": {},
   "source": [
    "#### Ejercicio práctico:\n",
    "\n",
    "Crea una excepción personalizada llamada `ErrorSaldo` que se lance si un usuario intenta retirar una cantidad de dinero mayor a su saldo. Implementa una función `retirar_dinero()` que use esta excepción."
   ]
  },
  {
   "cell_type": "code",
   "execution_count": null,
   "metadata": {},
   "outputs": [],
   "source": []
  }
 ],
 "metadata": {
  "kernelspec": {
   "display_name": ".env",
   "language": "python",
   "name": "python3"
  },
  "language_info": {
   "codemirror_mode": {
    "name": "ipython",
    "version": 3
   },
   "file_extension": ".py",
   "mimetype": "text/x-python",
   "name": "python",
   "nbconvert_exporter": "python",
   "pygments_lexer": "ipython3",
   "version": "3.12.5"
  }
 },
 "nbformat": 4,
 "nbformat_minor": 2
}
