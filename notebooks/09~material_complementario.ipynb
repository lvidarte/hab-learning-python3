{
 "cells": [
  {
   "cell_type": "markdown",
   "metadata": {},
   "source": [
    "# Clase 9: Material complementario\n",
    "\n",
    "### 1. Excepciones comunes en Python\n",
    "\n",
    "#### a.`NameError`\n",
    "\n",
    "Se lanza al intentar usar una variable que no está definida."
   ]
  },
  {
   "cell_type": "code",
   "execution_count": 19,
   "metadata": {},
   "outputs": [
    {
     "ename": "NameError",
     "evalue": "name 'esta_variable_no_existe' is not defined",
     "output_type": "error",
     "traceback": [
      "\u001b[0;31m---------------------------------------------------------------------------\u001b[0m",
      "\u001b[0;31mNameError\u001b[0m                                 Traceback (most recent call last)",
      "Cell \u001b[0;32mIn[19], line 1\u001b[0m\n\u001b[0;32m----> 1\u001b[0m \u001b[38;5;28mprint\u001b[39m(\u001b[43mesta_variable_no_existe\u001b[49m)\n",
      "\u001b[0;31mNameError\u001b[0m: name 'esta_variable_no_existe' is not defined"
     ]
    }
   ],
   "source": [
    "print(esta_variable_no_existe)"
   ]
  },
  {
   "cell_type": "markdown",
   "metadata": {},
   "source": [
    "Capturando la excepción podemos manejar el error a nuestro gusto."
   ]
  },
  {
   "cell_type": "code",
   "execution_count": 20,
   "metadata": {},
   "outputs": [
    {
     "name": "stdout",
     "output_type": "stream",
     "text": [
      "Variable no definida.\n",
      "name 'variable_inexistente' is not defined\n"
     ]
    }
   ],
   "source": [
    "try:\n",
    "    print(variable_inexistente)\n",
    "except NameError as e:\n",
    "    print(\"Variable no definida.\", e, sep='\\n')"
   ]
  },
  {
   "cell_type": "markdown",
   "metadata": {},
   "source": [
    "#### b. `ValueError`\n",
    "\n",
    "Se genera al intentar convertir un dato a un tipo incompatible."
   ]
  },
  {
   "cell_type": "code",
   "execution_count": 23,
   "metadata": {},
   "outputs": [
    {
     "name": "stdout",
     "output_type": "stream",
     "text": [
      "No se puede convertir 'abc' a entero.\n",
      "invalid literal for int() with base 10: 'abc'\n"
     ]
    }
   ],
   "source": [
    "try:\n",
    "    numero = int(\"abc\")\n",
    "except ValueError as e:\n",
    "    print(\"No se puede convertir 'abc' a entero.\", e, sep='\\n')"
   ]
  },
  {
   "cell_type": "markdown",
   "metadata": {},
   "source": [
    "#### c. `TypeError`\n",
    "\n",
    "Sucede al realizar una operación entre tipos incompatibles."
   ]
  },
  {
   "cell_type": "code",
   "execution_count": 24,
   "metadata": {},
   "outputs": [
    {
     "name": "stdout",
     "output_type": "stream",
     "text": [
      "No se puede sumar un texto y un número.\n",
      "can only concatenate str (not \"int\") to str\n"
     ]
    }
   ],
   "source": [
    "try:\n",
    "    resultado = \"texto\" + 5\n",
    "except TypeError as e:\n",
    "    print(\"No se puede sumar un texto y un número.\", e, sep='\\n')"
   ]
  },
  {
   "cell_type": "markdown",
   "metadata": {},
   "source": [
    "#### d. `ZeroDivisionError`  \n",
    "\n",
    "Ocurre al intentar dividir un número entre cero."
   ]
  },
  {
   "cell_type": "code",
   "execution_count": 25,
   "metadata": {},
   "outputs": [
    {
     "name": "stdout",
     "output_type": "stream",
     "text": [
      "Error: División por cero.\n",
      "division by zero\n"
     ]
    }
   ],
   "source": [
    "try:\n",
    "    resultado = 10 / 0\n",
    "except ZeroDivisionError as e:\n",
    "    print(\"Error: División por cero.\", e, sep='\\n')"
   ]
  },
  {
   "cell_type": "markdown",
   "metadata": {},
   "source": [
    "#### e. `IndexError`\n",
    "\n",
    "Surge al intentar acceder a un índice fuera del rango en una lista."
   ]
  },
  {
   "cell_type": "code",
   "execution_count": 26,
   "metadata": {},
   "outputs": [
    {
     "name": "stdout",
     "output_type": "stream",
     "text": [
      "El índice está fuera de rango.\n",
      "list index out of range\n"
     ]
    }
   ],
   "source": [
    "lista = [1, 2, 3]\n",
    "\n",
    "try:\n",
    "    print(lista[5])\n",
    "except IndexError as e:\n",
    "    print(\"El índice está fuera de rango.\", e, sep='\\n')"
   ]
  },
  {
   "cell_type": "markdown",
   "metadata": {},
   "source": [
    "#### f. `KeyError`\n",
    "\n",
    "Aparece al intentar acceder a una clave inexistente en un diccionario."
   ]
  },
  {
   "cell_type": "code",
   "execution_count": 27,
   "metadata": {},
   "outputs": [
    {
     "name": "stdout",
     "output_type": "stream",
     "text": [
      "La clave no existe en el diccionario.\n",
      "'c'\n"
     ]
    }
   ],
   "source": [
    "diccionario = {\"a\": 1, \"b\": 2}\n",
    "\n",
    "try:\n",
    "   print(diccionario[\"c\"])\n",
    "except KeyError as error:\n",
    "   print(\"La clave no existe en el diccionario.\", error, sep='\\n')"
   ]
  },
  {
   "cell_type": "markdown",
   "metadata": {},
   "source": [
    "Otro ejemplo."
   ]
  },
  {
   "cell_type": "code",
   "execution_count": 28,
   "metadata": {},
   "outputs": [
    {
     "ename": "KeyError",
     "evalue": "'a'",
     "output_type": "error",
     "traceback": [
      "\u001b[0;31m---------------------------------------------------------------------------\u001b[0m",
      "\u001b[0;31mKeyError\u001b[0m                                  Traceback (most recent call last)",
      "Cell \u001b[0;32mIn[28], line 1\u001b[0m\n\u001b[0;32m----> 1\u001b[0m \u001b[43m{\u001b[49m\u001b[43m}\u001b[49m\u001b[43m[\u001b[49m\u001b[38;5;124;43m'\u001b[39;49m\u001b[38;5;124;43ma\u001b[39;49m\u001b[38;5;124;43m'\u001b[39;49m\u001b[43m]\u001b[49m\n",
      "\u001b[0;31mKeyError\u001b[0m: 'a'"
     ]
    }
   ],
   "source": [
    "{}['a']"
   ]
  },
  {
   "cell_type": "markdown",
   "metadata": {},
   "source": [
    "#### g. `AttributeError`\n",
    "\n",
    "Se genera al intentar acceder a un atributo inexistente de un objeto."
   ]
  },
  {
   "cell_type": "code",
   "execution_count": 8,
   "metadata": {},
   "outputs": [
    {
     "name": "stdout",
     "output_type": "stream",
     "text": [
      "Atributo inexistente.\n"
     ]
    }
   ],
   "source": [
    "try:\n",
    "    numero = 10\n",
    "    numero.append(5)  # Los enteros no tienen el método append.\n",
    "except AttributeError:\n",
    "    print(\"Atributo inexistente.\")"
   ]
  },
  {
   "cell_type": "markdown",
   "metadata": {},
   "source": [
    "#### h. `FileNotFoundError`\n",
    "\n",
    "Se lanza cuando no se encuentra el archivo especificado."
   ]
  },
  {
   "cell_type": "code",
   "execution_count": 29,
   "metadata": {},
   "outputs": [
    {
     "name": "stdout",
     "output_type": "stream",
     "text": [
      "El archivo no fue encontrado:\n",
      "[Errno 2] No such file or directory: 'archivo_inexistente.txt'\n"
     ]
    }
   ],
   "source": [
    "try:\n",
    "    archivo = open(\"archivo_inexistente.txt\", \"r\")\n",
    "    contenido = archivo.read()\n",
    "except FileNotFoundError as e:\n",
    "    print(\"El archivo no fue encontrado:\", e, sep='\\n')"
   ]
  },
  {
   "cell_type": "markdown",
   "metadata": {},
   "source": [
    "#### i. `ImportError` / `ModuleNotFoundError`\n",
    "\n",
    "Ocurre cuando no se puede importar un módulo."
   ]
  },
  {
   "cell_type": "code",
   "execution_count": 30,
   "metadata": {},
   "outputs": [
    {
     "name": "stdout",
     "output_type": "stream",
     "text": [
      "El módulo no existe:\n",
      "No module named 'modulo_inexistente'\n"
     ]
    }
   ],
   "source": [
    "try:\n",
    "    import modulo_inexistente\n",
    "except ModuleNotFoundError as e:\n",
    "    print(\"El módulo no existe:\", e, sep='\\n')"
   ]
  },
  {
   "cell_type": "markdown",
   "metadata": {},
   "source": [
    "#### j. `IndentationError`\n",
    "\n",
    "Se genera debido a una mala indentación en el código (puede ser detectada antes de la ejecución)."
   ]
  },
  {
   "cell_type": "code",
   "execution_count": 17,
   "metadata": {},
   "outputs": [
    {
     "ename": "IndentationError",
     "evalue": "expected an indented block after function definition on line 1 (2454453207.py, line 2)",
     "output_type": "error",
     "traceback": [
      "\u001b[0;36m  Cell \u001b[0;32mIn[17], line 2\u001b[0;36m\u001b[0m\n\u001b[0;31m    print(\"Error de indentación\")\u001b[0m\n\u001b[0m    ^\u001b[0m\n\u001b[0;31mIndentationError\u001b[0m\u001b[0;31m:\u001b[0m expected an indented block after function definition on line 1\n"
     ]
    }
   ],
   "source": [
    "def funcion():\n",
    "print(\"Error de indentación\")"
   ]
  },
  {
   "cell_type": "markdown",
   "metadata": {},
   "source": [
    "#### k. `SyntaxError`\n",
    "\n",
    "Se lanza al escribir código que no sigue las reglas sintácticas de Python."
   ]
  },
  {
   "cell_type": "code",
   "execution_count": 18,
   "metadata": {},
   "outputs": [
    {
     "ename": "SyntaxError",
     "evalue": "invalid syntax (4083422066.py, line 1)",
     "output_type": "error",
     "traceback": [
      "\u001b[0;36m  Cell \u001b[0;32mIn[18], line 1\u001b[0;36m\u001b[0m\n\u001b[0;31m    if True print(\"Falta ':' al final del if\")\u001b[0m\n\u001b[0m            ^\u001b[0m\n\u001b[0;31mSyntaxError\u001b[0m\u001b[0;31m:\u001b[0m invalid syntax\n"
     ]
    }
   ],
   "source": [
    "if True print(\"Falta ':' al final del if\")"
   ]
  },
  {
   "cell_type": "markdown",
   "metadata": {},
   "source": [
    "---\n",
    "\n",
    "### 2. Jerarquía de excepciones\n",
    "\n",
    "```text\n",
    "BaseException\n",
    "├── Exception\n",
    "│   ├── ArithmeticError\n",
    "│   │   ├── FloatingPointError\n",
    "│   │   ├── OverflowError\n",
    "│   │   └── ZeroDivisionError\n",
    "│   ├── AssertionError\n",
    "│   ├── AttributeError\n",
    "│   ├── BufferError\n",
    "│   ├── EOFError\n",
    "│   ├── ImportError\n",
    "│   │   └── ModuleNotFoundError\n",
    "│   ├── LookupError\n",
    "│   │   ├── IndexError\n",
    "│   │   └── KeyError\n",
    "│   ├── MemoryError\n",
    "│   ├── NameError\n",
    "│   │   └── UnboundLocalError\n",
    "│   ├── OSError\n",
    "│   │   ├── BlockingIOError\n",
    "│   │   ├── ChildProcessError\n",
    "│   │   ├── ConnectionError\n",
    "│   │   │   ├── BrokenPipeError\n",
    "│   │   │   ├── ConnectionAbortedError\n",
    "│   │   │   ├── ConnectionRefusedError\n",
    "│   │   │   └── ConnectionResetError\n",
    "│   │   ├── FileExistsError\n",
    "│   │   ├── FileNotFoundError\n",
    "│   │   ├── InterruptedError\n",
    "│   │   ├── IsADirectoryError\n",
    "│   │   ├── NotADirectoryError\n",
    "│   │   ├── PermissionError\n",
    "│   │   ├── ProcessLookupError\n",
    "│   │   └── TimeoutError\n",
    "│   ├── RuntimeError\n",
    "│   │   ├── NotImplementedError\n",
    "│   │   └── RecursionError\n",
    "│   ├── StopIteration\n",
    "│   ├── StopAsyncIteration\n",
    "│   ├── SyntaxError\n",
    "│   │   └── IndentationError\n",
    "│   │       └── TabError\n",
    "│   ├── SystemError\n",
    "│   ├── TypeError\n",
    "│   ├── ValueError\n",
    "│   │   └── UnicodeError\n",
    "│   │       ├── UnicodeDecodeError\n",
    "│   │       ├── UnicodeEncodeError\n",
    "│   │       └── UnicodeTranslateError\n",
    "│   └── Warning\n",
    "│       ├── DeprecationWarning\n",
    "│       ├── PendingDeprecationWarning\n",
    "│       ├── RuntimeWarning\n",
    "│       ├── SyntaxWarning\n",
    "│       ├── UserWarning\n",
    "│       ├── FutureWarning\n",
    "│       ├── ImportWarning\n",
    "│       ├── UnicodeWarning\n",
    "│       └── BytesWarning\n",
    "├── KeyboardInterrupt\n",
    "├── SystemExit\n",
    "└── GeneratorExit\n",
    "```"
   ]
  },
  {
   "cell_type": "markdown",
   "metadata": {},
   "source": [
    "---\n",
    "\n",
    "### 3. Captura de múltiples excepciones\n",
    "\n",
    "En Python, es posible capturar múltiples excepciones en un solo bloque `except` utilizando una tupla, o manejar cada tipo de excepción en bloques `except` separados. Aquí tienes ejemplos de ambas formas:\n",
    "\n",
    "#### a. Capturar múltiples excepciones en un solo bloque"
   ]
  },
  {
   "cell_type": "code",
   "execution_count": 1,
   "metadata": {},
   "outputs": [
    {
     "name": "stdout",
     "output_type": "stream",
     "text": [
      "Error: invalid literal for int() with base 10: 'uno'\n",
      "<class 'ValueError'>\n"
     ]
    }
   ],
   "source": [
    "try:\n",
    "    # Código que puede generar errores\n",
    "    x = int(input(\"Ingresa un número: \"))\n",
    "    y = 10 / x\n",
    "    print(f\"Resultado: {y}\")\n",
    "except (ValueError, ZeroDivisionError) as e:\n",
    "    # Manejar cualquiera de las excepciones especificadas\n",
    "    print(f\"Error: {e}\")\n",
    "    print(type(e))"
   ]
  },
  {
   "cell_type": "markdown",
   "metadata": {},
   "source": [
    "En este caso, el programa captura tanto un `ValueError` (por ingresar un valor no convertible a entero) como un `ZeroDivisionError` (si el usuario ingresa 0).\n",
    "\n",
    "#### b. Capturar cada excepción en bloques separados"
   ]
  },
  {
   "cell_type": "code",
   "execution_count": 2,
   "metadata": {},
   "outputs": [
    {
     "name": "stdout",
     "output_type": "stream",
     "text": [
      "Error: No se puede dividir por cero.\n"
     ]
    }
   ],
   "source": [
    "try:\n",
    "    # Código que puede generar errores\n",
    "    x = int(input(\"Ingresa un número: \"))\n",
    "    y = 10 / x\n",
    "    print(f\"Resultado: {y}\")\n",
    "except ValueError:\n",
    "    print(\"Error: Debes ingresar un número válido.\")\n",
    "except ZeroDivisionError:\n",
    "    print(\"Error: No se puede dividir por cero.\")"
   ]
  },
  {
   "cell_type": "markdown",
   "metadata": {},
   "source": [
    "Aquí, cada excepción tiene su propio bloque `except`, permitiendo respuestas personalizadas para cada error.\n",
    "\n",
    "#### c. Capturar múltiples excepciones y ejecutar código común"
   ]
  },
  {
   "cell_type": "code",
   "execution_count": 3,
   "metadata": {},
   "outputs": [
    {
     "name": "stdout",
     "output_type": "stream",
     "text": [
      "Resultado: 5.0\n",
      "El cálculo se realizó con éxito.\n"
     ]
    }
   ],
   "source": [
    "try:\n",
    "    # Código que puede generar errores\n",
    "    x = int(input(\"Ingresa un número: \"))\n",
    "    y = 10 / x\n",
    "    print(f\"Resultado: {y}\")\n",
    "except (ValueError, ZeroDivisionError):\n",
    "    print(\"Error: Hubo un problema con la entrada.\")\n",
    "else:\n",
    "    print(\"El cálculo se realizó con éxito.\")"
   ]
  },
  {
   "cell_type": "markdown",
   "metadata": {},
   "source": [
    "Este ejemplo muestra cómo capturar múltiples excepciones en un bloque único y cómo usar `else` para manejar el caso en el que no ocurrieron errores.\n",
    "\n",
    "#### d. Excepciones específicas con un mensaje común y captura general"
   ]
  },
  {
   "cell_type": "code",
   "execution_count": 5,
   "metadata": {},
   "outputs": [
    {
     "name": "stdout",
     "output_type": "stream",
     "text": [
      "Ocurrió un error inesperado: can only concatenate str (not \"float\") to str\n"
     ]
    }
   ],
   "source": [
    "try:\n",
    "    # Código que puede generar errores\n",
    "    x = int(input(\"Ingresa un número: \"))\n",
    "    y = 10 / x\n",
    "    mensaje = 'resultado:' + y\n",
    "    print(mensaje)\n",
    "except ValueError:\n",
    "    print(\"Error: Ingresaste un valor no numérico.\")\n",
    "except ZeroDivisionError:\n",
    "    print(\"Error: Intentaste dividir por cero.\")\n",
    "except Exception as e:\n",
    "    # Manejar cualquier otra excepción no específica\n",
    "    print(f\"Ocurrió un error inesperado: {e}\")"
   ]
  },
  {
   "cell_type": "markdown",
   "metadata": {},
   "source": [
    "Este enfoque es útil cuando quieres capturar errores específicos primero y luego manejar cualquier otra excepción genérica con un bloque general `except Exception`."
   ]
  },
  {
   "cell_type": "markdown",
   "metadata": {},
   "source": [
    "---\n",
    "\n",
    "### 4. Lanzar excepciones con `raise`\n",
    "\n",
    "Cuando se usa `raise`, se interrumpe la ejecución del programa en el punto donde se encuentra y se lanza la excepción especificada. Si no se maneja con un bloque `try-except`, el programa terminará con un mensaje de error.\n",
    "\n",
    "#### a. Sintaxis básica\n",
    "\n",
    "```python\n",
    "raise ExceptionType(\"Mensaje de error\")\n",
    "```\n",
    "\n",
    "- **`ExceptionType`**: Es el tipo de excepción que deseas lanzar, como `ValueError`, `TypeError`, o `ZeroDivisionError`.\n",
    "- **`\"Mensaje de error\"`**: Es un mensaje opcional que describe la causa de la excepción.\n",
    "\n",
    "\n",
    "#### b. Lanzar una excepción genérica"
   ]
  },
  {
   "cell_type": "code",
   "execution_count": 1,
   "metadata": {},
   "outputs": [
    {
     "ename": "Exception",
     "evalue": "Ocurrió un error inesperado.",
     "output_type": "error",
     "traceback": [
      "\u001b[0;31m---------------------------------------------------------------------------\u001b[0m",
      "\u001b[0;31mException\u001b[0m                                 Traceback (most recent call last)",
      "Cell \u001b[0;32mIn[1], line 1\u001b[0m\n\u001b[0;32m----> 1\u001b[0m \u001b[38;5;28;01mraise\u001b[39;00m \u001b[38;5;167;01mException\u001b[39;00m(\u001b[38;5;124m\"\u001b[39m\u001b[38;5;124mOcurrió un error inesperado.\u001b[39m\u001b[38;5;124m\"\u001b[39m)\n",
      "\u001b[0;31mException\u001b[0m: Ocurrió un error inesperado."
     ]
    }
   ],
   "source": [
    "raise Exception(\"Ocurrió un error inesperado.\")"
   ]
  },
  {
   "cell_type": "markdown",
   "metadata": {},
   "source": [
    "Esto lanza una excepción genérica `Exception` con el mensaje `\"Ocurrió un error inesperado.\"`.\n",
    "\n",
    "#### c. Lanzar una excepción específica"
   ]
  },
  {
   "cell_type": "code",
   "execution_count": 2,
   "metadata": {},
   "outputs": [
    {
     "name": "stdout",
     "output_type": "stream",
     "text": [
      "Error capturado: El denominador no puede ser cero.\n"
     ]
    }
   ],
   "source": [
    "def dividir(a, b):\n",
    "    if b == 0:\n",
    "        raise ZeroDivisionError(\"El denominador no puede ser cero.\")\n",
    "    return a / b\n",
    "\n",
    "try:\n",
    "    resultado = dividir(10, 0)\n",
    "except ZeroDivisionError as e:\n",
    "    print(f\"Error capturado: {e}\")"
   ]
  },
  {
   "cell_type": "markdown",
   "metadata": {},
   "source": [
    "Aquí se usa `ZeroDivisionError` para indicar que una división por cero no está permitida.\n",
    "\n",
    "#### d. Lanzar una excepción basada en una condición"
   ]
  },
  {
   "cell_type": "code",
   "execution_count": 3,
   "metadata": {},
   "outputs": [
    {
     "ename": "ValueError",
     "evalue": "invalid literal for int() with base 10: ''",
     "output_type": "error",
     "traceback": [
      "\u001b[0;31m---------------------------------------------------------------------------\u001b[0m",
      "\u001b[0;31mValueError\u001b[0m                                Traceback (most recent call last)",
      "Cell \u001b[0;32mIn[3], line 1\u001b[0m\n\u001b[0;32m----> 1\u001b[0m edad \u001b[38;5;241m=\u001b[39m \u001b[38;5;28;43mint\u001b[39;49m\u001b[43m(\u001b[49m\u001b[38;5;28;43minput\u001b[39;49m\u001b[43m(\u001b[49m\u001b[38;5;124;43m\"\u001b[39;49m\u001b[38;5;124;43mIngresa tu edad: \u001b[39;49m\u001b[38;5;124;43m\"\u001b[39;49m\u001b[43m)\u001b[49m\u001b[43m)\u001b[49m\n\u001b[1;32m      3\u001b[0m \u001b[38;5;28;01mif\u001b[39;00m edad \u001b[38;5;241m<\u001b[39m \u001b[38;5;241m0\u001b[39m:\n\u001b[1;32m      4\u001b[0m     \u001b[38;5;28;01mraise\u001b[39;00m \u001b[38;5;167;01mValueError\u001b[39;00m(\u001b[38;5;124m\"\u001b[39m\u001b[38;5;124mLa edad no puede ser negativa.\u001b[39m\u001b[38;5;124m\"\u001b[39m)\n",
      "\u001b[0;31mValueError\u001b[0m: invalid literal for int() with base 10: ''"
     ]
    }
   ],
   "source": [
    "edad = int(input(\"Ingresa tu edad: \"))\n",
    "\n",
    "if edad < 0:\n",
    "    raise ValueError(\"La edad no puede ser negativa.\")\n",
    "\n",
    "print(f\"Tu edad es: {edad}\")"
   ]
  },
  {
   "cell_type": "markdown",
   "metadata": {},
   "source": [
    "Si el usuario ingresa un valor negativo, se lanza un `ValueError`.\n",
    "\n",
    "#### e. Reutilizar una excepción capturada\n",
    "\n",
    "A veces quieres propagar una excepción que ya fue capturada:"
   ]
  },
  {
   "cell_type": "code",
   "execution_count": 4,
   "metadata": {},
   "outputs": [
    {
     "name": "stdout",
     "output_type": "stream",
     "text": [
      "Error capturado: invalid literal for int() with base 10: 'texto'\n"
     ]
    },
    {
     "ename": "ValueError",
     "evalue": "invalid literal for int() with base 10: 'texto'",
     "output_type": "error",
     "traceback": [
      "\u001b[0;31m---------------------------------------------------------------------------\u001b[0m",
      "\u001b[0;31mValueError\u001b[0m                                Traceback (most recent call last)",
      "Cell \u001b[0;32mIn[4], line 2\u001b[0m\n\u001b[1;32m      1\u001b[0m \u001b[38;5;28;01mtry\u001b[39;00m:\n\u001b[0;32m----> 2\u001b[0m     x \u001b[38;5;241m=\u001b[39m \u001b[38;5;28;43mint\u001b[39;49m\u001b[43m(\u001b[49m\u001b[38;5;124;43m\"\u001b[39;49m\u001b[38;5;124;43mtexto\u001b[39;49m\u001b[38;5;124;43m\"\u001b[39;49m\u001b[43m)\u001b[49m\n\u001b[1;32m      3\u001b[0m \u001b[38;5;28;01mexcept\u001b[39;00m \u001b[38;5;167;01mValueError\u001b[39;00m \u001b[38;5;28;01mas\u001b[39;00m e:\n\u001b[1;32m      4\u001b[0m     \u001b[38;5;28mprint\u001b[39m(\u001b[38;5;124mf\u001b[39m\u001b[38;5;124m\"\u001b[39m\u001b[38;5;124mError capturado: \u001b[39m\u001b[38;5;132;01m{\u001b[39;00me\u001b[38;5;132;01m}\u001b[39;00m\u001b[38;5;124m\"\u001b[39m)\n",
      "\u001b[0;31mValueError\u001b[0m: invalid literal for int() with base 10: 'texto'"
     ]
    }
   ],
   "source": [
    "try:\n",
    "    x = int(\"texto\")\n",
    "except ValueError as e:\n",
    "    print(f\"Error capturado: {e}\")\n",
    "    raise  # Relanza la excepción original"
   ]
  },
  {
   "cell_type": "markdown",
   "metadata": {},
   "source": [
    "`raise` sin argumentos dentro de un bloque `except` relanza la misma excepción que fue capturada.\n",
    "\n",
    "#### f. Buenas prácticas\n",
    "1. Usa excepciones específicas como `ValueError`, `TypeError`, o `KeyError` en lugar de la genérica `Exception`.\n",
    "2. Acompaña las excepciones con mensajes descriptivos que expliquen claramente la causa del error.\n",
    "3. No abuses de `raise`; solo lánzalo si es necesario para mejorar la claridad o la robustez del programa."
   ]
  },
  {
   "cell_type": "markdown",
   "metadata": {},
   "source": [
    "---\n",
    "\n",
    "### 5. Introducción a `assert` en Python\n",
    "\n",
    "La palabra clave `assert` en Python se utiliza para **realizar verificaciones durante la ejecución del programa**. Es una herramienta de depuración que permite verificar si una condición es verdadera, y si no lo es, **lanza una excepción del tipo `AssertionError`** con un mensaje opcional.\n",
    "\n",
    "#### a. Sintaxis de `assert`\n",
    "\n",
    "```python\n",
    "assert condition, message\n",
    "```\n",
    "\n",
    "- **`condition`**: Es una expresión booleana que se espera que sea `True`. Si es `False`, se lanza un `AssertionError`.\n",
    "- **`message`** (opcional): Un mensaje que describe el error, útil para entender qué salió mal.\n",
    "\n",
    "#### b. Ejemplo básico"
   ]
  },
  {
   "cell_type": "code",
   "execution_count": null,
   "metadata": {},
   "outputs": [],
   "source": [
    "x = 10\n",
    "assert x > 0, \"El valor de x debe ser positivo.\"\n",
    "print(\"x es válido.\")"
   ]
  },
  {
   "cell_type": "markdown",
   "metadata": {},
   "source": [
    "En este caso:\n",
    "- Si `x > 0`, la ejecución continúa normalmente.\n",
    "- Si `x <= 0`, el programa lanza un `AssertionError` con el mensaje `\"El valor de x debe ser positivo.\"`.\n",
    "\n",
    "#### c. ¿Cómo se relaciona `assert` con las excepciones?\n",
    "\n",
    "1. **Excepción lanzada**: Cuando la condición de `assert` es falsa, Python lanza automáticamente un **`AssertionError`**, que es una excepción estándar."
   ]
  },
  {
   "cell_type": "code",
   "execution_count": 5,
   "metadata": {},
   "outputs": [
    {
     "ename": "AssertionError",
     "evalue": "Este es un error.",
     "output_type": "error",
     "traceback": [
      "\u001b[0;31m---------------------------------------------------------------------------\u001b[0m",
      "\u001b[0;31mAssertionError\u001b[0m                            Traceback (most recent call last)",
      "Cell \u001b[0;32mIn[5], line 1\u001b[0m\n\u001b[0;32m----> 1\u001b[0m \u001b[38;5;28;01massert\u001b[39;00m \u001b[38;5;28;01mFalse\u001b[39;00m, \u001b[38;5;124m\"\u001b[39m\u001b[38;5;124mEste es un error.\u001b[39m\u001b[38;5;124m\"\u001b[39m\n",
      "\u001b[0;31mAssertionError\u001b[0m: Este es un error."
     ]
    }
   ],
   "source": [
    "assert False, \"Este es un error.\""
   ]
  },
  {
   "cell_type": "markdown",
   "metadata": {},
   "source": [
    "2. **Es capturable**: Como cualquier excepción, puedes manejar `AssertionError` usando bloques `try-except`:"
   ]
  },
  {
   "cell_type": "code",
   "execution_count": 7,
   "metadata": {},
   "outputs": [
    {
     "name": "stdout",
     "output_type": "stream",
     "text": [
      "Error capturado: La suma es incorrecta.\n"
     ]
    }
   ],
   "source": [
    "try:\n",
    "    assert 2 + 2 == 5, \"La suma es incorrecta.\"\n",
    "except AssertionError as e:\n",
    "    print(f\"Error capturado: {e}\")"
   ]
  },
  {
   "cell_type": "markdown",
   "metadata": {},
   "source": [
    "3. **Ayuda a detectar errores**: Se usa para asegurar que ciertas condiciones se cumplan durante el desarrollo. Si una condición no se cumple, el error alerta al desarrollador.\n",
    "\n",
    "#### d. Usos comunes de `assert`\n",
    "\n",
    "1. Verificar entradas y precondiciones"
   ]
  },
  {
   "cell_type": "code",
   "execution_count": 8,
   "metadata": {},
   "outputs": [],
   "source": [
    "def dividir(a, b):\n",
    "    assert b != 0, \"El divisor no puede ser cero.\"\n",
    "    return a / b"
   ]
  },
  {
   "cell_type": "markdown",
   "metadata": {},
   "source": [
    "2. Verificar salidas y postcondiciones"
   ]
  },
  {
   "cell_type": "code",
   "execution_count": 9,
   "metadata": {},
   "outputs": [],
   "source": [
    "def cuadrado(x):\n",
    "    resultado = x * x\n",
    "    assert resultado >= 0, \"El resultado debe ser positivo.\"\n",
    "    return resultado"
   ]
  },
  {
   "cell_type": "markdown",
   "metadata": {},
   "source": [
    "3. Verificar invariantes en bucles"
   ]
  },
  {
   "cell_type": "code",
   "execution_count": 10,
   "metadata": {},
   "outputs": [],
   "source": [
    "suma = 0\n",
    "for i in range(10):\n",
    "    suma += i\n",
    "    assert suma >= 0, \"La suma nunca debe ser negativa.\""
   ]
  },
  {
   "cell_type": "markdown",
   "metadata": {},
   "source": [
    "#### e. Diferencias entre `assert` y `raise`\n",
    "\n",
    "| **`assert`**                              | **`raise`**                              |\n",
    "|-------------------------------------------|------------------------------------------|\n",
    "| Se utiliza para **depuración** y pruebas rápidas. | Se utiliza para **lanzar excepciones explícitas**. |\n",
    "| Lanza un **`AssertionError`** si la condición es falsa. | Puede lanzar cualquier tipo de excepción. |\n",
    "| Su comportamiento depende del entorno de ejecución (puede deshabilitarse en producción). | Siempre está habilitado y se ejecuta en cualquier entorno. |\n",
    "\n",
    "#### f. ¿Se puede desactivar `assert`?\n",
    "\n",
    "Sí, puedes desactivar todas las verificaciones con `assert` ejecutando Python en **modo optimizado**:\n",
    "\n",
    "```bash\n",
    "python -O script.py\n",
    "```\n",
    "\n",
    "En este caso:\n",
    "- Las declaraciones `assert` serán ignoradas.\n",
    "- Es útil para entornos de producción, pero ten cuidado, ya que no debes confiar en `assert` para manejar errores críticos."
   ]
  },
  {
   "cell_type": "markdown",
   "metadata": {},
   "source": [
    "---\n",
    "\n",
    "### 6. ¿Qué es un stack trace en Python?\n",
    "\n",
    "Un **stack trace** (o rastreo de pila) es un informe generado cuando ocurre una excepción en Python. Muestra una lista detallada de las funciones o métodos que estaban en ejecución en el momento en que se produjo el error, lo que ayuda a identificar el origen del problema.\n",
    "\n",
    "#### a. Estructura de un stack trace\n",
    "\n",
    "El stack trace incluye:\n",
    "1. **La excepción levantada**: Especifica el tipo de error y un mensaje descriptivo.\n",
    "2. **La pila de llamadas**: Lista las funciones o métodos que estaban en ejecución, con información sobre el archivo, las líneas de código y el contexto de cada llamada.\n",
    "3. **El lugar exacto donde ocurrió el error**: Indica la línea específica del código que desencadenó la excepción.\n",
    "\n",
    "#### b. Ejemplo de stack trace\n",
    "\n",
    "Considera el siguiente código, al ejecutarlo, Python genera el siguiente stack trace:"
   ]
  },
  {
   "cell_type": "code",
   "execution_count": 11,
   "metadata": {},
   "outputs": [
    {
     "ename": "ZeroDivisionError",
     "evalue": "division by zero",
     "output_type": "error",
     "traceback": [
      "\u001b[0;31m---------------------------------------------------------------------------\u001b[0m",
      "\u001b[0;31mZeroDivisionError\u001b[0m                         Traceback (most recent call last)",
      "Cell \u001b[0;32mIn[11], line 8\u001b[0m\n\u001b[1;32m      5\u001b[0m     resultado \u001b[38;5;241m=\u001b[39m dividir(\u001b[38;5;241m10\u001b[39m, \u001b[38;5;241m0\u001b[39m)\n\u001b[1;32m      6\u001b[0m     \u001b[38;5;28mprint\u001b[39m(resultado)\n\u001b[0;32m----> 8\u001b[0m \u001b[43mcalcular\u001b[49m\u001b[43m(\u001b[49m\u001b[43m)\u001b[49m\n",
      "Cell \u001b[0;32mIn[11], line 5\u001b[0m, in \u001b[0;36mcalcular\u001b[0;34m()\u001b[0m\n\u001b[1;32m      4\u001b[0m \u001b[38;5;28;01mdef\u001b[39;00m \u001b[38;5;21mcalcular\u001b[39m():\n\u001b[0;32m----> 5\u001b[0m     resultado \u001b[38;5;241m=\u001b[39m \u001b[43mdividir\u001b[49m\u001b[43m(\u001b[49m\u001b[38;5;241;43m10\u001b[39;49m\u001b[43m,\u001b[49m\u001b[43m \u001b[49m\u001b[38;5;241;43m0\u001b[39;49m\u001b[43m)\u001b[49m\n\u001b[1;32m      6\u001b[0m     \u001b[38;5;28mprint\u001b[39m(resultado)\n",
      "Cell \u001b[0;32mIn[11], line 2\u001b[0m, in \u001b[0;36mdividir\u001b[0;34m(a, b)\u001b[0m\n\u001b[1;32m      1\u001b[0m \u001b[38;5;28;01mdef\u001b[39;00m \u001b[38;5;21mdividir\u001b[39m(a, b):\n\u001b[0;32m----> 2\u001b[0m     \u001b[38;5;28;01mreturn\u001b[39;00m \u001b[43ma\u001b[49m\u001b[43m \u001b[49m\u001b[38;5;241;43m/\u001b[39;49m\u001b[43m \u001b[49m\u001b[43mb\u001b[49m\n",
      "\u001b[0;31mZeroDivisionError\u001b[0m: division by zero"
     ]
    }
   ],
   "source": [
    "def dividir(a, b):\n",
    "    return a / b\n",
    "\n",
    "def calcular():\n",
    "    resultado = dividir(10, 0)\n",
    "    print(resultado)\n",
    "\n",
    "calcular()"
   ]
  },
  {
   "cell_type": "markdown",
   "metadata": {},
   "source": [
    "#### c. Análisis del stack trace: Traceback\n",
    "\n",
    "1. Traceback:\n",
    "   - Inicia con la palabra clave `Traceback (most recent call last):`.\n",
    "   - Significa que está mostrando las llamadas más recientes primero (orden inverso).\n",
    "\n",
    "2. Pila de llamadas:\n",
    "   - Cada línea muestra una función que estaba en ejecución, desde el nivel más bajo (donde ocurrió el error) hasta el nivel superior (donde se llamó la función).\n",
    "   - Ejemplo:\n",
    "     - `line 8`: El error ocurrió mientras se ejecutaba la función `calcular`.\n",
    "     - `line 5`: Dentro de `calcular`, se llamó a `dividir`.\n",
    "     - `line 2`: En `dividir`, ocurrió la división por cero.\n",
    "\n",
    "3. Excepción levantada:\n",
    "   - `ZeroDivisionError: division by zero`: Es el tipo de excepción y una descripción del problema.\n",
    "\n",
    "#### d. ¿Para qué sirve un Traceback?\n",
    "\n",
    "- **Depuración**: Identificar rápidamente qué parte del código causó el error.\n",
    "- **Seguimiento del flujo**: Comprender la secuencia de llamadas que llevaron al problema.\n",
    "- **Registro de errores**: Los tracebacks se pueden registrar en archivos para análisis posterior."
   ]
  },
  {
   "cell_type": "markdown",
   "metadata": {},
   "source": [
    "---\n",
    "\n",
    "### 7. Ejercicios con excepciones\n",
    "\n",
    "\n",
    "#### a. División segura\n",
    "\n",
    "Escribe una función `dividir(a, b)` que maneje divisiones por cero lanzando una excepción `ZeroDivisionError`."
   ]
  },
  {
   "cell_type": "code",
   "execution_count": 10,
   "metadata": {},
   "outputs": [
    {
     "name": "stdout",
     "output_type": "stream",
     "text": [
      "Error: El denominador no puede ser cero.\n"
     ]
    }
   ],
   "source": [
    "def dividir(a: float, b: float) -> float:\n",
    "    \"\"\"\n",
    "    Calcula la división entre a y b.\n",
    "\n",
    "    Parameters:\n",
    "        a (float): El numerador.\n",
    "        b (float): El denominador.\n",
    "\n",
    "    Returns:\n",
    "        float: El resultado de la división.\n",
    "\n",
    "    Raises:\n",
    "        ZeroDivisionError: Si el denominador es cero.\n",
    "    \"\"\"\n",
    "    if b == 0:\n",
    "        raise ZeroDivisionError(\"El denominador no puede ser cero.\")\n",
    "    return a / b\n",
    "\n",
    "try:\n",
    "    print(dividir(10, 0))\n",
    "except ZeroDivisionError as e:\n",
    "    print(f\"Error: {e}\")"
   ]
  },
  {
   "cell_type": "markdown",
   "metadata": {},
   "source": [
    "#### b. Validación de edad\n",
    "\n",
    "Crea una función `verificar_edad(edad)` que lance una excepción si la edad es negativa."
   ]
  },
  {
   "cell_type": "code",
   "execution_count": 11,
   "metadata": {},
   "outputs": [
    {
     "name": "stdout",
     "output_type": "stream",
     "text": [
      "La edad no puede ser negativa.\n"
     ]
    }
   ],
   "source": [
    "def verificar_edad(edad):\n",
    "    if edad < 0:\n",
    "        raise ValueError(\"La edad no puede ser negativa.\")\n",
    "    return edad\n",
    "\n",
    "try:\n",
    "    verificar_edad(-5)\n",
    "except ValueError as e:\n",
    "    print(e)"
   ]
  },
  {
   "cell_type": "markdown",
   "metadata": {},
   "source": [
    "#### c. Comprobación de lista vacía\n",
    "\n",
    "Escribe una función `obtener_primero(lista)` que devuelva el primer elemento de una lista o lance una excepción si la lista está vacía."
   ]
  },
  {
   "cell_type": "code",
   "execution_count": 12,
   "metadata": {},
   "outputs": [
    {
     "name": "stdout",
     "output_type": "stream",
     "text": [
      "La lista está vacía.\n"
     ]
    }
   ],
   "source": [
    "def obtener_primero(lista):\n",
    "    if len(lista) == 0:\n",
    "        raise ValueError(\"La lista está vacía.\")\n",
    "    return lista[0]\n",
    "\n",
    "try:\n",
    "    print(obtener_primero([]))\n",
    "except ValueError as e:\n",
    "    print(e)"
   ]
  },
  {
   "cell_type": "markdown",
   "metadata": {},
   "source": [
    "#### d. Conversión segura a entero\n",
    "\n",
    "Crea una función `convertir_a_entero(valor)` que maneje excepciones al convertir cadenas a enteros."
   ]
  },
  {
   "cell_type": "code",
   "execution_count": 8,
   "metadata": {},
   "outputs": [
    {
     "name": "stdout",
     "output_type": "stream",
     "text": [
      "No se puede convertir 'hola' a entero.\n"
     ]
    }
   ],
   "source": [
    "def convertir_a_entero(valor):\n",
    "    try:\n",
    "        return int(valor)\n",
    "    except ValueError:\n",
    "        raise Exception(f\"No se puede convertir '{valor}' a entero.\")\n",
    "\n",
    "try:\n",
    "    num: int = convertir_a_entero('hola')\n",
    "except Exception as e:\n",
    "    print(e)\n",
    "else:\n",
    "    print(num)"
   ]
  },
  {
   "cell_type": "markdown",
   "metadata": {},
   "source": [
    "#### e. Validación de rango numérico\n",
    "\n",
    "Escribe una función `verificar_rango(n, min, max)` que lance una excepción si un número no está dentro de un rango dado."
   ]
  },
  {
   "cell_type": "code",
   "execution_count": 3,
   "metadata": {},
   "outputs": [
    {
     "name": "stdout",
     "output_type": "stream",
     "text": [
      "El número debe estar entre 1 y 10.\n",
      "Terminó el bloque try\n"
     ]
    }
   ],
   "source": [
    "def verificar_rango(n, min, max):\n",
    "    if n < min or n > max:\n",
    "        raise ZeroDivisionError(f\"El número debe estar entre {min} y {max}.\")\n",
    "    return n\n",
    "\n",
    "try:\n",
    "    verificar_rango(0, 1, 10)\n",
    "except Exception as e:\n",
    "    print(e)\n",
    "else:\n",
    "    print(\"No hubo excepciones\")\n",
    "finally:\n",
    "    print(\"Terminó el bloque try\")"
   ]
  },
  {
   "cell_type": "markdown",
   "metadata": {},
   "source": [
    "#### f. Búsqueda en diccionario\n",
    "\n",
    "Crea una función `buscar_clave(diccionario, clave)` que maneje la ausencia de una clave en un diccionario."
   ]
  },
  {
   "cell_type": "code",
   "execution_count": 21,
   "metadata": {},
   "outputs": [
    {
     "name": "stdout",
     "output_type": "stream",
     "text": [
      "\"La clave 'c' no existe en el diccionario.\"\n"
     ]
    }
   ],
   "source": [
    "def buscar_clave(diccionario, clave):\n",
    "    if clave not in diccionario:\n",
    "        raise KeyError(f\"La clave '{clave}' no existe en el diccionario.\")\n",
    "    return diccionario[clave]\n",
    "\n",
    "diccionario = {'a': 1, 'b': 2}\n",
    "\n",
    "try:\n",
    "    dato = buscar_clave(diccionario, 'c')\n",
    "except KeyError as e:\n",
    "    print(e)\n",
    "else:\n",
    "    print(dato)"
   ]
  },
  {
   "cell_type": "markdown",
   "metadata": {},
   "source": [
    "#### g. Operación matemática personalizada\n",
    "\n",
    "Escribe una función `calcular_raiz_cuadrada(n)` que maneje valores negativos lanzando una excepción."
   ]
  },
  {
   "cell_type": "code",
   "execution_count": 2,
   "metadata": {},
   "outputs": [
    {
     "name": "stdout",
     "output_type": "stream",
     "text": [
      "El número no puede ser negativo.\n"
     ]
    }
   ],
   "source": [
    "import math\n",
    "\n",
    "def calcular_raiz_cuadrada(n):\n",
    "    if n < 0:\n",
    "        raise ValueError(\"El número no puede ser negativo.\")\n",
    "    return math.sqrt(n)\n",
    "\n",
    "try:\n",
    "    resultado = calcular_raiz_cuadrada(-9)\n",
    "except ValueError as e:\n",
    "    print(e)\n",
    "else:\n",
    "    print(resultado)"
   ]
  },
  {
   "cell_type": "markdown",
   "metadata": {},
   "source": [
    "\n",
    "#### h. Validación de cadenas\n",
    "\n",
    "Crea una función `validar_cadena(cadena)` que lance una excepción si la cadena está vacía."
   ]
  },
  {
   "cell_type": "code",
   "execution_count": 13,
   "metadata": {},
   "outputs": [
    {
     "name": "stdout",
     "output_type": "stream",
     "text": [
      "Error: La cadena no puede estar vacía.\n"
     ]
    }
   ],
   "source": [
    "def validar_cadena(cadena):\n",
    "    if not cadena:\n",
    "        raise ValueError(\"La cadena no puede estar vacía.\")\n",
    "    return f\"La cadena es válida: {cadena}\"\n",
    "\n",
    "try:\n",
    "    print(validar_cadena(\"\"))\n",
    "except ValueError as e:\n",
    "    print(f\"Error: {e}\")"
   ]
  },
  {
   "cell_type": "markdown",
   "metadata": {},
   "source": [
    "\n",
    "#### i. Operación en archivo\n",
    "\n",
    "Escribe una función `leer_archivo(nombre_archivo)` que maneje errores al intentar abrir un archivo inexistente."
   ]
  },
  {
   "cell_type": "code",
   "execution_count": 15,
   "metadata": {},
   "outputs": [
    {
     "name": "stdout",
     "output_type": "stream",
     "text": [
      "El archivo 'archivo_no_existe.txt' no existe.\n"
     ]
    }
   ],
   "source": [
    "def leer_archivo(filepath):\n",
    "    archivo = None\n",
    "    try:\n",
    "        archivo = open(filepath, 'r')\n",
    "        contenido = archivo.read()\n",
    "        return contenido\n",
    "    except FileNotFoundError:\n",
    "        raise FileNotFoundError(f\"El archivo '{filepath}' no existe.\")\n",
    "    finally:\n",
    "        if archivo is not None:\n",
    "            print(\"Cerrando archivo\")\n",
    "            archivo.close()\n",
    "\n",
    "try:\n",
    "    contenido = leer_archivo('archivo_no_existe.txt')\n",
    "except FileNotFoundError as e:\n",
    "    print(e)\n",
    "else:\n",
    "    print(contenido)"
   ]
  },
  {
   "cell_type": "markdown",
   "metadata": {},
   "source": [
    "\n",
    "#### j. Validación de divisor múltiple\n",
    "\n",
    "Crea una función `verificar_multiplo(n, divisor)` que lance una excepción si el divisor no es múltiplo de `n`."
   ]
  },
  {
   "cell_type": "code",
   "execution_count": 16,
   "metadata": {},
   "outputs": [],
   "source": [
    "def verificar_multiplo(n, divisor):\n",
    "    if n % divisor != 0:\n",
    "        raise ValueError(f\"{n} no es múltiplo de {divisor}.\")\n",
    "\n",
    "try:\n",
    "    verificar_multiplo(9, 3)\n",
    "except ValueError as e:\n",
    "    print(e)"
   ]
  },
  {
   "cell_type": "markdown",
   "metadata": {},
   "source": [
    "#### k. Excepción personalizada para rango de edades\n",
    "\n",
    "Crea una excepción personalizada llamada `EdadInvalidaError`. Escribe una función `verificar_edad(edad)` que utilice esta excepción para indicar si una edad es inválida (negativa o mayor a 120)."
   ]
  },
  {
   "cell_type": "code",
   "execution_count": 17,
   "metadata": {},
   "outputs": [
    {
     "name": "stdout",
     "output_type": "stream",
     "text": [
      "La edad -5 es inválida.\n",
      "Terminó el bloque try\n"
     ]
    }
   ],
   "source": [
    "class EdadInvalidaError(Exception):\n",
    "    pass\n",
    "\n",
    "def verificar_edad(edad):\n",
    "    if edad < 0 or edad > 120:\n",
    "        raise EdadInvalidaError(f\"La edad {edad} es inválida.\")\n",
    "    return edad\n",
    "\n",
    "try:\n",
    "    verificar_edad(-5)\n",
    "except EdadInvalidaError as e:\n",
    "    print(e)\n",
    "else:\n",
    "    print(\"No hubo excepciones\")\n",
    "finally:\n",
    "    print(\"Terminó el bloque try\")"
   ]
  },
  {
   "cell_type": "markdown",
   "metadata": {},
   "source": [
    "#### l. Excepción personalizada para formato de nombre\n",
    "\n",
    "Define una excepción personalizada llamada `FormatoNombreError`. Crea una función `verificar_nombre(nombre)` que lance esta excepción si el nombre no comienza con una letra mayúscula o contiene números."
   ]
  },
  {
   "cell_type": "code",
   "execution_count": 19,
   "metadata": {},
   "outputs": [
    {
     "name": "stdout",
     "output_type": "stream",
     "text": [
      "No hubo excepciones\n",
      "Terminó el bloque try\n"
     ]
    }
   ],
   "source": [
    "class FormatoNombreError(Exception):\n",
    "    pass\n",
    "\n",
    "def verificar_nombre(nombre):\n",
    "    if not nombre[0].isupper() or any(char.isdigit() for char in nombre):\n",
    "        raise FormatoNombreError(f\"El nombre '{nombre}' no tiene el formato correcto.\")\n",
    "\n",
    "try:\n",
    "    verificar_nombre('Juan_')\n",
    "except FormatoNombreError as e:\n",
    "    print(e)\n",
    "else:\n",
    "    print(\"No hubo excepciones\")\n",
    "finally:\n",
    "    print(\"Terminó el bloque try\")"
   ]
  },
  {
   "cell_type": "markdown",
   "metadata": {},
   "source": [
    "#### m. Validación de entrada de número\n",
    "\n",
    "Define una excepción personalizada llamada `NumeroInvalidoError`. Escribe una función `validar_numero(numero)` que valide lo siguiente:  \n",
    "1. El número debe ser positivo.  \n",
    "2. El número debe ser menor que 100.  \n",
    "\n",
    "Utiliza múltiples bloques `except` para manejar errores como `ValueError` (si el tipo no es un número válido) y `NumeroInvalidoError` para las validaciones específicas."
   ]
  },
  {
   "cell_type": "code",
   "execution_count": 20,
   "metadata": {},
   "outputs": [
    {
     "name": "stdout",
     "output_type": "stream",
     "text": [
      "No hubo excepciones\n",
      "Terminó el bloque try\n"
     ]
    }
   ],
   "source": [
    "class NumeroInvalidoError(Exception):\n",
    "    pass\n",
    "\n",
    "def validar_numero(numero):\n",
    "    if not isinstance(numero, (int, float)):\n",
    "        raise ValueError(\"El número debe ser un número válido.\")\n",
    "\n",
    "try:\n",
    "    validar_numero(101)\n",
    "except ValueError as e:\n",
    "    print(e)\n",
    "except NumeroInvalidoError as e:\n",
    "    print(e)\n",
    "else:\n",
    "    print(\"No hubo excepciones\")\n",
    "finally:\n",
    "    print(\"Terminó el bloque try\")"
   ]
  }
 ],
 "metadata": {
  "kernelspec": {
   "display_name": ".env",
   "language": "python",
   "name": "python3"
  },
  "language_info": {
   "codemirror_mode": {
    "name": "ipython",
    "version": 3
   },
   "file_extension": ".py",
   "mimetype": "text/x-python",
   "name": "python",
   "nbconvert_exporter": "python",
   "pygments_lexer": "ipython3",
   "version": "3.12.7"
  }
 },
 "nbformat": 4,
 "nbformat_minor": 2
}
