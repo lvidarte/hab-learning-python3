{
 "cells": [
  {
   "cell_type": "markdown",
   "metadata": {},
   "source": [
    "# Clase 10: Programación Orientada a Objetos (OOP)\n",
    "\n",
    "## Módulo 1: Programación Orientada a Objetos (OOP) - Introducción\n",
    "\n",
    "### 1. Conceptos básicos de la Programación Orientada a Objetos (OOP)\n",
    "\n",
    "La **Programación Orientada a Objetos (OOP)** es un paradigma de programación que se basa en la creación de objetos para representar entidades del mundo real o abstracto. A través de este enfoque, el código se estructura de manera más clara, reutilizable y mantenible.\n",
    "\n",
    "#### a. Elementos clave de la OOP\n",
    "\n",
    "- **Clase**: Es una plantilla o blueprint que define las características (atributos) y comportamientos (métodos) de los objetos que se crearán a partir de ella.\n",
    "- **Objeto**: Es una instancia de una clase, que contiene valores específicos de los atributos definidos en la clase.\n",
    "- **Atributos**: Son las propiedades o datos asociados a una clase. Pueden ser atributos de instancia (específicos para cada objeto) o atributos de clase (compartidos entre todas las instancias).\n",
    "- **Métodos**: Son funciones dentro de una clase que definen las acciones o comportamientos que los objetos pueden realizar.\n",
    "\n",
    "#### b. Definición de una clase y creación de un objeto\n",
    "\n",
    "La estructura básica de una clase en Python se define con la palabra clave `class`:"
   ]
  },
  {
   "cell_type": "code",
   "execution_count": 11,
   "metadata": {},
   "outputs": [
    {
     "name": "stdout",
     "output_type": "stream",
     "text": [
      "Carlos\n",
      "30\n"
     ]
    }
   ],
   "source": [
    "class Persona:\n",
    "    def __init__(self, nombre, edad):\n",
    "        self.nombre = nombre  # Atributo de instancia\n",
    "        self.edad = edad      # Atributo de instancia\n",
    "\n",
    "# Creación de un objeto (instancia) de la clase Persona\n",
    "persona1 = Persona(\"Carlos\", 30)\n",
    "\n",
    "# Accediendo a los atributos del objeto\n",
    "print(persona1.nombre)  # Salida: Carlos\n",
    "print(persona1.edad)    # Salida: 30"
   ]
  },
  {
   "cell_type": "markdown",
   "metadata": {},
   "source": [
    "En el ejemplo anterior:\n",
    "- `Persona` es la clase.\n",
    "- `persona1` es un objeto (instancia) de la clase `Persona`.\n",
    "- `__init__` es el **constructor**, un método especial que se ejecuta automáticamente al crear un objeto. Se usa para inicializar los atributos del objeto.\n",
    "\n",
    "#### c. Importancia de la OOP\n",
    "\n",
    "La OOP permite estructurar el código de manera que sea fácil de entender, modificar y reutilizar. Sus principales ventajas son:\n",
    "- **Encapsulación**: Los atributos y métodos se agrupan en una clase, facilitando la organización del código.\n",
    "- **Herencia**: Permite que una clase herede propiedades y comportamientos de otra clase.\n",
    "- **Polimorfismo**: Permite que objetos de diferentes clases puedan ser tratados de manera uniforme, siempre y cuando compartan ciertos comportamientos.\n",
    "\n",
    "#### d. Ejercicio práctico\n",
    "\n",
    "Define una clase `Producto` que tenga los atributos `nombre`, `precio` y `cantidad`. Luego, crea dos objetos de esta clase y muestra sus atributos."
   ]
  },
  {
   "cell_type": "code",
   "execution_count": null,
   "metadata": {},
   "outputs": [],
   "source": []
  },
  {
   "cell_type": "markdown",
   "metadata": {},
   "source": [
    "---\n",
    "\n",
    "## Módulo 2: Atributos y métodos\n",
    "\n",
    "### 1. Atributos de instancia y atributos de clase\n",
    "\n",
    "Los atributos pueden ser de dos tipos:\n",
    "- **Atributos de instancia**: Son únicos para cada objeto creado a partir de una clase. Cada instancia de una clase puede tener valores distintos en estos atributos.\n",
    "- **Atributos de clase**: Son compartidos por todas las instancias de la clase.\n",
    "\n",
    "#### a. Atributos de instancia"
   ]
  },
  {
   "cell_type": "code",
   "execution_count": 5,
   "metadata": {},
   "outputs": [],
   "source": [
    "class Empleado:\n",
    "    def __init__(self, nombre, puesto, salario):\n",
    "        self.nombre = nombre   # Atributo de instancia\n",
    "        self.puesto = puesto   # Atributo de instancia\n",
    "        self.salario = salario # Atributo de instancia"
   ]
  },
  {
   "cell_type": "code",
   "execution_count": 3,
   "metadata": {},
   "outputs": [],
   "source": [
    "# Crear dos objetos de la clase Empleado\n",
    "empleado1 = Empleado(\"Luis\", \"Desarrollador\", 5000)\n",
    "empleado2 = Empleado(\"Ana\", \"Gerente\", 6000)"
   ]
  },
  {
   "cell_type": "code",
   "execution_count": 4,
   "metadata": {},
   "outputs": [
    {
     "name": "stdout",
     "output_type": "stream",
     "text": [
      "Luis Desarrollador 5000\n",
      "Ana Gerente 6000\n"
     ]
    }
   ],
   "source": [
    "# Acceder a los atributos de cada objeto\n",
    "print(empleado1.nombre, empleado1.puesto, empleado1.salario)\n",
    "print(empleado2.nombre, empleado2.puesto, empleado2.salario)"
   ]
  },
  {
   "cell_type": "markdown",
   "metadata": {},
   "source": [
    "En este ejemplo, cada empleado tiene sus propios valores para `nombre`, `puesto` y `salario`, que son atributos de instancia.\n",
    "\n",
    "#### b. Atributos de clase\n",
    "\n",
    "Los atributos de clase son aquellos que son compartidos por todas las instancias de una clase. Pueden ser útiles para almacenar información común entre todos los objetos."
   ]
  },
  {
   "cell_type": "code",
   "execution_count": 9,
   "metadata": {},
   "outputs": [],
   "source": [
    "class Empresa:\n",
    "    sector = \"Tecnología\"  # Atributo de clase\n",
    "\n",
    "    def __init__(self, nombre):\n",
    "        self.nombre = nombre  # Atributo de instancia"
   ]
  },
  {
   "cell_type": "code",
   "execution_count": 10,
   "metadata": {},
   "outputs": [],
   "source": [
    "# Crear dos objetos de la clase Empresa\n",
    "empresa1 = Empresa(\"InnovaTech\")\n",
    "empresa2 = Empresa(\"SoftSolutions\")"
   ]
  },
  {
   "cell_type": "code",
   "execution_count": 11,
   "metadata": {},
   "outputs": [
    {
     "name": "stdout",
     "output_type": "stream",
     "text": [
      "Tecnología Tecnología\n",
      "InnovaTech SoftSolutions\n"
     ]
    }
   ],
   "source": [
    "# Acceder a los atributos de clase\n",
    "print(empresa1.sector, empresa2.sector)\n",
    "\n",
    "# Acceder a los atributos de instancia\n",
    "print(empresa1.nombre, empresa2.nombre)"
   ]
  },
  {
   "cell_type": "markdown",
   "metadata": {},
   "source": [
    "#### c. Ejercicio práctico\n",
    "\n",
    "Define una clase `Universidad` con un atributo de clase llamado `tipo` que tenga el valor `\"Pública\"`. Además, define atributos de instancia como `nombre` y `ubicación`. Crea dos objetos de esta clase y muestra los valores de sus atributos."
   ]
  },
  {
   "cell_type": "code",
   "execution_count": null,
   "metadata": {},
   "outputs": [],
   "source": []
  },
  {
   "cell_type": "markdown",
   "metadata": {},
   "source": [
    "### 2. Métodos\n",
    "\n",
    "Los **métodos** son funciones que pertenecen a una clase y permiten a los objetos de esa clase realizar acciones o comportamientos específicos. Los métodos se definen dentro de la clase, y el primer parámetro de un método siempre es `self`, que representa al objeto que está llamando al método.\n",
    "\n",
    "#### a. Métodos de instancia"
   ]
  },
  {
   "cell_type": "code",
   "execution_count": 12,
   "metadata": {},
   "outputs": [],
   "source": [
    "class Persona:\n",
    "    def __init__(self, nombre):\n",
    "        self.nombre = nombre\n",
    "    \n",
    "    def saludar(self):\n",
    "        print(f\"Hola, me llamo {self.nombre}\")"
   ]
  },
  {
   "cell_type": "code",
   "execution_count": 13,
   "metadata": {},
   "outputs": [
    {
     "name": "stdout",
     "output_type": "stream",
     "text": [
      "Hola, me llamo Ana\n"
     ]
    }
   ],
   "source": [
    "persona = Persona(\"Ana\")\n",
    "persona.saludar()"
   ]
  },
  {
   "cell_type": "markdown",
   "metadata": {},
   "source": [
    "#### b. Método con parámetros adicionales\n",
    "\n",
    "Los métodos también pueden aceptar parámetros adicionales que permiten realizar acciones más flexibles."
   ]
  },
  {
   "cell_type": "code",
   "execution_count": 15,
   "metadata": {},
   "outputs": [],
   "source": [
    "class Cafetera:\n",
    "    def __init__(self, capacidad):\n",
    "        self.capacidad = capacidad  # Capacidad máxima de la cafetera en mililitros\n",
    "\n",
    "    def preparar_cafe(self, cantidad):\n",
    "        if cantidad > self.capacidad:\n",
    "            print(f\"No se puede preparar {cantidad}ml. La capacidad máxima es {self.capacidad}ml.\")\n",
    "        else:\n",
    "            print(f\"Preparando {cantidad}ml de café...\")"
   ]
  },
  {
   "cell_type": "code",
   "execution_count": 16,
   "metadata": {},
   "outputs": [],
   "source": [
    "# Crear una instancia de la clase Cafetera con una capacidad de 1000ml\n",
    "mi_cafetera = Cafetera(1000)"
   ]
  },
  {
   "cell_type": "code",
   "execution_count": 17,
   "metadata": {},
   "outputs": [
    {
     "name": "stdout",
     "output_type": "stream",
     "text": [
      "Preparando 500ml de café...\n",
      "No se puede preparar 1200ml. La capacidad máxima es 1000ml.\n"
     ]
    }
   ],
   "source": [
    "# Llamar al método preparar_cafe con un argumento no opcional\n",
    "mi_cafetera.preparar_cafe(500)  # Preparando 500ml de café...\n",
    "mi_cafetera.preparar_cafe(1200) # No se puede preparar 1200ml. La capacidad máxima es 1000ml."
   ]
  },
  {
   "cell_type": "markdown",
   "metadata": {},
   "source": [
    "#### c. Ejercicio práctico\n",
    "\n",
    "Define una clase `Coche` con los atributos `marca`, `modelo`, y `kilometraje`. Añade un método llamado `viajar()` que acepte una distancia como parámetro y actualice el kilometraje del coche. Crea un objeto de esta clase y usa el método `viajar()` para actualizar su kilometraje."
   ]
  },
  {
   "cell_type": "code",
   "execution_count": null,
   "metadata": {},
   "outputs": [],
   "source": []
  },
  {
   "cell_type": "markdown",
   "metadata": {},
   "source": [
    "### 3. Atributos y métodos privados\n",
    "\n",
    "En Python, los atributos y métodos pueden ser \"privados\", lo que significa que no deberían ser accesibles directamente fuera de la clase. Para hacer que un atributo o método sea privado, se utiliza un guion bajo doble `__` antes del nombre.\n",
    "\n",
    "#### a. Atributo privado"
   ]
  },
  {
   "cell_type": "code",
   "execution_count": 18,
   "metadata": {},
   "outputs": [],
   "source": [
    "class CuentaBancaria:\n",
    "    def __init__(self, saldo_inicial):\n",
    "        self.__saldo = saldo_inicial  # Atributo privado\n",
    "\n",
    "    # Método para consultar el saldo\n",
    "    def consultar_saldo(self):\n",
    "        return self.__saldo\n",
    "\n",
    "    # Método para depositar dinero\n",
    "    def depositar(self, monto):\n",
    "        self.__saldo += monto"
   ]
  },
  {
   "cell_type": "code",
   "execution_count": 19,
   "metadata": {},
   "outputs": [],
   "source": [
    "# Crear un objeto de la clase CuentaBancaria\n",
    "cuenta = CuentaBancaria(1000)"
   ]
  },
  {
   "cell_type": "code",
   "execution_count": 21,
   "metadata": {},
   "outputs": [
    {
     "name": "stdout",
     "output_type": "stream",
     "text": [
      "Saldo inicial: 1000\n"
     ]
    }
   ],
   "source": [
    "# Consultar el saldo mediante el método\n",
    "print(\"Saldo inicial:\", cuenta.consultar_saldo())"
   ]
  },
  {
   "cell_type": "code",
   "execution_count": 22,
   "metadata": {},
   "outputs": [
    {
     "name": "stdout",
     "output_type": "stream",
     "text": [
      "'CuentaBancaria' object has no attribute '__saldo'\n"
     ]
    }
   ],
   "source": [
    "# Intentar acceder al atributo privado directamente causará un error\n",
    "try:\n",
    "    print(cuenta.__saldo)  # Esto producirá un AttributeError\n",
    "except AttributeError as e:\n",
    "    print(e)"
   ]
  },
  {
   "cell_type": "markdown",
   "metadata": {},
   "source": [
    "En este ejemplo, `__saldo` es un atributo privado, por lo que no se puede acceder a él directamente desde fuera de la clase. Sin embargo, se puede acceder a él a través del método público `consultar_saldo()`.\n",
    "\n",
    "#### b. Ejercicio práctico\n",
    "\n",
    "Crea una clase `Cuenta` con un atributo privado `__saldo`. Añade métodos para consultar el saldo, depositar y retirar dinero de la cuenta. Asegúrate de que el saldo no pueda ser modificado directamente desde fuera de la clase."
   ]
  },
  {
   "cell_type": "code",
   "execution_count": null,
   "metadata": {},
   "outputs": [],
   "source": []
  }
 ],
 "metadata": {
  "kernelspec": {
   "display_name": ".env",
   "language": "python",
   "name": "python3"
  },
  "language_info": {
   "codemirror_mode": {
    "name": "ipython",
    "version": 3
   },
   "file_extension": ".py",
   "mimetype": "text/x-python",
   "name": "python",
   "nbconvert_exporter": "python",
   "pygments_lexer": "ipython3",
   "version": "3.12.5"
  }
 },
 "nbformat": 4,
 "nbformat_minor": 2
}
