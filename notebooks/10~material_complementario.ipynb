{
 "cells": [
  {
   "cell_type": "markdown",
   "metadata": {},
   "source": [
    "# Clase 10: Material complementario\n",
    "\n",
    "### 1. Introducción a la Programación Orientada a Objetos (OOP)\n",
    "\n",
    "La programación orientada a objetos (OOP) es uno de los paradigmas más importantes y extendidos en el desarrollo de software. Está diseñado para organizar el código en torno a **objetos**, que representan entidades del mundo real o conceptual con las que interactuamos mediante propiedades (**atributos**) y comportamientos (**métodos**).\n",
    "\n",
    "#### a. Conceptos Clave de la OOP\n",
    "\n",
    "1. **Clases**: \n",
    "   - Son plantillas o moldes para crear objetos. Una clase define los atributos y métodos que tendrán sus objetos.\n",
    "   - Ejemplo: Una clase `Auto` puede tener atributos como `marca` y `color` y métodos como `acelerar` o `frenar`.\n",
    "\n",
    "2. **Objetos**: \n",
    "   - Son instancias de una clase. Cada objeto tiene sus propios datos, pero todos comparten la estructura definida en la clase.\n",
    "   - Ejemplo: Un objeto de la clase `Auto` sería un auto específico, como un \"Ford rojo\".\n",
    "\n",
    "3. **Encapsulamiento**: \n",
    "   - Es la capacidad de ocultar detalles internos de un objeto y exponer solo lo necesario. Esto mejora la seguridad y la modularidad del código.\n",
    "   - Ejemplo: El método `frenar` de un auto no necesita exponer cómo funcionan los frenos internamente.\n",
    "\n",
    "4. **Herencia**: \n",
    "   - Permite que una clase (subclase) reutilice y extienda las funcionalidades de otra clase (superclase).\n",
    "   - Ejemplo: Una clase `Camioneta` puede heredar de la clase `Auto`, pero agregar un atributo `carga_maxima`.\n",
    "\n",
    "5. **Polimorfismo**: \n",
    "   - Permite usar un mismo método o atributo en diferentes clases, adaptando su comportamiento según la clase específica.\n",
    "   - Ejemplo: Un método `acelerar` podría funcionar de manera distinta en un auto eléctrico y en uno a combustión.\n",
    "\n",
    "6. **Abstracción**: \n",
    "   - Es el proceso de simplificar sistemas complejos al centrarse solo en los detalles relevantes para el contexto.\n",
    "   - Ejemplo: Un cliente de una tienda no necesita saber cómo se gestiona internamente el inventario, solo interactúa con la interfaz de compra.\n",
    "\n",
    "#### b. ¿Es el paradigma más usado?\n",
    "\n",
    "La **OOP es uno de los paradigmas más usados**, pero no necesariamente el único ni siempre el más adecuado. Su popularidad se debe a varias razones:\n",
    "\n",
    "1. **Facilidad para modelar problemas del mundo real**: Las clases y objetos son intuitivos para representar entidades reales.\n",
    "2. **Mantenibilidad**: Gracias a conceptos como la encapsulación y la modularidad, el código es más fácil de mantener y escalar.\n",
    "3. **Soporte generalizado**: Lenguajes como Python, Java, C++, y C# están diseñados para trabajar con OOP.\n",
    "\n",
    "Sin embargo, no es el único paradigma, y en algunos contextos, otros enfoques pueden ser más efectivos:\n",
    "\n",
    "- **Programación funcional**: Se enfoca en funciones puras y el manejo de datos inmutables (usada en lenguajes como Haskell o Scala).\n",
    "- **Programación imperativa**: Se basa en instrucciones secuenciales para manipular el estado del programa.\n",
    "- **Programación declarativa**: Describe qué hacer, no cómo hacerlo (como SQL para bases de datos).\n",
    "\n",
    "\n",
    "#### c. Ventajas de la OOP\n",
    "\n",
    "- Modularidad: Divide el programa en partes independientes.\n",
    "- Reutilización: Las clases y métodos pueden reutilizarse en diferentes partes del código.\n",
    "- Facilidad para pruebas: Los objetos encapsulan el comportamiento, lo que simplifica las pruebas."
   ]
  },
  {
   "cell_type": "markdown",
   "metadata": {},
   "source": [
    "---\n",
    "\n",
    "### 2. Clases en Python\n",
    "\n",
    "#### a. La clase más simple en Python\n",
    "\n",
    "La clase más básica no necesita hacer nada. Usamos la palabra clave `class` y el cuerpo puede estar vacío usando `pass`:"
   ]
  },
  {
   "cell_type": "code",
   "execution_count": 1,
   "metadata": {},
   "outputs": [],
   "source": [
    "class Persona:\n",
    "    pass"
   ]
  },
  {
   "cell_type": "markdown",
   "metadata": {},
   "source": [
    "En este punto, `Persona` es solo un contenedor vacío. Podemos crear una instancia (objeto) de esta clase:"
   ]
  },
  {
   "cell_type": "code",
   "execution_count": 2,
   "metadata": {},
   "outputs": [
    {
     "name": "stdout",
     "output_type": "stream",
     "text": [
      "<__main__.Persona object at 0x10cd0bbc0>\n"
     ]
    }
   ],
   "source": [
    "persona1 = Persona()\n",
    "print(persona1)"
   ]
  },
  {
   "cell_type": "markdown",
   "metadata": {},
   "source": [
    "Aunque el objeto existe, no tiene atributos ni métodos.\n",
    "\n",
    "#### b. Agregando atributos \"al vuelo\"\n",
    "\n",
    "En Python, podemos agregar atributos a un objeto **después** de crearlo. Esto no es ideal para casos complejos, pero es útil para comprender cómo funcionan los objetos."
   ]
  },
  {
   "cell_type": "code",
   "execution_count": 3,
   "metadata": {},
   "outputs": [
    {
     "name": "stdout",
     "output_type": "stream",
     "text": [
      "José\n",
      "30\n"
     ]
    }
   ],
   "source": [
    "persona1.nombre = \"José\"\n",
    "persona1.edad = 30\n",
    "\n",
    "print(persona1.nombre)  # José\n",
    "print(persona1.edad)    # 30"
   ]
  },
  {
   "cell_type": "markdown",
   "metadata": {},
   "source": [
    "Aquí hemos agregado los atributos `nombre` y `edad` **dinámicamente**.\n",
    "\n",
    "#### c. Haciéndolo más estructurado con `__init__`\n",
    "\n",
    "Para no tener que agregar atributos al vuelo cada vez, usamos el método especial `__init__`. Este método se llama automáticamente cuando se crea un objeto y permite inicializar atributos."
   ]
  },
  {
   "cell_type": "code",
   "execution_count": 4,
   "metadata": {},
   "outputs": [],
   "source": [
    "class Persona:\n",
    "    def __init__(self, nombre, edad):\n",
    "        self.nombre = nombre\n",
    "        self.edad = edad"
   ]
  },
  {
   "cell_type": "markdown",
   "metadata": {},
   "source": [
    "Ahora creamos objetos con valores iniciales:"
   ]
  },
  {
   "cell_type": "code",
   "execution_count": 5,
   "metadata": {},
   "outputs": [
    {
     "name": "stdout",
     "output_type": "stream",
     "text": [
      "Ana\n",
      "25\n"
     ]
    }
   ],
   "source": [
    "persona2 = Persona(\"Ana\", 25)\n",
    "print(persona2.nombre)  # Ana\n",
    "print(persona2.edad)    # 25"
   ]
  },
  {
   "cell_type": "markdown",
   "metadata": {},
   "source": [
    "#### d. Agregando métodos\n",
    "\n",
    "Podemos incluir **métodos**, que son funciones dentro de la clase. Por ejemplo:"
   ]
  },
  {
   "cell_type": "code",
   "execution_count": 6,
   "metadata": {},
   "outputs": [],
   "source": [
    "class Persona:\n",
    "    def __init__(self, nombre, edad):\n",
    "        self.nombre = nombre\n",
    "        self.edad = edad\n",
    "\n",
    "    def saludar(self):\n",
    "        return f\"Hola, soy {self.nombre} y tengo {self.edad} años.\""
   ]
  },
  {
   "cell_type": "markdown",
   "metadata": {},
   "source": [
    "Usando el método:"
   ]
  },
  {
   "cell_type": "code",
   "execution_count": 7,
   "metadata": {},
   "outputs": [
    {
     "name": "stdout",
     "output_type": "stream",
     "text": [
      "Hola, soy Carlos y tengo 40 años.\n"
     ]
    }
   ],
   "source": [
    "persona3 = Persona(\"Carlos\", 40)\n",
    "print(persona3.saludar())"
   ]
  },
  {
   "cell_type": "markdown",
   "metadata": {},
   "source": [
    "---\n",
    "\n",
    "### 3. Propiedades privadas en Python\n",
    "\n",
    "En programación orientada a objetos, las **propiedades privadas** son atributos o métodos de una clase que están diseñados para ser inaccesibles desde fuera de la misma. Esto se utiliza para garantizar el **encapsulamiento**, es decir, proteger los datos internos de la manipulación directa.  \n",
    "\n",
    "En lenguajes como Java o C++, esto se implementa mediante modificadores de acceso como `private`, que impiden que un atributo o método sea accesible fuera de su clase. \n",
    "\n",
    "Sin embargo, en **Python no existe un sistema de propiedades realmente privadas**. En lugar de imponer restricciones estrictas, Python sigue una filosofía conocida como **\"We are all consenting adults here\"** (somos todos adultos responsables). Esto significa que el lenguaje confía en los desarrolladores para respetar las convenciones y no acceder a datos que están marcados como \"privados\".\n",
    "\n",
    "#### a. Convenciones para \"propiedades privadas\" en Python\n",
    "\n",
    "Python utiliza convenciones de nombres para señalar la intención de privacidad, aunque no impide técnicamente el acceso:\n",
    "\n",
    "1. **Un guion bajo (`_atributo`)**:\n",
    "   - Por convención, se utiliza un solo guion bajo al inicio de un nombre para indicar que un atributo o método es \"interno\" y no debería ser accedido desde fuera de la clase.\n",
    "   - **No es realmente privado**: Este atributo sigue siendo accesible, pero su uso externo se desaconseja."
   ]
  },
  {
   "cell_type": "code",
   "execution_count": 15,
   "metadata": {},
   "outputs": [],
   "source": [
    "class Ejemplo:\n",
    "    def __init__(self):\n",
    "        self._dato_privado = 42  # Convención de atributo privado"
   ]
  },
  {
   "cell_type": "markdown",
   "metadata": {},
   "source": [
    "2. **Doble guion bajo (`__atributo`)**:\n",
    "   - Python aplica un proceso llamado **name mangling** (enmarañamiento de nombres) a los atributos que comienzan con dos guiones bajos. Esto cambia el nombre del atributo internamente para hacerlo más difícil de acceder desde fuera de la clase.\n",
    "   - **No es realmente privado**: Aunque más difícil de acceder, el atributo sigue estando disponible si conoces el nombre interno modificado (`_NombreClase__atributo`)."
   ]
  },
  {
   "cell_type": "code",
   "execution_count": 16,
   "metadata": {},
   "outputs": [
    {
     "name": "stdout",
     "output_type": "stream",
     "text": [
      "42\n"
     ]
    }
   ],
   "source": [
    "class Ejemplo:\n",
    "    def __init__(self):\n",
    "        self.__dato_privado = 42\n",
    "\n",
    "obj = Ejemplo()\n",
    "# print(obj.__dato_privado)  # Esto genera un AttributeError\n",
    "print(obj._Ejemplo__dato_privado)  # Acceso indirecto al atributo"
   ]
  },
  {
   "cell_type": "markdown",
   "metadata": {},
   "source": [
    "#### b. ¿Por qué nada es realmente privado en Python?\n",
    "\n",
    "1. **Filosofía de Python**:\n",
    "   - Python fomenta la transparencia y la confianza en el código. En lugar de imponer restricciones, el lenguaje incentiva prácticas responsables mediante convenciones.\n",
    "\n",
    "2. **Acceso completo al objeto**:\n",
    "   - Mediante herramientas como `dir()` o reflección (reflection), puedes obtener una lista de todos los atributos y métodos de un objeto, incluyendo los que usan `__`.\n",
    "\n",
    "3. **Control de acceso no estrictamente necesario**:\n",
    "   - La encapsulación en Python se basa más en la intención que en restricciones técnicas. Si realmente necesitas privacidad estricta, se considera que quizás estás usando el enfoque equivocado para resolver tu problema.\n",
    "\n",
    "#### c. ¿Por qué usar propiedades \"privadas\"?\n",
    "\n",
    "Aunque no hay privacidad real, usar convenciones como `_atributo` o `__atributo` es útil porque:\n",
    "\n",
    "1. **Previenen conflictos de nombres**:\n",
    "   - Especialmente en clases heredadas, el enmarañamiento de nombres ayuda a evitar que una subclase accidentalmente sobrescriba atributos o métodos de una superclase.\n",
    "\n",
    "2. **Comunican intención**:\n",
    "   - Al marcar un atributo como privado, indicas claramente que otros desarrolladores no deberían usarlo directamente.\n",
    "\n",
    "3. **Permiten mayor control**:\n",
    "   - Puedes usar propiedades (`@property`) para acceder o modificar atributos internos de manera controlada."
   ]
  },
  {
   "cell_type": "markdown",
   "metadata": {},
   "source": [
    "---\n",
    "\n",
    "### 4. Introducción a los *Dunder Methods*\n",
    "\n",
    "Los *dunder methods* (abreviación de **double underscore methods**) son métodos especiales en Python que tienen dos guiones bajos al inicio y al final de su nombre, como `__init__`, `__str__` y `__repr__`. Estos métodos permiten personalizar el comportamiento de las clases en operaciones específicas, como crear objetos, representarlos como cadenas, realizar cálculos, entre otros.\n",
    "\n",
    "Por ejemplo:\n",
    "- `__init__`: Se ejecuta al crear una nueva instancia (constructor).\n",
    "- `__str__` y `__repr__`: Se utilizan para definir cómo debe representarse el objeto como texto.\n",
    "\n",
    "Los *dunder methods* hacen que tus clases sean más intuitivas y que se integren mejor con el lenguaje Python.\n",
    "\n",
    "#### a. Método `__repr__`\n",
    "\n",
    "- Propósito: Representación oficial del objeto.\n",
    "- Se utiliza principalmente para los desarrolladores y debe ser lo más informativa y detallada posible.\n",
    "- Generalmente, su salida debería ser algo que, idealmente, permita reconstruir el objeto.\n",
    "\n",
    "Python lo utiliza cuando:\n",
    "- Llamas a `repr(objeto)` directamente.\n",
    "- Inspeccionas el objeto en la terminal o en un depurador.\n",
    "- El `__str__` no está definido, pero `__repr__` sí.\n"
   ]
  },
  {
   "cell_type": "code",
   "execution_count": null,
   "metadata": {},
   "outputs": [
    {
     "data": {
      "text/plain": [
       "Persona(nombre='Jairo', edad=30)"
      ]
     },
     "execution_count": 2,
     "metadata": {},
     "output_type": "execute_result"
    }
   ],
   "source": [
    "class Persona:\n",
    "    def __init__(self, nombre, edad):\n",
    "        self.nombre = nombre\n",
    "        self.edad = edad\n",
    "\n",
    "    def __repr__(self):\n",
    "        return f\"Persona(nombre='{self.nombre}', edad={self.edad})\"\n",
    "\n",
    "Persona(\"Jairo\", 30)"
   ]
  },
  {
   "cell_type": "markdown",
   "metadata": {},
   "source": [
    "#### b. Método `__str__`\n",
    "\n",
    "- Propósito: Representación informal o amigable para el usuario final.\n",
    "- Es ideal para mostrar datos importantes del objeto de una forma clara y sencilla.\n",
    "\n",
    "Python lo utiliza cuando:\n",
    "- Llamas a `print(objeto)` o a `str(objeto)`.\n",
    "- Necesitas una representación legible para el usuario."
   ]
  },
  {
   "cell_type": "code",
   "execution_count": 4,
   "metadata": {},
   "outputs": [
    {
     "name": "stdout",
     "output_type": "stream",
     "text": [
      "Jairo, 30 años\n"
     ]
    }
   ],
   "source": [
    "class Persona:\n",
    "    def __init__(self, nombre, edad):\n",
    "        self.nombre = nombre\n",
    "        self.edad = edad\n",
    "\n",
    "    def __str__(self):\n",
    "        return f\"{self.nombre}, {self.edad} años\"\n",
    "\n",
    "p = Persona(\"Jairo\", 30)\n",
    "print(p)"
   ]
  },
  {
   "cell_type": "markdown",
   "metadata": {},
   "source": [
    "#### c. Diferencias entre `__repr__` y `__str__`\n",
    "\n",
    "| Aspecto            | `__repr__`                             | `__str__`                      |\n",
    "|---------------------|----------------------------------------|---------------------------------|\n",
    "| **Propósito**       | Representación oficial (desarrollador) | Representación informal (usuario) |\n",
    "| **Usos comunes**    | Debugging, logs                       | Mensajes al usuario final       |\n",
    "| **Fallback**        | Si no hay `__str__`, usa `__repr__`   | Si no hay `__repr__`, NO usa `__str__` |\n",
    "\n",
    "#### d. Ejemplo combinando ambos"
   ]
  },
  {
   "cell_type": "code",
   "execution_count": 5,
   "metadata": {},
   "outputs": [
    {
     "name": "stdout",
     "output_type": "stream",
     "text": [
      "Persona(nombre='Jairo', edad=30)\n",
      "Jairo tiene 30 años.\n"
     ]
    }
   ],
   "source": [
    "class Persona:\n",
    "    def __init__(self, nombre, edad):\n",
    "        self.nombre = nombre\n",
    "        self.edad = edad\n",
    "\n",
    "    def __repr__(self):\n",
    "        return f\"Persona(nombre='{self.nombre}', edad={self.edad})\"\n",
    "\n",
    "    def __str__(self):\n",
    "        return f\"{self.nombre} tiene {self.edad} años.\"\n",
    "\n",
    "p = Persona(\"Jairo\", 30)\n",
    "\n",
    "print(repr(p))\n",
    "print(str(p))"
   ]
  },
  {
   "cell_type": "markdown",
   "metadata": {},
   "source": [
    "---\n",
    "\n",
    "### 5. Docstrings en clases\n",
    "\n",
    "Aquí un ejemplo completo de uso correcto de docstrings en clases."
   ]
  },
  {
   "cell_type": "code",
   "execution_count": 6,
   "metadata": {},
   "outputs": [],
   "source": [
    "from typing import Union\n",
    "\n",
    "class Calculadora:\n",
    "    \"\"\"\n",
    "    Una clase para realizar operaciones matemáticas básicas.\n",
    "\n",
    "    Esta clase proporciona métodos para sumar, restar, multiplicar \n",
    "    y dividir dos números. Incluye validación básica para evitar errores, \n",
    "    como la división por cero.\n",
    "\n",
    "    Atributos:\n",
    "        ultima_operacion (Union[str, None]): Guarda el tipo de la última operación realizada.\n",
    "    \"\"\"\n",
    "\n",
    "    def __init__(self) -> None:\n",
    "        \"\"\"\n",
    "        Inicializa una nueva instancia de la clase Calculadora.\n",
    "        \"\"\"\n",
    "        self.ultima_operacion: Union[str, None] = None\n",
    "\n",
    "    def sumar(self, a: Union[int, float], b: Union[int, float]) -> Union[int, float]:\n",
    "        \"\"\"\n",
    "        Retorna la suma de `a` y `b`.\n",
    "\n",
    "        Args:\n",
    "            a (Union[int, float]): El primer número.\n",
    "            b (Union[int, float]): El segundo número.\n",
    "\n",
    "        Returns:\n",
    "            Union[int, float]: La suma de `a` y `b`.\n",
    "        \"\"\"\n",
    "        self.ultima_operacion = \"suma\"\n",
    "        return a + b\n",
    "\n",
    "    def restar(self, a: Union[int, float], b: Union[int, float]) -> Union[int, float]:\n",
    "        \"\"\"\n",
    "        Retorna la resta de `a` y `b`.\n",
    "\n",
    "        Args:\n",
    "            a (Union[int, float]): El minuendo.\n",
    "            b (Union[int, float]): El sustraendo.\n",
    "\n",
    "        Returns:\n",
    "            Union[int, float]: La diferencia entre `a` y `b`.\n",
    "        \"\"\"\n",
    "        self.ultima_operacion = \"resta\"\n",
    "        return a - b\n",
    "\n",
    "    def multiplicar(self, a: Union[int, float], b: Union[int, float]) -> Union[int, float]:\n",
    "        \"\"\"\n",
    "        Retorna el producto de `a` y `b`.\n",
    "\n",
    "        Args:\n",
    "            a (Union[int, float]): El primer número.\n",
    "            b (Union[int, float]): El segundo número.\n",
    "\n",
    "        Returns:\n",
    "            Union[int, float]: El producto de `a` y `b`.\n",
    "        \"\"\"\n",
    "        self.ultima_operacion = \"multiplicación\"\n",
    "        return a * b\n",
    "\n",
    "    def dividir(self, a: Union[int, float], b: Union[int, float]) -> float:\n",
    "        \"\"\"\n",
    "        Retorna la división de `a` entre `b`.\n",
    "\n",
    "        Args:\n",
    "            a (Union[int, float]): El dividendo.\n",
    "            b (Union[int, float]): El divisor.\n",
    "\n",
    "        Returns:\n",
    "            float: El cociente de `a` dividido por `b`.\n",
    "\n",
    "        Raises:\n",
    "            ValueError: Si `b` es igual a cero.\n",
    "        \"\"\"\n",
    "        if b == 0:\n",
    "            raise ValueError(\"El divisor no puede ser cero.\")\n",
    "        self.ultima_operacion = \"división\"\n",
    "        return a / b\n"
   ]
  },
  {
   "cell_type": "markdown",
   "metadata": {},
   "source": [
    "---\n",
    "\n",
    "### 6. Introducción a Setters y Getters en Python\n",
    "\n",
    "En muchos lenguajes de programación, los **setters** y **getters** son métodos que se utilizan para controlar el acceso a los atributos de una clase. Por ejemplo, los métodos `get_` y `set_` permiten leer o modificar valores de forma controlada, protegiendo los datos de manipulaciones indebidas. \n",
    "\n",
    "En Python, aunque se pueden implementar métodos `get_` y `set_` manualmente, la filosofía de diseño del lenguaje favorece el uso de **propiedades** con el decorador `@property`. Esto permite definir métodos que parecen atributos al ser llamados, promoviendo un estilo de programación más limpio y más \"Pythonic\" (es decir, idiomático en Python).\n",
    "\n",
    "\n",
    "#### a. Ejemplo Clásico con `get_` y `set_`\n"
   ]
  },
  {
   "cell_type": "code",
   "execution_count": 7,
   "metadata": {},
   "outputs": [],
   "source": [
    "class Persona:\n",
    "    def __init__(self, nombre):\n",
    "        self._nombre = nombre  # Atributo privado\n",
    "\n",
    "    def get_nombre(self):\n",
    "        return self._nombre\n",
    "\n",
    "    def set_nombre(self, valor):\n",
    "        if not valor:\n",
    "            raise ValueError(\"El nombre no puede estar vacío\")\n",
    "        self._nombre = valor"
   ]
  },
  {
   "cell_type": "code",
   "execution_count": 8,
   "metadata": {},
   "outputs": [
    {
     "name": "stdout",
     "output_type": "stream",
     "text": [
      "Elo\n",
      "Ana\n"
     ]
    }
   ],
   "source": [
    "persona = Persona(\"Elo\")\n",
    "print(persona.get_nombre())\n",
    "persona.set_nombre(\"Ana\")\n",
    "print(persona.get_nombre())"
   ]
  },
  {
   "cell_type": "markdown",
   "metadata": {},
   "source": [
    "\n",
    "Aunque este enfoque funciona, es **verboso** y no se siente natural para quienes están acostumbrados al estilo simple de Python.\n",
    "\n",
    "#### b. La forma pythonic: `@property`\n",
    "\n",
    "Python introduce la función integrada `property` (o su forma decorativa `@property`) para reemplazar los métodos `get_` y `set_`. Esto permite definir comportamiento controlado al acceder o modificar atributos, sin cambiar la forma en que el atributo se usa.\n",
    "\n",
    "#### c. Ejemplo con `@property`"
   ]
  },
  {
   "cell_type": "code",
   "execution_count": 13,
   "metadata": {},
   "outputs": [],
   "source": [
    "class Persona:\n",
    "    def __init__(self, nombre: str):\n",
    "        self._nombre = nombre  # Atributo privado\n",
    "\n",
    "    @property\n",
    "    def nombre(self) -> str:\n",
    "        \"\"\"Getter para el nombre.\"\"\"\n",
    "        return self._nombre\n",
    "\n",
    "    @nombre.setter\n",
    "    def nombre(self, valor: str) -> None:\n",
    "        \"\"\"Setter para el nombre.\"\"\"\n",
    "        if not valor:\n",
    "            raise ValueError(\"El nombre no puede estar vacío\")\n",
    "        self._nombre = valor"
   ]
  },
  {
   "cell_type": "code",
   "execution_count": 14,
   "metadata": {},
   "outputs": [
    {
     "name": "stdout",
     "output_type": "stream",
     "text": [
      "Elo\n",
      "Ana\n"
     ]
    }
   ],
   "source": [
    "persona = Persona(\"Elo\")\n",
    "print(persona.nombre)\n",
    "persona.nombre = \"Ana\"  # Se llama al setter automáticamente\n",
    "print(persona.nombre)"
   ]
  },
  {
   "cell_type": "markdown",
   "metadata": {},
   "source": [
    "#### d. Ventajas de Usar `@property`\n",
    "\n",
    "1. **Simplicidad y claridad**:\n",
    "   - Con `@property`, el acceso a los atributos parece directo, como si fueran públicos, aunque están controlados internamente.\n",
    "   \n",
    "2. **Compatibilidad con código existente**:\n",
    "   - Si decides agregar lógica al acceso de un atributo después de que ya se usa como público, puedes convertirlo en una propiedad sin romper el código existente.\n",
    "\n",
    "3. **Estilo Pythonic**:\n",
    "   - La comunidad Python valora la legibilidad y simplicidad del código. La convención de no usar métodos `get_` y `set_` refuerza esta filosofía.\n",
    "\n",
    "4. **Encapsulación sin complicaciones**:\n",
    "   - Aunque se accede a los atributos como si fueran públicos, el uso de propiedades garantiza que puedes aplicar validaciones u otra lógica si es necesario.\n",
    "\n",
    "#### e. Cuándo Usar `@property`\n",
    "\n",
    "1. **Validación**:\n",
    "   Si necesitas validar o procesar datos antes de asignarlos.\n",
    "2. **Cálculos derivados**:\n",
    "   Para atributos cuyo valor depende de otros.\n",
    "3. **Mantener consistencia**:\n",
    "   Garantizar que los atributos tengan valores válidos sin exponerlos directamente.\n",
    "\n",
    "#### f. Contraste con Otros Lenguajes\n",
    "\n",
    "En lenguajes como Java o C++, los métodos `get_` y `set_` son comunes porque la sintaxis de esos lenguajes no soporta directamente el concepto de propiedades. En Python, la flexibilidad del decorador `@property` permite ocultar esta lógica detrás de una interfaz más simple y limpia."
   ]
  },
  {
   "cell_type": "markdown",
   "metadata": {},
   "source": [
    "---\n",
    "\n",
    "### 6. Ejercicios con clases\n",
    "\n",
    "#### a. Crea una clase Cuenta que permita depositar y retirar dinero."
   ]
  },
  {
   "cell_type": "code",
   "execution_count": null,
   "metadata": {},
   "outputs": [],
   "source": []
  },
  {
   "cell_type": "markdown",
   "metadata": {},
   "source": [
    "#### b. Implementa una clase Producto que lleve la cuenta de cuántas instancias se han creado."
   ]
  },
  {
   "cell_type": "code",
   "execution_count": null,
   "metadata": {},
   "outputs": [],
   "source": []
  },
  {
   "cell_type": "markdown",
   "metadata": {},
   "source": [
    "#### c. Crea una clase Persona que valide que la edad sea mayor que cero."
   ]
  },
  {
   "cell_type": "code",
   "execution_count": null,
   "metadata": {},
   "outputs": [],
   "source": []
  },
  {
   "cell_type": "markdown",
   "metadata": {},
   "source": [
    "#### d. Implementa el método `__str__` para mostrar información amigable de un objeto Persona."
   ]
  },
  {
   "cell_type": "code",
   "execution_count": null,
   "metadata": {},
   "outputs": [],
   "source": []
  },
  {
   "cell_type": "markdown",
   "metadata": {},
   "source": [
    "#### e. Implementa una clase Dado que permita tirar un dado de n caras. Luego maneja una serie de 3 dados usando una lista y genera los valores de cada dado iterando la lista."
   ]
  },
  {
   "cell_type": "code",
   "execution_count": null,
   "metadata": {},
   "outputs": [],
   "source": []
  },
  {
   "cell_type": "markdown",
   "metadata": {},
   "source": [
    "#### f. Crea una clase Estudiante que almacene el nombre y las calificaciones de un estudiante. Luego, crea una lista de objetos Estudiante y calcula el promedio de calificaciones de todos los estudiantes."
   ]
  },
  {
   "cell_type": "code",
   "execution_count": null,
   "metadata": {},
   "outputs": [],
   "source": []
  },
  {
   "cell_type": "markdown",
   "metadata": {},
   "source": [
    "#### g. Crea una clase Libro con atributos como título y autor, y una clase Biblioteca que gestione una lista de libros. Agrega métodos para añadir libros, eliminar libros por título y obtener todos los libros."
   ]
  },
  {
   "cell_type": "code",
   "execution_count": null,
   "metadata": {},
   "outputs": [],
   "source": [
    "\n"
   ]
  },
  {
   "cell_type": "markdown",
   "metadata": {},
   "source": [
    "#### h. Crea una clase Curso que gestione una lista de estudiantes y permita calcular el promedio del curso. Utiliza la clase Estudiante del ejercicio f."
   ]
  },
  {
   "cell_type": "code",
   "execution_count": null,
   "metadata": {},
   "outputs": [],
   "source": []
  },
  {
   "cell_type": "markdown",
   "metadata": {},
   "source": [
    "#### i. Crea una clase Auto y una clase Concesionaria para gestionar autos."
   ]
  },
  {
   "cell_type": "code",
   "execution_count": null,
   "metadata": {},
   "outputs": [],
   "source": [
    "\n"
   ]
  },
  {
   "cell_type": "markdown",
   "metadata": {},
   "source": [
    "#### j. Carrito de Compras\n",
    "\n",
    "Crea las siguientes clases:\n",
    "\n",
    "- Clase Producto:\n",
    "Representa un producto con nombre, precio y cantidad.\n",
    "\n",
    "- Clase Carrito:\n",
    "Representa el carrito de compras. Tendrá métodos para:\n",
    "\n",
    "  - Agregar productos al carrito.\n",
    "  - Eliminar productos por nombre.\n",
    "  - Calcular el total del carrito."
   ]
  },
  {
   "cell_type": "code",
   "execution_count": null,
   "metadata": {},
   "outputs": [],
   "source": []
  },
  {
   "cell_type": "markdown",
   "metadata": {},
   "source": [
    "---\n",
    "\n",
    "### 7. Ejercicios con ColabTurtlePlus\n",
    "\n",
    "[ColabTurtlePlus](https://larryriddle.agnesscott.org/ColabTurtlePlus/documentation2.html) es una biblioteca que permite usar una tortuga gráfica (similar a la que se utiliza en el entorno de **Logo**) para dibujar en Google Colab. Es una herramienta visual y divertida para enseñar conceptos de programación. \n",
    "\n",
    "Con `ColabTurtlePlus`, puedes crear y controlar múltiples tortugas, lo que significa que puedes tener varias tortugas en la misma pantalla, cada una realizando tareas independientes como dibujar diferentes formas o patrones.\n",
    "\n",
    "#### a. Instalación con `pip`"
   ]
  },
  {
   "cell_type": "code",
   "execution_count": null,
   "metadata": {},
   "outputs": [],
   "source": [
    "!pip install ColabTurtlePlus"
   ]
  },
  {
   "cell_type": "markdown",
   "metadata": {},
   "source": [
    "#### b. Uso básico\n",
    "\n",
    "- Se crea una tortuga con `Turtle()`.\n",
    "- Puedes usar métodos como `forward()`, `right()`, y `left()` para moverla y dibujar."
   ]
  },
  {
   "cell_type": "code",
   "execution_count": 67,
   "metadata": {},
   "outputs": [],
   "source": [
    "from ColabTurtlePlus.Turtle import Turtle, clearscreen, setup, speed, hideturtle\n",
    "\n",
    "clearscreen()\n",
    "setup(800, 500)\n",
    "speed(11)\n",
    "\n",
    "# Crear tortugas\n",
    "tortuga1 = Turtle()\n",
    "tortuga2 = Turtle()\n",
    "\n",
    "# Mover tortuga1\n",
    "tortuga1.forward(100)\n",
    "tortuga1.right(90)\n",
    "\n",
    "# Mover tortuga2\n",
    "tortuga2.left(45)\n",
    "tortuga2.forward(50)"
   ]
  },
  {
   "cell_type": "markdown",
   "metadata": {},
   "source": [
    "#### c. Ejemplo usando clases"
   ]
  },
  {
   "cell_type": "code",
   "execution_count": null,
   "metadata": {},
   "outputs": [],
   "source": [
    "from random import randint, choice\n",
    "\n",
    "clearscreen()\n",
    "setup(800, 500)\n",
    "hideturtle() # Tortuga por defecto\n",
    "speed(11)\n",
    "\n",
    "colors = ['red', 'green', 'blue', 'yellow', 'purple', 'cyan']\n",
    "\n",
    "class Tortuga:\n",
    "    def __init__(self, x, y):\n",
    "        self.tortuga = Turtle()\n",
    "        self.tortuga.jumpto(x, y)\n",
    "        self.tortuga.fillcolor(choice(colors))\n",
    "\n",
    "    def poligono_al_azar(self, largo: int) -> None:\n",
    "        lados = randint(3, 11)\n",
    "        print(f\"Dibujando polígono de {lados} lados\")\n",
    "        self.tortuga.begin_fill()\n",
    "        for _ in range(lados):\n",
    "            self.tortuga.forward(largo)\n",
    "            self.tortuga.right(360/lados)\n",
    "        self.tortuga.end_fill()\n",
    "\n",
    "tortugas = []\n",
    "for _ in range(10):\n",
    "    tortugas.append(Tortuga(randint(-300, 300), randint(-200, 200)))\n",
    "\n",
    "for t in tortugas:\n",
    "    t.poligono_al_azar(random.randint(10, 100))"
   ]
  }
 ],
 "metadata": {
  "kernelspec": {
   "display_name": ".env",
   "language": "python",
   "name": "python3"
  },
  "language_info": {
   "codemirror_mode": {
    "name": "ipython",
    "version": 3
   },
   "file_extension": ".py",
   "mimetype": "text/x-python",
   "name": "python",
   "nbconvert_exporter": "python",
   "pygments_lexer": "ipython3",
   "version": "3.12.7"
  }
 },
 "nbformat": 4,
 "nbformat_minor": 2
}
