{
 "cells": [
  {
   "cell_type": "markdown",
   "metadata": {},
   "source": [
    "# Clase 11: Programación Orientada a Objetos (OOP) - Encapsulamiento, Herencia y Sobrescritura de Métodos\n",
    "\n",
    "## Módulo 1: Encapsulamiento y herencia\n",
    "\n",
    "### 1. Encapsulamiento\n",
    "\n",
    "El **encapsulamiento** es un principio fundamental de la programación orientada a objetos (OOP) que implica restringir el acceso directo a ciertos atributos o métodos de un objeto. Esto ayuda a proteger los datos y evita que sean modificados accidentalmente desde fuera de la clase. \n",
    "\n",
    "En Python, los atributos o métodos pueden indicarse como \"privados\" utilizando el guion bajo doble `__`. Si bien en Python no existe una verdadera privacidad, esto sugiere que estos elementos no deberían ser accedidos desde fuera de la clase.\n",
    "\n",
    "#### Ejemplo de encapsulamiento:"
   ]
  },
  {
   "cell_type": "code",
   "execution_count": 3,
   "metadata": {},
   "outputs": [
    {
     "name": "stdout",
     "output_type": "stream",
     "text": [
      "500\n",
      "700\n",
      "600\n"
     ]
    }
   ],
   "source": [
    "class CuentaBancaria:\n",
    "    def __init__(self, saldo_inicial):\n",
    "        self.__saldo = saldo_inicial  # Atributo privado\n",
    "\n",
    "    # Método público para consultar el saldo\n",
    "    def consultar_saldo(self):\n",
    "        return self.__saldo\n",
    "\n",
    "    # Método público para depositar dinero\n",
    "    def depositar(self, monto):\n",
    "        if monto > 0:\n",
    "            self.__saldo += monto\n",
    "\n",
    "    # Método público para retirar dinero\n",
    "    def retirar(self, monto):\n",
    "        if monto <= self.__saldo:\n",
    "            self.__saldo -= monto\n",
    "        else:\n",
    "            print(\"Fondos insuficientes\")\n",
    "\n",
    "# Crear una cuenta bancaria\n",
    "cuenta = CuentaBancaria(500)\n",
    "\n",
    "# Consultar el saldo\n",
    "print(cuenta.consultar_saldo())  # Salida: 500\n",
    "\n",
    "# Intentar acceder directamente al saldo (esto no debería hacerse)\n",
    "# print(cuenta.__saldo)  # Producirá un AttributeError\n",
    "\n",
    "# Usar los métodos para modificar el saldo\n",
    "cuenta.depositar(200)\n",
    "print(cuenta.consultar_saldo())  # Salida: 700\n",
    "\n",
    "cuenta.retirar(100)\n",
    "print(cuenta.consultar_saldo())  # Salida: 600"
   ]
  },
  {
   "cell_type": "markdown",
   "metadata": {},
   "source": [
    "En este ejemplo, el atributo `__saldo` es privado y solo puede ser accedido y modificado a través de los métodos `consultar_saldo()`, `depositar()` y `retirar()`. Esto asegura que los cambios en el saldo siempre sean controlados.\n",
    "\n",
    "#### Ejercicio práctico:\n",
    "\n",
    "Crea una clase `CuentaInversion` con un atributo privado `__saldo`. Implementa métodos para consultar el saldo, realizar depósitos y retiros, y aplica una tasa de interés mensual sobre el saldo."
   ]
  },
  {
   "cell_type": "code",
   "execution_count": null,
   "metadata": {},
   "outputs": [],
   "source": []
  },
  {
   "cell_type": "markdown",
   "metadata": {},
   "source": [
    "### 2. Herencia\n",
    "\n",
    "La **herencia** es un mecanismo que permite a una clase (clase hija o derivada) heredar atributos y métodos de otra clase (clase padre o base). Esto facilita la reutilización de código y permite crear relaciones jerárquicas entre clases.\n",
    "\n",
    "#### Ejemplo básico de herencia:"
   ]
  },
  {
   "cell_type": "code",
   "execution_count": 2,
   "metadata": {},
   "outputs": [
    {
     "name": "stdout",
     "output_type": "stream",
     "text": [
      "Toyota Corolla está encendido.\n",
      "Toyota Corolla está tocando el claxon.\n"
     ]
    }
   ],
   "source": [
    "# Clase base\n",
    "class Vehiculo:\n",
    "    def __init__(self, marca, modelo):\n",
    "        self.marca = marca\n",
    "        self.modelo = modelo\n",
    "\n",
    "    def encender(self):\n",
    "        print(f\"{self.marca} {self.modelo} está encendido.\")\n",
    "\n",
    "# Clase derivada (hereda de Vehiculo)\n",
    "class Coche(Vehiculo):\n",
    "    def __init__(self, marca, modelo, puertas):\n",
    "        super().__init__(marca, modelo)  # Llamar al constructor de la clase base\n",
    "        self.puertas = puertas\n",
    "\n",
    "    def tocar_claxon(self):\n",
    "        print(f\"{self.marca} {self.modelo} está tocando el claxon.\")\n",
    "\n",
    "# Crear un objeto de la clase Coche\n",
    "mi_coche = Coche(\"Toyota\", \"Corolla\", 4)\n",
    "\n",
    "# Acceder a métodos y atributos heredados de Vehiculo\n",
    "mi_coche.encender()  # Salida: Toyota Corolla está encendido.\n",
    "\n",
    "# Acceder a métodos de la clase Coche\n",
    "mi_coche.tocar_claxon()  # Salida: Toyota Corolla está tocando el claxon."
   ]
  },
  {
   "cell_type": "markdown",
   "metadata": {},
   "source": [
    "En este ejemplo, la clase `Coche` hereda los atributos y métodos de la clase `Vehiculo`, lo que significa que puede usar el método `encender()` además de su propio método `tocar_claxon()`.\n",
    "\n",
    "#### Ejercicio práctico:\n",
    "\n",
    "Crea una clase `Electrodomestico` con atributos `marca` y `modelo`, y un método `encender()`. Luego, crea una clase derivada `Lavadora` que herede de `Electrodomestico` y añada un atributo `capacidad`. Implementa un método adicional en `Lavadora` para iniciar el lavado."
   ]
  },
  {
   "cell_type": "code",
   "execution_count": null,
   "metadata": {},
   "outputs": [],
   "source": []
  },
  {
   "cell_type": "markdown",
   "metadata": {},
   "source": [
    "---\n",
    "\n",
    "## Módulo 2: Sobrescritura de métodos\n",
    "\n",
    "### 1. Sobrescritura de métodos\n",
    "\n",
    "La **sobrescritura de métodos** (method overriding) permite que una clase derivada redefina un método heredado de su clase padre, cambiando su comportamiento o extendiéndolo. Esto es útil cuando la clase hija necesita implementar un comportamiento específico sin modificar la clase base.\n",
    "\n",
    "#### Ejemplo de sobrescritura de métodos:"
   ]
  },
  {
   "cell_type": "code",
   "execution_count": 1,
   "metadata": {},
   "outputs": [
    {
     "name": "stdout",
     "output_type": "stream",
     "text": [
      "Ana está programando en Python.\n"
     ]
    }
   ],
   "source": [
    "# Clase base\n",
    "class Trabajador:\n",
    "    def __init__(self, nombre):\n",
    "        self.nombre = nombre\n",
    "\n",
    "    def trabajar(self):\n",
    "        print(f\"{self.nombre} está trabajando.\")\n",
    "\n",
    "# Clase derivada (hereda de Trabajador)\n",
    "class Programador(Trabajador):\n",
    "    def __init__(self, nombre, lenguaje):\n",
    "        super().__init__(nombre)\n",
    "        self.lenguaje = lenguaje\n",
    "\n",
    "    # Sobrescribir el método trabajar\n",
    "    def trabajar(self):\n",
    "        print(f\"{self.nombre} está programando en {self.lenguaje}.\")\n",
    "\n",
    "# Crear un objeto de la clase Programador\n",
    "dev = Programador(\"Ana\", \"Python\")\n",
    "\n",
    "# Llamar al método sobrescrito\n",
    "dev.trabajar()  # Salida: Ana está programando en Python."
   ]
  },
  {
   "cell_type": "markdown",
   "metadata": {},
   "source": [
    "En este ejemplo, la clase `Programador` sobrescribe el método `trabajar()` de la clase `Trabajador` para proporcionar un comportamiento específico para los programadores.\n",
    "\n",
    "#### Ejemplo práctico:\n",
    "\n",
    "Sobrescribe el método `tocar_claxon()` en la clase `Coche` para que también imprima el número de puertas del coche cuando el claxon es tocado."
   ]
  },
  {
   "cell_type": "code",
   "execution_count": null,
   "metadata": {},
   "outputs": [],
   "source": []
  },
  {
   "cell_type": "markdown",
   "metadata": {},
   "source": [
    "#### 2. Uso del método de la clase padre en una clase hija\n",
    "\n",
    "A veces, cuando sobrescribimos un método, queremos extender el comportamiento de la clase base en lugar de reemplazarlo completamente. Para ello, podemos usar `super()` para llamar al método de la clase padre dentro del método sobrescrito.\n",
    "\n",
    "#### Ejemplo:"
   ]
  },
  {
   "cell_type": "code",
   "execution_count": null,
   "metadata": {},
   "outputs": [],
   "source": [
    "# Clase base\n",
    "class Animal:\n",
    "    def sonido(self):\n",
    "        print(\"El animal emite un sonido.\")\n",
    "\n",
    "# Clase derivada\n",
    "class Perro(Animal):\n",
    "    # Sobrescribir el método sonido\n",
    "    def sonido(self):\n",
    "        super().sonido()  # Llamar al método de la clase base\n",
    "        print(\"El perro ladra.\")\n",
    "\n",
    "# Crear un objeto de la clase Perro\n",
    "mi_perro = Perro()\n",
    "\n",
    "# Llamar al método sobrescrito\n",
    "mi_perro.sonido()\n",
    "# Salida:\n",
    "# El animal emite un sonido.\n",
    "# El perro ladra."
   ]
  },
  {
   "cell_type": "markdown",
   "metadata": {},
   "source": [
    "En este ejemplo, la clase `Perro` sobrescribe el método `sonido()` de la clase `Animal`, pero usa `super().sonido()` para conservar el comportamiento original y agregar un comportamiento específico.\n",
    "\n",
    "#### Ejercicio práctico:\n",
    "\n",
    "Define una clase `VehiculoElectrico` que herede de `Vehiculo` (ejemplo anterior) y sobrescriba el método `encender()` para imprimir que el vehículo eléctrico está encendido sin hacer ruido. Asegúrate de llamar también al método de la clase base para imprimir la información general del vehículo."
   ]
  },
  {
   "cell_type": "code",
   "execution_count": null,
   "metadata": {},
   "outputs": [],
   "source": []
  }
 ],
 "metadata": {
  "kernelspec": {
   "display_name": ".env",
   "language": "python",
   "name": "python3"
  },
  "language_info": {
   "codemirror_mode": {
    "name": "ipython",
    "version": 3
   },
   "file_extension": ".py",
   "mimetype": "text/x-python",
   "name": "python",
   "nbconvert_exporter": "python",
   "pygments_lexer": "ipython3",
   "version": "3.12.5"
  }
 },
 "nbformat": 4,
 "nbformat_minor": 2
}
