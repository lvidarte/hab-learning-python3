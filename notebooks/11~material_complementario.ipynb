{
 "cells": [
  {
   "cell_type": "markdown",
   "metadata": {},
   "source": [
    "# Clase 11: Material complementario\n",
    "\n",
    "### 1. Niveles de acceso en Python\n",
    "\n",
    "En Python, no existen niveles de acceso formales como en otros lenguajes orientados a objetos (por ejemplo, `private`, `protected`, `public`). Sin embargo, se puede manejar la visibilidad de los atributos y métodos usando convenciones de nombres:\n",
    "\n",
    "#### a. Público (Public)\n",
    "   - Todos los atributos y métodos que **no tienen un prefijo especial** son públicos.\n",
    "   - Se pueden acceder y modificar desde cualquier lugar."
   ]
  },
  {
   "cell_type": "code",
   "execution_count": 2,
   "metadata": {},
   "outputs": [
    {
     "name": "stdout",
     "output_type": "stream",
     "text": [
      "Soy accesible\n"
     ]
    }
   ],
   "source": [
    "class MiClase:\n",
    "    def __init__(self):\n",
    "        self.atributo_publico = \"Soy accesible\"\n",
    "       \n",
    "    def metodo_publico(self):\n",
    "        return \"Método público\"\n",
    "\n",
    "obj = MiClase()\n",
    "print(obj.atributo_publico)  # Funciona"
   ]
  },
  {
   "cell_type": "markdown",
   "metadata": {},
   "source": [
    "#### b. Protegido (Protected)\n",
    "   - Los atributos y métodos **con un guion bajo `_` al principio** se consideran protegidos **por convención**.\n",
    "   - Esto significa que **no deberían ser accedidos directamente desde fuera de la clase, pero es aceptable que las subclases los utilicen."
   ]
  },
  {
   "cell_type": "code",
   "execution_count": 5,
   "metadata": {},
   "outputs": [
    {
     "name": "stdout",
     "output_type": "stream",
     "text": [
      "Atributo protegido: no deberías accederlo por fuera de la clase.\n",
      "Método protegido: no deberías accederlo por fuera de la clase.\n"
     ]
    }
   ],
   "source": [
    "class MiClase:\n",
    "    def __init__(self):\n",
    "        self._atributo_protegido = \"Atributo protegido: no deberías accederlo por fuera de la clase.\"\n",
    "       \n",
    "    def _metodo_protegido(self):\n",
    "        return \"Método protegido: no deberías accederlo por fuera de la clase.\"\n",
    "\n",
    "obj = MiClase()\n",
    "print(obj._atributo_protegido)  # Aunque no es recomendado, es accesible\n",
    "print(obj._metodo_protegido())  # Misma situación aquí"
   ]
  },
  {
   "cell_type": "markdown",
   "metadata": {},
   "source": [
    "#### c. Privado (Private)\n",
    "   - Los atributos y métodos **con dos guiones bajos `__` al principio** se consideran privados y **no deberían ser accedidos por fuera de la clase ni tampoco por subclases**.\n",
    "   - Python utiliza un mecanismo llamado **name mangling** para renombrar estos atributos y evitar el acceso directo desde fuera de la clase.\n",
    "   - Sin embargo, siguen siendo accesibles de forma indirecta."
   ]
  },
  {
   "cell_type": "code",
   "execution_count": null,
   "metadata": {},
   "outputs": [],
   "source": [
    "class MiClase:\n",
    "    def __init__(self):\n",
    "        self.__atributo_privado = \"Acceso restringido\"\n",
    "       \n",
    "    def __metodo_privado(self):\n",
    "        return \"Método privado\"\n",
    "       \n",
    "    def acceso_indirecto(self):\n",
    "        return self.__atributo_privado\n",
    "\n",
    "obj = MiClase()\n",
    "# print(obj.__atributo_privado)  # Error\n",
    "print(obj.acceso_indirecto())   # Funciona\n",
    "print(obj._MiClase__atributo_privado)  # Técnicamente posible por name mangling"
   ]
  },
  {
   "cell_type": "markdown",
   "metadata": {},
   "source": [
    "#### d. Uso de métodos y atributos protegidos en la clase hija\n",
    "\n",
    "Auí se muestra cómo las subclases pueden usar atributos y métodos protegidos de manera apropiada mientras siguen las convenciones de Python."
   ]
  },
  {
   "cell_type": "code",
   "execution_count": 43,
   "metadata": {},
   "outputs": [],
   "source": [
    "class Empleado:\n",
    "    def __init__(self, nombre: str, salario: float) -> None:\n",
    "        self.nombre = nombre      # Atributo público\n",
    "        self.__salario = salario  # Atributo privado\n",
    "\n",
    "    def salario(self) -> float:\n",
    "        return self.__salario\n",
    "   \n",
    "    def salario_total(self) -> float:\n",
    "        return self.__salario + self._bono()\n",
    "\n",
    "    def _bono(self, porcentaje=0.1):  # Método protegido\n",
    "        return self.__salario * porcentaje\n",
    "\n",
    "    def __str__(self):\n",
    "        return f\"Empleado(nombre={self.nombre}, salario={self.__salario})\"\n",
    "\n",
    "\n",
    "class Gerente(Empleado):\n",
    "    def __init__(self, nombre: str, salario: float, equipo: list[Empleado]) -> None:\n",
    "        super().__init__(nombre, salario)\n",
    "        self.equipo = equipo  # Lista de empleados a cargo\n",
    "\n",
    "    def salario_total(self) -> float:\n",
    "        return self.salario() + self._bono(0.2) # Uso del método público y el protegido\n",
    "\n",
    "    def __str__(self):\n",
    "        return f\"Gerente(nombre={self.nombre}, salario={self.salario()}, empleados_a_cargo={len(self.equipo)})\"\n"
   ]
  },
  {
   "cell_type": "code",
   "execution_count": 29,
   "metadata": {},
   "outputs": [
    {
     "name": "stdout",
     "output_type": "stream",
     "text": [
      "Empleado(nombre=Juan, salario=5000)\n",
      "Empleado(nombre=Carlos, salario=4500)\n",
      "Empleado(nombre=Ana, salario=5500)\n"
     ]
    }
   ],
   "source": [
    "equipo = [\n",
    "    Empleado(\"Juan\", 5000),\n",
    "    Empleado(\"Carlos\", 4500),\n",
    "    Empleado(\"Ana\", 5500),\n",
    "]\n",
    "\n",
    "for empleado in equipo:\n",
    "    print(empleado)"
   ]
  },
  {
   "cell_type": "code",
   "execution_count": 30,
   "metadata": {},
   "outputs": [
    {
     "name": "stdout",
     "output_type": "stream",
     "text": [
      "Gerente(nombre=María, salario=7000, empleados_a_cargo=3)\n"
     ]
    }
   ],
   "source": [
    "gerente = Gerente(\"María\", 7000, equipo)\n",
    "print(gerente)"
   ]
  },
  {
   "cell_type": "code",
   "execution_count": 44,
   "metadata": {},
   "outputs": [
    {
     "name": "stdout",
     "output_type": "stream",
     "text": [
      "| Empleado | Salario Base | Salario Total |\n",
      "|----------|--------------|---------------|\n",
      "| Juan     | $   5,000.00 | $    5,500.00 |\n",
      "| Carlos   | $   4,500.00 | $    4,950.00 |\n",
      "| Ana      | $   5,500.00 | $    6,050.00 |\n",
      "| María    | $   7,000.00 | $    8,400.00 |\n"
     ]
    }
   ],
   "source": [
    "empleados = equipo + [gerente]\n",
    "\n",
    "print(\"| Empleado | Salario Base | Salario Total |\")\n",
    "print(\"|----------|--------------|---------------|\")\n",
    "for empleado in empleados:\n",
    "    print(f\"| {empleado.nombre:<8} | ${empleado.salario():11,.2f} | ${empleado.salario_total():12,.2f} |\")"
   ]
  },
  {
   "cell_type": "markdown",
   "metadata": {},
   "source": [
    "#### e. Resumen rápido:\n",
    "\n",
    "| **Nivel de acceso** | **Convención**        | **Accesibilidad**                                       |\n",
    "|----------------------|-----------------------|---------------------------------------------------------|\n",
    "| **Público**          | Sin prefijo          | Totalmente accesible desde cualquier lugar             |\n",
    "| **Protegido**        | `_nombre`            | Accesible, pero desaconsejado fuera de la clase o subclase|\n",
    "| **Privado**          | `__nombre`           | Accesible indirectamente, pero desaconsejado fuera de la clase|\n",
    "\n",
    "Esto es una **convención** y no una restricción estricta. En Python se confía en la responsabilidad del programador."
   ]
  },
  {
   "cell_type": "markdown",
   "metadata": {},
   "source": [
    "---\n",
    "\n",
    "### 3. Polimorfismo en Python\n",
    "\n",
    "Python implementa el polimorfismo de forma natural debido a su naturaleza **dinámica** y basada en **duck typing** (si un objeto \"actúa\" como un pato, se le trata como un pato).\n",
    "\n",
    "#### a. Tipos de polimorfismo en Python\n",
    "\n",
    "1. **Polimorfismo de métodos (sobrescritura):**\n",
    "   - Las clases hijas pueden sobrescribir métodos de la clase padre para proporcionar un comportamiento específico.\n",
    "   \n",
    "2. **Polimorfismo con funciones y objetos:**\n",
    "   - Un mismo método o función puede trabajar con diferentes tipos de objetos, siempre que tengan la interfaz adecuada.\n",
    "\n",
    "3. **Polimorfismo basado en duck typing:**\n",
    "   - En Python, no importa el tipo exacto de un objeto, sino si tiene los métodos o atributos necesarios.\n",
    "\n",
    "#### b. Polimorfismo con herencia"
   ]
  },
  {
   "cell_type": "code",
   "execution_count": 45,
   "metadata": {},
   "outputs": [
    {
     "name": "stdout",
     "output_type": "stream",
     "text": [
      "Guau\n",
      "Miau\n"
     ]
    }
   ],
   "source": [
    "class Animal:\n",
    "    def hacer_sonido(self):\n",
    "        raise NotImplementedError(\"Este método debe ser implementado por una subclase\")\n",
    "\n",
    "class Perro(Animal):\n",
    "    def hacer_sonido(self):\n",
    "        return \"Guau\"\n",
    "\n",
    "class Gato(Animal):\n",
    "    def hacer_sonido(self):\n",
    "        return \"Miau\"\n",
    "\n",
    "# Uso polimórfico\n",
    "animales = [Perro(), Gato()]\n",
    "\n",
    "for animal in animales:\n",
    "    print(animal.hacer_sonido())  # Salida: \"Guau\" y \"Miau\""
   ]
  },
  {
   "cell_type": "markdown",
   "metadata": {},
   "source": [
    "Aquí, el método `hacer_sonido` se comporta de manera distinta dependiendo de si el objeto es un **Perro** o un **Gato**.\n",
    "\n",
    "#### c. Duck typing"
   ]
  },
  {
   "cell_type": "code",
   "execution_count": 46,
   "metadata": {},
   "outputs": [
    {
     "name": "stdout",
     "output_type": "stream",
     "text": [
      "Guau\n",
      "Bip bip\n"
     ]
    }
   ],
   "source": [
    "class Perro:\n",
    "    def hacer_sonido(self):\n",
    "        return \"Guau\"\n",
    "\n",
    "class Auto:\n",
    "    def hacer_sonido(self):\n",
    "        return \"Bip bip\"\n",
    "\n",
    "# Polimorfismo basado en la interfaz\n",
    "objetos = [Perro(), Auto()]\n",
    "\n",
    "for objeto in objetos:\n",
    "    print(objeto.hacer_sonido())  # Salida: \"Guau\" y \"Bip bip\""
   ]
  },
  {
   "cell_type": "markdown",
   "metadata": {},
   "source": [
    "En este ejemplo, ambos objetos tienen el método `hacer_sonido`, por lo que se tratan de la misma manera, **independientemente de sus tipos**.\n",
    "\n",
    "#### d. Ventajas del polimorfismo\n",
    "\n",
    "1. **Flexibilidad:** El código se adapta fácilmente a nuevos tipos de datos.\n",
    "2. **Reusabilidad:** Permite escribir funciones y métodos genéricos.\n",
    "3. **Extensibilidad:** Es fácil agregar nuevas clases sin modificar el código existente."
   ]
  },
  {
   "cell_type": "markdown",
   "metadata": {},
   "source": [
    "---\n",
    "\n",
    "### 3. Sobrecarga de métodos en Python\n",
    "\n",
    "La **sobrecarga de métodos** es un tipo de polimorfismo, y se refiere a la capacidad de definir múltiples métodos con el mismo nombre en una clase, pero con diferentes **firmas de método** (es decir, diferente número o tipo de argumentos).\n",
    "\n",
    "- **En Python:** Esto **no existe** como tal. Si defines dos métodos con el mismo nombre en una clase, el último sobrescribe al anterior, ya que Python no usa las firmas de método para diferenciarlos.\n",
    "\n",
    "#### a. Ejemplo de comportamiento en Python"
   ]
  },
  {
   "cell_type": "code",
   "execution_count": 47,
   "metadata": {},
   "outputs": [
    {
     "ename": "TypeError",
     "evalue": "Ejemplo.metodo() missing 1 required positional argument: 'y'",
     "output_type": "error",
     "traceback": [
      "\u001b[0;31m---------------------------------------------------------------------------\u001b[0m",
      "\u001b[0;31mTypeError\u001b[0m                                 Traceback (most recent call last)",
      "Cell \u001b[0;32mIn[47], line 10\u001b[0m\n\u001b[1;32m      7\u001b[0m         \u001b[38;5;28mprint\u001b[39m(\u001b[38;5;124mf\u001b[39m\u001b[38;5;124m\"\u001b[39m\u001b[38;5;124mDos argumentos: \u001b[39m\u001b[38;5;132;01m{\u001b[39;00mx\u001b[38;5;132;01m}\u001b[39;00m\u001b[38;5;124m, \u001b[39m\u001b[38;5;132;01m{\u001b[39;00my\u001b[38;5;132;01m}\u001b[39;00m\u001b[38;5;124m\"\u001b[39m)\n\u001b[1;32m      9\u001b[0m obj \u001b[38;5;241m=\u001b[39m Ejemplo()\n\u001b[0;32m---> 10\u001b[0m \u001b[43mobj\u001b[49m\u001b[38;5;241;43m.\u001b[39;49m\u001b[43mmetodo\u001b[49m\u001b[43m(\u001b[49m\u001b[38;5;241;43m1\u001b[39;49m\u001b[43m)\u001b[49m  \u001b[38;5;66;03m# Error: falta un argumento\u001b[39;00m\n",
      "\u001b[0;31mTypeError\u001b[0m: Ejemplo.metodo() missing 1 required positional argument: 'y'"
     ]
    }
   ],
   "source": [
    "class Ejemplo:\n",
    "    def metodo(self, x):\n",
    "        print(f\"Un argumento: {x}\")\n",
    "\n",
    "    # Sobreescribe al método anterior\n",
    "    def metodo(self, x, y):\n",
    "        print(f\"Dos argumentos: {x}, {y}\")\n",
    "\n",
    "obj = Ejemplo()\n",
    "obj.metodo(1)  # Error: falta un argumento"
   ]
  },
  {
   "cell_type": "markdown",
   "metadata": {},
   "source": [
    "El método con dos argumentos sobrescribe al método con uno, y el anterior queda inaccesible.\n",
    "\n",
    "#### b. Sustitución de métodos (Sobrescritura)\n",
    "\n",
    "Esto **sí está permitido** en Python y es la manera común de implementar polimorfismo a través de la herencia.\n",
    "\n",
    "- Una subclase puede sobrescribir un método de la clase padre para proporcionar un comportamiento específico."
   ]
  },
  {
   "cell_type": "code",
   "execution_count": 48,
   "metadata": {},
   "outputs": [
    {
     "name": "stdout",
     "output_type": "stream",
     "text": [
      "Hola desde la clase Hijo\n"
     ]
    }
   ],
   "source": [
    "class Padre:\n",
    "    def saludar(self):\n",
    "        return \"Hola desde la clase Padre\"\n",
    "\n",
    "class Hijo(Padre):\n",
    "    def saludar(self):\n",
    "        return \"Hola desde la clase Hijo\"\n",
    "\n",
    "objeto = Hijo()\n",
    "print(objeto.saludar())  # Salida: \"Hola desde la clase Hijo\""
   ]
  },
  {
   "cell_type": "markdown",
   "metadata": {},
   "source": [
    "Aquí, el método `saludar` en la subclase **Hijo** sobrescribe el de la clase **Padre**, y el objeto usa la implementación más específica.\n",
    "\n",
    "#### c. Simulación de sobrecarga en usando argumentos opcionales\n",
    "\n",
    "Aunque no hay sobrecarga de métodos de manera nativa, puedes simularla usando:\n",
    "\n",
    "- Los **Argumentos opcionales (`*args` y `**kwargs`):** permiten manejar diferentes números de argumentos en un mismo método."
   ]
  },
  {
   "cell_type": "code",
   "execution_count": 49,
   "metadata": {},
   "outputs": [
    {
     "name": "stdout",
     "output_type": "stream",
     "text": [
      "Un argumento: 1\n",
      "Dos argumentos: 1, 2\n"
     ]
    }
   ],
   "source": [
    "class Ejemplo:\n",
    "    def metodo(self, *args):\n",
    "        if len(args) == 1:\n",
    "            print(f\"Un argumento: {args[0]}\")\n",
    "        elif len(args) == 2:\n",
    "            print(f\"Dos argumentos: {args[0]}, {args[1]}\")\n",
    "\n",
    "obj = Ejemplo()\n",
    "obj.metodo(1)       # Un argumento: 1\n",
    "obj.metodo(1, 2)    # Dos argumentos: 1, 2"
   ]
  },
  {
   "cell_type": "markdown",
   "metadata": {},
   "source": [
    "#### d. Sobrecarga funcional (usando `@singledispatch`)\n",
    "\n",
    "Python permite sobrecargar funciones basadas en el tipo de argumento con el decorador `@singledispatch`."
   ]
  },
  {
   "cell_type": "code",
   "execution_count": 50,
   "metadata": {},
   "outputs": [
    {
     "name": "stdout",
     "output_type": "stream",
     "text": [
      "Procesando entero: 42\n",
      "Procesando cadena: Hola\n",
      "Tipo no soportado: <class 'float'>\n"
     ]
    }
   ],
   "source": [
    "from functools import singledispatch\n",
    "\n",
    "@singledispatch\n",
    "def procesar(valor):\n",
    "    print(f\"Tipo no soportado: {type(valor)}\")\n",
    "\n",
    "@procesar.register\n",
    "def _(valor: int):\n",
    "    print(f\"Procesando entero: {valor}\")\n",
    "\n",
    "@procesar.register\n",
    "def _(valor: str):\n",
    "    print(f\"Procesando cadena: {valor}\")\n",
    "\n",
    "procesar(42)    # Procesando entero: 42\n",
    "procesar(\"Hola\")  # Procesando cadena: Hola\n",
    "procesar(3.14)    # Tipo no soportado: <class 'float'>"
   ]
  },
  {
   "cell_type": "markdown",
   "metadata": {},
   "source": [
    "---\n",
    "\n",
    "### 4. Dataclases\n",
    "\n",
    "Las **dataclasses** (clases de datos) en Python son una funcionalidad introducida en Python 3.7 para simplificar la creación de clases que se utilizan principalmente para almacenar datos. En lugar de escribir manualmente constructores, métodos como `__repr__`, `__eq__`, y otros, las dataclasses permiten generarlos automáticamente, reduciendo la cantidad de código repetitivo y haciendo que el código sea más limpio y fácil de mantener.\n",
    "\n",
    "#### a. Características principales de las dataclasses\n",
    "\n",
    "1. **Reducción del código repetitivo**: \n",
    "   - No necesitas escribir un constructor `__init__` a mano para inicializar atributos.\n",
    "   - Métodos como `__repr__`, `__eq__`, y `__hash__` pueden ser generados automáticamente.\n",
    "\n",
    "2. **Definición sencilla**:\n",
    "   - Usan el decorador `@dataclass` para declarar que una clase es una dataclass.\n",
    "\n",
    "3. **Flexibilidad**:\n",
    "   - Puedes personalizar el comportamiento de los métodos generados.\n",
    "   - Soportan tipos de datos (type hints), pero no son obligatorios.\n",
    "\n",
    "4. **Valores predeterminados y campos opcionales**:\n",
    "   - Permiten establecer valores predeterminados para los atributos o configurarlos con `field`.\n",
    "\n",
    "#### b. Sintaxis básica"
   ]
  },
  {
   "cell_type": "code",
   "execution_count": 100,
   "metadata": {},
   "outputs": [
    {
     "name": "stdout",
     "output_type": "stream",
     "text": [
      "Persona(nombre='Juan', edad=30, ciudad='Sin especificar')\n"
     ]
    }
   ],
   "source": [
    "from dataclasses import dataclass\n",
    "\n",
    "@dataclass\n",
    "class Persona:\n",
    "    nombre: str\n",
    "    edad: int\n",
    "    ciudad: str = \"Sin especificar\"  # Valor por defecto\n",
    "\n",
    "# Uso\n",
    "persona = Persona(nombre=\"Juan\", edad=30)\n",
    "print(persona)"
   ]
  },
  {
   "cell_type": "markdown",
   "metadata": {},
   "source": [
    "#### c. Ventajas\n",
    "\n",
    "1. **Métodos generados automáticamente**:\n",
    "   - Se crean automáticamente `__init__`, `__repr__`, `__eq__`, y opcionalmente `__hash__`.\n",
    "2. **Comparación de objetos**:\n",
    "   - Dos objetos de la misma clase se comparan por el valor de sus atributos.\n",
    "3. **Soporte para inmutabilidad**:\n",
    "   - Puedes hacer que los atributos sean inmutables al usar `frozen=True`.\n",
    "\n",
    "#### d. Ejemplo con comparación automática"
   ]
  },
  {
   "cell_type": "code",
   "execution_count": 101,
   "metadata": {},
   "outputs": [
    {
     "name": "stdout",
     "output_type": "stream",
     "text": [
      "True\n"
     ]
    }
   ],
   "source": [
    "from dataclasses import dataclass\n",
    "\n",
    "@dataclass\n",
    "class Producto:\n",
    "    nombre: str\n",
    "    precio: float\n",
    "\n",
    "producto1 = Producto(nombre=\"Laptop\", precio=1000)\n",
    "producto2 = Producto(nombre=\"Laptop\", precio=1000)\n",
    "\n",
    "print(producto1 == producto2)"
   ]
  },
  {
   "cell_type": "markdown",
   "metadata": {},
   "source": [
    "#### e. Uso de `field` para personalización\n",
    "\n",
    "El método `field` permite configurar opciones avanzadas para los atributos de las dataclasses, como valores predeterminados calculados o exclusión de ciertos campos."
   ]
  },
  {
   "cell_type": "code",
   "execution_count": 102,
   "metadata": {},
   "outputs": [
    {
     "name": "stdout",
     "output_type": "stream",
     "text": [
      "Empleado(nombre='Ana', salario=50000, id=0, historial=[])\n"
     ]
    }
   ],
   "source": [
    "from dataclasses import dataclass, field\n",
    "\n",
    "@dataclass\n",
    "class Empleado:\n",
    "    nombre: str\n",
    "    salario: float\n",
    "    id: int = field(default=0)  # Valor predeterminado\n",
    "    historial: list = field(default_factory=list)  # Usa una función para el valor predeterminado\n",
    "\n",
    "# Uso\n",
    "empleado = Empleado(nombre=\"Ana\", salario=50000)\n",
    "print(empleado)"
   ]
  },
  {
   "cell_type": "markdown",
   "metadata": {},
   "source": [
    "#### f. Dataclasses inmutables\n",
    "\n",
    "Usa el parámetro `frozen=True` para crear dataclasses inmutables."
   ]
  },
  {
   "cell_type": "code",
   "execution_count": 105,
   "metadata": {},
   "outputs": [
    {
     "name": "stdout",
     "output_type": "stream",
     "text": [
      "cannot assign to field 'x'\n"
     ]
    }
   ],
   "source": [
    "from dataclasses import dataclass, FrozenInstanceError\n",
    "\n",
    "@dataclass(frozen=True)\n",
    "class Punto:\n",
    "    x: int\n",
    "    y: int\n",
    "\n",
    "punto = Punto(10, 20)\n",
    "\n",
    "try:\n",
    "    punto.x = 5\n",
    "except FrozenInstanceError as e:\n",
    "    print(e)"
   ]
  },
  {
   "cell_type": "markdown",
   "metadata": {},
   "source": [
    "---\n",
    "\n",
    "### 5. Ejercicios con clases\n",
    "\n",
    "\n",
    "#### a. **Sistema de notificaciones:** Crea una clase base `Notificacion` con un método `enviar`. Implementa subclases como `Email`, `SMS` y `PushNotification`."
   ]
  },
  {
   "cell_type": "code",
   "execution_count": 106,
   "metadata": {},
   "outputs": [
    {
     "name": "stdout",
     "output_type": "stream",
     "text": [
      "Enviando email: ¡Hola!\n",
      "Enviando SMS: ¡Hola!\n",
      "Enviando notificación push: ¡Hola!\n"
     ]
    }
   ],
   "source": [
    "class Notificacion:\n",
    "    def enviar(self, mensaje):\n",
    "        raise NotImplementedError(\"Debe ser implementado por la subclase\")\n",
    "\n",
    "class Email(Notificacion):\n",
    "    def enviar(self, mensaje):\n",
    "        return f\"Enviando email: {mensaje}\"\n",
    "\n",
    "class SMS(Notificacion):\n",
    "    def enviar(self, mensaje):\n",
    "        return f\"Enviando SMS: {mensaje}\"\n",
    "\n",
    "class PushNotification(Notificacion):\n",
    "    def enviar(self, mensaje):\n",
    "        return f\"Enviando notificación push: {mensaje}\"\n",
    "\n",
    "\n",
    "notificaciones = [Email(), SMS(), PushNotification()]\n",
    "for notificacion in notificaciones:\n",
    "    print(notificacion.enviar(\"¡Hola!\"))"
   ]
  },
  {
   "cell_type": "markdown",
   "metadata": {},
   "source": [
    "#### b. **Gestión de una biblioteca:** Crea una clase base `Material` con atributos comunes (título, autor) y métodos como `informacion`. Luego, define subclases `Libro`, `Revista` y `DVD`."
   ]
  },
  {
   "cell_type": "code",
   "execution_count": 108,
   "metadata": {},
   "outputs": [
    {
     "name": "stdout",
     "output_type": "stream",
     "text": [
      "Libro: 1984 por George Orwell\n",
      "Revista: Science Monthly por Varios\n",
      "DVD: Inception, dirigido por Christopher Nolan\n"
     ]
    }
   ],
   "source": [
    "class Material:\n",
    "    def __init__(self, titulo, autor):\n",
    "        self.titulo = titulo\n",
    "        self.autor = autor\n",
    "\n",
    "    def informacion(self):\n",
    "        raise NotImplementedError(\"Debe ser implementado por la subclase\")\n",
    "\n",
    "\n",
    "class Libro(Material):\n",
    "    def informacion(self):\n",
    "        return f\"Libro: {self.titulo} por {self.autor}\"\n",
    "\n",
    "class Revista(Material):\n",
    "    def informacion(self):\n",
    "        return f\"Revista: {self.titulo} por {self.autor}\"\n",
    "\n",
    "class DVD(Material):\n",
    "    def informacion(self):\n",
    "        return f\"DVD: {self.titulo}, dirigido por {self.autor}\"\n",
    "\n",
    "\n",
    "materiales = [\n",
    "    Libro(\"1984\", \"George Orwell\"),\n",
    "    Revista(\"Science Monthly\", \"Varios\"),\n",
    "    DVD(\"Inception\", \"Christopher Nolan\"),\n",
    "]\n",
    "\n",
    "for material in materiales:\n",
    "    print(material.informacion())"
   ]
  },
  {
   "cell_type": "markdown",
   "metadata": {},
   "source": [
    "#### c. **Tienda online:** Crea una clase base `Usuario` con un método `descuento`. Implementa subclases como `UsuarioPremium` y `UsuarioRegular` donde el usuario premium tenga un 20% de descuento."
   ]
  },
  {
   "cell_type": "code",
   "execution_count": 107,
   "metadata": {},
   "outputs": [
    {
     "name": "stdout",
     "output_type": "stream",
     "text": [
      "Juan paga: $800.0\n",
      "Ana paga: $500\n"
     ]
    }
   ],
   "source": [
    "class Usuario:\n",
    "    def __init__(self, nombre, total_compra):\n",
    "        self.nombre = nombre\n",
    "        self.total_compra = total_compra\n",
    "\n",
    "    def descuento(self):\n",
    "        raise NotImplementedError(\"Debe ser implementado por la subclase\")\n",
    "\n",
    "\n",
    "class UsuarioPremium(Usuario):\n",
    "    def descuento(self):\n",
    "        return self.total_compra * 0.80  # 20% de descuento\n",
    "\n",
    "class UsuarioRegular(Usuario):\n",
    "    def descuento(self):\n",
    "        return self.total_compra  # Sin descuento\n",
    "\n",
    "\n",
    "usuarios = [UsuarioPremium(\"Juan\", 1000), UsuarioRegular(\"Ana\", 500)]\n",
    "for usuario in usuarios:\n",
    "    print(f\"{usuario.nombre} paga: ${usuario.descuento()}\")"
   ]
  },
  {
   "cell_type": "markdown",
   "metadata": {},
   "source": [
    "#### d. **Biblioteca extendida:** Agrega control de acceso a la clase `Material` para que ciertos atributos solo puedan ser leídos mediante un método público, no directamente."
   ]
  },
  {
   "cell_type": "code",
   "execution_count": 109,
   "metadata": {},
   "outputs": [
    {
     "name": "stdout",
     "output_type": "stream",
     "text": [
      "Libro -> Título: 1984, Autor: George Orwell\n"
     ]
    }
   ],
   "source": [
    "class Material:\n",
    "    def __init__(self, titulo, autor):\n",
    "        self.__titulo = titulo\n",
    "        self.__autor = autor\n",
    "\n",
    "    def get_informacion(self):\n",
    "        return f\"Título: {self.__titulo}, Autor: {self.__autor}\"\n",
    "\n",
    "\n",
    "class Libro(Material):\n",
    "    def get_informacion(self):\n",
    "        return f\"Libro -> {super().get_informacion()}\"\n",
    "\n",
    "\n",
    "libro = Libro(\"1984\", \"George Orwell\")\n",
    "print(libro.get_informacion())"
   ]
  },
  {
   "cell_type": "markdown",
   "metadata": {},
   "source": [
    "#### e. **Inventario de vehículos:** Crea una clase base `Vehiculo` con métodos para obtener detalles y atributos protegidos. Define subclases como `Auto` y `Motocicleta`."
   ]
  },
  {
   "cell_type": "code",
   "execution_count": 110,
   "metadata": {},
   "outputs": [
    {
     "name": "stdout",
     "output_type": "stream",
     "text": [
      "Auto: Toyota, Modelo: Corolla\n",
      "Motocicleta: Yamaha, Modelo: FZ\n"
     ]
    }
   ],
   "source": [
    "class Vehiculo:\n",
    "    def __init__(self, marca, modelo):\n",
    "        self._marca = marca\n",
    "        self._modelo = modelo\n",
    "\n",
    "    def detalles(self):\n",
    "        raise NotImplementedError(\"Debe ser implementado por la subclase\")\n",
    "\n",
    "\n",
    "class Auto(Vehiculo):\n",
    "    def detalles(self):\n",
    "        return f\"Auto: {self._marca}, Modelo: {self._modelo}\"\n",
    "\n",
    "class Motocicleta(Vehiculo):\n",
    "    def detalles(self):\n",
    "        return f\"Motocicleta: {self._marca}, Modelo: {self._modelo}\"\n",
    "\n",
    "\n",
    "vehiculos = [\n",
    "    Auto(\"Toyota\", \"Corolla\"),\n",
    "    Motocicleta(\"Yamaha\", \"FZ\"),\n",
    "]\n",
    "\n",
    "for vehiculo in vehiculos:\n",
    "    print(vehiculo.detalles())"
   ]
  },
  {
   "cell_type": "markdown",
   "metadata": {},
   "source": [
    "#### f. **Animales abstractos:** Crea una clase `Animal` que sea abstracta y define subclases como `Perro` y `Pez`, cada una con su propio método `hablar`."
   ]
  },
  {
   "cell_type": "code",
   "execution_count": 111,
   "metadata": {},
   "outputs": [
    {
     "name": "stdout",
     "output_type": "stream",
     "text": [
      "Guau\n",
      "Muuu\n"
     ]
    }
   ],
   "source": [
    "from abc import ABC, abstractmethod\n",
    "\n",
    "\n",
    "class Animal(ABC):\n",
    "    @abstractmethod\n",
    "    def hablar(self):\n",
    "        pass\n",
    "\n",
    "class Perro(Animal):\n",
    "    def hablar(self):\n",
    "        return \"Guau\"\n",
    "\n",
    "class Vaca(Animal):\n",
    "    def hablar(self):\n",
    "        return \"Muuu\"\n",
    "\n",
    "\n",
    "animales = [Perro(), Vaca()]\n",
    "for animal in animales:\n",
    "    print(animal.hablar())"
   ]
  },
  {
   "cell_type": "markdown",
   "metadata": {},
   "source": [
    "#### g. **Sistema de pagos avanzado:** Crea subclases de `MetodoDePago` con validaciones privadas para asegurarte de que los datos del usuario sean correctos."
   ]
  },
  {
   "cell_type": "code",
   "execution_count": 112,
   "metadata": {},
   "outputs": [
    {
     "name": "stdout",
     "output_type": "stream",
     "text": [
      "Pago exitoso con tarjeta\n"
     ]
    }
   ],
   "source": [
    "class MetodoDePago:\n",
    "    def __init__(self, usuario):\n",
    "        self.__usuario = usuario\n",
    "\n",
    "    def validar_usuario(self):\n",
    "        return len(self.__usuario) > 3\n",
    "\n",
    "    def pagar(self):\n",
    "        raise NotImplementedError(\"Debe ser implementado por la subclase\")\n",
    "\n",
    "\n",
    "class TarjetaCredito(MetodoDePago):\n",
    "    def pagar(self):\n",
    "        if self.validar_usuario():\n",
    "            return \"Pago exitoso con tarjeta\"\n",
    "        return \"Usuario no válido\"\n",
    "\n",
    "\n",
    "pago = TarjetaCredito(\"Diego\")\n",
    "print(pago.pagar())"
   ]
  },
  {
   "cell_type": "markdown",
   "metadata": {},
   "source": [
    "#### h. **Registro de dispositivos:** Crea una clase `Dispositivo` con atributos protegidos. Implementa subclases como `Laptop` y `Tablet` que amplíen su funcionalidad."
   ]
  },
  {
   "cell_type": "code",
   "execution_count": 114,
   "metadata": {},
   "outputs": [
    {
     "name": "stdout",
     "output_type": "stream",
     "text": [
      "Laptop: Dell, XPS\n",
      "Tablet: Apple, iPad\n"
     ]
    }
   ],
   "source": [
    "class Dispositivo:\n",
    "    def __init__(self, marca, modelo):\n",
    "        self._marca = marca\n",
    "        self._modelo = modelo\n",
    "\n",
    "    def especificaciones(self):\n",
    "        raise NotImplementedError(\"Debe ser implementado por la subclase\")\n",
    "\n",
    "\n",
    "class Laptop(Dispositivo):\n",
    "    def especificaciones(self):\n",
    "        return f\"Laptop: {self._marca}, {self._modelo}\"\n",
    "\n",
    "class Tablet(Dispositivo):\n",
    "    def especificaciones(self):\n",
    "        return f\"Tablet: {self._marca}, {self._modelo}\"\n",
    "\n",
    "\n",
    "dispositivos = [Laptop(\"Dell\", \"XPS\"), Tablet(\"Apple\", \"iPad\")]\n",
    "for dispositivo in dispositivos:\n",
    "    print(dispositivo.especificaciones())"
   ]
  },
  {
   "cell_type": "markdown",
   "metadata": {},
   "source": [
    "\n",
    "#### i. **Sistema de autenticación multinivel:** Crea un sistema donde los usuarios tengan roles (`Admin`, `Editor`, `Viewer`) y permisos diferentes para acceder a ciertos recursos. Usa métodos protegidos y privados para manejar la autenticación.\n",
    "\n",
    "Requisitos:\n",
    "  1. Una clase base `Usuario` que maneje el login y roles.\n",
    "  2. Subclases con métodos específicos según el rol."
   ]
  },
  {
   "cell_type": "code",
   "execution_count": 97,
   "metadata": {},
   "outputs": [
    {
     "name": "stdout",
     "output_type": "stream",
     "text": [
      "Ana accedió al recurso con permiso 'escribir'.\n",
      "Luis accedió al recurso con permiso 'escribir'.\n",
      "Sofía no tiene permiso para escribir.\n"
     ]
    }
   ],
   "source": [
    "class Usuario:\n",
    "    def __init__(self, nombre, rol):\n",
    "        self.nombre = nombre\n",
    "        self._rol = rol\n",
    "\n",
    "    def _verificar_acceso(self, permiso):\n",
    "        permisos = {\n",
    "            \"Admin\": [\"leer\", \"escribir\", \"borrar\"],\n",
    "            \"Editor\": [\"leer\", \"escribir\"],\n",
    "            \"Viewer\": [\"leer\"]\n",
    "        }\n",
    "        return permiso in permisos.get(self._rol, [])\n",
    "\n",
    "    def acceder_recurso(self, permiso):\n",
    "        if not self._verificar_acceso(permiso):\n",
    "            raise PermissionError(f\"{self.nombre} no tiene permiso para {permiso}.\")\n",
    "        return f\"{self.nombre} accedió al recurso con permiso '{permiso}'.\"\n",
    "\n",
    "# Uso\n",
    "usuarios = [\n",
    "    Usuario(\"Ana\", \"Admin\"),\n",
    "    Usuario(\"Luis\", \"Editor\"),\n",
    "    Usuario(\"Sofía\", \"Viewer\")\n",
    "]\n",
    "for usuario in usuarios:\n",
    "    try:\n",
    "        print(usuario.acceder_recurso(\"escribir\"))\n",
    "    except PermissionError as e:\n",
    "        print(e)"
   ]
  },
  {
   "cell_type": "markdown",
   "metadata": {},
   "source": [
    "#### j. **Sistema de Evaluación con Ponderación:** Crea una dataclass `Evaluacion` que almacene las notas y ponderaciones de un estudiante. Calcula el promedio ponderado en una clase `CalculadoraPromedio`."
   ]
  },
  {
   "cell_type": "code",
   "execution_count": 116,
   "metadata": {},
   "outputs": [
    {
     "name": "stdout",
     "output_type": "stream",
     "text": [
      "Promedio ponderado: 8.60\n"
     ]
    }
   ],
   "source": [
    "from dataclasses import dataclass\n",
    "\n",
    "@dataclass\n",
    "class Evaluacion:\n",
    "    nombre: str\n",
    "    nota: float\n",
    "    ponderacion: float\n",
    "\n",
    "class CalculadoraPromedio:\n",
    "    def __init__(self, evaluaciones):\n",
    "        self.__evaluaciones = evaluaciones\n",
    "\n",
    "    def calcular_promedio(self):\n",
    "        total = sum(e.nota * e.ponderacion for e in self.__evaluaciones)\n",
    "        peso_total = sum(e.ponderacion for e in self.__evaluaciones)\n",
    "        return total / peso_total if peso_total != 0 else 0\n",
    "\n",
    "# Uso\n",
    "evaluaciones = [\n",
    "    Evaluacion(\"Parcial 1\", 8, 0.4),\n",
    "    Evaluacion(\"Parcial 2\", 9, 0.6)\n",
    "]\n",
    "calculadora = CalculadoraPromedio(evaluaciones)\n",
    "print(f\"Promedio ponderado: {calculadora.calcular_promedio():.2f}\")\n"
   ]
  }
 ],
 "metadata": {
  "kernelspec": {
   "display_name": ".env",
   "language": "python",
   "name": "python3"
  },
  "language_info": {
   "codemirror_mode": {
    "name": "ipython",
    "version": 3
   },
   "file_extension": ".py",
   "mimetype": "text/x-python",
   "name": "python",
   "nbconvert_exporter": "python",
   "pygments_lexer": "ipython3",
   "version": "3.12.7"
  }
 },
 "nbformat": 4,
 "nbformat_minor": 2
}
