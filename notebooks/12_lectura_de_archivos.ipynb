{
 "cells": [
  {
   "cell_type": "markdown",
   "metadata": {},
   "source": [
    "# Clase 12: Lectura y escritura de archivos y revisión de conceptos principales\n",
    "\n",
    "## Módulo 1: Lectura y escritura de archivos\n",
    "\n",
    "### 1. Lectura de archivos\n",
    "\n",
    "En Python, se pueden leer archivos utilizando la función `open()` en combinación con varios modos de apertura. El modo más común es el modo de lectura (`\"r\"`), que permite abrir un archivo y leer su contenido.\n",
    "\n",
    "#### a. Lectura de un archivo de texto"
   ]
  },
  {
   "cell_type": "code",
   "execution_count": 3,
   "metadata": {},
   "outputs": [
    {
     "name": "stdout",
     "output_type": "stream",
     "text": [
      "Esta es una nueva línea de texto.\n",
      "Se añadirá esta segunda línea.\n",
      "\n"
     ]
    }
   ],
   "source": [
    "# Abrir un archivo en modo lectura\n",
    "try:\n",
    "    with open(\"archivo.txt\", \"r\") as archivo:\n",
    "        contenido = archivo.read()\n",
    "except FileNotFoundError as e:\n",
    "    print(e)\n",
    "else:\n",
    "    # Mostrar el contenido del archivo\n",
    "    print(contenido)"
   ]
  },
  {
   "cell_type": "markdown",
   "metadata": {},
   "source": [
    "En este ejemplo, el archivo `archivo.txt` se abre en modo lectura (`\"r\"`), y su contenido se lee usando `read()`. Utilizamos `with` para asegurarnos de que el archivo se cierre automáticamente al final del bloque.\n",
    "\n",
    "#### b. Lectura línea por línea"
   ]
  },
  {
   "cell_type": "code",
   "execution_count": 4,
   "metadata": {},
   "outputs": [
    {
     "name": "stdout",
     "output_type": "stream",
     "text": [
      "Esta es una nueva línea de texto.\n",
      "Se añadirá esta segunda línea.\n"
     ]
    }
   ],
   "source": [
    "# Abrir el archivo y leerlo línea por línea\n",
    "with open(\"archivo.txt\", \"r\") as archivo:\n",
    "    for linea in archivo:\n",
    "        print(linea.strip())  # strip() elimina los saltos de línea al final de cada línea"
   ]
  },
  {
   "cell_type": "markdown",
   "metadata": {},
   "source": [
    "Aquí, el archivo se lee línea por línea usando un bucle `for`, lo que resulta útil para manejar archivos grandes.\n",
    "\n",
    "### 2. Escritura en archivos\n",
    "\n",
    "Para escribir en un archivo, se usa el modo de escritura (`\"w\"`) o el modo de añadir contenido (`\"a\"`). El modo `\"w\"` sobrescribirá el archivo si ya existe, mientras que `\"a\"` añadirá el nuevo contenido al final del archivo.\n",
    "\n",
    "#### a. Creación/Escritura de un archivo de texto"
   ]
  },
  {
   "cell_type": "code",
   "execution_count": 2,
   "metadata": {},
   "outputs": [],
   "source": [
    "# Escribir en un archivo (sobreescribir si ya existe)\n",
    "with open(\"archivo.txt\", \"w\") as archivo:\n",
    "    archivo.write(\"Esta es una nueva línea de texto.\\n\")\n",
    "    archivo.write(\"Se añadirá esta segunda línea.\\n\")"
   ]
  },
  {
   "cell_type": "markdown",
   "metadata": {},
   "source": [
    "Este código crea un archivo `archivo.txt` (o lo sobrescribe si ya existe) y escribe dos líneas de texto.\n",
    "\n",
    "### 3. Lectura y escritura de archivos CSV\n",
    "\n",
    "Python ofrece soporte nativo para manipular archivos CSV (valores separados por comas) a través del módulo `csv`.\n",
    "\n",
    "#### a. Lectura de un archivo CSV"
   ]
  },
  {
   "cell_type": "code",
   "execution_count": 2,
   "metadata": {},
   "outputs": [
    {
     "name": "stdout",
     "output_type": "stream",
     "text": [
      "['Nombre', 'Edad', 'Ciudad']\n",
      "['Ana', '28', 'Buenos Aires']\n",
      "['Carlos', '35', 'Córdoba']\n"
     ]
    }
   ],
   "source": [
    "import csv\n",
    "\n",
    "# Leer un archivo CSV\n",
    "with open(\"archivo.csv\", newline='') as archivo_csv:\n",
    "    lector = csv.reader(archivo_csv)\n",
    "    for fila in lector:\n",
    "        print(fila)"
   ]
  },
  {
   "cell_type": "markdown",
   "metadata": {},
   "source": [
    "Este ejemplo muestra cómo leer un archivo CSV y mostrar cada fila como una lista.\n",
    "\n",
    "#### b. Escritura en un archivo CSV"
   ]
  },
  {
   "cell_type": "code",
   "execution_count": 1,
   "metadata": {},
   "outputs": [],
   "source": [
    "import csv\n",
    "\n",
    "# Escribir en un archivo CSV\n",
    "with open(\"archivo.csv\", \"w\", newline='') as archivo_csv:\n",
    "    escritor = csv.writer(archivo_csv)\n",
    "    escritor.writerow([\"Nombre\", \"Edad\", \"Ciudad\"])\n",
    "    escritor.writerow([\"Ana\", 28, \"Buenos Aires\"])\n",
    "    escritor.writerow([\"Carlos\", 35, \"Córdoba\"])"
   ]
  },
  {
   "cell_type": "markdown",
   "metadata": {},
   "source": [
    "Aquí, se escribe un archivo CSV llamado `salida.csv` con tres columnas (`Nombre`, `Edad`, `Ciudad`) y dos filas de datos.\n",
    "\n",
    "#### c. Ejercicio práctico\n",
    "\n",
    "Crea un archivo `mi_inventario.csv` donde escribas una lista de productos con sus nombres, precios y cantidades. Luego, lee ese archivo y muestra los productos disponibles."
   ]
  },
  {
   "cell_type": "code",
   "execution_count": null,
   "metadata": {},
   "outputs": [],
   "source": []
  },
  {
   "cell_type": "markdown",
   "metadata": {},
   "source": [
    "---\n",
    "\n",
    "## Módulo 2: Revisión de conceptos principales\n",
    "\n",
    "### En este módulo, revisaremos los conceptos principales cubiertos a lo largo del curso:\n",
    "\n",
    "1. **Tipos de datos y estructuras de datos:**\n",
    "    - Tipos básicos (enteros, flotantes, cadenas).\n",
    "    - Estructuras como listas, tuplas, conjuntos y diccionarios.\n",
    "\n",
    "2. **Control de flujo:**\n",
    "    - Condicionales (`if`, `else`, `elif`).\n",
    "    - Bucles (`for`, `while`).\n",
    "\n",
    "3. **Funciones:**\n",
    "    - Creación de funciones, uso de parámetros y retorno de valores.\n",
    "    - Argumentos opcionales y alcance de variables.\n",
    "\n",
    "4. **Programación orientada a objetos:**\n",
    "    - Clases, objetos, atributos, métodos.\n",
    "    - Encapsulamiento, herencia y sobrescritura de métodos.\n",
    "\n",
    "5. **Manejo de errores y excepciones:**\n",
    "    - Uso de `try`, `except` para manejar errores de manera controlada.\n",
    "    - Creación de excepciones personalizadas.\n",
    "\n",
    "6. **Lectura y escritura de archivos:**\n",
    "    - Manipulación de archivos de texto y CSV.\n",
    "\n",
    "### Actividades finales:\n",
    "\n",
    "- **Discusión de dudas**: Abordar cualquier duda que quede pendiente sobre los temas tratados durante el curso.\n",
    "\n",
    "- **Ejercicio global**: Crear una pequeña aplicación en Python que lea un archivo CSV de productos, permita añadir o eliminar productos, y guarde los cambios en el mismo archivo."
   ]
  },
  {
   "cell_type": "code",
   "execution_count": null,
   "metadata": {},
   "outputs": [],
   "source": []
  }
 ],
 "metadata": {
  "kernelspec": {
   "display_name": ".env",
   "language": "python",
   "name": "python3"
  },
  "language_info": {
   "codemirror_mode": {
    "name": "ipython",
    "version": 3
   },
   "file_extension": ".py",
   "mimetype": "text/x-python",
   "name": "python",
   "nbconvert_exporter": "python",
   "pygments_lexer": "ipython3",
   "version": "3.12.7"
  }
 },
 "nbformat": 4,
 "nbformat_minor": 2
}
