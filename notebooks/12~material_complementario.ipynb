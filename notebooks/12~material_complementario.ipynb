{
 "cells": [
  {
   "cell_type": "markdown",
   "metadata": {},
   "source": [
    "# Clase 12: Material complementario\n",
    "\n",
    "### 1. Introducción a la lectura y escritura de archivos en Python\n",
    "\n",
    "Trabajar con archivos es una de las tareas comunes en cualquier lenguaje de programación, incluido Python. Python ofrece una interfaz simple y poderosa para leer y escribir archivos, aprovechando el sistema de archivos del sistema operativo subyacente. \n",
    "\n",
    "#### a. Concepto clave: Descriptores de archivo (File Descriptors)\n",
    "\n",
    "- Un **descriptor de archivo** es un identificador único que el sistema operativo utiliza para manejar un archivo abierto.\n",
    "- Cada vez que abres un archivo en Python, el sistema operativo asigna un descriptor a esa operación. Este descriptor permite realizar operaciones como leer, escribir o cerrar el archivo.\n",
    "- Sin embargo, los descriptores son un recurso limitado. Si no cierras los archivos abiertos, estos descriptores permanecen ocupados, lo que puede llevar a problemas como **fugas de recursos** o **errores por límites de archivos abiertos**.\n",
    "\n",
    "#### b. Por qué liberar recursos\n",
    "\n",
    "1. **Evitar fugas de recursos**: \n",
    "   - Cada archivo abierto consume un descriptor del sistema operativo. No cerrar los archivos puede causar un agotamiento de estos descriptores, lo que impacta el rendimiento.\n",
    "2. **Integridad de datos**:\n",
    "   - Escribir en un archivo y no cerrarlo adecuadamente puede provocar que los datos no se guarden correctamente, ya que los buffers internos del sistema operativo podrían no vaciarse.\n",
    "3. **Buenas prácticas de programación**:\n",
    "   - Liberar recursos ayuda a mantener tu aplicación eficiente y libre de errores.\n",
    "\n",
    "#### c. El bloque `with` en Python\n",
    "\n",
    "Python proporciona una forma sencilla y segura de manejar archivos utilizando el bloque `with`, que asegura que los recursos se liberen automáticamente al salir del bloque, incluso si ocurre una excepción. Sus ventajas son:\n",
    "\n",
    "- **Manejo automático de recursos**: No necesitas llamar manualmente a `close()`.\n",
    "- **Código más limpio**: Reduce el riesgo de olvidarte de cerrar un archivo.\n",
    "- **Seguridad**: Garantiza que el archivo se cierre, incluso si ocurre un error durante las operaciones.\n",
    "\n",
    "#### d. Abrir un archivo\n",
    "\n",
    "El método básico para abrir un archivo es la función `open()`. Su sintaxis:\n",
    "\n",
    "```python\n",
    "open(nombre_archivo, modo)\n",
    "```\n",
    "Donde `modo` puede ser:\n",
    "- `'r'`: Leer (por defecto).\n",
    "- `'w'`: Escribir (borra el contenido existente o crea el archivo si no existe).\n",
    "- `'a'`: Añadir al final del archivo.\n",
    "- `'b'`: Modo binario (se combina con otros modos, como `'rb'` o `'wb'`)."
   ]
  }
 ],
 "metadata": {
  "language_info": {
   "name": "python"
  }
 },
 "nbformat": 4,
 "nbformat_minor": 2
}
