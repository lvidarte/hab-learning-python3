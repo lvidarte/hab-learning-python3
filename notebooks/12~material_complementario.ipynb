{
 "cells": [
  {
   "cell_type": "markdown",
   "metadata": {},
   "source": [
    "# Clase 12: Material complementario\n",
    "\n",
    "### 1. Introducción a la lectura y escritura de archivos en Python\n",
    "\n",
    "Trabajar con archivos es una de las tareas comunes en cualquier lenguaje de programación, incluido Python. Python ofrece una interfaz simple y poderosa para leer y escribir archivos, aprovechando el sistema de archivos del sistema operativo subyacente. \n",
    "\n",
    "#### a. Concepto clave: Descriptores de archivo (File Descriptors)\n",
    "\n",
    "- Un **descriptor de archivo** es un identificador único que el sistema operativo utiliza para manejar un archivo abierto.\n",
    "- Cada vez que abres un archivo en Python, el sistema operativo asigna un descriptor a esa operación. Este descriptor permite realizar operaciones como leer, escribir o cerrar el archivo.\n",
    "- Sin embargo, los descriptores son un recurso limitado. Si no cierras los archivos abiertos, estos descriptores permanecen ocupados, lo que puede llevar a problemas como **fugas de recursos** o **errores por límites de archivos abiertos**.\n",
    "\n",
    "#### b. Por qué liberar recursos\n",
    "\n",
    "1. **Evitar fugas de recursos**: \n",
    "   - Cada archivo abierto consume un descriptor del sistema operativo. No cerrar los archivos puede causar un agotamiento de estos descriptores, lo que impacta el rendimiento.\n",
    "2. **Integridad de datos**:\n",
    "   - Escribir en un archivo y no cerrarlo adecuadamente puede provocar que los datos no se guarden correctamente, ya que los buffers internos del sistema operativo podrían no vaciarse.\n",
    "3. **Buenas prácticas de programación**:\n",
    "   - Liberar recursos ayuda a mantener tu aplicación eficiente y libre de errores.\n",
    "\n",
    "#### c. El bloque `with` en Python\n",
    "\n",
    "Python proporciona una forma sencilla y segura de manejar archivos utilizando el bloque `with`, que asegura que los recursos se liberen automáticamente al salir del bloque, incluso si ocurre una excepción. Sus ventajas son:\n",
    "\n",
    "- **Manejo automático de recursos**: No necesitas llamar manualmente a `close()`.\n",
    "- **Código más limpio**: Reduce el riesgo de olvidarte de cerrar un archivo.\n",
    "- **Seguridad**: Garantiza que el archivo se cierre, incluso si ocurre un error durante las operaciones.\n",
    "\n",
    "#### d. Abrir un archivo\n",
    "\n",
    "El método básico para abrir un archivo es la función `open()`. Su sintaxis:\n",
    "\n",
    "```python\n",
    "open(nombre_archivo, modo)\n",
    "```\n",
    "Donde `modo` puede ser:\n",
    "- `'r'`: Leer (por defecto).\n",
    "- `'w'`: Escribir (borra el contenido existente o crea el archivo si no existe).\n",
    "- `'a'`: Añadir al final del archivo.\n",
    "- `'b'`: Modo binario (se combina con otros modos, como `'rb'` o `'wb'`).\n",
    "\n",
    "#### e. Ver los archivos abiertos por un proceso en sistemas tipo unix (Linux/MacOS)\n",
    "\n",
    "Hagamos una prueba con el intérprete interactivo, en el cual abriremos un archivo para escritura, es decir, lo crearemos.\n",
    "\n",
    "```python\n",
    ">>> archivo = open(\"example.txt\", \"w\")\n",
    ">>> archivo.fileno() # Obtenemos su FD\n",
    "```\n",
    "\n",
    "En otra terminal usaremos `ps` (Process Status) para ver los procesos del usuario.\n",
    "\n",
    "```bash\n",
    "$ ps\n",
    "  PID TTY           TIME CMD\n",
    "13074 ttys006    0:00.08 /Library/Developer/CommandLineTools/Library/Frameworks/Python3.framework/Versions/3.9/Resources/Python.app/Contents/MacOS/Python\n",
    "```\n",
    "\n",
    "Con el PID del proceso (Identificador del proceso o Process ID) usaremos `lsof` (List Open Files) para ver los archivos abiertos por el proceso.\n",
    "\n",
    "```bash\n",
    "lsof -p 13074\n",
    "COMMAND   PID USER    FD  TYPE DEVICE SIZE/OFF     NODE NAME\n",
    "Python  13074  leo    2u   CHR   16,6    0t598      729 /dev/ttys006\n",
    "Python  13074  leo    3w   REG    1,7        5 74009293 /Users/leo/example.txt\n",
    "```\n",
    "\n",
    "`lsof` también nos muestra que la terminal tiene otro archivo abierto: `/dev/ttys006`, así que podemos usar `echo` para escribir en ese archivo y ver la salida en la misma terminal interactiva.\n",
    "\n",
    "```bash\n",
    "echo \"hola pythonistas\" >> /dev/ttys006\n",
    "```"
   ]
  },
  {
   "cell_type": "markdown",
   "metadata": {},
   "source": [
    "---\n",
    "\n",
    "### 2. Generación de un archivo de texto"
   ]
  },
  {
   "cell_type": "code",
   "execution_count": 48,
   "metadata": {},
   "outputs": [
    {
     "name": "stdout",
     "output_type": "stream",
     "text": [
      "Archivo 'datos.txt' generado con éxito.\n"
     ]
    }
   ],
   "source": [
    "archivo = \"datos.txt\"\n",
    "\n",
    "# Contenido del archivo\n",
    "contenido = \"\"\"\\\n",
    "Nombre,Edad,Profesión\n",
    "Ana,28,Ingeniera\n",
    "Carlos,34,Doctor\n",
    "Sofía,23,Estudiante\n",
    "Miguel,45,Profesor\n",
    "Lucía,29,Diseñadora\n",
    "\"\"\"\n",
    "\n",
    "# Crear el archivo\n",
    "with open(archivo, \"w\") as file:\n",
    "    file.write(contenido)\n",
    "\n",
    "print(f\"Archivo '{archivo}' generado con éxito.\")"
   ]
  },
  {
   "cell_type": "code",
   "execution_count": 49,
   "metadata": {},
   "outputs": [
    {
     "name": "stdout",
     "output_type": "stream",
     "text": [
      "Nombre\tEdad\tProfesión\n",
      "Ana\t28\tIngeniera\n",
      "Carlos\t34\tDoctor\n",
      "Sofía\t23\tEstudiante\n",
      "Miguel\t45\tProfesor\n",
      "Lucía\t29\tDiseñadora\n"
     ]
    }
   ],
   "source": [
    "with open(archivo, \"r\") as file:\n",
    "    for line in file.readlines():\n",
    "        print('\\t'.join(line.strip().split(',')))"
   ]
  },
  {
   "cell_type": "markdown",
   "metadata": {},
   "source": [
    "---\n",
    "\n",
    "### 3. Generación de un archivo csv\n",
    "\n",
    "- Documentación: [https://docs.python.org/es/3.9/library/csv.html](https://docs.python.org/es/3.9/library/csv.html)"
   ]
  },
  {
   "cell_type": "code",
   "execution_count": null,
   "metadata": {},
   "outputs": [
    {
     "name": "stdout",
     "output_type": "stream",
     "text": [
      "Archivo 'data.txt' generado con éxito.\n"
     ]
    }
   ],
   "source": [
    "import csv\n",
    "\n",
    "archivo= \"datos.csv\"\n",
    "\n",
    "# Datos a escribir en el archivo\n",
    "datos = [\n",
    "    [\"Nombre\", \"Edad\", \"Profesión\"],  # Encabezado\n",
    "    [\"Ana\", 28, \"Ingeniera\"],\n",
    "    [\"Carlos\", 34, \"Doctor\"],\n",
    "    [\"Sofía\", 23, \"Estudiante\"],\n",
    "    [\"Miguel\", 45, \"Profesor\"],\n",
    "    [\"Lucía\", 29, \"Diseñadora\"],\n",
    "]\n",
    "\n",
    "# Crear el archivo CSV y escribir los datos\n",
    "with open(archivo, mode=\"w\", newline=\"\") as file:\n",
    "    writer = csv.writer(file)\n",
    "    writer.writerows(datos)\n",
    "\n",
    "print(f\"Archivo '{archivo}' generado con éxito.\")"
   ]
  },
  {
   "cell_type": "markdown",
   "metadata": {},
   "source": [
    "---\n",
    "\n",
    "### 4. Lectura y escritura de archivos UTF-8 en Python\n",
    "\n",
    "#### a. Abrir archivos UTF-8\n",
    "\n",
    "Cuando trabajas con archivos que contienen texto en codificación UTF-8, es crucial especificar correctamente la codificación al abrir el archivo para evitar problemas con caracteres especiales. Python ofrece la función `open()` con un parámetro `encoding` que permite abrir archivos en la codificación deseada."
   ]
  },
  {
   "cell_type": "code",
   "execution_count": 8,
   "metadata": {},
   "outputs": [
    {
     "name": "stdout",
     "output_type": "stream",
     "text": [
      "Hola, este es un archivo en UTF-8.\n",
      "Aquí podemos agregar más texto en diferentes idiomas: Español, 中文, العربية.\n",
      "\n"
     ]
    }
   ],
   "source": [
    "# Escribir en un archivo con codificación UTF-8\n",
    "with open('archivo_utf8.txt', 'w', encoding='utf-8') as file:\n",
    "    file.write(\"Hola, este es un archivo en UTF-8.\\n\")\n",
    "    file.write(\"Aquí podemos agregar más texto en diferentes idiomas: Español, 中文, العربية.\\n\")\n",
    "\n",
    "# Leer el archivo con codificación UTF-8\n",
    "with open('archivo_utf8.txt', 'r', encoding='utf-8') as file:\n",
    "    content = file.read()\n",
    "\n",
    "# Imprimir el contenido del archivo\n",
    "print(content)"
   ]
  },
  {
   "cell_type": "markdown",
   "metadata": {},
   "source": [
    "En este ejemplo, `encoding='utf-8'` asegura que Python lea correctamente los caracteres especiales, como tildes, eñes, o caracteres de otros idiomas.\n",
    "\n",
    "En Python 3, UTF-8 es la codificación por defecto en la mayoría de los sistemas modernos (Linux, macOS y versiones recientes de Windows). Por lo tanto no es necesario especificar explícitamente la codificación al abrir un archivo si deseas usar UTF-8.\n",
    "\n",
    "#### b. ¿Qué es Unicode?\n",
    "\n",
    "**Unicode** es un estándar de codificación de caracteres que pretende representar todos los caracteres de todos los idiomas escritos del mundo. Se diseñó para resolver los problemas de las codificaciones anteriores, que eran limitadas y no podían representar la variedad completa de caracteres (por ejemplo, ASCII solo cubre 128 caracteres).\n",
    "Unicode asigna un **código único** a cada carácter (por ejemplo, \"A\" tiene el valor 65 en Unicode, pero también lo tiene en ASCII).\n",
    "\n",
    "#### c. ¿UTF-8?\n",
    "\n",
    "**UTF-8** es una de las **codificaciones de caracteres** más populares y ampliamente usadas en el mundo. Es una implementación de Unicode que usa una secuencia de 1 a 4 bytes para representar cada carácter.\n",
    "\n",
    "**UTF-8** es **compatible con ASCII**, lo que significa que los primeros 128 caracteres de Unicode (que son los mismos que ASCII) se representan de la misma manera en ambas codificaciones. Los caracteres adicionales (como tildes o caracteres chinos) requieren más bytes.\n",
    "\n",
    "- **Ventajas de UTF-8**:\n",
    "  - Es eficiente en términos de espacio para idiomas basados en el alfabeto latino.\n",
    "  - No requiere la definición de un tamaño fijo de memoria para cada carácter.\n",
    "  - Es compatible con el sistema ASCII.\n",
    "\n",
    "#### d. ¿Cómo trabaja internamente Python con Unicode y UTF-8?\n",
    "\n",
    "Python 3 internamente usa **Unicode** para representar cadenas de texto (`str`). Cada carácter dentro de una cadena en Python es un **punto de código Unicode**.\n",
    "  \n",
    "#### e. Codificación y Decodificación\n",
    "\n",
    "Cuando trabajas con archivos o datos binarios, Python convierte internamente las cadenas de texto de Unicode a un formato de bytes (y viceversa) usando una codificación como UTF-8. Esta conversión se llama **codificación** (de Unicode a bytes) y **decodificación** (de bytes a Unicode)."
   ]
  },
  {
   "cell_type": "code",
   "execution_count": null,
   "metadata": {},
   "outputs": [
    {
     "name": "stdout",
     "output_type": "stream",
     "text": [
      "b'\\xc2\\xa1Hola, mundo!'\n"
     ]
    }
   ],
   "source": [
    "# Codificación: Convierte los caracteres de una cadena en una secuencia de bytes.\n",
    "\n",
    "text = \"¡Hola, mundo!\" # ♥ π\n",
    "encoded_text = text.encode('utf-8')  # Codificar como UTF-8 (bytes)\n",
    "print(encoded_text)  # b'\\xc2\\xa1Hola, mundo!'"
   ]
  },
  {
   "cell_type": "code",
   "execution_count": 29,
   "metadata": {},
   "outputs": [
    {
     "name": "stdout",
     "output_type": "stream",
     "text": [
      "¡Hola, mundo!\n",
      "11000010 10100001 01001000 01101111 01101100 01100001 00101100 00100000 01101101 01110101 01101110 01100100 01101111 00100001\n"
     ]
    }
   ],
   "source": [
    "# Decodificación: Convierte una secuencia de bytes en una cadena de caracteres.\n",
    "\n",
    "byte_data = b'\\xc2\\xa1Hola, mundo!'\n",
    "decoded_text = byte_data.decode('utf-8')  # Decodificar de UTF-8 a cadena\n",
    "print(decoded_text)  # ¡Hola, mundo!\n",
    "\n",
    "#print(len(decoded_text))  # Total caracteres\n",
    "print(' '.join(f\"{byte:08b}\" for byte in byte_data))"
   ]
  },
  {
   "cell_type": "code",
   "execution_count": 38,
   "metadata": {},
   "outputs": [
    {
     "name": "stdout",
     "output_type": "stream",
     "text": [
      "b'\\xff\\xfe\\xa1\\x00H\\x00o\\x00l\\x00a\\x00,\\x00 \\x00m\\x00u\\x00n\\x00d\\x00o\\x00!\\x00'\n"
     ]
    }
   ],
   "source": [
    "# Codificación a UTF-16\n",
    "print(text.encode('utf-16'))"
   ]
  },
  {
   "cell_type": "code",
   "execution_count": null,
   "metadata": {},
   "outputs": [
    {
     "name": "stdout",
     "output_type": "stream",
     "text": [
      "¡Hola, mundo!\n"
     ]
    }
   ],
   "source": [
    "# Decodificación desde UTF-16\n",
    "byte_data = b'\\xff\\xfe\\xa1\\x00H\\x00o\\x00l\\x00a\\x00,\\x00 \\x00m\\x00u\\x00n\\x00d\\x00o\\x00!\\x00'\n",
    "print(byte_data.decode('utf-16'))\n",
    "\n",
    "# Imprimir byte a byte\n",
    "#print(' '.join(f\"{byte:08b}\" for byte in byte_data))"
   ]
  },
  {
   "cell_type": "code",
   "execution_count": 24,
   "metadata": {},
   "outputs": [
    {
     "name": "stdout",
     "output_type": "stream",
     "text": [
      "161\n"
     ]
    }
   ],
   "source": [
    "print(0xA1)"
   ]
  },
  {
   "cell_type": "markdown",
   "metadata": {},
   "source": [
    "---\n",
    "\n",
    "### 5. ASCII\n",
    "\n",
    "**ASCII (American Standard Code for Information Interchange)** es un sistema de codificación de caracteres que se utiliza para representar texto en las computadoras y otros dispositivos electrónicos. Fue desarrollado en la década de 1960 y es uno de los estándares más antiguos en la informática.\n",
    "\n",
    "ASCII utiliza un conjunto de **128 códigos numéricos** (del 0 al 127) para representar caracteres. Estos códigos incluyen:\n",
    "\n",
    "- **Letras (mayúsculas y minúsculas):** Desde la `A` hasta la `Z` (códigos 65 a 90) y desde la `a` hasta la `z` (códigos 97 a 122).\n",
    "- **Números:** Del `0` al `9` (códigos 48 a 57).\n",
    "- **Símbolos:** Como `@`, `#`, `&`, y otros caracteres comunes (por ejemplo, el espacio, la coma, el punto, etc.).\n",
    "- **Carácter de control:** Como `nueva línea (LF)`, `tabulación (TAB)`, y el `carácter de fin de línea (CR)`.\n",
    "\n",
    "#### a. Características clave de ASCII\n",
    "\n",
    "- **Longitud fija:** Cada carácter se representa mediante un valor numérico de **7 bits**, lo que da como resultado 128 posibles caracteres (aunque algunos sistemas lo usan con 8 bits, con valores de 0 a 255).\n",
    "- **Compatibilidad:** ASCII es compatible con casi todos los lenguajes de programación y sistemas operativos. Los caracteres ASCII básicos son los mismos en casi todos los entornos, lo que facilita la interoperabilidad.\n",
    "\n",
    "Aunque ASCII es limitado, en la actualidad se utiliza como base para otras codificaciones más complejas, como **UTF-8**, que es capaz de representar una gama más amplia de caracteres de diferentes idiomas y símbolos globales.\n",
    "\n",
    "#### b. Tabla de caracteres\n",
    "\n",
    "| Código ASCII | HEX    | BIN        | Caracter | Descripción                         |\n",
    "|--------------|--------|------------|----------|-------------------------------------|\n",
    "| 0            | 0x00   | 0b00000000 | NUL      | Carácter nulo (null)                |\n",
    "| 1            | 0x01   | 0b00000001 | SOH      | Inicio de encabezado                |\n",
    "| 2            | 0x02   | 0b00000010 | STX      | Inicio de texto                     |\n",
    "| 3            | 0x03   | 0b00000011 | ETX      | Fin de texto                        |\n",
    "| 4            | 0x04   | 0b00000100 | EOT      | Fin de transmisión                  |\n",
    "| 5            | 0x05   | 0b00000101 | ENQ      | Consulta                            |\n",
    "| 6            | 0x06   | 0b00000110 | ACK      | Reconocimiento                      |\n",
    "| 7            | 0x07   | 0b00000111 | BEL      | Timbre (bell)                       |\n",
    "| 8            | 0x08   | 0b00001000 | BS       | Retroceso (backspace)               |\n",
    "| 9            | 0x09   | 0b00001001 | TAB      | Tabulación horizontal               |\n",
    "| 10           | 0x0A   | 0b00001010 | LF       | Salto de línea (Line Feed)          |\n",
    "| 11           | 0x0B   | 0b00001011 | VT       | Tabulación vertical                 |\n",
    "| 12           | 0x0C   | 0b00001100 | FF       | Form feed (salto de página)         |\n",
    "| 13           | 0x0D   | 0b00001101 | CR       | Retorno de carro (Carriage Return)  |\n",
    "| 14           | 0x0E   | 0b00001110 | SO       | Cambio de modo (Shift Out)          |\n",
    "| 15           | 0x0F   | 0b00001111 | SI       | Cambio de modo (Shift In)           |\n",
    "| 16           | 0x10   | 0b00010000 | DLE      | Escape de datos                     |\n",
    "| 17           | 0x11   | 0b00010001 | DC1      | Control de dispositivo 1 (XON)      |\n",
    "| 18           | 0x12   | 0b00010010 | DC2      | Control de dispositivo 2            |\n",
    "| 19           | 0x13   | 0b00010011 | DC3      | Control de dispositivo 3 (XOFF)     |\n",
    "| 20           | 0x14   | 0b00010100 | DC4      | Control de dispositivo 4            |\n",
    "| 21           | 0x15   | 0b00010101 | NAK      | No reconocimiento                   |\n",
    "| 22           | 0x16   | 0b00010110 | SYN      | Sincronización                      |\n",
    "| 23           | 0x17   | 0b00010111 | ETB      | Fin de bloque de transmisión        |\n",
    "| 24           | 0x18   | 0b00011000 | CAN      | Cancelar                            |\n",
    "| 25           | 0x19   | 0b00011001 | EM       | Fin de medio                        |\n",
    "| 26           | 0x1A   | 0b00011010 | SUB      | Sustitución (substitute)            |\n",
    "| 27           | 0x1B   | 0b00011011 | ESC      | Escape                              |\n",
    "| 28           | 0x1C   | 0b00011100 | FS       | Separador de archivos               |\n",
    "| 29           | 0x1D   | 0b00011101 | GS       | Separador de grupo                  |\n",
    "| 30           | 0x1E   | 0b00011110 | RS       | Separador de registro               |\n",
    "| 31           | 0x1F   | 0b00011111 | US       | Separador de unidad                 |\n",
    "| 32           | 0x20   | 0b00100000 | SPACE    | Espacio                             |\n",
    "| 33           | 0x21   | 0b00100001 | !        | Signo de exclamación                |\n",
    "| 34           | 0x22   | 0b00100010 | \"        | Comillas dobles                     |\n",
    "| 35           | 0x23   | 0b00100011 | #        | Almohadilla                         |\n",
    "| 36           | 0x24   | 0b00100100 | $        | Signo de dólar                      |\n",
    "| 37           | 0x25   | 0b00100101 | %        | Porcentaje                          |\n",
    "| 38           | 0x26   | 0b00100110 | &        | Ampersand                           |\n",
    "| 39           | 0x27   | 0b00100111 | '        | Comillas simples                    |\n",
    "| 40           | 0x28   | 0b00101000 | (        | Paréntesis izquierdo                |\n",
    "| 41           | 0x29   | 0b00101001 | )        | Paréntesis derecho                  |\n",
    "| 42           | 0x2A   | 0b00101010 | *        | Asterisco                           |\n",
    "| 43           | 0x2B   | 0b00101011 | +        | Signo de más                        |\n",
    "| 44           | 0x2C   | 0b00101100 | ,        | Coma                                |\n",
    "| 45           | 0x2D   | 0b00101101 | -        | Guion (-)                           |\n",
    "| 46           | 0x2E   | 0b00101110 | .        | Punto                               |\n",
    "| 47           | 0x2F   | 0b00101111 | /        | Barra diagonal                      |\n",
    "| 48           | 0x30   | 0b00110000 | 0        | Dígito 0                            |\n",
    "| 49           | 0x31   | 0b00110001 | 1        | Dígito 1                            |\n",
    "| 50           | 0x32   | 0b00110010 | 2        | Dígito 2                            |\n",
    "| 51           | 0x33   | 0b00110011 | 3        | Dígito 3                            |\n",
    "| 52           | 0x34   | 0b00110100 | 4        | Dígito 4                            |\n",
    "| 53           | 0x35   | 0b00110101 | 5        | Dígito 5                            |\n",
    "| 54           | 0x36   | 0b00110110 | 6        | Dígito 6                            |\n",
    "| 55           | 0x37   | 0b00110111 | 7        | Dígito 7                            |\n",
    "| 56           | 0x38   | 0b00111000 | 8        | Dígito 8                            |\n",
    "| 57           | 0x39   | 0b00111001 | 9        | Dígito 9                            |\n",
    "| 58           | 0x3A   | 0b00111010 | :        | Dos puntos                          |\n",
    "| 59           | 0x3B   | 0b00111011 | ;        | Punto y coma                        |\n",
    "| 60           | 0x3C   | 0b00111100 | <        | Menor que                           |\n",
    "| 61           | 0x3D   | 0b00111101 | =        | Igual a                             |\n",
    "| 62           | 0x3E   | 0b00111110 | >        | Mayor que                           |\n",
    "| 63           | 0x3F   | 0b00111111 | ?        | Signo de pregunta                   |\n",
    "| 64           | 0x40   | 0b01000000 | @        | Arroba                              |\n",
    "| 65           | 0x41   | 0b01000001 | A        | Letra mayúscula A                   |\n",
    "| 66           | 0x42   | 0b01000010 | B        | Letra mayúscula B                   |\n",
    "| 67           | 0x43   | 0b01000011 | C        | Letra mayúscula C                   |\n",
    "| 68           | 0x44   | 0b01000100 | D        | Letra mayúscula D                   |\n",
    "| 69           | 0x45   | 0b01000101 | E        | Letra mayúscula E                   |\n",
    "| 70           | 0x46   | 0b01000110 | F        | Letra mayúscula F                   |\n",
    "| 71           | 0x47   | 0b01000111 | G        | Letra mayúscula G                   |\n",
    "| 72           | 0x48   | 0b01001000 | H        | Letra mayúscula H                   |\n",
    "| 73           | 0x49   | 0b01001001 | I        | Letra mayúscula I                   |\n",
    "| 74           | 0x4A   | 0b01001010 | J        | Letra mayúscula J                   |\n",
    "| 75           | 0x4B   | 0b01001011 | K        | Letra mayúscula K                   |\n",
    "| 76           | 0x4C   | 0b01001100 | L        | Letra mayúscula L                   |\n",
    "| 77           | 0x4D   | 0b01001101 | M        | Letra mayúscula M                   |\n",
    "| 78           | 0x4E   | 0b01001110 | N        | Letra mayúscula N                   |\n",
    "| 79           | 0x4F   | 0b01001111 | O        | Letra mayúscula O                   |\n",
    "| 80           | 0x50   | 0b01010000 | P        | Letra mayúscula P                   |\n",
    "| 81           | 0x51   | 0b01010001 | Q        | Letra mayúscula Q                   |\n",
    "| 82           | 0x52   | 0b01010010 | R        | Letra mayúscula R                   |\n",
    "| 83           | 0x53   | 0b01010011 | S        | Letra mayúscula S                   |\n",
    "| 84           | 0x54   | 0b01010100 | T        | Letra mayúscula T                   |\n",
    "| 85           | 0x55   | 0b01010101 | U        | Letra mayúscula U                   |\n",
    "| 86           | 0x56   | 0b01010110 | V        | Letra mayúscula V                   |\n",
    "| 87           | 0x57   | 0b01010111 | W        | Letra mayúscula W                   |\n",
    "| 88           | 0x58   | 0b01011000 | X        | Letra mayúscula X                   |\n",
    "| 89           | 0x59   | 0b01011001 | Y        | Letra mayúscula Y                   |\n",
    "| 90           | 0x5A   | 0b01011010 | Z        | Letra mayúscula Z                   |\n",
    "| 91           | 0x5B   | 0b01011011 | [        | Corchete izquierdo                  |\n",
    "| 92           | 0x5C   | 0b01011100 | \\        | Barra invertida (backslash)         |\n",
    "| 93           | 0x5D   | 0b01011101 | ]        | Corchete derecho                    |\n",
    "| 94           | 0x5E   | 0b01011110 | ^        | Circunflejo (caret)                 |\n",
    "| 95           | 0x5F   | 0b01011111 | _        | Guion bajo (underscore)             |\n",
    "| 96           | 0x60   | 0b01100000 | `        | Acento grave (backtick)             |\n",
    "| 97           | 0x61   | 0b01100001 | a        | Letra minúscula a                   |\n",
    "| 98           | 0x62   | 0b01100010 | b        | Letra minúscula b                   |\n",
    "| 99           | 0x63   | 0b01100011 | c        | Letra minúscula c                   |\n",
    "| 100          | 0x64   | 0b01100100 | d        | Letra minúscula d                   |\n",
    "| 101          | 0x65   | 0b01100101 | e        | Letra minúscula e                   |\n",
    "| 102          | 0x66   | 0b01100110 | f        | Letra minúscula f                   |\n",
    "| 103          | 0x67   | 0b01100111 | g        | Letra minúscula g                   |\n",
    "| 104          | 0x68   | 0b01101000 | h        | Letra minúscula h                   |\n",
    "| 105          | 0x69   | 0b01101001 | i        | Letra minúscula i                   |\n",
    "| 106          | 0x6A   | 0b01101010 | j        | Letra minúscula j                   |\n",
    "| 107          | 0x6B   | 0b01101011 | k        | Letra minúscula k                   |\n",
    "| 108          | 0x6C   | 0b01101100 | l        | Letra minúscula l                   |\n",
    "| 109          | 0x6D   | 0b01101101 | m        | Letra minúscula m                   |\n",
    "| 110          | 0x6E   | 0b01101110 | n        | Letra minúscula n                   |\n",
    "| 111          | 0x6F   | 0b01101111 | o        | Letra minúscula o                   |\n",
    "| 112          | 0x70   | 0b01110000 | p        | Letra minúscula p                   |\n",
    "| 113          | 0x71   | 0b01110001 | q        | Letra minúscula q                   |\n",
    "| 114          | 0x72   | 0b01110010 | r        | Letra minúscula r                   |\n",
    "| 115          | 0x73   | 0b01110011 | s        | Letra minúscula s                   |\n",
    "| 116          | 0x74   | 0b01110100 | t        | Letra minúscula t                   |\n",
    "| 117          | 0x75   | 0b01110101 | u        | Letra minúscula u                   |\n",
    "| 118          | 0x76   | 0b01110110 | v        | Letra minúscula v                   |\n",
    "| 119          | 0x77   | 0b01110111 | w        | Letra minúscula w                   |\n",
    "| 120          | 0x78   | 0b01111000 | x        | Letra minúscula x                   |\n",
    "| 121          | 0x79   | 0b01111001 | y        | Letra minúscula y                   |\n",
    "| 122          | 0x7A   | 0b01111010 | z        | Letra minúscula z                   |\n",
    "| 123          | 0x7B   | 0b01111011 | {        | Llave izquierda                     |\n",
    "| 124          | 0x7C   | 0b01111100 | \\|       | Barra vertical (pipe)               |\n",
    "| 125          | 0x7D   | 0b01111101 | }        | Llave derecha                       |\n",
    "| 126          | 0x7E   | 0b01111110 | ~        | Virgulilla (tilde)                  |\n",
    "| 127          | 0x7F   | 0b01111111 | DEL      | Carácter de eliminación (delete)    |\n",
    "\n",
    "\n",
    "#### c. ASCII Art\n",
    "\n",
    "El **ASCII Art** es una forma de arte digital que utiliza caracteres ASCII para crear representaciones visuales de imágenes, objetos o escenas. Se basa en la disposición de caracteres alfanuméricos y símbolos disponibles en la tabla ASCII para formar patrones y figuras que, cuando se ven en un entorno de texto, crean una imagen o ilustración. Es una forma popular de expresión artística en los primeros días de la computación, especialmente cuando las capacidades gráficas eran limitadas.\n",
    "\n",
    "Por ejemplo, un simple gato en ASCII podría verse como:\n",
    "\n",
    "```\n",
    " /\\_/\\  \n",
    "( o.o ) \n",
    " > ^ <\n",
    "```\n",
    "\n",
    "Otro ejemplo sería un árbol navideño:\n",
    "\n",
    "```\n",
    "    *\n",
    "   /o\\\n",
    "  /ooo\\\n",
    " /ooooo\\\n",
    "/ooooooo\\\n",
    "    |\n",
    "```\n",
    "\n",
    "Para explorar más ejemplos y aprender sobre cómo crear tu propio arte ASCII, puedes visitar [ASCII Art.eu](https://www.asciiart.eu/), un sitio web dedicado a esta forma de arte.\n",
    "\n",
    "\n",
    "#### d. ASCII Art en Python\n",
    "\n",
    "En Python hay varios módulos que permiten generar ASCII art de manera sencilla. Uno de los más populares es el módulo pyfiglet. Este módulo convierte texto en arte ASCII utilizando una variedad de fuentes."
   ]
  },
  {
   "cell_type": "code",
   "execution_count": null,
   "metadata": {},
   "outputs": [],
   "source": [
    "# Instalación\n",
    "!pip install pyfiglet"
   ]
  },
  {
   "cell_type": "code",
   "execution_count": null,
   "metadata": {},
   "outputs": [
    {
     "name": "stdout",
     "output_type": "stream",
     "text": [
      "clb6x10             nipples             amc_3_liv1          muzzle              computer            \n",
      "electronic          charact1            xtty                xcourb              xchartr             \n",
      "ghoulish            future_1            lcd                 letters             fp2_____            \n",
      "rev                 caus_in_            roman___            barbwire            threepoint          \n",
      "smkeyboard          couri               impossible          1943____            bright              \n",
      "heroboti            madrid              grand_pr            3-d                 radical_            \n"
     ]
    }
   ],
   "source": [
    "import pyfiglet\n",
    "\n",
    "# Obtener todos los tipos de fuentes\n",
    "fonts = pyfiglet.FigletFont.getFonts()\n",
    "\n",
    "# Mostrar las fuentes en columnas\n",
    "cols = 5\n",
    "for i, font in enumerate(fonts[:30]):\n",
    "    print(f\"{font:<20}\", end='')\n",
    "    if (i + 1) % cols == 0:\n",
    "        print()"
   ]
  },
  {
   "cell_type": "code",
   "execution_count": 40,
   "metadata": {},
   "outputs": [
    {
     "name": "stdout",
     "output_type": "stream",
     "text": [
      "    __  __      __     \n",
      "   / / / /___  / /___ _\n",
      "  / /_/ / __ \\/ / __ `/\n",
      " / __  / /_/ / / /_/ / \n",
      "/_/ /_/\\____/_/\\__,_/  \n",
      "                       \n",
      "    ____        __  __                _      __            \n",
      "   / __ \\__  __/ /_/ /_  ____  ____  (_)____/ /_____ ______\n",
      "  / /_/ / / / / __/ __ \\/ __ \\/ __ \\/ / ___/ __/ __ `/ ___/\n",
      " / ____/ /_/ / /_/ / / / /_/ / / / / (__  ) /_/ /_/ (__  ) \n",
      "/_/    \\__, /\\__/_/ /_/\\____/_/ /_/_/____/\\__/\\__,_/____/  \n",
      "      /____/                                               \n",
      "\n"
     ]
    }
   ],
   "source": [
    "ascii_art = pyfiglet.figlet_format(\"Hola Pythonistas\", font=\"slant\")\n",
    "print(ascii_art)"
   ]
  },
  {
   "cell_type": "markdown",
   "metadata": {},
   "source": [
    "---\n",
    "\n",
    "### 6. Caracteres especiales\n",
    "\n",
    "Los **caracteres especiales** son símbolos en texto que no representan un carácter visible directamente, sino que tienen un propósito funcional. Son esenciales para controlar el formato o la interpretación del texto y pueden variar según el sistema operativo.\n",
    "\n",
    "\n",
    "#### a. El carácter de salto de línea (`newline`)\n",
    "\n",
    "El salto de línea es uno de los caracteres especiales más comunes. Su propósito es indicar el final de una línea de texto y el comienzo de una nueva.\n",
    "\n",
    "#### b. Representaciones principales del caracter salto de línea\n",
    "\n",
    "1. **Linux/macOS:** Usa el carácter de nueva línea (`LF`, *Line Feed*), representado por:\n",
    "   - **Hexadecimal:** `0x0A`\n",
    "   - **Código ASCII:** 10\n",
    "   - **Secuencia de escape en Python y otros lenguajes:** `\\n`\n",
    "\n",
    "2. **Windows:** Usa una combinación de dos caracteres, el retorno de carro seguido de nueva línea (`CR+LF`, *Carriage Return + Line Feed*):\n",
    "   - **Hexadecimal:** `0x0D 0x0A`\n",
    "   - **Códigos ASCII:** 13 (`CR`) seguido de 10 (`LF`)\n",
    "   - **Secuencia de escape:** `\\r\\n`\n",
    "\n",
    "#### c. Ejemplo de diferencias de representación del caracter salto de línea en distintos SO\n",
    "\n",
    "- En **Linux/macOS**, un archivo de texto con tres líneas se vería así:\n",
    "  ```\n",
    "  Línea 1\\n\n",
    "  Línea 2\\n\n",
    "  Línea 3\\n\n",
    "  ```\n",
    "- En **Windows**, se verá así:\n",
    "  ```\n",
    "  Línea 1\\r\\n\n",
    "  Línea 2\\r\\n\n",
    "  Línea 3\\r\\n\n",
    "  ```\n",
    "\n",
    "#### d. ¿Por qué existen estas diferencias?\n",
    "\n",
    "La razón histórica está en los dispositivos mecánicos como las máquinas de escribir y las primeras impresoras:\n",
    "- **`CR` (Carriage Return):** Mueve el \"carro\" de impresión al inicio de la línea.\n",
    "- **`LF` (Line Feed):** Avanza el papel una línea hacia arriba.\n",
    "\n",
    "Diferentes sistemas adoptaron maneras distintas de manejar los saltos de línea:\n",
    "- **Unix/Linux/macOS:** Usaron solo `LF` para simplificar.\n",
    "- **Windows (derivado de DOS):** Mantuvieron `CR+LF` para compatibilidad con terminales antiguas.\n",
    "\n",
    "\n",
    "#### e. Otros caracteres especiales comunes\n",
    "\n",
    "| **Carácter**      | **Secuencia** | **Descripción**                                               |\n",
    "|-------------------|---------------|---------------------------------------------------------------|\n",
    "| Tabulación        | `\\t`          | Inserta un espacio de tabulación (horizontal tab).            |\n",
    "| Retorno de carro  | `\\r`          | Mueve el cursor al inicio de la línea actual.                 |\n",
    "| Espacio           | `\\s` (a veces)| Representa un espacio en blanco explícito.                    |\n",
    "| Comillas dobles   | `\\\"`          | Representa una comilla doble en un texto escapado.            |\n",
    "| Comillas simples  | `\\'`          | Representa una comilla simple en un texto escapado.           |\n",
    "| Barra invertida   | `\\\\`          | Inserta un carácter de barra invertida (`\\`).                 |\n",
    "| Backspace         | `\\b`          | Mueve el cursor hacia atrás, eliminando el carácter anterior. |\n",
    "\n",
    "#### f. Animación simple usando el caracter backspace ('\\b')"
   ]
  },
  {
   "cell_type": "code",
   "execution_count": 10,
   "metadata": {},
   "outputs": [
    {
     "name": "stdout",
     "output_type": "stream",
     "text": [
      "Hola, Python!"
     ]
    }
   ],
   "source": [
    "import time\n",
    "\n",
    "for char in \"Hola, Mundo!\":\n",
    "    print(char, end='', flush=True)\n",
    "    time.sleep(0.2)\n",
    "time.sleep(1)\n",
    "\n",
    "# Ahora borramos la palabra \"Mundo!\"\n",
    "for _ in range(6):  # El tamaño de la palabra \"Mundo!\"\n",
    "    print('\\b', end='', flush=True)  #  chr(8)  chr(0x08)  chr(0b0000100)  '\\b'  '\\x08'\n",
    "    time.sleep(0.2)\n",
    "time.sleep(0.5)\n",
    "\n",
    "# Escribimos la nueva palabra\n",
    "print(\"Python!\", end='', flush=True)"
   ]
  }
 ],
 "metadata": {
  "kernelspec": {
   "display_name": ".env",
   "language": "python",
   "name": "python3"
  },
  "language_info": {
   "codemirror_mode": {
    "name": "ipython",
    "version": 3
   },
   "file_extension": ".py",
   "mimetype": "text/x-python",
   "name": "python",
   "nbconvert_exporter": "python",
   "pygments_lexer": "ipython3",
   "version": "3.12.7"
  }
 },
 "nbformat": 4,
 "nbformat_minor": 2
}
