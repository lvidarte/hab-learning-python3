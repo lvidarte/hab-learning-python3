{
 "cells": [
  {
   "cell_type": "markdown",
   "metadata": {},
   "source": [
    "# Anexo\n",
    "\n",
    "\n",
    "## Uso de la función `print()` y f-strings\n",
    "\n",
    "La función `print()` en Python es fundamental para mostrar información en la consola. A continuación, exploraremos los detalles sobre cómo usarla, incluyendo ejemplos prácticos. Además, veremos cómo el uso de **f-strings** pueden ser una manera más eficiente de formatear cadenas de texto en Python.\n",
    "\n",
    "### 1. Función `print()`\n",
    "\n",
    "La función `print()` se utiliza para mostrar uno o más valores en la consola. Puedes pasar diferentes tipos de datos como argumentos: cadenas de texto, números, listas, etc. Esta función imprime los valores separados por un espacio, a menos que se indique lo contrario.\n",
    "\n",
    "#### Sintaxis básica:\n",
    "\n",
    "```python\n",
    "print(valor1, valor2, ..., sep=' ', end='\\n')\n",
    "```\n",
    "\n",
    "- **valor1, valor2, ...**: Los valores que deseas imprimir.\n",
    "- **sep**: El separador entre los valores, por defecto es un espacio (`' '`).\n",
    "- **end**: Lo que se imprime al final de la salida, por defecto es un salto de línea (`'\\n'`).\n",
    "\n",
    "#### Ejemplos:"
   ]
  },
  {
   "cell_type": "code",
   "execution_count": 15,
   "metadata": {},
   "outputs": [
    {
     "name": "stdout",
     "output_type": "stream",
     "text": [
      "Hola, mundo\n"
     ]
    }
   ],
   "source": [
    "# Imprimir un solo valor\n",
    "print(\"Hola, mundo\")"
   ]
  },
  {
   "cell_type": "code",
   "execution_count": 14,
   "metadata": {},
   "outputs": [
    {
     "name": "stdout",
     "output_type": "stream",
     "text": [
      "Python es genial\n"
     ]
    }
   ],
   "source": [
    "# Imprimir varios valores con el separador por defecto (espacio)\n",
    "print(\"Python\", \"es\", \"genial\")"
   ]
  },
  {
   "cell_type": "code",
   "execution_count": 13,
   "metadata": {},
   "outputs": [
    {
     "name": "stdout",
     "output_type": "stream",
     "text": [
      "Python-es-genial\n"
     ]
    }
   ],
   "source": [
    "# Usar sep para cambiar el separador\n",
    "print(\"Python\", \"es\", \"genial\", sep=\"-\")"
   ]
  },
  {
   "cell_type": "code",
   "execution_count": 12,
   "metadata": {},
   "outputs": [
    {
     "name": "stdout",
     "output_type": "stream",
     "text": [
      "Primera línea Segunda línea\n"
     ]
    }
   ],
   "source": [
    "# Usar end para cambiar cómo termina la línea\n",
    "print(\"Primera línea\", end=\" \")\n",
    "print(\"Segunda línea\")"
   ]
  },
  {
   "cell_type": "markdown",
   "metadata": {},
   "source": [
    "### 2. Imprimir con variables\n",
    "\n",
    "Es posible imprimir valores de variables directamente con la función `print()`. Los valores pueden ser de cualquier tipo: cadenas, números, listas, etc."
   ]
  },
  {
   "cell_type": "code",
   "execution_count": 11,
   "metadata": {},
   "outputs": [
    {
     "name": "stdout",
     "output_type": "stream",
     "text": [
      "Mi nombre es Ana y tengo 25 años.\n"
     ]
    }
   ],
   "source": [
    "nombre = \"Ana\"\n",
    "edad = 25\n",
    "print(\"Mi nombre es\", nombre, \"y tengo\", edad, \"años.\")"
   ]
  },
  {
   "cell_type": "markdown",
   "metadata": {},
   "source": [
    "### 3. Uso de f-strings\n",
    "\n",
    "Las **f-strings** son una forma moderna y eficiente de formatear cadenas en Python. Introducidas en Python 3.6, permiten incluir variables o expresiones dentro de una cadena usando llaves `{}`. Son más simples que las alternativas anteriores como `str.format()` y el operador `%`.\n",
    "\n",
    "#### Sintaxis básica de f-strings:\n",
    "\n",
    "```python\n",
    "f\"texto {variable} texto\"\n",
    "```\n",
    "\n",
    "#### Ejemplos:"
   ]
  },
  {
   "cell_type": "code",
   "execution_count": 8,
   "metadata": {},
   "outputs": [
    {
     "name": "stdout",
     "output_type": "stream",
     "text": [
      "Mi nombre es Carlos y tengo 30 años.\n"
     ]
    }
   ],
   "source": [
    "nombre = \"Carlos\"\n",
    "edad = 30\n",
    "print(f\"Mi nombre es {nombre} y tengo {edad} años.\")"
   ]
  },
  {
   "cell_type": "markdown",
   "metadata": {},
   "source": [
    "### 4. Evaluar expresiones dentro de f-strings\n",
    "\n",
    "Con f-strings, no solo puedes insertar variables, sino también evaluar expresiones directamente dentro de las llaves `{}`."
   ]
  },
  {
   "cell_type": "code",
   "execution_count": 7,
   "metadata": {},
   "outputs": [
    {
     "name": "stdout",
     "output_type": "stream",
     "text": [
      "La suma de 10 + 5 es 15\n"
     ]
    }
   ],
   "source": [
    "x = 10\n",
    "y = 5\n",
    "print(f\"La suma de {x} + {y} es {x + y}\")"
   ]
  },
  {
   "cell_type": "markdown",
   "metadata": {},
   "source": [
    "### 5. Especificar formato en f-strings\n",
    "\n",
    "f-strings también permiten aplicar formato a los valores. Esto es útil cuando trabajas con números decimales, alineación de texto, etc.\n",
    "\n",
    "#### Ejemplo de formato numérico:"
   ]
  },
  {
   "cell_type": "code",
   "execution_count": 6,
   "metadata": {},
   "outputs": [
    {
     "name": "stdout",
     "output_type": "stream",
     "text": [
      "El valor de pi es 3.14\n"
     ]
    }
   ],
   "source": [
    "pi = 3.1415926535\n",
    "print(f\"El valor de pi es {pi:.2f}\")"
   ]
  },
  {
   "cell_type": "markdown",
   "metadata": {},
   "source": [
    "#### Ejemplo de alineación y relleno:"
   ]
  },
  {
   "cell_type": "code",
   "execution_count": 17,
   "metadata": {},
   "outputs": [
    {
     "name": "stdout",
     "output_type": "stream",
     "text": [
      "    Carlos\n",
      "Carlos    \n",
      "  Carlos  \n"
     ]
    }
   ],
   "source": [
    "nombre = \"Carlos\"\n",
    "\n",
    "# Alinear a la derecha en un espacio de 10 caracteres\n",
    "print(f\"{nombre:>10}\")\n",
    "\n",
    "# Alinear a la izquierda\n",
    "print(f\"{nombre:<10}\")\n",
    "\n",
    "# Alinear al centro\n",
    "print(f\"{nombre:^10}\")"
   ]
  },
  {
   "cell_type": "markdown",
   "metadata": {},
   "source": [
    "### 6. Combinar `print()` y f-strings\n",
    "\n",
    "Combinar la función `print()` con f-strings permite construir mensajes dinámicos de forma eficiente."
   ]
  },
  {
   "cell_type": "code",
   "execution_count": 3,
   "metadata": {},
   "outputs": [
    {
     "name": "stdout",
     "output_type": "stream",
     "text": [
      "Hola, soy Lucía, tengo 28 años y vivo en Madrid.\n"
     ]
    }
   ],
   "source": [
    "nombre = \"Lucía\"\n",
    "edad = 28\n",
    "ciudad = \"Madrid\"\n",
    "print(f\"Hola, soy {nombre}, tengo {edad} años y vivo en {ciudad}.\")"
   ]
  },
  {
   "cell_type": "markdown",
   "metadata": {},
   "source": [
    "#### Uso con diccionarios\n",
    "\n",
    "Puedes acceder a los valores de un diccionario dentro de una f-string."
   ]
  },
  {
   "cell_type": "code",
   "execution_count": 16,
   "metadata": {},
   "outputs": [
    {
     "name": "stdout",
     "output_type": "stream",
     "text": [
      "Lucía tiene 25 años.\n"
     ]
    }
   ],
   "source": [
    "persona = {\"nombre\": \"Lucía\", \"edad\": 25}\n",
    "mensaje = f\"{persona['nombre']} tiene {persona['edad']} años.\"\n",
    "print(mensaje)"
   ]
  },
  {
   "cell_type": "markdown",
   "metadata": {},
   "source": [
    "### 7. Llamadas a funciones dentro de f-strings\n",
    "\n",
    "Es posible ejecutar funciones dentro de las llaves `{}` para mostrar el resultado."
   ]
  },
  {
   "cell_type": "code",
   "execution_count": 2,
   "metadata": {},
   "outputs": [
    {
     "name": "stdout",
     "output_type": "stream",
     "text": [
      "El cuadrado de 5 es 25.\n"
     ]
    }
   ],
   "source": [
    "def cuadrado(n):\n",
    "    return n * n\n",
    "\n",
    "valor = 5\n",
    "print(f\"El cuadrado de {valor} es {cuadrado(valor)}.\")"
   ]
  },
  {
   "cell_type": "markdown",
   "metadata": {},
   "source": [
    "---\n",
    "\n",
    "## Uso de la función `input()`\n",
    "\n",
    "La función `input()` permite que el usuario ingrese datos desde la consola. La función detiene la ejecución del programa y espera a que el usuario escriba algo y presione Enter. El valor retornado por `input()` siempre será de tipo **cadena de texto** (string), por lo que, si se espera un número, será necesario convertirlo usando funciones como `int()` o `float()`.\n",
    "\n",
    "#### **Sintaxis básica:**\n",
    "\n",
    "```python\n",
    "input(prompt)\n",
    "```\n",
    "\n",
    "- **prompt**: Es un texto opcional que se mostrará en la consola antes de que el usuario ingrese algo, normalmente para dar instrucciones o hacer una pregunta.\n",
    "\n",
    "#### **Ejemplos:**"
   ]
  },
  {
   "cell_type": "code",
   "execution_count": null,
   "metadata": {},
   "outputs": [],
   "source": [
    "# Solicitar un nombre al usuario\n",
    "nombre = input(\"¿Cómo te llamas? \")\n",
    "print(f\"Hola, {nombre}!\")"
   ]
  },
  {
   "cell_type": "code",
   "execution_count": null,
   "metadata": {},
   "outputs": [],
   "source": [
    "# Solicitar un número y convertirlo a entero\n",
    "edad = int(input(\"¿Cuántos años tienes? \"))\n",
    "print(f\"Tienes {edad} años.\")"
   ]
  },
  {
   "cell_type": "markdown",
   "metadata": {},
   "source": [
    "> **Nota**: Es importante recordar que los valores ingresados por `input()` son cadenas, por lo que si se necesitas realizar operaciones numéricas, es necesario convertir esos valores.\n",
    "\n",
    "### Resumen de uso combinado de `print()`, `input()` y f-strings\n",
    "\n",
    "Estas tres herramientas básicas se usarán a lo largo del curso para interactuar con el usuario, obtener datos y mostrarlos de manera formateada.\n",
    "\n",
    "#### Ejemplo completo:"
   ]
  },
  {
   "cell_type": "code",
   "execution_count": null,
   "metadata": {},
   "outputs": [],
   "source": [
    "nombre = input(\"¿Cuál es tu nombre? \")\n",
    "edad = int(input(\"¿Cuántos años tienes? \"))\n",
    "ciudad = input(\"¿Dónde vives? \")\n",
    "\n",
    "print(f\"Hola, {nombre}. Tienes {edad} años y vives en {ciudad}.\")"
   ]
  }
 ],
 "metadata": {
  "kernelspec": {
   "display_name": ".env",
   "language": "python",
   "name": "python3"
  },
  "language_info": {
   "codemirror_mode": {
    "name": "ipython",
    "version": 3
   },
   "file_extension": ".py",
   "mimetype": "text/x-python",
   "name": "python",
   "nbconvert_exporter": "python",
   "pygments_lexer": "ipython3",
   "version": "3.12.5"
  }
 },
 "nbformat": 4,
 "nbformat_minor": 2
}
